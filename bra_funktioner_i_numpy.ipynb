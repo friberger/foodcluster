{
 "cells": [
  {
   "cell_type": "code",
   "execution_count": 1,
   "metadata": {
    "collapsed": true
   },
   "outputs": [],
   "source": [
    "import numpy as np"
   ]
  },
  {
   "cell_type": "code",
   "execution_count": 2,
   "metadata": {
    "collapsed": true
   },
   "outputs": [],
   "source": [
    "dataset = np.array([['Lamm bog rå', '920', '133.6', '558.8', '0.0', '5.9', '20.13'],\n",
    "   ['Lamm kotlett rå', '921', '232.2', '971.6', '0.0', '17.3', '19.0'],\n",
    "   ['Lamm lägg rå', '922', '136.7', '571.9', '0.0', '4.2', '24.5'],\n",
    "   ['Lamm rygg lamm hals rå', '923', '176.7', '739.5', '0.0', '11.9', '17.6'],\n",
    "   ['Kalv fransyska rå', '937', '108.3', '453.0', '0.0', '3.1', '19.9'],\n",
    "   ['Kalv innanlår rå', '938', '107.4', '449.5', '0.0', '2.5', '21.0'],\n",
    "   ['Kalv kotlett rå', '939', '122.2', '511.3', '0.0', '4.4', '20.5'],\n",
    "   ['Kalv lägg rå', '940', '98.1', '410.3', '0.0', '1.9', '20.0']])"
   ]
  },
  {
   "cell_type": "code",
   "execution_count": 3,
   "metadata": {},
   "outputs": [
    {
     "data": {
      "text/plain": [
       "array([['Lamm bog rå', '920', '133.6', '558.8', '0.0', '5.9', '20.13'],\n",
       "       ['Lamm kotlett rå', '921', '232.2', '971.6', '0.0', '17.3',\n",
       "        '19.0'],\n",
       "       ['Lamm lägg rå', '922', '136.7', '571.9', '0.0', '4.2', '24.5'],\n",
       "       ['Lamm rygg lamm hals rå', '923', '176.7', '739.5', '0.0', '11.9',\n",
       "        '17.6'],\n",
       "       ['Kalv fransyska rå', '937', '108.3', '453.0', '0.0', '3.1',\n",
       "        '19.9'],\n",
       "       ['Kalv innanlår rå', '938', '107.4', '449.5', '0.0', '2.5',\n",
       "        '21.0'],\n",
       "       ['Kalv kotlett rå', '939', '122.2', '511.3', '0.0', '4.4', '20.5'],\n",
       "       ['Kalv lägg rå', '940', '98.1', '410.3', '0.0', '1.9', '20.0']],\n",
       "      dtype='<U22')"
      ]
     },
     "execution_count": 3,
     "metadata": {},
     "output_type": "execute_result"
    }
   ],
   "source": [
    "dataset"
   ]
  },
  {
   "cell_type": "markdown",
   "metadata": {},
   "source": [
    "Kolumnerna:\n",
    "\n",
    "```\n",
    "[0 'Livsmedelsnamn' 'TEXT' 0 None 0]\n",
    "[1 'Livsmedelsnummer' 'TEXT' 0 None 0]\n",
    "[2 'Energi_kcal' 'REAL' 0 None 0]\n",
    "[3 'Energi_kJ' 'REAL' 0 None 0]\n",
    "[4 'Kolhydrater_g' 'REAL' 0 None 0]\n",
    "[5 'Fett_g' 'REAL' 0 None 0]\n",
    "[6 'Protein_g' 'REAL' 0 None 0]\n",
    "```"
   ]
  },
  {
   "cell_type": "code",
   "execution_count": 4,
   "metadata": {},
   "outputs": [
    {
     "name": "stdout",
     "output_type": "stream",
     "text": [
      "['Lamm rygg lamm hals rå' '923' '176.7' '739.5' '0.0' '11.9' '17.6']\n"
     ]
    }
   ],
   "source": [
    "#Adressera en rad:\n",
    "print(dataset[3])"
   ]
  },
  {
   "cell_type": "code",
   "execution_count": 5,
   "metadata": {},
   "outputs": [
    {
     "name": "stdout",
     "output_type": "stream",
     "text": [
      "923\n"
     ]
    }
   ],
   "source": [
    "#Adressera en cell:\n",
    "print(dataset[3,1]) #Man kan också skriva dataset[3,1]"
   ]
  },
  {
   "cell_type": "code",
   "execution_count": 6,
   "metadata": {},
   "outputs": [
    {
     "name": "stdout",
     "output_type": "stream",
     "text": [
      "[['Lamm bog rå' 'Lamm kotlett rå' 'Lamm lägg rå' 'Lamm rygg lamm hals rå'\n",
      "  'Kalv fransyska rå' 'Kalv innanlår rå' 'Kalv kotlett rå' 'Kalv lägg rå']\n",
      " ['920' '921' '922' '923' '937' '938' '939' '940']\n",
      " ['133.6' '232.2' '136.7' '176.7' '108.3' '107.4' '122.2' '98.1']\n",
      " ['558.8' '971.6' '571.9' '739.5' '453.0' '449.5' '511.3' '410.3']\n",
      " ['0.0' '0.0' '0.0' '0.0' '0.0' '0.0' '0.0' '0.0']\n",
      " ['5.9' '17.3' '4.2' '11.9' '3.1' '2.5' '4.4' '1.9']\n",
      " ['20.13' '19.0' '24.5' '17.6' '19.9' '21.0' '20.5' '20.0']]\n"
     ]
    }
   ],
   "source": [
    "#För att adressera en kolumn transponerar man matrisen, med .T\n",
    "print (dataset.T)"
   ]
  },
  {
   "cell_type": "code",
   "execution_count": 26,
   "metadata": {},
   "outputs": [
    {
     "name": "stdout",
     "output_type": "stream",
     "text": [
      "['133.6' '232.2' '136.7' '176.7' '108.3' '107.4' '122.2' '98.1']\n"
     ]
    }
   ],
   "source": [
    "#Detta blir alltså alla värden för energi i kcal.\n",
    "print (dataset.T[2])\n",
    "#Men det är mycket snyggare att använda slices. Se nästa stycke."
   ]
  },
  {
   "cell_type": "markdown",
   "metadata": {},
   "source": [
    "## Slices\n",
    "\n",
    "Allt i den här anteckningsboken bygger ju på att man lär sig funktioner när man behöver dem, så hoppa över den här om den inte är aktuell.\n",
    "\n",
    "Vitsen med funktionen är att skära ut ett antal sammanhängande rader eller kolumner ur sin datamängd. Det kan vara för att ta bort en header, eller för att ta bort rader eller kolumner på slutet för att göra data mer överskådliga.\n",
    "\n",
    "Syntaxen är lite svår att läsa innan man har vant sig. Index för matrisen är i rader och kolumner, och de avgränsas av ett \",\".\n",
    "\n",
    "Ett \":\" markerar ett intervall som är öppet om man inte skriver något slut. Så \"2:\" betyder börja på element 2 och ta med alla element därefter.\n",
    "\n",
    "Vill man ta bort första raden blir det \n",
    "\n",
    "```\n",
    "dataset[1:,:]\n",
    "```\n",
    "\n",
    "Vill man ta bort första två kolumnerna blir det \n",
    "\n",
    "```\n",
    "dataset[:,2:]\n",
    "```\n",
    "\n",
    "Slices funkar även för vanliga listor. Inte bara i numpy"
   ]
  },
  {
   "cell_type": "code",
   "execution_count": 8,
   "metadata": {},
   "outputs": [
    {
     "name": "stdout",
     "output_type": "stream",
     "text": [
      "[['920' '133.6' '558.8' '0.0' '5.9' '20.13']\n",
      " ['921' '232.2' '971.6' '0.0' '17.3' '19.0']\n",
      " ['922' '136.7' '571.9' '0.0' '4.2' '24.5']\n",
      " ['923' '176.7' '739.5' '0.0' '11.9' '17.6']\n",
      " ['937' '108.3' '453.0' '0.0' '3.1' '19.9']\n",
      " ['938' '107.4' '449.5' '0.0' '2.5' '21.0']\n",
      " ['939' '122.2' '511.3' '0.0' '4.4' '20.5']\n",
      " ['940' '98.1' '410.3' '0.0' '1.9' '20.0']]\n"
     ]
    }
   ],
   "source": [
    "print (dataset[:,1:])"
   ]
  },
  {
   "cell_type": "markdown",
   "metadata": {},
   "source": [
    "## Välja kolumner\n",
    "I numpy kan man på ett enkelt sätt filtrera bort kolumner. Om man vill ha bara livsmedelsnamnet och proteinhalten så ligger de i kolumn 0 och 6. Jag gör en array av dem och har som index till dataset."
   ]
  },
  {
   "cell_type": "code",
   "execution_count": 9,
   "metadata": {
    "collapsed": true
   },
   "outputs": [],
   "source": [
    "columns = [0,1]"
   ]
  },
  {
   "cell_type": "code",
   "execution_count": 25,
   "metadata": {},
   "outputs": [
    {
     "name": "stdout",
     "output_type": "stream",
     "text": [
      "[['Lamm bog rå' '920']\n",
      " ['Lamm kotlett rå' '921']\n",
      " ['Lamm lägg rå' '922']\n",
      " ['Lamm rygg lamm hals rå' '923']\n",
      " ['Kalv fransyska rå' '937']\n",
      " ['Kalv innanlår rå' '938']\n",
      " ['Kalv kotlett rå' '939']\n",
      " ['Kalv lägg rå' '940']]\n"
     ]
    }
   ],
   "source": [
    "print(dataset[:,columns]) "
   ]
  },
  {
   "cell_type": "markdown",
   "metadata": {},
   "source": [
    "## Lägga till kolumner\n",
    "\n",
    "Säg att jag kör en sökning i en extern databas för att kolla vilka av dessa som är bra att steka. Jag får ett värde tillbaka för varje livsmedel:"
   ]
  },
  {
   "cell_type": "code",
   "execution_count": 22,
   "metadata": {},
   "outputs": [
    {
     "data": {
      "text/plain": [
       "(1, 8)"
      ]
     },
     "execution_count": 22,
     "metadata": {},
     "output_type": "execute_result"
    }
   ],
   "source": [
    "bra_att_steka = np.array([[False, True, False, True, True, False, True, False]])\n",
    "bra_att_steka.shape"
   ]
  },
  {
   "cell_type": "markdown",
   "metadata": {},
   "source": [
    "Nu vill jag lägga till de här värdena till mitt dataset, i en ny kolumn. Då använder jag numpys concatenate.\n",
    "\n",
    "Obs när jag skapar bra_att_steka så behövs extra hakparenteser för att concatenate ska vilja sätta ihop arrayerna. De måste ha samma antal dimensioner."
   ]
  },
  {
   "cell_type": "code",
   "execution_count": 12,
   "metadata": {},
   "outputs": [
    {
     "name": "stdout",
     "output_type": "stream",
     "text": [
      "[['Lamm bog rå' '920' '133.6' '558.8' '0.0' '5.9' '20.13' 'False']\n",
      " ['Lamm kotlett rå' '921' '232.2' '971.6' '0.0' '17.3' '19.0' 'True']\n",
      " ['Lamm lägg rå' '922' '136.7' '571.9' '0.0' '4.2' '24.5' 'False']\n",
      " ['Lamm rygg lamm hals rå' '923' '176.7' '739.5' '0.0' '11.9' '17.6'\n",
      "  'True']\n",
      " ['Kalv fransyska rå' '937' '108.3' '453.0' '0.0' '3.1' '19.9' 'True']\n",
      " ['Kalv innanlår rå' '938' '107.4' '449.5' '0.0' '2.5' '21.0' 'False']\n",
      " ['Kalv kotlett rå' '939' '122.2' '511.3' '0.0' '4.4' '20.5' 'True']\n",
      " ['Kalv lägg rå' '940' '98.1' '410.3' '0.0' '1.9' '20.0' 'False']]\n"
     ]
    }
   ],
   "source": [
    "new = np.concatenate((dataset,bra_att_steka.T),axis=1) #https://docs.scipy.org/doc/numpy-1.13.0/reference/generated/numpy.concatenate.html#numpy.concatenate\n",
    "#Om jag anger axis=0 försöker den lägga till värdena som en rad i stället för som en kolumn\n",
    "print(new)"
   ]
  },
  {
   "cell_type": "markdown",
   "metadata": {
    "collapsed": true
   },
   "source": [
    "## Hitta celler med visst villkor\n",
    "\n",
    "Man kan skicka in ett villkor på hela sin array, och i retur får man en ny array av samma form. Syntaxen är lömskt enkel:\n",
    "\n",
    "```\n",
    "new == 'True'\n",
    "```"
   ]
  },
  {
   "cell_type": "code",
   "execution_count": 13,
   "metadata": {},
   "outputs": [
    {
     "name": "stdout",
     "output_type": "stream",
     "text": [
      "[[False False False False False False False False]\n",
      " [False False False False False False False False]\n",
      " [False False False False False False False False]\n",
      " [False False False False False False False False]\n",
      " [False False False False False False False False]\n",
      " [False False False False False False False False]\n",
      " [False False False False False False False False]\n",
      " [False False False False False False False False]]\n"
     ]
    }
   ],
   "source": [
    "print(new == '0')"
   ]
  },
  {
   "cell_type": "markdown",
   "metadata": {},
   "source": [
    "Om man vill ha ut vilka celler som uppfyller villkoret finns det ett kommando np.where()."
   ]
  },
  {
   "cell_type": "code",
   "execution_count": 14,
   "metadata": {
    "collapsed": true
   },
   "outputs": [],
   "source": [
    "steka = np.array(np.where(new == 'True'))"
   ]
  },
  {
   "cell_type": "code",
   "execution_count": 15,
   "metadata": {},
   "outputs": [
    {
     "data": {
      "text/plain": [
       "array([[1, 3, 4, 6],\n",
       "       [7, 7, 7, 7]])"
      ]
     },
     "execution_count": 15,
     "metadata": {},
     "output_type": "execute_result"
    }
   ],
   "source": [
    "steka"
   ]
  },
  {
   "cell_type": "markdown",
   "metadata": {},
   "source": [
    "steka[0] blir ju då en lista med raderna som är bra att steka."
   ]
  },
  {
   "cell_type": "code",
   "execution_count": 16,
   "metadata": {},
   "outputs": [
    {
     "name": "stdout",
     "output_type": "stream",
     "text": [
      "[1 3 4 6]\n"
     ]
    }
   ],
   "source": [
    "print(steka[0])"
   ]
  },
  {
   "cell_type": "code",
   "execution_count": 17,
   "metadata": {},
   "outputs": [
    {
     "data": {
      "text/plain": [
       "array([['Lamm kotlett rå', '921', '232.2', '971.6', '0.0', '17.3',\n",
       "        '19.0'],\n",
       "       ['Lamm rygg lamm hals rå', '923', '176.7', '739.5', '0.0', '11.9',\n",
       "        '17.6'],\n",
       "       ['Kalv fransyska rå', '937', '108.3', '453.0', '0.0', '3.1',\n",
       "        '19.9'],\n",
       "       ['Kalv kotlett rå', '939', '122.2', '511.3', '0.0', '4.4', '20.5']],\n",
       "      dtype='<U22')"
      ]
     },
     "execution_count": 17,
     "metadata": {},
     "output_type": "execute_result"
    }
   ],
   "source": [
    "dataset[steka[0]]"
   ]
  },
  {
   "cell_type": "markdown",
   "metadata": {},
   "source": [
    "Det finns en del inbyggda strängfunktioner i numpy också, men de är lite mer komplicerade. Man kan exempelvis fråga efter vilka celler som börjar med en viss sträng, så här:"
   ]
  },
  {
   "cell_type": "code",
   "execution_count": 18,
   "metadata": {},
   "outputs": [
    {
     "data": {
      "text/plain": [
       "array([[ True, False, False, False, False, False, False, False],\n",
       "       [ True, False, False, False, False, False, False, False],\n",
       "       [ True, False, False, False, False, False, False, False],\n",
       "       [ True, False, False, False, False, False, False, False],\n",
       "       [False, False, False, False, False, False, False, False],\n",
       "       [False, False, False, False, False, False, False, False],\n",
       "       [False, False, False, False, False, False, False, False],\n",
       "       [False, False, False, False, False, False, False, False]])"
      ]
     },
     "execution_count": 18,
     "metadata": {},
     "output_type": "execute_result"
    }
   ],
   "source": [
    "np.char.startswith(new,'Lamm') #https://docs.scipy.org/doc/numpy-1.13.0/reference/generated/numpy.core.defchararray.startswith.html "
   ]
  },
  {
   "cell_type": "markdown",
   "metadata": {
    "collapsed": true
   },
   "source": [
    "## Reshape till rätt antal dimensioner\n",
    "Man behöver ofta göra om endimensionella listor till tvådimensionella arrayer med \"bredden\" 1. Frågar man om shape för en vanlig lista blir den (5,). En tvådimensionell blir (5,1). Index -1 betyder sista cellen. Därför kan man också göra reshape till -1 i stället för att behöva göra det till len(lista) för att få fram längden på listan."
   ]
  },
  {
   "cell_type": "code",
   "execution_count": 20,
   "metadata": {},
   "outputs": [
    {
     "name": "stdout",
     "output_type": "stream",
     "text": [
      "[1 2 3 4 5] 5 (5,) \n",
      "\n",
      "[[1]\n",
      " [2]\n",
      " [3]\n",
      " [4]\n",
      " [5]] 5 (5, 1)\n"
     ]
    },
    {
     "data": {
      "text/plain": [
       "array([5])"
      ]
     },
     "execution_count": 20,
     "metadata": {},
     "output_type": "execute_result"
    }
   ],
   "source": [
    "lista = [1,2,3,4,5]\n",
    "lista = np.array(lista)\n",
    "print(lista, len(lista), lista.shape, '\\n')\n",
    "#lista = lista.reshape(len(lista),1)\n",
    "lista = lista.reshape(-1,1)\n",
    "print(lista, len(lista), lista.shape)\n",
    "lista[-1]"
   ]
  },
  {
   "cell_type": "code",
   "execution_count": null,
   "metadata": {
    "collapsed": true
   },
   "outputs": [],
   "source": []
  }
 ],
 "metadata": {
  "kernelspec": {
   "display_name": "Python 3",
   "language": "python",
   "name": "python3"
  },
  "language_info": {
   "codemirror_mode": {
    "name": "ipython",
    "version": 3
   },
   "file_extension": ".py",
   "mimetype": "text/x-python",
   "name": "python",
   "nbconvert_exporter": "python",
   "pygments_lexer": "ipython3",
   "version": "3.6.1"
  }
 },
 "nbformat": 4,
 "nbformat_minor": 2
}
