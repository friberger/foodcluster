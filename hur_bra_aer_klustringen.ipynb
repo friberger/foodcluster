{
 "cells": [
  {
   "cell_type": "markdown",
   "metadata": {
    "slideshow": {
     "slide_type": "slide"
    }
   },
   "source": [
    "## Hur bra är klustringen?\n",
    "\n",
    "Den här anteckningsboken baseras också på Livsmedelsverkets Livsmedelsdatabas. Verkets klassificering i huvudgrupper kontrasteras mot klustring av livsmedel baserat på näringsvärde.\n"
   ]
  },
  {
   "cell_type": "code",
   "execution_count": 2,
   "metadata": {
    "slideshow": {
     "slide_type": "subslide"
    }
   },
   "outputs": [],
   "source": [
    "import sqlite3\n",
    "import numpy as np\n",
    "from sklearn.cluster import KMeans\n",
    "import matplotlib.pyplot as plt"
   ]
  },
  {
   "cell_type": "code",
   "execution_count": 3,
   "metadata": {},
   "outputs": [],
   "source": [
    "debug = True"
   ]
  },
  {
   "cell_type": "markdown",
   "metadata": {},
   "source": [
    "Börja med att läsa in allt från databasen. \n",
    "\n",
    "Allt ligger i variabeln dataset som är en numpy-array. Kolumn 0 är livsmedelsnamnet, 1 är livsmedelsnumret."
   ]
  },
  {
   "cell_type": "code",
   "execution_count": 4,
   "metadata": {},
   "outputs": [
    {
     "name": "stdout",
     "output_type": "stream",
     "text": [
      "[['Talg nöt' '1' 656.3 2746.0 0.0]\n",
      " ['Späck gris' '2' 763.0 3192.6 0.0]\n",
      " ['Ister gris' '3' 884.3 3700.0 0.0]\n",
      " ['Kokosfett' '4' 884.3 3700.0 0.0]\n",
      " ['Matfettsblandning havssaltat fett 80% berikad typ Bregott' '5' 711.5\n",
      "  2977.0 0.5]]\n"
     ]
    }
   ],
   "source": [
    "conn = sqlite3.connect('livs.db')\n",
    "conn.row_factory = sqlite3.Row\n",
    "curs = conn.cursor()\n",
    "\n",
    "result = []\n",
    "for row in curs.execute('select * from livs'):\n",
    "    result.append(row)\n",
    "\n",
    "conn.close()\n",
    "\n",
    "dataset = np.array(result)\n",
    "if debug:\n",
    "    print (dataset[:5,:5])"
   ]
  },
  {
   "cell_type": "markdown",
   "metadata": {
    "slideshow": {
     "slide_type": "slide"
    }
   },
   "source": [
    "Låt oss gå direkt på klustringen.\n",
    "\n",
    "Det finns över 50 näringsvärden i databasen. De här tror jag ger en bra bild av rymden av livsmedel. \n",
    "```\n",
    "[2 'Energi_kcal' 'REAL' 0 None 0]\n",
    "[4 'Kolhydrater_g' 'REAL' 0 None 0]\n",
    "[5 'Fett_g' 'REAL' 0 None 0]\n",
    "[6 'Protein_g' 'REAL' 0 None 0]\n",
    "[7 'Fibrer_g' 'REAL' 0 None 0]\n",
    "[8 'Vatten_g' 'REAL' 0 None 0]\n",
    "[9 'Alkohol_g' 'REAL' 0 None 0]\n",
    "[10 'Aska_g' 'REAL' 0 None 0]\n",
    "[42 'Vitamin_C_mg' 'REAL' 0 None 0]\n",
    "[50 'Jarn_mg' 'REAL' 0 None 0]\n",
    "```\n",
    "\n",
    "Men kanske behövs inte alla dessa för att få en bra klassificering."
   ]
  },
  {
   "cell_type": "code",
   "execution_count": 5,
   "metadata": {},
   "outputs": [],
   "source": [
    "#Här är det urval som används nu\n",
    "relevant_columns = [2,  4,  5,  6,  7,  8,  9, 10, 11, 12, 13, 14, 16, 17, 18, 19, 20, 21, 22, 23, 24, 25, 26, 27, 28, 29, 30, 31, 32, 33, 35, 37, 38, 40, 41, 42, 43, 44, 45, 46, 47, 48, 50, 51, 52, 53, 54, 55, 56, 57]\n",
    "\n",
    "#Kandidater [ 2,  4,  5,  6,  7,  8,  9, 10, 42, 50]\n",
    "\n",
    "#Här är alla möjliga dimensioner. En del försvinner eftersom de \n",
    "#har värden som saknas för vissa livsmedel\n",
    "#[ 2,  4,  5,  6,  7,  8,  9, 10, 11, 12, 13, 14, 16, 17, 18, 19, 20, 21, 22, 23, 24, 25, 26, 27, 28, 29, 30, 31, 32, 33, 35, 37, 38, 40, 41, 42, 43, 44, 45, 46, 47, 48, 50, 51, 52, 53, 54, 55, 56, 57]"
   ]
  },
  {
   "cell_type": "markdown",
   "metadata": {},
   "source": [
    "Det går förstås att välja en massa olika klustringsalgoritmer. Vi har valt k-means. Det finns också en hel del parametrar att välja. <http://scikit-learn.org/stable/modules/generated/sklearn.cluster.KMeans.html>"
   ]
  },
  {
   "cell_type": "code",
   "execution_count": 6,
   "metadata": {},
   "outputs": [
    {
     "name": "stdout",
     "output_type": "stream",
     "text": [
      "[[656.3 0.0 71.0 ... 0.03 1.0 '0.1']\n",
      " [763.0 0.0 85.0 ... 0.03 5.0 '0.4']\n",
      " [884.3 0.0 100.0 ... 0.01 7.0 '0.1']\n",
      " ...\n",
      " [40.6 7.6 0.5 ... 0.1 0.0 '0.05']\n",
      " [372.6 72.6 3.55 ... 20.25 3.5 '1.05']\n",
      " [313.7 57.5 4.8 ... 1.8 2.0 '0.6']]\n"
     ]
    }
   ],
   "source": [
    "columns = dataset[:,relevant_columns] #Tar man bort ':,' blir det alltså ett urval rader\n",
    "print(columns)"
   ]
  },
  {
   "cell_type": "code",
   "execution_count": 7,
   "metadata": {
    "slideshow": {
     "slide_type": "slide"
    }
   },
   "outputs": [
    {
     "data": {
      "image/png": "[encoded data removed]",
      "text/plain": [
       "<Figure size 432x288 with 1 Axes>"
      ]
     },
     "metadata": {
      "needs_background": "light"
     },
     "output_type": "display_data"
    }
   ],
   "source": [
    "plt.scatter(columns[:,0],columns[:,1])\n",
    "plt.ylabel('some numbers')\n",
    "plt.show()"
   ]
  },
  {
   "cell_type": "code",
   "execution_count": 8,
   "metadata": {},
   "outputs": [],
   "source": [
    " def cluster(dataset):\n",
    "    kmeans = KMeans(n_clusters=numClusters, verbose=0, n_init=100)\n",
    "    kmeans.fit(dataset)\n",
    "\n",
    "    centroids = kmeans.cluster_centers_\n",
    "    clusters = kmeans.labels_\n",
    "    \n",
    "    #Utskriften kommer ju inte här, utan efter funktionsanropet\n",
    "    if debug:\n",
    "        print (centroids)\n",
    "        print (clusters)\n",
    "\n",
    "    return clusters, centroids"
   ]
  },
  {
   "cell_type": "code",
   "execution_count": 9,
   "metadata": {},
   "outputs": [],
   "source": [
    "#Livsmedelsdatabasen innehåller över 100 huvudgrupper. Det hade varit bra att ha något \n",
    "#färre grupper på översta nivån. Högst 50. Eller kanske bara 10, för att komma ner i något som\n",
    "#skulle kunna motsvara \"frukt, grönsaker, fisk, kött, nötter\" etc.\n",
    "numClusters = 30"
   ]
  },
  {
   "cell_type": "code",
   "execution_count": 10,
   "metadata": {
    "scrolled": false
   },
   "outputs": [
    {
     "name": "stdout",
     "output_type": "stream",
     "text": [
      "[[ 8.03719008e+01  1.16736157e+01  1.94500000e+00 ...  9.48966942e-02\n",
      "   1.28450413e+00  4.39380165e-01]\n",
      " [ 2.25200000e+02  1.78180000e+01  8.71600000e+00 ...  4.85040000e+01\n",
      "   0.00000000e+00  0.00000000e+00]\n",
      " [ 1.29400000e+02  1.80000000e+00  3.70000000e+00 ...  1.90000000e-01\n",
      "   5.00000000e+01  3.40000000e+00]\n",
      " ...\n",
      " [ 2.53578519e+02  2.35392593e+01  1.21418148e+01 ...  1.32151852e+00\n",
      "   8.69270370e+00  1.35688889e+00]\n",
      " [ 1.59100000e+02  2.12033333e+01  4.43666667e+00 ...  4.07533333e+01\n",
      "  -8.88178420e-16  0.00000000e+00]\n",
      " [ 3.59900000e+02  4.81000000e+01  1.60000000e+00 ...  1.30000000e-01\n",
      "   3.30000000e+00  1.35000000e+01]]\n",
      "[22 22 22 ...  0  5  8]\n"
     ]
    }
   ],
   "source": [
    "clusters, centroids = cluster(columns)"
   ]
  },
  {
   "cell_type": "markdown",
   "metadata": {},
   "source": [
    "Clusters är en array som är lika lång som antalet rader i dataset:"
   ]
  },
  {
   "cell_type": "code",
   "execution_count": 11,
   "metadata": {},
   "outputs": [
    {
     "name": "stdout",
     "output_type": "stream",
     "text": [
      "[22 22 22 ...  0  5  8] Antal värden: 2088\n"
     ]
    }
   ],
   "source": [
    "print(clusters, \"Antal värden:\", len(clusters))"
   ]
  },
  {
   "cell_type": "markdown",
   "metadata": {},
   "source": [
    "Beroende på hur man väljer parametrarna vid klustringen kan man få liten eller stor variation i hur många som hamnar i de olika klustren.\n",
    "\n",
    "Här är en tabell med fördelningen, och med några enkla statistiska mått."
   ]
  },
  {
   "cell_type": "code",
   "execution_count": 12,
   "metadata": {},
   "outputs": [
    {
     "name": "stdout",
     "output_type": "stream",
     "text": [
      "[[  0 484]\n",
      " [  1   5]\n",
      " [  2   1]\n",
      " [  3   4]\n",
      " [  4   2]\n",
      " [  5   5]\n",
      " [  6   8]\n",
      " [  7  54]\n",
      " [  8 163]\n",
      " [  9   1]\n",
      " [ 10   1]\n",
      " [ 11   1]\n",
      " [ 12   3]\n",
      " [ 13   1]\n",
      " [ 14  11]\n",
      " [ 15 361]\n",
      " [ 16   1]\n",
      " [ 17  54]\n",
      " [ 18 343]\n",
      " [ 19   1]\n",
      " [ 20   2]\n",
      " [ 21  12]\n",
      " [ 22 225]\n",
      " [ 23  32]\n",
      " [ 24   3]\n",
      " [ 25   4]\n",
      " [ 26  32]\n",
      " [ 27 270]\n",
      " [ 28   3]\n",
      " [ 29   1]]\n",
      "Medelvärde: 69.6\n",
      "Median: 4.5\n",
      "Standardavvikelse: 128.49503232939915\n"
     ]
    }
   ],
   "source": [
    "unique, counts = np.unique(clusters, return_counts=True) #https://stackoverflow.com/questions/28663856/how-to-count-the-occurrence-of-certain-item-in-an-ndarray-in-python\n",
    "cluster_distribution = np.array(list(zip(unique, counts)))\n",
    "print(cluster_distribution)\n",
    "print(\"Medelvärde:\", np.mean(cluster_distribution.T[1]))\n",
    "print(\"Median:\", np.median(cluster_distribution.T[1]))\n",
    "print(\"Standardavvikelse:\",np.std(cluster_distribution.T[1]))"
   ]
  },
  {
   "cell_type": "markdown",
   "metadata": {},
   "source": [
    "Ett första mått skulle kunna vara hur hur blandade ens kluster är, alltså hur många huvudgrupper de innehåller livsmedel från."
   ]
  },
  {
   "cell_type": "code",
   "execution_count": 13,
   "metadata": {},
   "outputs": [],
   "source": [
    "valt_kluster = 0"
   ]
  },
  {
   "cell_type": "markdown",
   "metadata": {},
   "source": [
    "Eftersom det är så många livsmedel i varje kluster är det lättare att visa dem som en fördelning:"
   ]
  },
  {
   "cell_type": "code",
   "execution_count": 14,
   "metadata": {},
   "outputs": [
    {
     "name": "stdout",
     "output_type": "stream",
     "text": [
      "[['Grönsaker' '50']\n",
      " ['Frukt färsk fryst' '38']\n",
      " ['Bär färska frysta' '23']\n",
      " ['Fruktjuice mm' '21']\n",
      " ['Söta soppor kräm o efterrättssås' '20']\n",
      " ['Saft läsk cider u alkohol' '18']\n",
      " ['Sylt marmelad gelé äppelmos o dyl' '18']\n",
      " ['Glass' '17']\n",
      " ['Frukt o bär konserverade' '17']\n",
      " ['Vatten mineralvatten' '15']\n",
      " ['Efterrätter' '14']\n",
      " ['Grädde creme fraiche' '13']\n",
      " ['Baljväxter (bönor, linser och ärter)' '13']\n",
      " ['Vegetabiliska produkter och mjölkersättning' '12']\n",
      " ['Pasta' '12']\n",
      " ['Naturell fil yoghurt' '11']\n",
      " ['Smaksatt fil yoghurt' '11']\n",
      " ['Vin' '10']\n",
      " ['Rotfrukter' '9']\n",
      " ['Gröt' '9']\n",
      " ['Mjölk' '8']\n",
      " ['Grönsaks- rotfrukts- baljväxträtter och produkter' '7']\n",
      " ['Ris risnudlar' '7']\n",
      " ['Starksprit' '7']\n",
      " ['Färskost o kvarg' '5']\n",
      " ['Kost- o näringspreparat' '5']\n",
      " ['Mjölkdryck chokladdryck milkshake smothie m yoghurt' '5']\n",
      " ['Grönsaksblandningar med rotfrukter och eller baljväxter' '5']\n",
      " ['Bullar kakor tårtor mm' '5']\n",
      " ['Välling' '5']\n",
      " ['Matgryn' '4']\n",
      " ['Öl' '4']\n",
      " ['Lightdrycker u energi' '4']\n",
      " ['Svamp' '4']\n",
      " ['Kaffe' '4']\n",
      " ['Sås dressing majonnäs' '4']\n",
      " ['Övriga sötade drycker vattenchoklad' '4']\n",
      " ['Cider alkoläsk drink' '3']\n",
      " ['Soppa mat' '3']\n",
      " ['Te' '3']\n",
      " ['Ättika vinäger' '3']\n",
      " ['Frukt o bär' '2']\n",
      " ['Fisk färsk fryst kokt' '2']\n",
      " ['Buljong' '2']\n",
      " ['' '2']\n",
      " ['Sallad blandad mat' '2']\n",
      " ['Sportdrycker energidrycker' '2']\n",
      " ['Likör' '2']\n",
      " ['Skaldjur bläckfisk färsk fryst kokt' '2']\n",
      " ['Potatis' '2']\n",
      " ['Grönsaksjuice rotfruktsjuice' '1']\n",
      " ['Ägg' '1']\n",
      " ['Blodprodukter o rätter' '1']\n",
      " ['Skaldjur bläckfisk konserverad' '1']\n",
      " ['Senap ketchup HP-sås soja *smaksättare*' '1']\n",
      " ['Dryck' '1']\n",
      " ['Fisk o skaldjursprodukter o rätter' '1']\n",
      " ['Risrätter' '1']\n",
      " ['Inälvor och organ' '1']\n",
      " ['Ost med vegetabilskt fett' '1']\n",
      " ['Mesvaror' '1']\n",
      " ['Frukt o bär torkade' '1']\n",
      " ['Kött färskt fryst tillagat' '1']\n",
      " ['Fågel' '1']\n",
      " ['Inälvor organ produkter o rätter' '1']\n",
      " ['Majonnässallad röror' '1']] \n",
      " 66\n"
     ]
    }
   ],
   "source": [
    "a=dataset[np.where(clusters==valt_kluster)][:,[0,60]]\n",
    "unique, counts = np.unique(a.T[1], return_counts=True) #https://stackoverflow.com/questions/28663856/how-to-count-the-occurrence-of-certain-item-in-an-ndarray-in-python\n",
    "huvudgrupp_distribution = np.array(list(zip(unique, counts)))\n",
    "\n",
    "order=np.argsort(huvudgrupp_distribution.T[1].astype(int))\n",
    "order = np.flipud(order)\n",
    "#print (order)\n",
    "huvudgrupp_distribution = huvudgrupp_distribution[order]\n",
    "print(huvudgrupp_distribution, \"\\n\", len(huvudgrupp_distribution))"
   ]
  },
  {
   "cell_type": "markdown",
   "metadata": {},
   "source": [
    "cluster_distribution innehåller alla klustren och antal livsmedel. Vi vill göra om det så att vi får alla klustren och antal huvudgrupper i stället."
   ]
  },
  {
   "cell_type": "code",
   "execution_count": 194,
   "metadata": {},
   "outputs": [
    {
     "name": "stdout",
     "output_type": "stream",
     "text": [
      "[ 0  1  2  3  4  5  6  7  8  9 10 11 12 13 14 15 16 17 18 19 20 21 22 23 24\n",
      " 25 26 27 28 29]\n"
     ]
    }
   ],
   "source": [
    "print (cluster_distribution[:,0])"
   ]
  },
  {
   "cell_type": "code",
   "execution_count": 195,
   "metadata": {},
   "outputs": [
    {
     "name": "stdout",
     "output_type": "stream",
     "text": [
      "[ 34.   1.   1.   2.   1.  56.   1.   2.   4.   1.   1.   1.   1.   2.   6.\n",
      "  35.  14.  34.   1.   2.  68.   9.   2.   1.   6.   1.  12.   2.   9.  25.] 11.1666666667\n"
     ]
    }
   ],
   "source": [
    "cluster_profile = np.array([])\n",
    "for row in cluster_distribution[:,0]:\n",
    "    a=dataset[np.where(clusters==row)][:,[0,60]]\n",
    "    unique, counts = np.unique(a.T[1], return_counts=True) #https://stackoverflow.com/questions/28663856/how-to-count-the-occurrence-of-certain-item-in-an-ndarray-in-python\n",
    "    huvudgrupp_distribution = np.array(list(zip(unique, counts)))\n",
    "\n",
    "    order=np.argsort(huvudgrupp_distribution.T[1].astype(int))\n",
    "    order = np.flipud(order)\n",
    "    #print (order)\n",
    "    huvudgrupp_distribution = huvudgrupp_distribution[order]\n",
    "    cluster_profile=np.append(cluster_profile,len(huvudgrupp_distribution))\n",
    "    #print(len(huvudgrupp_distribution))\n",
    "\n",
    "print(cluster_profile, np.mean(cluster_profile))\n",
    "    "
   ]
  },
  {
   "cell_type": "markdown",
   "metadata": {},
   "source": [
    "Klusterprofilen cluster_profile blir hur många huvudgrupper vi får i varje kluster, och så för alla kluster. \n",
    "\n",
    "När man klustrar med många näringsvärden verkar det bli mer spridning på antalet huvudgrupper i klustren, vilket kanske inte är det man vill ha..."
   ]
  },
  {
   "cell_type": "code",
   "execution_count": null,
   "metadata": {
    "collapsed": true
   },
   "outputs": [],
   "source": []
  }
 ],
 "metadata": {
  "celltoolbar": "Slideshow",
  "kernelspec": {
   "display_name": "Python 3",
   "language": "python",
   "name": "python3"
  },
  "language_info": {
   "codemirror_mode": {
    "name": "ipython",
    "version": 3
   },
   "file_extension": ".py",
   "mimetype": "text/x-python",
   "name": "python",
   "nbconvert_exporter": "python",
   "pygments_lexer": "ipython3",
   "version": "3.7.4"
  }
 },
 "nbformat": 4,
 "nbformat_minor": 2
}
