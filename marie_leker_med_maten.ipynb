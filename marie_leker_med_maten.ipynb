{
  "nbformat": 4,
  "nbformat_minor": 0,
  "metadata": {
    "colab": {
      "name": "marie_leker_med_maten.ipynb",
      "version": "0.3.2",
      "provenance": [],
      "include_colab_link": true
    },
    "kernelspec": {
      "display_name": "Python 3",
      "language": "python",
      "name": "python3"
    }
  },
  "cells": [
    {
      "cell_type": "markdown",
      "metadata": {
        "id": "view-in-github",
        "colab_type": "text"
      },
      "source": [
        "[View in Colaboratory](https://colab.research.google.com/github/friberger/kodamat/blob/master/marie_leker_med_maten.ipynb)"
      ]
    },
    {
      "metadata": {
        "id": "J7BGkiBgZGrn",
        "colab_type": "code",
        "colab": {
          "base_uri": "https://localhost:8080/",
          "height": 17
        },
        "outputId": "ac4ebc3a-06e3-41b0-e9f0-48eaa80406b7"
      },
      "cell_type": "code",
      "source": [
        "%matplotlib inline\n",
        "\n",
        "from sklearn.metrics.pairwise import pairwise_distances, cosine_similarity\n",
        "import numpy as np\n",
        "import sqlite3\n",
        "import math\n",
        "import requests\n",
        "import pickle\n",
        "\n",
        "import matplotlib\n",
        "import matplotlib.pyplot as plt"
      ],
      "execution_count": 1,
      "outputs": []
    },
    {
      "metadata": {
        "id": "nAuwq7cmZGsI",
        "colab_type": "text"
      },
      "cell_type": "markdown",
      "source": [
        "Syftet med den här är att mäta avståndet mellan huvudgruppernas medelpunkter."
      ]
    },
    {
      "metadata": {
        "id": "QzW76LuCZGsL",
        "colab_type": "code",
        "colab": {
          "base_uri": "https://localhost:8080/",
          "height": 17
        },
        "outputId": "a4aa29c4-0305-4c74-ef2f-285768a1e147"
      },
      "cell_type": "code",
      "source": [
        "url = 'http://infontology.org/dev/db.npy' #Picklad fil som innehåller hela Livsmedelsdatabasen\n",
        "\n",
        "r = requests.get(url, allow_redirects = True)\n",
        "db_contents = pickle.loads(r.content)"
      ],
      "execution_count": 2,
      "outputs": []
    },
    {
      "metadata": {
        "id": "DeGiZjGJZGsj",
        "colab_type": "code",
        "colab": {
          "base_uri": "https://localhost:8080/",
          "height": 17
        },
        "outputId": "63b39c6f-f53c-4cb4-924f-1367e482477f"
      },
      "cell_type": "code",
      "source": [
        "columns = np.array([ 2,  4,  5,  6])\n",
        "# Possible columns: [ 2,  4,  5,  6,  7,  8,  9, 10, 11, 12, 13, 14, 16, 17, 18, 19, 20, 21, 22, 23, 24, 25, 26, 27, 28, 29, 30, 31, 32, 33, 35, 37, 38, 40, 41, 42, 43, 44, 45, 46, 47, 48, 50, 51, 52, 53, 54, 55, 56, 57]\n",
        "# Kolumner som inte predicerar så mycket: [22, 24, 29, 30, 31, 41, 45]"
      ],
      "execution_count": 3,
      "outputs": []
    },
    {
      "metadata": {
        "id": "AcUd6OHbZe6U",
        "colab_type": "code",
        "colab": {
          "base_uri": "https://localhost:8080/",
          "height": 40
        },
        "outputId": "182aac4a-88ab-45b0-db0f-7338d10bb637"
      },
      "cell_type": "code",
      "source": [
        "name = input()"
      ],
      "execution_count": 16,
      "outputs": [
        {
          "output_type": "stream",
          "text": [
            "Kokosfett\n"
          ],
          "name": "stdout"
        }
      ]
    },
    {
      "metadata": {
        "id": "2_epvfLtZf8b",
        "colab_type": "code",
        "colab": {
          "base_uri": "https://localhost:8080/",
          "height": 34
        },
        "outputId": "8676144a-aaba-4969-cd25-de00172d84d4"
      },
      "cell_type": "code",
      "source": [
        "x = np.where(db_contents == name)\n",
        "x"
      ],
      "execution_count": 17,
      "outputs": [
        {
          "output_type": "execute_result",
          "data": {
            "text/plain": [
              "(array([3]), array([0]))"
            ]
          },
          "metadata": {
            "tags": []
          },
          "execution_count": 17
        }
      ]
    },
    {
      "metadata": {
        "id": "8FtqVlKwZgRf",
        "colab_type": "code",
        "colab": {
          "base_uri": "https://localhost:8080/",
          "height": 119
        },
        "outputId": "2f561297-deb6-410a-9bc2-6d36c7f82e57"
      },
      "cell_type": "code",
      "source": [
        "db_contents [x[0]]"
      ],
      "execution_count": 18,
      "outputs": [
        {
          "output_type": "execute_result",
          "data": {
            "text/plain": [
              "array([['Kokosfett', '4', 884.3, 3700.0, 0.0, 100.0, 0.0, 0.0, 0.0, 0.0,\n",
              "        0.0, 0.0, 0.0, 0.0, 0.0, '', 92.0, 13.0, 46.3, 18.7, 9.6, 3.0,\n",
              "        0.0, 6.0, 0.0, 7.2, 2.0, 1.8, 0.0, 0.0, 0.0, 0.0, 0.0, 0.0, '',\n",
              "        0.0, 0.0, 0.0, 11.0, '', 0.0, 0.0, 0.0, 0.0, 0.0, 0.0, 0.0, 0.0,\n",
              "        0.0, '', 0.0, 0.0, 0.0, 0.0, 0.0, 0.0, 0.0, '0', 0.0, 19.0,\n",
              "        'Övrigt fett (ister, talg, kokosfett)', 86, None]], dtype=object)"
            ]
          },
          "metadata": {
            "tags": []
          },
          "execution_count": 18
        }
      ]
    },
    {
      "metadata": {
        "id": "DCIACgpzgQtL",
        "colab_type": "code",
        "colab": {
          "base_uri": "https://localhost:8080/",
          "height": 17
        },
        "outputId": "01a70cb2-f60d-4b47-9222-f64c2fb13e27"
      },
      "cell_type": "code",
      "source": [
        "fat = db_contents [1:100,5]"
      ],
      "execution_count": 26,
      "outputs": []
    },
    {
      "metadata": {
        "id": "yMkoVY1PjVFT",
        "colab_type": "code",
        "colab": {
          "base_uri": "https://localhost:8080/",
          "height": 40
        },
        "outputId": "365b7c1e-18b0-405f-b711-2d24d62304bc"
      },
      "cell_type": "code",
      "source": [
        "fetthalt = input()"
      ],
      "execution_count": 71,
      "outputs": [
        {
          "output_type": "stream",
          "text": [
            "40\n"
          ],
          "name": "stdout"
        }
      ]
    },
    {
      "metadata": {
        "id": "3hWuZcuIhJSH",
        "colab_type": "code",
        "colab": {
          "base_uri": "https://localhost:8080/",
          "height": 17
        },
        "outputId": "2c5ba5e5-7c18-4e9e-fa51-77525ae066b4"
      },
      "cell_type": "code",
      "source": [
        "highfat = np.where(fat > float (fetthalt))"
      ],
      "execution_count": 74,
      "outputs": []
    },
    {
      "metadata": {
        "id": "dMcaryLohpNs",
        "colab_type": "code",
        "colab": {
          "base_uri": "https://localhost:8080/",
          "height": 340
        },
        "outputId": "2b38343b-f758-48dd-cab5-6f7dda0f79d3"
      },
      "cell_type": "code",
      "source": [
        "db_contents[highfat][:,0]"
      ],
      "execution_count": 75,
      "outputs": [
        {
          "output_type": "execute_result",
          "data": {
            "text/plain": [
              "array(['Talg nöt', 'Späck gris', 'Ister gris', 'Kokosfett',\n",
              "       'Matfettsblandning havssaltat fett 80% berikad typ Bregott',\n",
              "       'Matfettsblandning fett 60 % berikad typ Bregott mellan',\n",
              "       'Bordsmargarin fett 70% berikad typ Milda',\n",
              "       'Bordsmargarin extrasaltat fett 60% berikad typ Milda',\n",
              "       'Bordsmargarin mjölkfri fett 60% berikad typ Milda',\n",
              "       'Flytande margarin fett 82 % berikad typ Milda culinesse',\n",
              "       'Hushållsmargarin fett 80% berikad typ Melba',\n",
              "       'Lättmargarin fett 40% berikad typ Lätt & lagom',\n",
              "       'Majonnäs fett 90%', 'Sesamsås grädde', 'Gravlaxsås hovmästarsås',\n",
              "       'Gravlaxsås', 'Remouladsås',\n",
              "       'Matfettsblandning fett 40 % berikad typ Lätt & lagom omega 3',\n",
              "       'Smör fett 80 %', 'Smör extrasaltat fett 80%',\n",
              "       'Smör osaltat fett 80%', 'Druvkärnolja', 'Majsolja', 'Olivolja',\n",
              "       'Tistelolja', 'Sesamolja', 'Sojaolja', 'Solrosolja',\n",
              "       'Dressing fett ca 25%', 'Dressing majonnäs fett ca 25%',\n",
              "       'Dressing fett 0%', 'Gurkmajonnäs el gurksallad gatukök',\n",
              "       'Skaldjurssallad m majonnäsdressing', 'Bearnaisesås',\n",
              "       'Rhode Island sås', 'Färskost fett 33% typ Cantadou'], dtype=object)"
            ]
          },
          "metadata": {
            "tags": []
          },
          "execution_count": 75
        }
      ]
    },
    {
      "metadata": {
        "id": "1BVB2Noihe_f",
        "colab_type": "code",
        "colab": {
          "base_uri": "https://localhost:8080/",
          "height": 17
        },
        "outputId": "5aceb568-97b4-4928-864b-24a4aacfad28"
      },
      "cell_type": "code",
      "source": [
        "highfatlist = db_contents[highfat][:,60]"
      ],
      "execution_count": 76,
      "outputs": []
    },
    {
      "metadata": {
        "id": "5xMrEyqMt92X",
        "colab_type": "code",
        "colab": {
          "base_uri": "https://localhost:8080/",
          "height": 85
        },
        "outputId": "e9b5bcca-ebb4-4ec2-c476-3f6a02039b21"
      },
      "cell_type": "code",
      "source": [
        "unique, counts = np.unique(highfatlist, return_counts=True)\n",
        "unique\n",
        "#dict(zip(unique, counts))"
      ],
      "execution_count": 97,
      "outputs": [
        {
          "output_type": "execute_result",
          "data": {
            "text/plain": [
              "array(['Flytande matfettsblandning', 'Färskost o kvarg',\n",
              "       'Hård matfettsblandning', 'Majonnässallad röror', 'Olja',\n",
              "       'Sallad blandad mat', 'Smör', 'Sås dressing majonnäs',\n",
              "       'Övrigt fett (ister, talg, kokosfett)'], dtype=object)"
            ]
          },
          "metadata": {
            "tags": []
          },
          "execution_count": 97
        }
      ]
    },
    {
      "metadata": {
        "id": "XzMlhnfhuNYj",
        "colab_type": "code",
        "colab": {
          "base_uri": "https://localhost:8080/",
          "height": 565
        },
        "outputId": "c7d51519-8066-470b-d971-150753e791d7"
      },
      "cell_type": "code",
      "source": [
        "x = np.arange(len(unique))\n",
        "plt.bar (x, height = counts)\n",
        "plt.xticks(x+.5, unique, rotation='vertical')"
      ],
      "execution_count": 99,
      "outputs": [
        {
          "output_type": "execute_result",
          "data": {
            "text/plain": [
              "([<matplotlib.axis.XTick at 0x7fbbc995a5c0>,\n",
              "  <matplotlib.axis.XTick at 0x7fbbc995afd0>,\n",
              "  <matplotlib.axis.XTick at 0x7fbbc6286588>,\n",
              "  <matplotlib.axis.XTick at 0x7fbbc9f87588>,\n",
              "  <matplotlib.axis.XTick at 0x7fbbc9f87c88>,\n",
              "  <matplotlib.axis.XTick at 0x7fbbc9f8f438>,\n",
              "  <matplotlib.axis.XTick at 0x7fbbc9f8fba8>,\n",
              "  <matplotlib.axis.XTick at 0x7fbbc9f99358>,\n",
              "  <matplotlib.axis.XTick at 0x7fbbc9f99ac8>],\n",
              " <a list of 9 Text xticklabel objects>)"
            ]
          },
          "metadata": {
            "tags": []
          },
          "execution_count": 99
        },
        {
          "output_type": "display_data",
          "data": {
            "image/png": "[encoded data removed]",
            "text/plain": [
              "<matplotlib.figure.Figure at 0x7fbbc9943f98>"
            ]
          },
          "metadata": {
            "tags": []
          }
        }
      ]
    },
    {
      "metadata": {
        "id": "oFO0HjJ_aKQQ",
        "colab_type": "code",
        "colab": {
          "base_uri": "https://localhost:8080/",
          "height": 136
        },
        "outputId": "57bb13db-fb62-4c9d-e00a-1a994c8b6a6e"
      },
      "cell_type": "code",
      "source": [
        "set()"
      ],
      "execution_count": 61,
      "outputs": [
        {
          "output_type": "execute_result",
          "data": {
            "text/plain": [
              "{'Flytande matfettsblandning',\n",
              " 'Hård matfettsblandning',\n",
              " 'Olja',\n",
              " 'Sallad blandad mat',\n",
              " 'Smör',\n",
              " 'Sås dressing majonnäs',\n",
              " 'Övrigt fett (ister, talg, kokosfett)'}"
            ]
          },
          "metadata": {
            "tags": []
          },
          "execution_count": 61
        }
      ]
    },
    {
      "metadata": {
        "id": "jaQVg7HPaKaP",
        "colab_type": "code",
        "colab": {
          "base_uri": "https://localhost:8080/",
          "height": 333
        },
        "outputId": "45c2efcb-9e0c-4700-a609-bfd7c6c7b836"
      },
      "cell_type": "code",
      "source": [
        "plt.hist([x])\n",
        "#plt.show()"
      ],
      "execution_count": 92,
      "outputs": [
        {
          "output_type": "execute_result",
          "data": {
            "text/plain": [
              "(array([1424.,  343.,  154.,   68.,   29.,   11.,   12.,    7.,   24.,\n",
              "          16.]),\n",
              " array([  0.,  10.,  20.,  30.,  40.,  50.,  60.,  70.,  80.,  90., 100.]),\n",
              " <a list of 10 Patch objects>)"
            ]
          },
          "metadata": {
            "tags": []
          },
          "execution_count": 92
        },
        {
          "output_type": "display_data",
          "data": {
            "image/png": "[encoded data removed]",
            "text/plain": [
              "<matplotlib.figure.Figure at 0x7fbbc6121940>"
            ]
          },
          "metadata": {
            "tags": []
          }
        }
      ]
    },
    {
      "metadata": {
        "id": "Ae04Ap6_ZGsz",
        "colab_type": "code",
        "colab": {},
        "outputId": "1018fff6-064b-4156-c9d4-62dc5be7086b"
      },
      "cell_type": "code",
      "source": [
        "#Skapa dataset som alla rader och de kolumner som valts i columns\n",
        "dataset = db_contents[:,columns].astype(float)\n",
        "\n",
        "main_groups = np.array(list(set(db_contents[:,60]))).reshape(-1, 1) \n",
        "\n",
        "#Skapa hela matrisen med kolumner för alla medelvärden\n",
        "main_groups=np.hstack((main_groups,np.empty([len(main_groups),len(columns)])))\n",
        "print(main_groups[:,0])"
      ],
      "execution_count": 0,
      "outputs": [
        {
          "output_type": "stream",
          "text": [
            "['' 'Nötter frön' 'Starksprit' 'Deg och gräddade skal och bottnar' 'Svamp'\n",
            " 'Färskost o kvarg' 'Baljväxter (bönor, linser och ärter)'\n",
            " 'Köttprodukter kötträtter' 'Kryddor' 'Vin' 'Dryck' 'Pasta'\n",
            " 'Saft läsk cider u alkohol' 'Smaksatt fil yoghurt' 'Sockerfritt godis'\n",
            " 'Skaldjur bläckfisk färsk fryst kokt' 'Soja-  veteprotein o quorn'\n",
            " 'Fisk o skaldjursprodukter o rätter' 'Korvrätter' 'Vatten mineralvatten'\n",
            " 'Mesvaror' 'Buljong' 'Skaldjur bläckfisk konserverad'\n",
            " 'Senap ketchup HP-sås soja *smaksättare*'\n",
            " 'Övrigt animaliskt *kött*, grodlår, sniglar, säl - färskt, fryst, tillagat'\n",
            " 'Rotfrukter' 'Sötningsmedel' 'Fruktjuice mm'\n",
            " 'Sylt marmelad gelé äppelmos o dyl' 'Fisk rökt'\n",
            " 'Inälvor organ produkter o rätter' 'Kaffe' 'Matgryn' 'Likör'\n",
            " 'Cider alkoläsk drink' 'Godis som innehåller choklad' 'Salt' 'Dessertost'\n",
            " 'Osträtter' 'Fisk färsk fryst kokt' 'Sportdrycker energidrycker'\n",
            " 'Vegetabiliska produkter och mjölkersättning' 'Efterrätter'\n",
            " 'Kött färskt fryst tillagat' 'Godis ej choklad' 'Gröt' 'Ägg' 'Öl'\n",
            " 'Socker sirap honung' 'Potatis' 'Sylta' 'Ättika vinäger'\n",
            " 'Naturell fil yoghurt' 'Kost- o näringspreparat' 'Blodmat'\n",
            " 'Sås dressing majonnäs'\n",
            " 'Sojaprotein veteprotein Quorn produkter och rätter'\n",
            " 'Blodprodukter o rätter' 'Söta soppor kräm o efterrättssås' 'Olja'\n",
            " 'Frukt färsk fryst' 'Hård matfettsblandning' 'Potatisprodukter o rätter'\n",
            " 'Ris risnudlar' 'Mjukt bröd' 'Lightdrycker u energi'\n",
            " 'Grädde creme fraiche' 'Ost med vegetabilskt fett' 'Kakaoprodukter'\n",
            " 'Mjölk' 'Smörgåskex' 'Frukt o nötblandningar bars' 'Jäst bakpulver'\n",
            " 'Majonnässallad röror' 'Glass' 'Övrigt' 'Riskakor' 'Grönsaker'\n",
            " 'Frukt o bär konserverade' 'Kött processat' 'Flytande matfettsblandning'\n",
            " 'Flingor - frukostflingor' 'Frukt o bär torkade'\n",
            " 'Grönsaksblandningar med rotfrukter och eller baljväxter'\n",
            " 'Hamburgare med  bröd (kött, fisk, fågel, vegetarisk)' 'Choklad'\n",
            " 'Tuggummi' 'Välling' 'Inälvor och organ' 'Sallad blandad mat'\n",
            " 'Grönsaks- rotfrukts- baljväxträtter och produkter' 'Hårt bröd'\n",
            " 'Frukt o bär' 'Chips popcorn o dyl' 'Fågelprodukter o rätter'\n",
            " 'Bullar kakor tårtor mm' 'Äggprodukter o rätter' 'Mjöl stärkelse kli'\n",
            " 'Mjölkdryck chokladdryck milkshake smothie m yoghurt'\n",
            " 'Övrigt fett (ister, talg, kokosfett)' 'Grönsaksjuice rotfruktsjuice'\n",
            " 'Bär färska frysta' 'Algprodukter' 'Övriga sötade drycker vattenchoklad'\n",
            " 'Pannkakor, våfflor, crêpes' 'Gelatin agar agar' 'Hård ost m.m.'\n",
            " 'Pastarätter' 'Soppa mat' 'Smältost' 'Fisk stekt ej panerad'\n",
            " 'Pizza paj pirog färdig smörgås' 'Te' 'Fågel' 'Tacoskal' 'Smör'\n",
            " 'Rom, kaviar' 'Korv' 'Risrätter']\n"
          ],
          "name": "stdout"
        }
      ]
    },
    {
      "metadata": {
        "id": "l-T1d25FaHex",
        "colab_type": "code",
        "colab": {}
      },
      "cell_type": "code",
      "source": [
        ""
      ],
      "execution_count": 0,
      "outputs": []
    },
    {
      "metadata": {
        "id": "CiCqOJV4ZGtI",
        "colab_type": "code",
        "colab": {},
        "outputId": "d6f1bc88-d274-4c3e-ca13-972678f50dff"
      },
      "cell_type": "code",
      "source": [
        "m_group = 'Te'\n",
        "for column in range(len(columns)):\n",
        "    group_members = np.where(db_contents[:,60]==m_group)\n",
        "    a = dataset[group_members]\n",
        "    #mean = np.mean(dataset[group_members], axis=0)\n",
        "    plt.axvline(a[:,column].mean(), color='b', linestyle='dashed', linewidth=2)\n",
        "    plt.axvline(np.median(a[:,column]), color='r', linestyle='dashed', linewidth=2)\n",
        "    plt.hist(a[:,column])\n",
        "    plt.show()"
      ],
      "execution_count": 0,
      "outputs": [
        {
          "output_type": "display_data",
          "data": {
            "image/png": "[encoded data removed]",
            "text/plain": [
              "<matplotlib.figure.Figure at 0x11ac186a0>"
            ]
          },
          "metadata": {
            "tags": []
          }
        },
        {
          "output_type": "display_data",
          "data": {
            "image/png": "[encoded data removed]",
            "text/plain": [
              "<matplotlib.figure.Figure at 0x11ad64358>"
            ]
          },
          "metadata": {
            "tags": []
          }
        },
        {
          "output_type": "display_data",
          "data": {
            "image/png": "[encoded data removed]",
            "text/plain": [
              "<matplotlib.figure.Figure at 0x11aea5320>"
            ]
          },
          "metadata": {
            "tags": []
          }
        },
        {
          "output_type": "display_data",
          "data": {
            "image/png": "[encoded data removed]",
            "text/plain": [
              "<matplotlib.figure.Figure at 0x11b1729e8>"
            ]
          },
          "metadata": {
            "tags": []
          }
        }
      ]
    },
    {
      "metadata": {
        "id": "yi5IU_wjZGt2",
        "colab_type": "code",
        "colab": {},
        "outputId": "c53d14a6-d8bf-4576-8cdf-647d3b822c63"
      },
      "cell_type": "code",
      "source": [
        "# Fyll matrisen main_groups med medelvärdena i alla kolumner\n",
        "for row in main_groups:\n",
        "    group_members = np.where(db_contents[:,60]==row[0]) # group_members blir index för alla livsmedel som tillhör den aktuella huvudgruppen\n",
        "    column_means=np.mean(dataset[group_members], axis=0) # blir medelvärdena kolumn för kolumn för den aktuella huvudgruppens livsmedel\n",
        "    row[1:]=column_means # Sätt medelvärdena på plats i den stora matrisen som är main_groups/huvudgrupper\n",
        "    print(row)"
      ],
      "execution_count": 0,
      "outputs": [
        {
          "output_type": "stream",
          "text": [
            "['' '216.54285714285717' '11.528571428571428' '9.6' '14.385714285714286']\n",
            "['Nötter frön' '551.7047619047619' '16.388095238095236' '45.62666666666667'\n",
            " '15.94190476190476']\n",
            "['Starksprit' '226.28571428571428' '4.028571428571429' '0.0' '0.0']\n",
            "['Deg och gräddade skal och bottnar' '396.3' '44.796666666666674'\n",
            " '20.833333333333332' '6.596666666666667']\n",
            "['Svamp' '26.855555555555554' '2.1433333333333335' '0.4766666666666667'\n",
            " '2.2588888888888885']\n",
            "['Färskost o kvarg' '189.48' '2.9066666666666667' '14.814' '11.402']\n",
            "['Baljväxter (bönor, linser och ärter)' '130.35098039215683'\n",
            " '15.542549019607845' '1.76' '9.466666666666669']\n",
            "['Köttprodukter kötträtter' '153.03749999999997' '5.576125' '9.1675'\n",
            " '11.73325']\n",
            "['Kryddor' '372.6' '72.6' '3.55' '5.63']\n",
            "['Vin' '92.76000000000002' '7.12' '0.0' '0.01']\n",
            "['Dryck' '26.1' '3.5' '1.3' '0.0']\n",
            "['Pasta' '225.41904761904763' '45.50761904761905' '1.3538095238095242'\n",
            " '5.967142857142856']\n",
            "['Saft läsk cider u alkohol' '75.8736842105263' '18.610526315789468' '0.0'\n",
            " '0.06315789473684211']\n",
            "['Smaksatt fil yoghurt' '91.90909090909089' '13.245454545454544'\n",
            " '2.5281818181818183' '3.805454545454545']\n",
            "['Sockerfritt godis' '401.8' '98.9' '0.0' '0.0']\n",
            "['Skaldjur bläckfisk färsk fryst kokt' '83.89999999999999'\n",
            " '0.4571428571428572' '1.4157142857142857' '17.154285714285713']\n",
            "['Soja-  veteprotein o quorn' '168.16666666666666' '6.8'\n",
            " '6.016666666666667' '19.586666666666666']\n",
            "['Fisk o skaldjursprodukter o rätter' '187.2623188405797'\n",
            " '9.551159420289855' '10.500434782608693' '13.42666666666666']\n",
            "['Korvrätter' '171.39999999999998' '10.748888888888889'\n",
            " '11.183333333333334' '6.628888888888889']\n",
            "['Vatten mineralvatten' '56.22' '7.902' '1.6273333333333333' '2.09']\n",
            "['Mesvaror' '286.4666666666667' '40.77' '10.348333333333334' '7.21']\n",
            "['Buljong' '152.01666666666665' '14.792777777777777' '4.7877777777777775'\n",
            " '12.156111111111112']\n",
            "['Skaldjur bläckfisk konserverad' '81.36666666666666' '1.3333333333333333'\n",
            " '1.6333333333333335' '15.133333333333333']\n",
            "['Senap ketchup HP-sås soja *smaksättare*' '122.98181818181818'\n",
            " '19.94545454545454' '2.7036363636363636' '3.910909090909091']\n",
            "[ 'Övrigt animaliskt *kött*, grodlår, sniglar, säl - färskt, fryst, tillagat'\n",
            " '69.3' '0.0' '0.3' '16.4']\n",
            "['Rotfrukter' '45.48571428571428' '7.793809523809524' '0.2857142857142857'\n",
            " '1.3919047619047618']\n",
            "['Sötningsmedel' '406.3' '100.0' '0.0' '0.0']\n",
            "['Fruktjuice mm' '49.75' '11.436363636363637' '0.08181818181818185'\n",
            " '0.4777272727272727']\n",
            "['Sylt marmelad gelé äppelmos o dyl' '178.67222222222222'\n",
            " '42.62555555555556' '0.14388888888888887' '0.32055555555555565']\n",
            "['Fisk rökt' '235.2846153846154' '0.0' '17.077692307692306'\n",
            " '20.740000000000002']\n",
            "['Inälvor organ produkter o rätter' '165.69333333333333'\n",
            " '9.129333333333333' '8.654666666666667' '12.324000000000002']\n",
            "['Kaffe' '63.31999999999999' '9.053999999999998' '0.376'\n",
            " '3.9840000000000004']\n",
            "['Matgryn' '177.92142857142852' '33.48571428571429' '1.0850000000000002'\n",
            " '6.041428571428571']\n",
            "['Likör' '272.9666666666667' '28.233333333333334' '0.0' '0.0']\n",
            "['Cider alkoläsk drink' '59.03333333333333' '6.696666666666666'\n",
            " '0.8966666666666666' '0.04666666666666667']\n",
            "['Godis som innehåller choklad' '483.8933333333333' '64.99333333333334'\n",
            " '21.740000000000002' '5.865333333333334']\n",
            "['Salt' '32.075' '5.725' '0.125' '1.9']\n",
            "['Dessertost' '329.0625' '1.1375' '27.34375' '20.338749999999997']\n",
            "['Osträtter' '211.13333333333335' '7.993333333333333' '14.083333333333334'\n",
            " '13.073333333333332']\n",
            "['Fisk färsk fryst kokt' '147.37647058823535' '0.7176470588235294'\n",
            " '7.511617647058823' '18.95911764705883']\n",
            "['Sportdrycker energidrycker' '34.15' '8.4' '0.0' '0.0']\n",
            "['Vegetabiliska produkter och mjölkersättning' '88.1846153846154'\n",
            " '8.038461538461537' '5.523076923076923' '1.3246153846153845']\n",
            "['Efterrätter' '197.93548387096772' '21.031935483870967'\n",
            " '10.269032258064518' '4.881935483870967']\n",
            "['Kött färskt fryst tillagat' '152.56220472440944' '0.08181102362204723'\n",
            " '7.359921259842519' '21.436929133858275']\n",
            "['Godis ej choklad' '377.37272727272733' '85.44545454545455'\n",
            " '1.9363636363636365' '3.1681818181818175']\n",
            "['Gröt' '81.71875' '13.276874999999999' '1.625' '2.6131249999999997']\n",
            "['Ägg' '181.60000000000002' '0.40888888888888886' '14.331111111111113'\n",
            " '13.104444444444445']\n",
            "['Öl' '32.825' '3.3' '0.0' '0.2625']\n",
            "['Socker sirap honung' '365.2' '89.83333333333333' '0.0'\n",
            " '0.049999999999999996']\n",
            "['Potatis' '91.4' '18.006451612903227' '0.6806451612903234'\n",
            " '1.9664516129032261']\n",
            "['Sylta' '182.76666666666665' '0.13333333333333333' '14.266666666666667'\n",
            " '13.799999999999999']\n",
            "['Ättika vinäger' '36.333333333333336' '8.666666666666666' '0.0'\n",
            " '0.26666666666666666']\n",
            "['Naturell fil yoghurt' '60.59090909090909' '4.86' '3.019090909090909'\n",
            " '3.48']\n",
            "['Kost- o näringspreparat' '153.60000000000002' '23.5' '2.4400000000000004'\n",
            " '7.625']\n",
            "['Blodmat' '71.4' '0.2' '0.4' '16.5']\n",
            "['Sås dressing majonnäs' '224.60632911392392' '8.740632911392405'\n",
            " '19.869367088607593' '3.0449367088607597']\n",
            "['Sojaprotein veteprotein Quorn produkter och rätter' '201.16666666666666'\n",
            " '6.560000000000001' '13.326666666666666' '11.896666666666667']\n",
            "['Blodprodukter o rätter' '218.1875' '22.084999999999997' '9.15625'\n",
            " '10.42125']\n",
            "['Söta soppor kräm o efterrättssås' '128.8923076923077' '23.51807692307692'\n",
            " '3.0580769230769227' '0.9657692307692307']\n",
            "['Olja' '876.3533333333331' '0.09000000000000001' '99.00933333333334'\n",
            " '0.10733333333333334']\n",
            "['Frukt färsk fryst' '58.36904761904763' '11.59928571428571'\n",
            " '0.36595238095238103' '0.7402380952380951']\n",
            "['Hård matfettsblandning' '502.23076923076934' '1.669230769230769'\n",
            " '55.82051282051282' '0.5002564102564103']\n",
            "['Potatisprodukter o rätter' '154.66363636363636' '18.38454545454545'\n",
            " '6.801212121212122' '3.852424242424242']\n",
            "['Ris risnudlar' '244.72' '53.224399999999996' '0.6603999999999999'\n",
            " '5.001200000000001']\n",
            "['Mjukt bröd' '267.62380952380954' '47.28904761904762' '4.093809523809524'\n",
            " '7.412619047619048']\n",
            "['Lightdrycker u energi' '2.625' '0.6125' '0.0' '0.0125']\n",
            "['Grädde creme fraiche' '204.24347826086955' '7.39391304347826'\n",
            " '18.380869565217395' '2.799565217391305']\n",
            "['Ost med vegetabilskt fett' '238.0' '1.1666666666666667'\n",
            " '16.733333333333334' '20.599999999999998']\n",
            "['Kakaoprodukter' '398.1' '49.15' '12.2' '14.28']\n",
            "['Mjölk' '121.01818181818182' '15.505454545454548' '3.3681818181818173'\n",
            " '6.924545454545453']\n",
            "['Smörgåskex' '479.27142857142866' '61.828571428571436'\n",
            " '21.062857142857144' '8.245714285714286']\n",
            "['Frukt o nötblandningar bars' '406.15' '73.75' '7.77' '7.75']\n",
            "['Jäst bakpulver' '214.5' '34.86666666666667' '0.6666666666666666'\n",
            " '16.400000000000002']\n",
            "['Majonnässallad röror' '223.48333333333332' '6.168333333333333'\n",
            " '19.714999999999996' '5.555']\n",
            "['Glass' '208.29200000000003' '24.436' '10.8408' '3.1039999999999996']\n",
            "['Övrigt' '0.0' '0.0' '0.0' '0.0']\n",
            "['Riskakor' '427.75' '71.6' '11.225' '7.43']\n",
            "['Grönsaker' '42.342553191489365' '5.175638297872339' '1.0751063829787237'\n",
            " '1.881170212765958']\n",
            "['Frukt o bär konserverade' '77.17647058823529' '17.5764705882353'\n",
            " '0.12352941176470592' '0.42941176470588244']\n",
            "['Kött processat' '194.36800000000002' '0.24239999999999998'\n",
            " '11.927599999999998' '21.6376']\n",
            "['Flytande matfettsblandning' '713.3714285714285' '0.21428571428571427'\n",
            " '80.57142857142857' '0.14285714285714285']\n",
            "['Flingor - frukostflingor' '392.84285714285716' '70.57857142857145'\n",
            " '6.492142857142857' '8.335357142857143']\n",
            "['Frukt o bär torkade' '273.7357142857143' '58.771428571428565'\n",
            " '0.7357142857142858' '2.891428571428571']\n",
            "['Grönsaksblandningar med rotfrukter och eller baljväxter'\n",
            " '54.94444444444445' '7.802222222222222' '0.668888888888889'\n",
            " '2.7722222222222217']\n",
            "['Hamburgare med  bröd (kött, fisk, fågel, vegetarisk)' '252.9' '22.144'\n",
            " '12.14' '13.290000000000001']\n",
            "['Choklad' '562.5142857142856' '54.214285714285715' '35.10857142857143'\n",
            " '7.7557142857142845']\n",
            "['Tuggummi' '365.3' '89.4' '0.0' '0.5']\n",
            "['Välling' '214.5833333333333' '28.617500000000003' '6.406666666666666'\n",
            " '9.260833333333334']\n",
            "['Inälvor och organ' '169.96060606060607' '2.526060606060606'\n",
            " '10.297272727272727' '16.82757575757575']\n",
            "['Sallad blandad mat' '110.18000000000002' '3.425' '7.623'\n",
            " '6.5760000000000005']\n",
            "['Grönsaks- rotfrukts- baljväxträtter och produkter' '107.57454545454543'\n",
            " '8.765636363636363' '5.867272727272726' '3.518363636363635']\n",
            "['Hårt bröd' '363.7142857142857' '65.19285714285715' '3.8789285714285717'\n",
            " '10.292857142857143']\n",
            "['Frukt o bär' '67.4' '7.300000000000001' '2.57' '0.7']\n",
            "['Chips popcorn o dyl' '462.790909090909' '56.145454545454534'\n",
            " '20.549999999999997' '9.07909090909091']\n",
            "['Fågelprodukter o rätter' '222.34' '8.198' '13.288' '17.332']\n",
            "['Bullar kakor tårtor mm' '402.09302325581405' '52.30441860465117'\n",
            " '18.317906976744187' '5.7123255813953495']\n",
            "['Äggprodukter o rätter' '168.96666666666667' '3.6983333333333337' '12.935'\n",
            " '9.651666666666666']\n",
            "['Mjöl stärkelse kli' '345.0655172413793' '61.35793103448277'\n",
            " '3.6482758620689655' '11.31']\n",
            "['Mjölkdryck chokladdryck milkshake smothie m yoghurt' '74.94000000000001'\n",
            " '10.41' '2.112' '3.3879999999999995']\n",
            "['Övrigt fett (ister, talg, kokosfett)' '796.9749999999999' '0.0' '89.0'\n",
            " '2.45']\n",
            "['Grönsaksjuice rotfruktsjuice' '23.250000000000004' '4.05' '0.175' '0.9']\n",
            "['Bär färska frysta' '59.10416666666668' '11.01625' '0.4341666666666666'\n",
            " '0.8183333333333332']\n",
            "['Algprodukter' '259.2' '54.8' '0.5' '7.9']\n",
            "['Övriga sötade drycker vattenchoklad' '53.925000000000004' '4.16' '3.2825'\n",
            " '1.78']\n",
            "['Pannkakor, våfflor, crêpes' '189.25384615384613' '16.88153846153846'\n",
            " '10.454615384615382' '6.5576923076923075']\n",
            "['Gelatin agar agar' '332.1' '37.15' '0.2' '44.15']\n",
            "['Hård ost m.m.' '314.93636363636364' '1.6818181818181819'\n",
            " '21.554545454545455' '28.91909090909091']\n",
            "['Pastarätter' '124.65833333333335' '14.828333333333333' '4.495' '5.2675']\n",
            "['Soppa mat' '49.51914893617022' '4.687446808510638' '2.027446808510638'\n",
            " '2.379574468085107']\n",
            "['Smältost' '192.875' '2.7624999999999997' '13.356250000000001' '15.64125']\n",
            "['Fisk stekt ej panerad' '194.14285714285714' '0.42857142857142855'\n",
            " '11.835714285714285' '21.264285714285716']\n",
            "['Pizza paj pirog färdig smörgås' '235.4804347826087' '21.385652173913048'\n",
            " '12.246304347826083' '8.961739130434784']\n",
            "['Te' '78.3' '15.7' '0.1' '2.925']\n",
            "['Fågel' '181.45641025641027' '0.5435897435897435' '9.969230769230771'\n",
            " '22.420256410256407']\n",
            "['Tacoskal' '428.3' '64.3' '14.7' '5.19']\n",
            "['Smör' '727.9333333333334' '0.48666666666666664' '81.86666666666667' '0.5']\n",
            "['Rom, kaviar' '202.29999999999998' '11.183333333333332' '10.365' '16.05']\n",
            "['Korv' '248.20333333333338' '5.9513333333333325' '19.69666666666666'\n",
            " '12.146333333333336']\n",
            "['Risrätter' '24.3' '1.96' '0.99' '1.82']\n"
          ],
          "name": "stdout"
        }
      ]
    },
    {
      "metadata": {
        "id": "mMDeNdTBZGuB",
        "colab_type": "code",
        "colab": {},
        "outputId": "0910259c-0657-4654-c3b6-57ab56cc104c"
      },
      "cell_type": "code",
      "source": [
        "main_groups"
      ],
      "execution_count": 0,
      "outputs": [
        {
          "output_type": "execute_result",
          "data": {
            "text/plain": [
              "array([['', '216.54285714285717', '11.528571428571428', '9.6',\n",
              "        '14.385714285714286'],\n",
              "       ['Nötter frön', '551.7047619047619', '16.388095238095236',\n",
              "        '45.62666666666667', '15.94190476190476'],\n",
              "       ['Starksprit', '226.28571428571428', '4.028571428571429', '0.0',\n",
              "        '0.0'],\n",
              "       ['Deg och gräddade skal och bottnar', '396.3', '44.796666666666674',\n",
              "        '20.833333333333332', '6.596666666666667'],\n",
              "       ['Svamp', '26.855555555555554', '2.1433333333333335',\n",
              "        '0.4766666666666667', '2.2588888888888885'],\n",
              "       ['Färskost o kvarg', '189.48', '2.9066666666666667', '14.814',\n",
              "        '11.402'],\n",
              "       ['Baljväxter (bönor, linser och ärter)', '130.35098039215683',\n",
              "        '15.542549019607845', '1.76', '9.466666666666669'],\n",
              "       ['Köttprodukter kötträtter', '153.03749999999997', '5.576125',\n",
              "        '9.1675', '11.73325'],\n",
              "       ['Kryddor', '372.6', '72.6', '3.55', '5.63'],\n",
              "       ['Vin', '92.76000000000002', '7.12', '0.0', '0.01'],\n",
              "       ['Dryck', '26.1', '3.5', '1.3', '0.0'],\n",
              "       ['Pasta', '225.41904761904763', '45.50761904761905',\n",
              "        '1.3538095238095242', '5.967142857142856'],\n",
              "       ['Saft läsk cider u alkohol', '75.8736842105263',\n",
              "        '18.610526315789468', '0.0', '0.06315789473684211'],\n",
              "       ['Smaksatt fil yoghurt', '91.90909090909089', '13.245454545454544',\n",
              "        '2.5281818181818183', '3.805454545454545'],\n",
              "       ['Sockerfritt godis', '401.8', '98.9', '0.0', '0.0'],\n",
              "       ['Skaldjur bläckfisk färsk fryst kokt', '83.89999999999999',\n",
              "        '0.4571428571428572', '1.4157142857142857', '17.154285714285713'],\n",
              "       ['Soja-  veteprotein o quorn', '168.16666666666666', '6.8',\n",
              "        '6.016666666666667', '19.586666666666666'],\n",
              "       ['Fisk o skaldjursprodukter o rätter', '187.2623188405797',\n",
              "        '9.551159420289855', '10.500434782608693', '13.42666666666666'],\n",
              "       ['Korvrätter', '171.39999999999998', '10.748888888888889',\n",
              "        '11.183333333333334', '6.628888888888889'],\n",
              "       ['Vatten mineralvatten', '56.22', '7.902', '1.6273333333333333',\n",
              "        '2.09'],\n",
              "       ['Mesvaror', '286.4666666666667', '40.77', '10.348333333333334',\n",
              "        '7.21'],\n",
              "       ['Buljong', '152.01666666666665', '14.792777777777777',\n",
              "        '4.7877777777777775', '12.156111111111112'],\n",
              "       ['Skaldjur bläckfisk konserverad', '81.36666666666666',\n",
              "        '1.3333333333333333', '1.6333333333333335', '15.133333333333333'],\n",
              "       ['Senap ketchup HP-sås soja *smaksättare*', '122.98181818181818',\n",
              "        '19.94545454545454', '2.7036363636363636', '3.910909090909091'],\n",
              "       [ 'Övrigt animaliskt *kött*, grodlår, sniglar, säl - färskt, fryst, tillagat',\n",
              "        '69.3', '0.0', '0.3', '16.4'],\n",
              "       ['Rotfrukter', '45.48571428571428', '7.793809523809524',\n",
              "        '0.2857142857142857', '1.3919047619047618'],\n",
              "       ['Sötningsmedel', '406.3', '100.0', '0.0', '0.0'],\n",
              "       ['Fruktjuice mm', '49.75', '11.436363636363637',\n",
              "        '0.08181818181818185', '0.4777272727272727'],\n",
              "       ['Sylt marmelad gelé äppelmos o dyl', '178.67222222222222',\n",
              "        '42.62555555555556', '0.14388888888888887', '0.32055555555555565'],\n",
              "       ['Fisk rökt', '235.2846153846154', '0.0', '17.077692307692306',\n",
              "        '20.740000000000002'],\n",
              "       ['Inälvor organ produkter o rätter', '165.69333333333333',\n",
              "        '9.129333333333333', '8.654666666666667', '12.324000000000002'],\n",
              "       ['Kaffe', '63.31999999999999', '9.053999999999998', '0.376',\n",
              "        '3.9840000000000004'],\n",
              "       ['Matgryn', '177.92142857142852', '33.48571428571429',\n",
              "        '1.0850000000000002', '6.041428571428571'],\n",
              "       ['Likör', '272.9666666666667', '28.233333333333334', '0.0', '0.0'],\n",
              "       ['Cider alkoläsk drink', '59.03333333333333', '6.696666666666666',\n",
              "        '0.8966666666666666', '0.04666666666666667'],\n",
              "       ['Godis som innehåller choklad', '483.8933333333333',\n",
              "        '64.99333333333334', '21.740000000000002', '5.865333333333334'],\n",
              "       ['Salt', '32.075', '5.725', '0.125', '1.9'],\n",
              "       ['Dessertost', '329.0625', '1.1375', '27.34375',\n",
              "        '20.338749999999997'],\n",
              "       ['Osträtter', '211.13333333333335', '7.993333333333333',\n",
              "        '14.083333333333334', '13.073333333333332'],\n",
              "       ['Fisk färsk fryst kokt', '147.37647058823535',\n",
              "        '0.7176470588235294', '7.511617647058823', '18.95911764705883'],\n",
              "       ['Sportdrycker energidrycker', '34.15', '8.4', '0.0', '0.0'],\n",
              "       ['Vegetabiliska produkter och mjölkersättning', '88.1846153846154',\n",
              "        '8.038461538461537', '5.523076923076923', '1.3246153846153845'],\n",
              "       ['Efterrätter', '197.93548387096772', '21.031935483870967',\n",
              "        '10.269032258064518', '4.881935483870967'],\n",
              "       ['Kött färskt fryst tillagat', '152.56220472440944',\n",
              "        '0.08181102362204723', '7.359921259842519', '21.436929133858275'],\n",
              "       ['Godis ej choklad', '377.37272727272733', '85.44545454545455',\n",
              "        '1.9363636363636365', '3.1681818181818175'],\n",
              "       ['Gröt', '81.71875', '13.276874999999999', '1.625',\n",
              "        '2.6131249999999997'],\n",
              "       ['Ägg', '181.60000000000002', '0.40888888888888886',\n",
              "        '14.331111111111113', '13.104444444444445'],\n",
              "       ['Öl', '32.825', '3.3', '0.0', '0.2625'],\n",
              "       ['Socker sirap honung', '365.2', '89.83333333333333', '0.0',\n",
              "        '0.049999999999999996'],\n",
              "       ['Potatis', '91.4', '18.006451612903227', '0.6806451612903234',\n",
              "        '1.9664516129032261'],\n",
              "       ['Sylta', '182.76666666666665', '0.13333333333333333',\n",
              "        '14.266666666666667', '13.799999999999999'],\n",
              "       ['Ättika vinäger', '36.333333333333336', '8.666666666666666', '0.0',\n",
              "        '0.26666666666666666'],\n",
              "       ['Naturell fil yoghurt', '60.59090909090909', '4.86',\n",
              "        '3.019090909090909', '3.48'],\n",
              "       ['Kost- o näringspreparat', '153.60000000000002', '23.5',\n",
              "        '2.4400000000000004', '7.625'],\n",
              "       ['Blodmat', '71.4', '0.2', '0.4', '16.5'],\n",
              "       ['Sås dressing majonnäs', '224.60632911392392', '8.740632911392405',\n",
              "        '19.869367088607593', '3.0449367088607597'],\n",
              "       ['Sojaprotein veteprotein Quorn produkter och rätter',\n",
              "        '201.16666666666666', '6.560000000000001', '13.326666666666666',\n",
              "        '11.896666666666667'],\n",
              "       ['Blodprodukter o rätter', '218.1875', '22.084999999999997',\n",
              "        '9.15625', '10.42125'],\n",
              "       ['Söta soppor kräm o efterrättssås', '128.8923076923077',\n",
              "        '23.51807692307692', '3.0580769230769227', '0.9657692307692307'],\n",
              "       ['Olja', '876.3533333333331', '0.09000000000000001',\n",
              "        '99.00933333333334', '0.10733333333333334'],\n",
              "       ['Frukt färsk fryst', '58.36904761904763', '11.59928571428571',\n",
              "        '0.36595238095238103', '0.7402380952380951'],\n",
              "       ['Hård matfettsblandning', '502.23076923076934',\n",
              "        '1.669230769230769', '55.82051282051282', '0.5002564102564103'],\n",
              "       ['Potatisprodukter o rätter', '154.66363636363636',\n",
              "        '18.38454545454545', '6.801212121212122', '3.852424242424242'],\n",
              "       ['Ris risnudlar', '244.72', '53.224399999999996',\n",
              "        '0.6603999999999999', '5.001200000000001'],\n",
              "       ['Mjukt bröd', '267.62380952380954', '47.28904761904762',\n",
              "        '4.093809523809524', '7.412619047619048'],\n",
              "       ['Lightdrycker u energi', '2.625', '0.6125', '0.0', '0.0125'],\n",
              "       ['Grädde creme fraiche', '204.24347826086955', '7.39391304347826',\n",
              "        '18.380869565217395', '2.799565217391305'],\n",
              "       ['Ost med vegetabilskt fett', '238.0', '1.1666666666666667',\n",
              "        '16.733333333333334', '20.599999999999998'],\n",
              "       ['Kakaoprodukter', '398.1', '49.15', '12.2', '14.28'],\n",
              "       ['Mjölk', '121.01818181818182', '15.505454545454548',\n",
              "        '3.3681818181818173', '6.924545454545453'],\n",
              "       ['Smörgåskex', '479.27142857142866', '61.828571428571436',\n",
              "        '21.062857142857144', '8.245714285714286'],\n",
              "       ['Frukt o nötblandningar bars', '406.15', '73.75', '7.77', '7.75'],\n",
              "       ['Jäst bakpulver', '214.5', '34.86666666666667',\n",
              "        '0.6666666666666666', '16.400000000000002'],\n",
              "       ['Majonnässallad röror', '223.48333333333332', '6.168333333333333',\n",
              "        '19.714999999999996', '5.555'],\n",
              "       ['Glass', '208.29200000000003', '24.436', '10.8408',\n",
              "        '3.1039999999999996'],\n",
              "       ['Övrigt', '0.0', '0.0', '0.0', '0.0'],\n",
              "       ['Riskakor', '427.75', '71.6', '11.225', '7.43'],\n",
              "       ['Grönsaker', '42.342553191489365', '5.175638297872339',\n",
              "        '1.0751063829787237', '1.881170212765958'],\n",
              "       ['Frukt o bär konserverade', '77.17647058823529',\n",
              "        '17.5764705882353', '0.12352941176470592', '0.42941176470588244'],\n",
              "       ['Kött processat', '194.36800000000002', '0.24239999999999998',\n",
              "        '11.927599999999998', '21.6376'],\n",
              "       ['Flytande matfettsblandning', '713.3714285714285',\n",
              "        '0.21428571428571427', '80.57142857142857', '0.14285714285714285'],\n",
              "       ['Flingor - frukostflingor', '392.84285714285716',\n",
              "        '70.57857142857145', '6.492142857142857', '8.335357142857143'],\n",
              "       ['Frukt o bär torkade', '273.7357142857143', '58.771428571428565',\n",
              "        '0.7357142857142858', '2.891428571428571'],\n",
              "       ['Grönsaksblandningar med rotfrukter och eller baljväxter',\n",
              "        '54.94444444444445', '7.802222222222222', '0.668888888888889',\n",
              "        '2.7722222222222217'],\n",
              "       ['Hamburgare med  bröd (kött, fisk, fågel, vegetarisk)', '252.9',\n",
              "        '22.144', '12.14', '13.290000000000001'],\n",
              "       ['Choklad', '562.5142857142856', '54.214285714285715',\n",
              "        '35.10857142857143', '7.7557142857142845'],\n",
              "       ['Tuggummi', '365.3', '89.4', '0.0', '0.5'],\n",
              "       ['Välling', '214.5833333333333', '28.617500000000003',\n",
              "        '6.406666666666666', '9.260833333333334'],\n",
              "       ['Inälvor och organ', '169.96060606060607', '2.526060606060606',\n",
              "        '10.297272727272727', '16.82757575757575'],\n",
              "       ['Sallad blandad mat', '110.18000000000002', '3.425', '7.623',\n",
              "        '6.5760000000000005'],\n",
              "       ['Grönsaks- rotfrukts- baljväxträtter och produkter',\n",
              "        '107.57454545454543', '8.765636363636363', '5.867272727272726',\n",
              "        '3.518363636363635'],\n",
              "       ['Hårt bröd', '363.7142857142857', '65.19285714285715',\n",
              "        '3.8789285714285717', '10.292857142857143'],\n",
              "       ['Frukt o bär', '67.4', '7.300000000000001', '2.57', '0.7'],\n",
              "       ['Chips popcorn o dyl', '462.790909090909', '56.145454545454534',\n",
              "        '20.549999999999997', '9.07909090909091'],\n",
              "       ['Fågelprodukter o rätter', '222.34', '8.198', '13.288', '17.332'],\n",
              "       ['Bullar kakor tårtor mm', '402.09302325581405',\n",
              "        '52.30441860465117', '18.317906976744187', '5.7123255813953495'],\n",
              "       ['Äggprodukter o rätter', '168.96666666666667',\n",
              "        '3.6983333333333337', '12.935', '9.651666666666666'],\n",
              "       ['Mjöl stärkelse kli', '345.0655172413793', '61.35793103448277',\n",
              "        '3.6482758620689655', '11.31'],\n",
              "       ['Mjölkdryck chokladdryck milkshake smothie m yoghurt',\n",
              "        '74.94000000000001', '10.41', '2.112', '3.3879999999999995'],\n",
              "       ['Övrigt fett (ister, talg, kokosfett)', '796.9749999999999', '0.0',\n",
              "        '89.0', '2.45'],\n",
              "       ['Grönsaksjuice rotfruktsjuice', '23.250000000000004', '4.05',\n",
              "        '0.175', '0.9'],\n",
              "       ['Bär färska frysta', '59.10416666666668', '11.01625',\n",
              "        '0.4341666666666666', '0.8183333333333332'],\n",
              "       ['Algprodukter', '259.2', '54.8', '0.5', '7.9'],\n",
              "       ['Övriga sötade drycker vattenchoklad', '53.925000000000004',\n",
              "        '4.16', '3.2825', '1.78'],\n",
              "       ['Pannkakor, våfflor, crêpes', '189.25384615384613',\n",
              "        '16.88153846153846', '10.454615384615382', '6.5576923076923075'],\n",
              "       ['Gelatin agar agar', '332.1', '37.15', '0.2', '44.15'],\n",
              "       ['Hård ost m.m.', '314.93636363636364', '1.6818181818181819',\n",
              "        '21.554545454545455', '28.91909090909091'],\n",
              "       ['Pastarätter', '124.65833333333335', '14.828333333333333', '4.495',\n",
              "        '5.2675'],\n",
              "       ['Soppa mat', '49.51914893617022', '4.687446808510638',\n",
              "        '2.027446808510638', '2.379574468085107'],\n",
              "       ['Smältost', '192.875', '2.7624999999999997', '13.356250000000001',\n",
              "        '15.64125'],\n",
              "       ['Fisk stekt ej panerad', '194.14285714285714',\n",
              "        '0.42857142857142855', '11.835714285714285', '21.264285714285716'],\n",
              "       ['Pizza paj pirog färdig smörgås', '235.4804347826087',\n",
              "        '21.385652173913048', '12.246304347826083', '8.961739130434784'],\n",
              "       ['Te', '78.3', '15.7', '0.1', '2.925'],\n",
              "       ['Fågel', '181.45641025641027', '0.5435897435897435',\n",
              "        '9.969230769230771', '22.420256410256407'],\n",
              "       ['Tacoskal', '428.3', '64.3', '14.7', '5.19'],\n",
              "       ['Smör', '727.9333333333334', '0.48666666666666664',\n",
              "        '81.86666666666667', '0.5'],\n",
              "       ['Rom, kaviar', '202.29999999999998', '11.183333333333332',\n",
              "        '10.365', '16.05'],\n",
              "       ['Korv', '248.20333333333338', '5.9513333333333325',\n",
              "        '19.69666666666666', '12.146333333333336'],\n",
              "       ['Risrätter', '24.3', '1.96', '0.99', '1.82']],\n",
              "      dtype='<U73')"
            ]
          },
          "metadata": {
            "tags": []
          },
          "execution_count": 7
        }
      ]
    },
    {
      "metadata": {
        "id": "MgNbpxiEZGuS",
        "colab_type": "text"
      },
      "cell_type": "markdown",
      "source": [
        "De här diagrammen visar hur mycket medelvärdena varierar för de olika huvudgrupperna. \n",
        "\n",
        "Varje diagram visar ett näringsvärde, och hur de olika huvudgrupperna fördelar sig."
      ]
    },
    {
      "metadata": {
        "id": "ChRoADDeZGuT",
        "colab_type": "code",
        "colab": {},
        "outputId": "590ccad6-5f41-4a3d-b662-b2eb8ff9b344"
      },
      "cell_type": "code",
      "source": [
        "for i, column in enumerate(main_groups.T[1:]):\n",
        "    column = np.array(column, dtype=float)\n",
        "    #print (column)\n",
        "    #group_members = np.where(db_contents[:,60]==m_group)\n",
        "    #a = dataset[group_members]\n",
        "    #mean = np.mean(dataset[group_members], axis=0)\n",
        "    plt.axvline(column.mean(), color='b', linestyle='dashed', linewidth=2)\n",
        "    plt.axvline(np.median(column), color='r', linestyle='dashed', linewidth=2)\n",
        "    plt.hist(column)\n",
        "    plt.title('n = ' + str(len(column)) + ' Kolumn ' + str(columns[i]))\n",
        "    plt.ylabel('Antal huvudgrupper')\n",
        "    plt.show()"
      ],
      "execution_count": 0,
      "outputs": [
        {
          "output_type": "display_data",
          "data": {
            "image/png": "[encoded data removed]",
            "text/plain": [
              "<matplotlib.figure.Figure at 0x11b194f98>"
            ]
          },
          "metadata": {
            "tags": []
          }
        },
        {
          "output_type": "display_data",
          "data": {
            "image/png": "[encoded data removed]",
            "text/plain": [
              "<matplotlib.figure.Figure at 0x11b17b668>"
            ]
          },
          "metadata": {
            "tags": []
          }
        },
        {
          "output_type": "display_data",
          "data": {
            "image/png": "[encoded data removed]",
            "text/plain": [
              "<matplotlib.figure.Figure at 0x11b409048>"
            ]
          },
          "metadata": {
            "tags": []
          }
        },
        {
          "output_type": "display_data",
          "data": {
            "image/png": "[encoded data removed]",
            "text/plain": [
              "<matplotlib.figure.Figure at 0x11b2d1908>"
            ]
          },
          "metadata": {
            "tags": []
          }
        }
      ]
    },
    {
      "metadata": {
        "id": "LETcTNvVZGug",
        "colab_type": "code",
        "colab": {}
      },
      "cell_type": "code",
      "source": [
        ""
      ],
      "execution_count": 0,
      "outputs": []
    },
    {
      "metadata": {
        "id": "frdOzbR9ZGup",
        "colab_type": "code",
        "colab": {}
      },
      "cell_type": "code",
      "source": [
        "threshold = 0.9999"
      ],
      "execution_count": 0,
      "outputs": []
    },
    {
      "metadata": {
        "id": "7BUjhfohZGuy",
        "colab_type": "code",
        "colab": {}
      },
      "cell_type": "code",
      "source": [
        "cos_sim = cosine_similarity(main_groups[:,1:], Y=None)"
      ],
      "execution_count": 0,
      "outputs": []
    },
    {
      "metadata": {
        "id": "UdmmLyRrZGu2",
        "colab_type": "code",
        "colab": {},
        "outputId": "e06e882e-de42-4de8-b6b0-2da59bcca244"
      },
      "cell_type": "code",
      "source": [
        "cos_sim"
      ],
      "execution_count": 0,
      "outputs": [
        {
          "output_type": "execute_result",
          "data": {
            "text/plain": [
              "array([[ 1.        ,  0.99829763,  0.99621059, ...,  0.99989291,\n",
              "         0.99881641,  0.99958912],\n",
              "       [ 0.99829763,  1.        ,  0.99611759, ...,  0.9979284 ,\n",
              "         0.99977921,  0.9968025 ],\n",
              "       [ 0.99621059,  0.99611759,  1.        , ...,  0.99488615,\n",
              "         0.99566545,  0.99445136],\n",
              "       ..., \n",
              "       [ 0.99989291,  0.9979284 ,  0.99488615, ...,  1.        ,\n",
              "         0.99866761,  0.99961837],\n",
              "       [ 0.99881641,  0.99977921,  0.99566545, ...,  0.99866761,\n",
              "         1.        ,  0.99734418],\n",
              "       [ 0.99958912,  0.9968025 ,  0.99445136, ...,  0.99961837,\n",
              "         0.99734418,  1.        ]])"
            ]
          },
          "metadata": {
            "tags": []
          },
          "execution_count": 11
        }
      ]
    },
    {
      "metadata": {
        "id": "OZDD_0x0ZGu9",
        "colab_type": "code",
        "colab": {}
      },
      "cell_type": "code",
      "source": [
        "similars = np.where(cos_sim[4]>threshold)"
      ],
      "execution_count": 0,
      "outputs": []
    },
    {
      "metadata": {
        "id": "nlAlbRfCZGvC",
        "colab_type": "code",
        "colab": {},
        "outputId": "01d54094-8cb6-4fde-82eb-9e5d10e1bef2"
      },
      "cell_type": "code",
      "source": [
        "main_groups[similars][:,0]"
      ],
      "execution_count": 0,
      "outputs": [
        {
          "output_type": "execute_result",
          "data": {
            "text/plain": [
              "array(['Svamp'],\n",
              "      dtype='<U73')"
            ]
          },
          "metadata": {
            "tags": []
          },
          "execution_count": 13
        }
      ]
    },
    {
      "metadata": {
        "id": "xDjo_oTgZGvJ",
        "colab_type": "code",
        "colab": {}
      },
      "cell_type": "code",
      "source": [
        "# Från https://github.com/oliviaguest/gini/blob/master/gini.py \n",
        "def gini(array):\n",
        "    \"\"\"Calculate the Gini coefficient of a numpy array.\"\"\"\n",
        "    # based on bottom eq:\n",
        "    # http://www.statsdirect.com/help/generatedimages/equations/equation154.svg\n",
        "    # from:\n",
        "    # http://www.statsdirect.com/help/default.htm#nonparametric_methods/gini.htm\n",
        "    # All values are treated equally, arrays must be 1d:\n",
        "    array = array.flatten()\n",
        "    if np.amin(array) < 0:\n",
        "        # Values cannot be negative:\n",
        "        array -= np.amin(array)\n",
        "    # Values cannot be 0:\n",
        "    array += 0.0000001\n",
        "    # Values must be sorted:\n",
        "    array = np.sort(array)\n",
        "    # Index per array element:\n",
        "    index = np.arange(1,array.shape[0]+1)\n",
        "    # Number of array elements:\n",
        "    n = array.shape[0]\n",
        "    # Gini coefficient:\n",
        "    return ((np.sum((2 * index - n  - 1) * array)) / (n * np.sum(array)))\n",
        "\n"
      ],
      "execution_count": 0,
      "outputs": []
    },
    {
      "metadata": {
        "id": "1fIlmaZOZGvN",
        "colab_type": "text"
      },
      "cell_type": "markdown",
      "source": [
        "Jag har jämför med https://stackoverflow.com/questions/39512260/calculating-gini-coefficient-in-python-numpy och de verkar ge ungefär samma resultat."
      ]
    },
    {
      "metadata": {
        "id": "oJ-XPSpgZGvO",
        "colab_type": "code",
        "colab": {}
      },
      "cell_type": "code",
      "source": [
        "main_groups = np.array(list(set(db_contents.T[60]))).reshape(-1, 1)"
      ],
      "execution_count": 0,
      "outputs": []
    },
    {
      "metadata": {
        "id": "XD46cX4MZGvS",
        "colab_type": "code",
        "colab": {},
        "outputId": "823f0240-092d-4ce6-b110-c7f92f72ff57"
      },
      "cell_type": "code",
      "source": [
        "main_groups"
      ],
      "execution_count": 0,
      "outputs": [
        {
          "output_type": "execute_result",
          "data": {
            "text/plain": [
              "array([[''],\n",
              "       ['Nötter frön'],\n",
              "       ['Starksprit'],\n",
              "       ['Deg och gräddade skal och bottnar'],\n",
              "       ['Svamp'],\n",
              "       ['Färskost o kvarg'],\n",
              "       ['Baljväxter (bönor, linser och ärter)'],\n",
              "       ['Köttprodukter kötträtter'],\n",
              "       ['Kryddor'],\n",
              "       ['Vin'],\n",
              "       ['Dryck'],\n",
              "       ['Pasta'],\n",
              "       ['Saft läsk cider u alkohol'],\n",
              "       ['Smaksatt fil yoghurt'],\n",
              "       ['Sockerfritt godis'],\n",
              "       ['Skaldjur bläckfisk färsk fryst kokt'],\n",
              "       ['Soja-  veteprotein o quorn'],\n",
              "       ['Fisk o skaldjursprodukter o rätter'],\n",
              "       ['Korvrätter'],\n",
              "       ['Vatten mineralvatten'],\n",
              "       ['Mesvaror'],\n",
              "       ['Buljong'],\n",
              "       ['Skaldjur bläckfisk konserverad'],\n",
              "       ['Senap ketchup HP-sås soja *smaksättare*'],\n",
              "       [ 'Övrigt animaliskt *kött*, grodlår, sniglar, säl - färskt, fryst, tillagat'],\n",
              "       ['Rotfrukter'],\n",
              "       ['Sötningsmedel'],\n",
              "       ['Fruktjuice mm'],\n",
              "       ['Sylt marmelad gelé äppelmos o dyl'],\n",
              "       ['Fisk rökt'],\n",
              "       ['Inälvor organ produkter o rätter'],\n",
              "       ['Kaffe'],\n",
              "       ['Matgryn'],\n",
              "       ['Likör'],\n",
              "       ['Cider alkoläsk drink'],\n",
              "       ['Godis som innehåller choklad'],\n",
              "       ['Salt'],\n",
              "       ['Dessertost'],\n",
              "       ['Osträtter'],\n",
              "       ['Fisk färsk fryst kokt'],\n",
              "       ['Sportdrycker energidrycker'],\n",
              "       ['Vegetabiliska produkter och mjölkersättning'],\n",
              "       ['Efterrätter'],\n",
              "       ['Kött färskt fryst tillagat'],\n",
              "       ['Godis ej choklad'],\n",
              "       ['Gröt'],\n",
              "       ['Ägg'],\n",
              "       ['Öl'],\n",
              "       ['Socker sirap honung'],\n",
              "       ['Potatis'],\n",
              "       ['Sylta'],\n",
              "       ['Ättika vinäger'],\n",
              "       ['Naturell fil yoghurt'],\n",
              "       ['Kost- o näringspreparat'],\n",
              "       ['Blodmat'],\n",
              "       ['Sås dressing majonnäs'],\n",
              "       ['Sojaprotein veteprotein Quorn produkter och rätter'],\n",
              "       ['Blodprodukter o rätter'],\n",
              "       ['Söta soppor kräm o efterrättssås'],\n",
              "       ['Olja'],\n",
              "       ['Frukt färsk fryst'],\n",
              "       ['Hård matfettsblandning'],\n",
              "       ['Potatisprodukter o rätter'],\n",
              "       ['Ris risnudlar'],\n",
              "       ['Mjukt bröd'],\n",
              "       ['Lightdrycker u energi'],\n",
              "       ['Grädde creme fraiche'],\n",
              "       ['Ost med vegetabilskt fett'],\n",
              "       ['Kakaoprodukter'],\n",
              "       ['Mjölk'],\n",
              "       ['Smörgåskex'],\n",
              "       ['Frukt o nötblandningar bars'],\n",
              "       ['Jäst bakpulver'],\n",
              "       ['Majonnässallad röror'],\n",
              "       ['Glass'],\n",
              "       ['Övrigt'],\n",
              "       ['Riskakor'],\n",
              "       ['Grönsaker'],\n",
              "       ['Frukt o bär konserverade'],\n",
              "       ['Kött processat'],\n",
              "       ['Flytande matfettsblandning'],\n",
              "       ['Flingor - frukostflingor'],\n",
              "       ['Frukt o bär torkade'],\n",
              "       ['Grönsaksblandningar med rotfrukter och eller baljväxter'],\n",
              "       ['Hamburgare med  bröd (kött, fisk, fågel, vegetarisk)'],\n",
              "       ['Choklad'],\n",
              "       ['Tuggummi'],\n",
              "       ['Välling'],\n",
              "       ['Inälvor och organ'],\n",
              "       ['Sallad blandad mat'],\n",
              "       ['Grönsaks- rotfrukts- baljväxträtter och produkter'],\n",
              "       ['Hårt bröd'],\n",
              "       ['Frukt o bär'],\n",
              "       ['Chips popcorn o dyl'],\n",
              "       ['Fågelprodukter o rätter'],\n",
              "       ['Bullar kakor tårtor mm'],\n",
              "       ['Äggprodukter o rätter'],\n",
              "       ['Mjöl stärkelse kli'],\n",
              "       ['Mjölkdryck chokladdryck milkshake smothie m yoghurt'],\n",
              "       ['Övrigt fett (ister, talg, kokosfett)'],\n",
              "       ['Grönsaksjuice rotfruktsjuice'],\n",
              "       ['Bär färska frysta'],\n",
              "       ['Algprodukter'],\n",
              "       ['Övriga sötade drycker vattenchoklad'],\n",
              "       ['Pannkakor, våfflor, crêpes'],\n",
              "       ['Gelatin agar agar'],\n",
              "       ['Hård ost m.m.'],\n",
              "       ['Pastarätter'],\n",
              "       ['Soppa mat'],\n",
              "       ['Smältost'],\n",
              "       ['Fisk stekt ej panerad'],\n",
              "       ['Pizza paj pirog färdig smörgås'],\n",
              "       ['Te'],\n",
              "       ['Fågel'],\n",
              "       ['Tacoskal'],\n",
              "       ['Smör'],\n",
              "       ['Rom, kaviar'],\n",
              "       ['Korv'],\n",
              "       ['Risrätter']],\n",
              "      dtype='<U73')"
            ]
          },
          "metadata": {
            "tags": []
          },
          "execution_count": 17
        }
      ]
    },
    {
      "metadata": {
        "id": "ZF-ZUYOTZGvZ",
        "colab_type": "code",
        "colab": {},
        "outputId": "2c781558-3fde-41c1-e9c6-a1ea4d5f4b75"
      },
      "cell_type": "code",
      "source": [
        "threshold = 0.5\n",
        "for main_group in main_groups:\n",
        "    group_members = np.where(db_contents[:,60]==main_group)\n",
        "    a = dataset[group_members]\n",
        "    if gini(a[:,0]) > threshold:\n",
        "        print(main_group, len(a), gini(a[:,0]))"
      ],
      "execution_count": 0,
      "outputs": [
        {
          "output_type": "stream",
          "text": [
            "['Kaffe'] 5 0.776121287467\n",
            "['Salt'] 4 0.749999997662\n",
            "['Kost- o näringspreparat'] 8 0.572265624627\n",
            "['Lightdrycker u energi'] 4 0.673809498141\n",
            "['Te'] 4 0.7416985942\n"
          ],
          "name": "stdout"
        }
      ]
    },
    {
      "metadata": {
        "id": "FID86MGuZGvg",
        "colab_type": "code",
        "colab": {}
      },
      "cell_type": "code",
      "source": [
        ""
      ],
      "execution_count": 0,
      "outputs": []
    }
  ]
}