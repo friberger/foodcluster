{
 "cells": [
  {
   "cell_type": "code",
   "execution_count": 1,
   "metadata": {
    "collapsed": true
   },
   "outputs": [],
   "source": [
    "import sqlite3\n",
    "import numpy as np\n",
    "from sklearn.cluster import KMeans\n",
    "import json\n",
    "import plotly\n",
    "import plotly.graph_objs as go\n",
    "import plotly.plotly as py"
   ]
  },
  {
   "cell_type": "code",
   "execution_count": 2,
   "metadata": {
    "collapsed": true
   },
   "outputs": [],
   "source": [
    "debug = False"
   ]
  },
  {
   "cell_type": "code",
   "execution_count": 3,
   "metadata": {},
   "outputs": [
    {
     "name": "stdout",
     "output_type": "stream",
     "text": [
      "[[   0.     85.      2.8 ]\n",
      " [   0.    100.      0.  ]\n",
      " [   0.    100.      0.  ]\n",
      " ..., \n",
      " [   7.6     0.5     0.93]\n",
      " [  72.6     3.55    5.63]\n",
      " [  57.5     4.8     8.44]]\n"
     ]
    }
   ],
   "source": [
    "conn = sqlite3.connect('livs.db')\n",
    "\n",
    "conn.row_factory = sqlite3.Row\n",
    "\n",
    "curs = conn.cursor()\n",
    "\n",
    "result = []\n",
    "for row in curs.execute('select \"Kolhydrater_g\", \"Fett_g\", \"Protein_g\" from livs'):\n",
    "    result.append(row)\n",
    "\n",
    "result = result[1:]  # skippa första raden, den är kolumnrubriker\n",
    "\n",
    "if debug:\n",
    "    print ('result')\n",
    "    print (result)\n",
    "\n",
    "conn.close()\n",
    "\n",
    "dataSet = np.array(result)\n",
    "\n",
    "print (dataSet)"
   ]
  },
  {
   "cell_type": "code",
   "execution_count": 4,
   "metadata": {
    "collapsed": true
   },
   "outputs": [],
   "source": [
    " def cluster(dataSet):\n",
    "    kmeans = KMeans(n_clusters=numClusters)\n",
    "    kmeans.fit(dataSet)\n",
    "\n",
    "    centroids = kmeans.cluster_centers_\n",
    "    labels = kmeans.labels_\n",
    "\n",
    "    if debug:\n",
    "        print (centroids)\n",
    "        print (labels)\n",
    "\n",
    "    return labels"
   ]
  },
  {
   "cell_type": "code",
   "execution_count": 5,
   "metadata": {
    "collapsed": true
   },
   "outputs": [],
   "source": [
    "numClusters = 10"
   ]
  },
  {
   "cell_type": "code",
   "execution_count": 6,
   "metadata": {
    "collapsed": true
   },
   "outputs": [],
   "source": [
    "labels = cluster(dataSet)\n",
    "\n",
    "# transpose to work with Plotly-format (don't remember if it is sklearn.cluster or plotly that is counterintuitive)\n",
    "dataToChart = dataSet.transpose()\n",
    "\n",
    "# create multi dimensional array of data by label\n",
    "segmentedData = [[[] for _ in range(3)] for _ in range(numClusters)]\n",
    "\n",
    "for num, label in enumerate(labels):\n",
    "    if debug:\n",
    "        print (str(num), str(label))\n",
    "    segmentedData[label][0].append(dataToChart[0][num])\n",
    "    segmentedData[label][1].append(dataToChart[1][num])\n",
    "    segmentedData[label][2].append(dataToChart[2][num])\n",
    "\n",
    "if debug:\n",
    "    print(segmentedData)"
   ]
  },
  {
   "cell_type": "code",
   "execution_count": 7,
   "metadata": {},
   "outputs": [
    {
     "data": {
      "text/html": [
       "<iframe id=\"igraph\" scrolling=\"no\" style=\"border:none;\" seamless=\"seamless\" src=\"https://plot.ly/~infontology/52.embed\" height=\"800px\" width=\"800px\"></iframe>"
      ],
      "text/plain": [
       "<plotly.tools.PlotlyDisplay object>"
      ]
     },
     "execution_count": 7,
     "metadata": {},
     "output_type": "execute_result"
    }
   ],
   "source": [
    "#plotly.offline.init_notebook_mode(connected=True)\n",
    "    \n",
    "traces = []\n",
    "baseColor = 100\n",
    "i = 0\n",
    "while i < numClusters:\n",
    "    trace = go.Scatter3d(\n",
    "        x=segmentedData[i][0],\n",
    "        y=segmentedData[i][1],\n",
    "        z=segmentedData[i][2],\n",
    "        mode='markers',\n",
    "        marker=dict(\n",
    "            size=12,\n",
    "            line=dict(\n",
    "                color='rgba(baseColor+(i*2), baseColor+(i*2), baseColor+(i*2), 0.14)',\n",
    "                width=0.5\n",
    "            ),\n",
    "            opacity=0.8\n",
    "        ),\n",
    "        # @todo: fix names list for plotly\n",
    "        #text=names\n",
    "    )\n",
    "    traces.append(trace)\n",
    "    i+=1\n",
    "\n",
    "layout = go.Layout(\n",
    "    scene=go.Scene(\n",
    "        xaxis=go.XAxis(title='Carbs', tickprefix='Carbs ', showtickprefix='first'),\n",
    "        yaxis=go.YAxis(title='Fat', tickprefix='Fat ', showtickprefix='first'),\n",
    "        zaxis=go.ZAxis(title='Protein', tickprefix='Protein ', showtickprefix='first')\n",
    "    ),\n",
    "    height = 800,\n",
    "    width = 800,\n",
    ")\n",
    "\n",
    "fig = go.Figure(data=traces, layout=layout)\n",
    "py.iplot(fig, filename='table1')"
   ]
  },
  {
   "cell_type": "markdown",
   "metadata": {
    "collapsed": true
   },
   "source": [
    "Plotly-visualiseringen ser ut så här med 10 kluster\n",
    "![caption](plotly.png)"
   ]
  },
  {
   "cell_type": "code",
   "execution_count": null,
   "metadata": {
    "collapsed": true
   },
   "outputs": [],
   "source": []
  }
 ],
 "metadata": {
  "kernelspec": {
   "display_name": "Python 3",
   "language": "python",
   "name": "python3"
  },
  "language_info": {
   "codemirror_mode": {
    "name": "ipython",
    "version": 3
   },
   "file_extension": ".py",
   "mimetype": "text/x-python",
   "name": "python",
   "nbconvert_exporter": "python",
   "pygments_lexer": "ipython3",
   "version": "3.5.4"
  }
 },
 "nbformat": 4,
 "nbformat_minor": 2
}
