{
 "cells": [
  {
   "cell_type": "markdown",
   "metadata": {},
   "source": [
    "Jupyter notebook för att göra kluster för Livsmedelsverkets databas"
   ]
  },
  {
   "cell_type": "code",
   "execution_count": 68,
   "metadata": {
    "collapsed": true
   },
   "outputs": [],
   "source": [
    "import sqlite3\n",
    "import numpy as np\n",
    "from sklearn.cluster import KMeans\n",
    "import plotly\n",
    "import plotly.graph_objs as go\n",
    "import plotly.plotly as py"
   ]
  },
  {
   "cell_type": "code",
   "execution_count": 69,
   "metadata": {
    "collapsed": true
   },
   "outputs": [],
   "source": [
    "# Variable to toggle printouts\n",
    "debug = True"
   ]
  },
  {
   "cell_type": "markdown",
   "metadata": {},
   "source": [
    "Vi har konverterat en nedladdad Excel-fil till csv och sen till Sqlite 3. \n",
    "\n",
    "Den innehåller alla Livsmedelsverkets 59 näringsämnen. Här jobbar vi bara med kolhydrater, fett och protein.\n",
    "\n",
    "Först läser vi in från databasen och lägger värdena i arrayen *result*"
   ]
  },
  {
   "cell_type": "code",
   "execution_count": 102,
   "metadata": {
    "collapsed": true
   },
   "outputs": [],
   "source": [
    "conn = sqlite3.connect('livs.db')  # Create db and establish connection\n",
    "conn.row_factory = sqlite3.Row\n",
    "curs = conn.cursor()\n",
    "result = []\n",
    "for row in curs.execute('select \"Kolhydrater_g\", \"Fett_g\", \"Protein_g\", \"Vatten_g\" from livs limit 10'):\n",
    "        result.append(row)\n",
    "conn.close()"
   ]
  },
  {
   "cell_type": "markdown",
   "metadata": {},
   "source": [
    "För klustringsalgoritmerna behöver vi använda numpy och göra en np-array\n",
    "\n",
    "För fem livsmedel, kolumner för kolhydrater, fett och protein\n",
    "\n",
    "<pre>[[   0.    71.     7. ]\n",
    " [   0.    85.     2.8]\n",
    " [   0.   100.     0. ]\n",
    " [   0.   100.     0. ]\n",
    " [   0.5   80.     0.5]]</pre>\n",
    "\n"
   ]
  },
  {
   "cell_type": "code",
   "execution_count": 103,
   "metadata": {},
   "outputs": [
    {
     "name": "stdout",
     "output_type": "stream",
     "text": [
      "[[   0.     71.      7.     21.7 ]\n",
      " [   0.     85.      2.8    11.1 ]\n",
      " [   0.    100.      0.      0.  ]\n",
      " [   0.    100.      0.      0.  ]\n",
      " [   0.5    80.      0.5    17.47]\n",
      " [   0.5    60.      0.4    38.1 ]\n",
      " [   0.3    70.      0.2    28.3 ]\n",
      " [   0.3    60.      0.2    38.3 ]\n",
      " [   0.     60.      0.     39.1 ]\n",
      " [   0.     82.      0.     16.7 ]]\n"
     ]
    }
   ],
   "source": [
    "dataSet = np.array(result)\n",
    "if debug:\n",
    "    print dataSet"
   ]
  },
  {
   "cell_type": "markdown",
   "metadata": {},
   "source": [
    "Funktion för att göra själva klustringen enligt k-means.\n",
    "\n",
    "K-means förklaras relativt enkelt här: http://bigdata-madesimple.com/possibly-the-simplest-way-to-explain-k-means-algorithm/"
   ]
  },
  {
   "cell_type": "code",
   "execution_count": 104,
   "metadata": {},
   "outputs": [],
   "source": [
    "def cluster(dataSet):\n",
    "\n",
    "    kmeans = KMeans(n_clusters=numClusters)\n",
    "    kmeans.fit(dataSet)\n",
    "\n",
    "    centroids = kmeans.cluster_centers_\n",
    "    assignedCluster = kmeans.labels_\n",
    "\n",
    "    if debug:\n",
    "        print (centroids)\n",
    "        print\n",
    "        print (assignedCluster)\n",
    "\n",
    "    return assignedCluster"
   ]
  },
  {
   "cell_type": "code",
   "execution_count": null,
   "metadata": {
    "collapsed": true
   },
   "outputs": [],
   "source": []
  },
  {
   "cell_type": "markdown",
   "metadata": {},
   "source": [
    "När man kör klustringsalgoritmen returneras en array av vilket kluster varje livsmedel tillhör. \n",
    "\n",
    "Man kan även få ut mittpunkterna i varje kluster genom variabeln *centroids*\n",
    "\n",
    "Ett exempel: \n",
    "\n",
    "<pre>\n",
    "centroids:\n",
    "[[   0.    100.      0.  ]\n",
    " [   0.25   82.5     1.65]\n",
    " [   0.     71.      7.  ]]\n",
    "\n",
    "assignedCluster:\n",
    "[2 1 0 0 1]</pre>"
   ]
  },
  {
   "cell_type": "code",
   "execution_count": 105,
   "metadata": {},
   "outputs": [
    {
     "name": "stdout",
     "output_type": "stream",
     "text": [
      "[[   0.26666667   60.            0.2          38.5       ]\n",
      " [   0.16666667   82.33333333    1.1          15.09      ]\n",
      " [   0.          100.            0.            0.        ]\n",
      " [   0.3          70.            0.2          28.3       ]\n",
      " [   0.           71.            7.           21.7       ]]\n",
      "\n",
      "[4 1 2 2 1 0 3 0 0 1]\n"
     ]
    }
   ],
   "source": [
    "numClusters = 5\n",
    "assignedCluster = cluster(dataSet)"
   ]
  },
  {
   "cell_type": "markdown",
   "metadata": {},
   "source": [
    "I princip kan det här göras med många fler näringsvärden där varje näringsvärde blir en \"dimension\". \n",
    "\n",
    "Eftersom vi vill visa klustringen i ett 3D-diagram har vi begränsat oss till tre dimensioner i exemplet."
   ]
  },
  {
   "cell_type": "markdown",
   "metadata": {},
   "source": [
    "## Visualisering med Plotly\n",
    "\n",
    "I Plotly svarar varje näringsvärde mot en axel.\n",
    "\n",
    "För att Plotly ska kunna plotta varje axel för sig transponerar vi data så vi får en rad för x-axeln, en för y-axeln och en för z."
   ]
  },
  {
   "cell_type": "markdown",
   "metadata": {},
   "source": [
    "Ett exempel:\n",
    "\n",
    "<pre>\n",
    "[[   0.     0.     0.     0.     0.5]\n",
    " [  71.    85.   100.   100.    80. ]\n",
    " [   7.     2.8    0.     0.     0.5]]\n",
    "</pre>"
   ]
  },
  {
   "cell_type": "code",
   "execution_count": 106,
   "metadata": {
    "collapsed": true
   },
   "outputs": [],
   "source": [
    "dataToChart = dataSet.transpose()"
   ]
  },
  {
   "cell_type": "code",
   "execution_count": 107,
   "metadata": {},
   "outputs": [
    {
     "name": "stdout",
     "output_type": "stream",
     "text": [
      "[[   0.      0.      0.      0.      0.5     0.5     0.3     0.3     0.\n",
      "     0.  ]\n",
      " [  71.     85.    100.    100.     80.     60.     70.     60.     60.\n",
      "    82.  ]\n",
      " [   7.      2.8     0.      0.      0.5     0.4     0.2     0.2     0.\n",
      "     0.  ]\n",
      " [  21.7    11.1     0.      0.     17.47   38.1    28.3    38.3    39.1\n",
      "    16.7 ]]\n"
     ]
    }
   ],
   "source": [
    "if debug:\n",
    "    print dataToChart"
   ]
  },
  {
   "cell_type": "markdown",
   "metadata": {},
   "source": [
    "För att visualisera vilka kluster som ett livsmedel ligger så ger vi varje kluster olika färger. I Plotly svarar detta mot att varje kluster hamnar i ett separat \"trace\"\n",
    "\n",
    "Därför behöver vi gå igenom vårt *dataToChart* och separera ut vilka livsmedel som hör till vilket kluster.\n",
    "\n",
    "Då behöver vi en tvådimensionell array där storleken på första dimensionen är antal kluster och storleken på andra dimensionen är tre (eftersom vi visualiserar tre dimensioner)"
   ]
  },
  {
   "cell_type": "code",
   "execution_count": 124,
   "metadata": {},
   "outputs": [],
   "source": [
    "# create multi dimensional array of data by label\n",
    "segmentedData = [[[] for _ in range(4)] for _ in range(numClusters)]\n"
   ]
  },
  {
   "cell_type": "markdown",
   "metadata": {},
   "source": [
    "Det är lite krångligt att visualisera den här strukturen. Så här blir den med fem kluster (numClusters) och tre faktorer för klustringen (fett, protein, kolhydrater) \n",
    "<pre>\n",
    "[\n",
    "    [[], [], []], \n",
    "    [[], [], []], \n",
    "    [[], [], []], \n",
    "    [[], [], []], \n",
    "    [[], [], []]\n",
    "]\n",
    "</pre>\n",
    "\n",
    "(Om man väljer att klustra med fler än tre faktorer är det svårt att visualisera alla, utan man måste välja bort någon faktor)"
   ]
  },
  {
   "cell_type": "code",
   "execution_count": 125,
   "metadata": {},
   "outputs": [
    {
     "name": "stdout",
     "output_type": "stream",
     "text": [
      "[]\n"
     ]
    }
   ],
   "source": [
    "jobbigArray = np.array(segmentedData)\n",
    "print (jobbigArray)"
   ]
  },
  {
   "cell_type": "code",
   "execution_count": 133,
   "metadata": {},
   "outputs": [
    {
     "name": "stdout",
     "output_type": "stream",
     "text": [
      "0 4\n",
      "1 1\n",
      "2 2\n",
      "3 2\n",
      "4 1\n",
      "5 0\n",
      "6 3\n",
      "7 0\n",
      "8 0\n",
      "9 1\n",
      "2\n"
     ]
    }
   ],
   "source": [
    "for num, cluster in enumerate(assignedCluster):\n",
    "        if debug:\n",
    "            print (str(num) + ' ' + str(cluster))\n",
    "        segmentedData[cluster][0].append(dataToChart[0][num])\n",
    "        segmentedData[cluster][1].append(dataToChart[1][num])\n",
    "        segmentedData[cluster][2].append(dataToChart[2][num])\n",
    "        segmentedData[cluster][3].append(dataToChart[3][num])\n",
    "        \n",
    "jobbigArray = np.array(segmentedData)\n",
    "print (jobbigArray.ndim)"
   ]
  },
  {
   "cell_type": "code",
   "execution_count": 134,
   "metadata": {},
   "outputs": [
    {
     "name": "stdout",
     "output_type": "stream",
     "text": [
      "[[[0.5, 0.29999999999999999, 0.0, 0.5, 0.29999999999999999, 0.0], [60.0, 60.0, 60.0, 60.0, 60.0, 60.0], [0.40000000000000002, 0.20000000000000001, 0.0, 0.40000000000000002, 0.20000000000000001, 0.0], [38.100000000000001, 38.299999999999997, 39.100000000000001]], [[0.0, 0.5, 0.0, 0.0, 0.5, 0.0], [85.0, 80.0, 82.0, 85.0, 80.0, 82.0], [2.7999999999999998, 0.5, 0.0, 2.7999999999999998, 0.5, 0.0], [11.1, 17.469999999999999, 16.699999999999999]], [[0.0, 0.0, 0.0, 0.0], [100.0, 100.0, 100.0, 100.0], [0.0, 0.0, 0.0, 0.0], [0.0, 0.0]], [[0.29999999999999999, 0.29999999999999999], [70.0, 70.0], [0.20000000000000001, 0.20000000000000001], [28.300000000000001]], [[0.0, 0.0], [71.0, 71.0], [7.0, 7.0], [21.699999999999999]]]\n"
     ]
    }
   ],
   "source": [
    "if debug:\n",
    "    print(segmentedData)"
   ]
  },
  {
   "cell_type": "code",
   "execution_count": 135,
   "metadata": {},
   "outputs": [],
   "source": [
    "# create traces for plotly\n",
    "traces = []\n",
    "baseColor = 100\n",
    "i = 0\n",
    "while i < numClusters:\n",
    "    trace = go.Scatter3d(\n",
    "        x=segmentedData[i][0],\n",
    "        y=segmentedData[i][1],\n",
    "        z=segmentedData[i][3],\n",
    "        mode='markers',\n",
    "        marker=dict(\n",
    "            size=12,\n",
    "            line=dict(\n",
    "                color='rgba(baseColor+(i*2), baseColor+(i*2), baseColor+(i*2), 0.14)',\n",
    "                width=0.5\n",
    "            ),\n",
    "            opacity=0.8\n",
    "        ),\n",
    "        # @todo: fix names list for plotly\n",
    "        #text=names\n",
    "    )\n",
    "    traces.append(trace)\n",
    "    i+=1\n"
   ]
  },
  {
   "cell_type": "code",
   "execution_count": 136,
   "metadata": {
    "collapsed": true
   },
   "outputs": [],
   "source": [
    "layout = go.Layout(\n",
    "        scene=go.Scene(\n",
    "            xaxis=go.XAxis(title='Carbs', tickprefix='Carbs ', showtickprefix='first'),\n",
    "            yaxis=go.YAxis(title='Fat', tickprefix='Fat ', showtickprefix='first'),\n",
    "            zaxis=go.ZAxis(title='Protein', tickprefix='Protein ', showtickprefix='first')\n",
    "        ),\n",
    "        height = 800,\n",
    "        width = 800,\n",
    "    )"
   ]
  },
  {
   "cell_type": "code",
   "execution_count": 137,
   "metadata": {
    "collapsed": true
   },
   "outputs": [],
   "source": [
    "fig = go.Figure(data=traces, layout=layout)    "
   ]
  },
  {
   "cell_type": "code",
   "execution_count": 138,
   "metadata": {},
   "outputs": [
    {
     "data": {
      "text/html": [
       "<iframe id=\"igraph\" scrolling=\"no\" style=\"border:none;\" seamless=\"seamless\" src=\"https://plot.ly/~infontology/52.embed\" height=\"800px\" width=\"800px\"></iframe>"
      ],
      "text/plain": [
       "<plotly.tools.PlotlyDisplay object>"
      ]
     },
     "execution_count": 138,
     "metadata": {},
     "output_type": "execute_result"
    }
   ],
   "source": [
    "py.iplot(fig, filename='table1')"
   ]
  },
  {
   "cell_type": "code",
   "execution_count": null,
   "metadata": {
    "collapsed": true
   },
   "outputs": [],
   "source": []
  }
 ],
 "metadata": {
  "kernelspec": {
   "display_name": "Python 2",
   "language": "python",
   "name": "python2"
  },
  "language_info": {
   "codemirror_mode": {
    "name": "ipython",
    "version": 2
   },
   "file_extension": ".py",
   "mimetype": "text/x-python",
   "name": "python",
   "nbconvert_exporter": "python",
   "pygments_lexer": "ipython2",
   "version": "2.7.13"
  }
 },
 "nbformat": 4,
 "nbformat_minor": 2
}
