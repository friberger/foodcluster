{
 "cells": [
  {
   "cell_type": "code",
   "execution_count": 116,
   "metadata": {
    "collapsed": true
   },
   "outputs": [],
   "source": [
    "from __future__ import absolute_import\n",
    "from __future__ import division\n",
    "from __future__ import print_function\n",
    "\n",
    "import tensorflow as tf\n",
    "import numpy as np\n",
    "import sqlite3"
   ]
  },
  {
   "cell_type": "code",
   "execution_count": 117,
   "metadata": {
    "collapsed": true
   },
   "outputs": [],
   "source": [
    "FLAGS = None"
   ]
  },
  {
   "cell_type": "code",
   "execution_count": 118,
   "metadata": {},
   "outputs": [
    {
     "name": "stdout",
     "output_type": "stream",
     "text": [
      "[['Matfettsblandning havssaltat fett 80% berikad typ Bregott' '5' '711.5'\n",
      "  ..., 'Hård matfettsblandning' '14' 'train']\n",
      " ['Matfettsblandning fett 60 % berikad typ Bregott mellan' '6' '534.2' ...,\n",
      "  'Hård matfettsblandning' '14' 'train']\n",
      " ['Bordsmargarin fett 70% berikad typ Milda' '7' '621.0' ...,\n",
      "  'Hård matfettsblandning' '14' 'train']\n",
      " ..., \n",
      " ['Hälleflundra odlad Atlanten rå' '5926' '112.2' ...,\n",
      "  'Fisk färsk fryst kokt' '6' 'train']\n",
      " ['Torsk odlad rå' '5936' '85.7' ..., 'Fisk färsk fryst kokt' '6' 'train']\n",
      " ['Tortilla wrap' '5974' '313.7' ..., 'Mjukt bröd' '12' 'train']]\n"
     ]
    }
   ],
   "source": [
    "conn = sqlite3.connect('../livs.db')  # Create db and establish connection\n",
    "conn.row_factory = sqlite3.Row\n",
    "curs = conn.cursor()\n",
    "result = []\n",
    "rows = curs.execute('select * from livs where Aktivitetstyp = \"train\" limit 4000')\n",
    "for row in rows:\n",
    "        result.append(row)\n",
    "\n",
    "rows = np.array(result)\n",
    "print (rows)\n",
    "\n",
    "conn.close()"
   ]
  },
  {
   "cell_type": "code",
   "execution_count": 119,
   "metadata": {},
   "outputs": [
    {
     "name": "stdout",
     "output_type": "stream",
     "text": [
      "[14 14 14 14 14 14 14 14 14 14  4  4  4 14  4  4  4  4  4  4  4  4  4  4  4\n",
      " 12 12 12 12 12 12 12 12 12 12 12 12 12 12 12 12 12 12 12 12 12 12 12 18 18\n",
      " 18 18 16 16 16 16 16 16 16  3 16 16  3 16  5  5 16 16 10 18 16 16 16 16 16\n",
      " 18 16 16 16 16 16 18 18  8 10 10  8 10  1  1  1  1  9  1  1  1  1  9  9  1\n",
      "  1  1  1  1  1  1  1  1  1  1  1  1  1  1  1  1  1  1  1  9  1  1  1  1  8\n",
      "  1  1  9  1  1  9  9  9  1  1  1  1  9  1  1  8  1  9 10 10  1  1  1  1  1\n",
      "  1  8  8  9  9  9  8  8  1  1  1  8  1 10 10  1  8  8  8  8  8  8  1  1  1\n",
      "  4  1 10  1  1  8  8  1  4  8  4  4 10  1  8  8  8  1  1  8 10  8  8 10 10\n",
      " 10 10 10  1  8  1  1 10  1 10 10 10 10  1  4  3 10 10 10  3  3  3 13 13 13\n",
      "  8  8  8 13 13 13 13 13 13 13 13 13 13 13 13 13 13 13 13 13 13 13 13 13 13\n",
      " 13 13 13 13 13 13  4 19 11  1 11 11 11 11 11 11 11 11 11 11  5 11 11 11 11\n",
      " 11 11 11 11 11 11 11  8 11 11 11  8 19 19 19 10  9  9  9  9  9  9  9  9  9\n",
      "  9  9  9  9 10  3 10 10  8  8 10 10  9  8  0  0  0  0  0  0  0  0  0  0  0\n",
      "  0  0  0  0  0  0  0  0  0  0  0  0  0  0  0  0  0  0  0  0  0  0  0  0  0\n",
      "  0  0  0  0  0  0  0  0  0  0  0  0  0  0  0  0  3  3  0  0  0  0  0  0  0\n",
      "  0  0  0  0  0  0  0  0  3  0  0  0  0  0  0  0  3  3  3  3  3  3  3  3  3\n",
      "  3  3  4  3  3  3  3  3  3 10  3 15  0  3  3  3  3  3  3  3  0  3  3  3  3\n",
      "  3  3  3  3  3  3  3  3  3  3  3  3  3  3  3  3 15 15 15 15 15 15 15 15 15\n",
      " 15 15 15 15 15 15 15 15 15 15 15 15 15 15 15 15 15 15  6  6  6  6 10 10 10\n",
      " 19  3  5  6  6  6  6  6  6  6  6  6  6  6  6  6  6  6  6  6  6  6  5  6  6\n",
      "  5  6  6  5  6  6  6  6  6  6  6  5  5  6  5  5  5  6  6  5  5  6  5  6  5\n",
      "  6  5  6  5  6  6  5  6  6  5  6  5  6  5  6  5  5  5  6  5  6  5  5  5  5\n",
      "  5  5  5 10  5  5  5  5  5  5  5  5  5  5  5  5  5  5  5  5  5  5 10  5  4\n",
      " 17 17 17 17 17 17 17 17 17 17 17 17 17 17 17 17 17 17 17 17 17 17 17 17 17\n",
      " 17  7  7  7  7  7  7  7  7  7  7  7  7  7  7  7  7  7  7  7  7  7  7  7  7\n",
      "  7  7  7  7  7  7  7  7  7  7  7  7  7  7  2  2  2  2  2  2  2  2  2  2  2\n",
      "  2  2  2  2  2  2  2  2  2  2  2  2  2  2  2  2  2  2  2  2  2  2  2  2  2\n",
      "  2  2  2  2  2  2  2  2  2  2  2  2  2  2  2  2  2  2  2  2  2  2  2  2  2\n",
      "  4  4  4  2 19 19 19 19 19 19 19 19 19 19 19 19 19 19 19 19 19 19 19 19 19\n",
      "  2  2  4  4  4  4  4  4  4  4  4  4  4  4  4  4  4  4  4  4  4  4  8  4  4\n",
      "  4  3  8 11  8 16  8  4  4  4  8  8 16  3  3  7  3  3  0  0  4 11 11  4 19\n",
      "  4  1 16  4 19 14  2  2  2  4  4  4  4  4  4  4  7  7  7  7  7 14 14 14 14\n",
      "  0  6 14 14 14 14  0  0  3  9  0  0  1  1  5  7  7  0  9  9 12 12 12 12 12\n",
      " 12 12  9  9  9  8  9  9 12  1 14 14 14 14 14 14 14 14 14 14 14  6 18 18 18\n",
      " 18  8  8 18 18 18 18 18 18 18 18 18  6  5  6  5  5  6  6  6  6  5  6 14  1\n",
      "  8  1  1  1  1  0  0  0  0  0  0  0  0  0  0  0  0  0 14 14 18  0  3  1  9\n",
      "  1  9  9  9 13 13 13  6  6 12]\n"
     ]
    },
    {
     "data": {
      "text/plain": [
       "array([['711.5', '2977.0', '0.5', ..., '0.0', '0.1', '3.0'],\n",
       "       ['534.2', '2235.3', '0.5', ..., '0.0', '0', '77.0'],\n",
       "       ['621.0', '2598.5', '0.3', ..., '0.0', '0', '35.0'],\n",
       "       ..., \n",
       "       ['112.2', '469.6', '0.0', ..., '30.0', '0.44', '52.0'],\n",
       "       ['85.7', '358.5', '0.0', ..., '30.0', '0.54', '52.0'],\n",
       "       ['313.7', '1312.6', '57.5', ..., '2.0', '0.6', '158.0']],\n",
       "      dtype='<U75')"
      ]
     },
     "execution_count": 119,
     "metadata": {},
     "output_type": "execute_result"
    }
   ],
   "source": [
    "cols = [ 2,  3,  4,  5,  6,  7,  8,  9, 10, 11, 12, 13, 14, 16,\n",
    "       17, 18, 19, 20, 21, 22, 23, 24, 25, 26, 27, 28, 29, 30, 31, 32, 33, 35, 37, 38,\n",
    "        40, 41, 42, 43, 44, 45, 46, 47, 48, 50,\n",
    "       51, 52, 53, 54, 55, 56, 57, 59]\n",
    "ndim = len(cols)\n",
    "labels = np.array(rows.T[61],dtype=int)\n",
    "print (labels)\n",
    "#Kolumner med tomma celler: 15, 34, 36, 39, 49, 58, 60\n",
    "#Ta även bort 0 och 1, 61, 62...\n",
    "rows = rows[:,cols] #Fancy indexing...\n",
    "rows"
   ]
  },
  {
   "cell_type": "code",
   "execution_count": 120,
   "metadata": {},
   "outputs": [],
   "source": [
    "ncat = 20"
   ]
  },
  {
   "cell_type": "code",
   "execution_count": 121,
   "metadata": {},
   "outputs": [],
   "source": [
    "# Create the model\n",
    "\n",
    "\n",
    "\n",
    "x = tf.placeholder(tf.float32, [None, ndim])\n",
    "W = tf.Variable(tf.zeros([ndim, ncat]))\n",
    "b = tf.Variable(tf.zeros([ncat]))\n",
    "y = tf.nn.softmax(tf.matmul(x, W) + b)"
   ]
  },
  {
   "cell_type": "code",
   "execution_count": 122,
   "metadata": {
    "collapsed": true
   },
   "outputs": [],
   "source": [
    "y_ = tf.placeholder(tf.float32, [None, ncat])\n",
    "cross_entropy = tf.reduce_mean(-tf.reduce_sum(y_ * tf.log(y), reduction_indices=[1]))"
   ]
  },
  {
   "cell_type": "code",
   "execution_count": 123,
   "metadata": {
    "collapsed": true
   },
   "outputs": [],
   "source": [
    "train_step = tf.train.GradientDescentOptimizer(0.5).minimize(cross_entropy)"
   ]
  },
  {
   "cell_type": "code",
   "execution_count": 124,
   "metadata": {
    "collapsed": true
   },
   "outputs": [],
   "source": [
    "sess = tf.InteractiveSession()"
   ]
  },
  {
   "cell_type": "code",
   "execution_count": 125,
   "metadata": {
    "collapsed": true
   },
   "outputs": [],
   "source": [
    "tf.global_variables_initializer().run()"
   ]
  },
  {
   "cell_type": "code",
   "execution_count": 126,
   "metadata": {},
   "outputs": [
    {
     "name": "stdout",
     "output_type": "stream",
     "text": [
      "[14 14 14 14 14 14 14 14 14 14  4  4  4 14  4  4  4  4  4  4  4  4  4  4  4\n",
      " 12 12 12 12 12 12 12 12 12 12 12 12 12 12 12 12 12 12 12 12 12 12 12 18 18\n",
      " 18 18 16 16 16 16 16 16 16  3 16 16  3 16  5  5 16 16 10 18 16 16 16 16 16\n",
      " 18 16 16 16 16 16 18 18  8 10 10  8 10  1  1  1  1  9  1  1  1  1  9  9  1\n",
      "  1  1  1  1  1  1  1  1  1  1  1  1  1  1  1  1  1  1  1  9  1  1  1  1  8\n",
      "  1  1  9  1  1  9  9  9  1  1  1  1  9  1  1  8  1  9 10 10  1  1  1  1  1\n",
      "  1  8  8  9  9  9  8  8  1  1  1  8  1 10 10  1  8  8  8  8  8  8  1  1  1\n",
      "  4  1 10  1  1  8  8  1  4  8  4  4 10  1  8  8  8  1  1  8 10  8  8 10 10\n",
      " 10 10 10  1  8  1  1 10  1 10 10 10 10  1  4  3 10 10 10  3  3  3 13 13 13\n",
      "  8  8  8 13 13 13 13 13 13 13 13 13 13 13 13 13 13 13 13 13 13 13 13 13 13\n",
      " 13 13 13 13 13 13  4 19 11  1 11 11 11 11 11 11 11 11 11 11  5 11 11 11 11\n",
      " 11 11 11 11 11 11 11  8 11 11 11  8 19 19 19 10  9  9  9  9  9  9  9  9  9\n",
      "  9  9  9  9 10  3 10 10  8  8 10 10  9  8  0  0  0  0  0  0  0  0  0  0  0\n",
      "  0  0  0  0  0  0  0  0  0  0  0  0  0  0  0  0  0  0  0  0  0  0  0  0  0\n",
      "  0  0  0  0  0  0  0  0  0  0  0  0  0  0  0  0  3  3  0  0  0  0  0  0  0\n",
      "  0  0  0  0  0  0  0  0  3  0  0  0  0  0  0  0  3  3  3  3  3  3  3  3  3\n",
      "  3  3  4  3  3  3  3  3  3 10  3 15  0  3  3  3  3  3  3  3  0  3  3  3  3\n",
      "  3  3  3  3  3  3  3  3  3  3  3  3  3  3  3  3 15 15 15 15 15 15 15 15 15\n",
      " 15 15 15 15 15 15 15 15 15 15 15 15 15 15 15 15 15 15  6  6  6  6 10 10 10\n",
      " 19  3  5  6  6  6  6  6  6  6  6  6  6  6  6  6  6  6  6  6  6  6  5  6  6\n",
      "  5  6  6  5  6  6  6  6  6  6  6  5  5  6  5  5  5  6  6  5  5  6  5  6  5\n",
      "  6  5  6  5  6  6  5  6  6  5  6  5  6  5  6  5  5  5  6  5  6  5  5  5  5\n",
      "  5  5  5 10  5  5  5  5  5  5  5  5  5  5  5  5  5  5  5  5  5  5 10  5  4\n",
      " 17 17 17 17 17 17 17 17 17 17 17 17 17 17 17 17 17 17 17 17 17 17 17 17 17\n",
      " 17  7  7  7  7  7  7  7  7  7  7  7  7  7  7  7  7  7  7  7  7  7  7  7  7\n",
      "  7  7  7  7  7  7  7  7  7  7  7  7  7  7  2  2  2  2  2  2  2  2  2  2  2\n",
      "  2  2  2  2  2  2  2  2  2  2  2  2  2  2  2  2  2  2  2  2  2  2  2  2  2\n",
      "  2  2  2  2  2  2  2  2  2  2  2  2  2  2  2  2  2  2  2  2  2  2  2  2  2\n",
      "  4  4  4  2 19 19 19 19 19 19 19 19 19 19 19 19 19 19 19 19 19 19 19 19 19\n",
      "  2  2  4  4  4  4  4  4  4  4  4  4  4  4  4  4  4  4  4  4  4  4  8  4  4\n",
      "  4  3  8 11  8 16  8  4  4  4  8  8 16  3  3  7  3  3  0  0  4 11 11  4 19\n",
      "  4  1 16  4 19 14  2  2  2  4  4  4  4  4  4  4  7  7  7  7  7 14 14 14 14\n",
      "  0  6 14 14 14 14  0  0  3  9  0  0  1  1  5  7  7  0  9  9 12 12 12 12 12\n",
      " 12 12  9  9  9  8  9  9 12  1 14 14 14 14 14 14 14 14 14 14 14  6 18 18 18\n",
      " 18  8  8 18 18 18 18 18 18 18 18 18  6  5  6  5  5  6  6  6  6  5  6 14  1\n",
      "  8  1  1  1  1  0  0  0  0  0  0  0  0  0  0  0  0  0 14 14 18  0  3  1  9\n",
      "  1  9  9  9 13 13 13  6  6 12]\n",
      "[[ 0.  0.  0. ...,  0.  0.  0.]\n",
      " [ 0.  0.  0. ...,  0.  0.  0.]\n",
      " [ 0.  0.  0. ...,  0.  0.  0.]\n",
      " ..., \n",
      " [ 0.  0.  0. ...,  0.  0.  0.]\n",
      " [ 0.  0.  0. ...,  0.  0.  0.]\n",
      " [ 0.  0.  0. ...,  0.  0.  0.]]\n"
     ]
    }
   ],
   "source": [
    "print(labels)\n",
    "n_values = np.max(labels) + 1\n",
    "labels_one_hot=np.eye(n_values)[labels]\n",
    "print(labels_one_hot)"
   ]
  },
  {
   "cell_type": "code",
   "execution_count": 127,
   "metadata": {},
   "outputs": [],
   "source": [
    "for _ in range(10):\n",
    "    sess.run(train_step, feed_dict={x: rows, y_: labels_one_hot})"
   ]
  },
  {
   "cell_type": "code",
   "execution_count": 128,
   "metadata": {},
   "outputs": [],
   "source": [
    "correct_prediction = tf.equal(tf.argmax(y,1), tf.argmax(y_,1))"
   ]
  },
  {
   "cell_type": "code",
   "execution_count": 129,
   "metadata": {
    "collapsed": true
   },
   "outputs": [],
   "source": [
    "accuracy = tf.reduce_mean(tf.cast(correct_prediction, tf.float32))"
   ]
  },
  {
   "cell_type": "code",
   "execution_count": 115,
   "metadata": {},
   "outputs": [
    {
     "name": "stdout",
     "output_type": "stream",
     "text": [
      "0.107692\n"
     ]
    }
   ],
   "source": [
    "# Det här måste vara fel...\n",
    "print(sess.run(accuracy, feed_dict={x: rows, y_: labels_one_hot}))"
   ]
  },
  {
   "cell_type": "code",
   "execution_count": null,
   "metadata": {
    "collapsed": true
   },
   "outputs": [],
   "source": []
  }
 ],
 "metadata": {
  "kernelspec": {
   "display_name": "Python 3",
   "language": "python",
   "name": "python3"
  },
  "language_info": {
   "codemirror_mode": {
    "name": "ipython",
    "version": 3
   },
   "file_extension": ".py",
   "mimetype": "text/x-python",
   "name": "python",
   "nbconvert_exporter": "python",
   "pygments_lexer": "ipython3",
   "version": "3.5.4"
  }
 },
 "nbformat": 4,
 "nbformat_minor": 2
}
