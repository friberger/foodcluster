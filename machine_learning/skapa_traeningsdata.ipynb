{
 "cells": [
  {
   "cell_type": "markdown",
   "metadata": {},
   "source": [
    "## Hitta stora kategorier\n",
    "\n",
    "Huvudgrupp_n i databasen innehåller metadata i storleksordning. \n",
    "\n",
    "Börjar med att utforska lite."
   ]
  },
  {
   "cell_type": "code",
   "execution_count": 12,
   "metadata": {
    "collapsed": true
   },
   "outputs": [],
   "source": [
    "import numpy as np\n",
    "import sqlite3\n",
    "\n",
    "huvudgrupp = str(19)"
   ]
  },
  {
   "cell_type": "code",
   "execution_count": 13,
   "metadata": {},
   "outputs": [
    {
     "name": "stdout",
     "output_type": "stream",
     "text": [
      "[['Fattiga riddare' '732' '270.0' '1129.8' '29.81' '13.26' '6.67' '2.42'\n",
      "  '46.75' '0.0' '1.0' '0.21' '10.85' '8.9' '0.0' '' '1.78' '0.04' '0.02'\n",
      "  '0.06' '1.11' '0.41' '0.06' '6.88' '0.09' '6.62' '3.21' '2.29' '0.85'\n",
      "  '0.03' '0.0' '0.0' '0.02' '68.59' '75.0' '76.8' '21.0' '0.82' '3.65' ''\n",
      "  '0.21' '0.13' '0.1' '0.54' '1.89' '0.18' '0.38' '22.7' '93.4' '' '0.73'\n",
      "  '43.0' '113.4' '14.2' '244.2' '0.61' '7.21' '0.66' '' '38.0'\n",
      "  'Efterrätter' '19' 'train']\n",
      " ['Apelsinris' '836' '94.3' '394.3' '12.81' '3.65' '2.02' '0.89' '79.95'\n",
      "  '0.0' '0.68' '2.29' '5.04' '3.3' '0.0' '' '2.24' '0.25' '0.11' '0.35'\n",
      "  '1.11' '0.35' '0.01' '0.94' '0.07' '0.84' '0.16' '0.11' '0.04' '0.0'\n",
      "  '0.0' '0.0' '0.0' '10.14' '' '34.2' '' '0.35' '0.36' '' '0.06' '0.07'\n",
      "  '23.2' '0.23' '0.66' '0.05' '0.2' '17.6' '52.5' '' '0.09' '62.1' '131.2'\n",
      "  '10.1' '84.1' '0.21' '0.69' '0.27' '' '196.0' 'Efterrätter' '19' 'train']\n",
      " ['Ris à la Malta' '838' '131.4' '549.8' '15.67' '6.29' '2.93' '0.12'\n",
      "  '74.16' '0.0' '0.85' '0.0' '7.13' '4.1' '0.0' '' '3.9' '0.43' '0.2'\n",
      "  '0.61' '1.93' '0.6' '0.01' '1.63' '0.12' '1.45' '0.25' '0.17' '0.06'\n",
      "  '0.0' '0.0' '0.0' '0.0' '17.69' '' '57.3' '' '0.61' '0.2' '' '0.04'\n",
      "  '0.09' '0.4' '0.18' '0.82' '0.04' '0.35' '8.1' '75.8' '' '0.04' '77.4'\n",
      "  '109.6' '10.1' '146.2' '0.37' '1.06' '0.4' '' '110.0' 'Efterrätter' '19'\n",
      "  'train']\n",
      " ['Risgrynskaka el risgrynspudding' '839' '146.3' '611.9' '14.52' '7.97'\n",
      "  '4.07' '0.11' '72.38' '0.0' '0.9' '0.04' '6.66' '3.85' '0.0' '' '4.33'\n",
      "  '0.42' '0.21' '0.58' '2.3' '0.66' '0.01' '2.37' '0.13' '2.2' '0.61'\n",
      "  '0.43' '0.11' '0.02' '0.0' '0.0' '0.01' '54.3' '' '88.3' '' '0.68' '0.96'\n",
      "  '' '0.04' '0.12' '0.3' '0.17' '1.1' '0.04' '0.45' '10.4' '90.4' '' '0.22'\n",
      "  '77.2' '115.7' '10.6' '163.4' '0.41' '3.49' '0.51' '' '110.0'\n",
      "  'Efterrätter' '19' 'train']]\n"
     ]
    }
   ],
   "source": [
    "conn = sqlite3.connect('../livs.db')  # Create db and establish connection\n",
    "conn.row_factory = sqlite3.Row\n",
    "curs = conn.cursor()\n",
    "result = []\n",
    "rows = curs.execute('select * from livs where Huvudgrupp_n = '+huvudgrupp+' limit 4')\n",
    "for row in rows:\n",
    "        result.append(row)\n",
    "\n",
    "rows = np.array(result)\n",
    "print (rows)\n",
    "\n",
    "conn.close()"
   ]
  },
  {
   "cell_type": "markdown",
   "metadata": {},
   "source": [
    "Vi kan ta fram alla nummer på livsmedel som tillhör den här kategorin. En del av dem gör vi till träningsdata och en del till validering."
   ]
  },
  {
   "cell_type": "markdown",
   "metadata": {},
   "source": [
    "Först behöver vi en kolumn i databasen."
   ]
  },
  {
   "cell_type": "code",
   "execution_count": 14,
   "metadata": {},
   "outputs": [
    {
     "name": "stdout",
     "output_type": "stream",
     "text": [
      "[0 'Livsmedelsnamn' 'TEXT' 0 None 0]\n",
      "[1 'Livsmedelsnummer' 'TEXT' 0 None 0]\n",
      "[2 'Energi_kcal' 'REAL' 0 None 0]\n",
      "[3 'Energi_kJ' 'REAL' 0 None 0]\n",
      "[4 'Kolhydrater_g' 'REAL' 0 None 0]\n",
      "[5 'Fett_g' 'REAL' 0 None 0]\n",
      "[6 'Protein_g' 'REAL' 0 None 0]\n",
      "[7 'Fibrer_g' 'REAL' 0 None 0]\n",
      "[8 'Vatten_g' 'REAL' 0 None 0]\n",
      "[9 'Alkohol_g' 'REAL' 0 None 0]\n",
      "[10 'Aska_g' 'REAL' 0 None 0]\n",
      "[11 'Monosackarider_g' 'REAL' 0 None 0]\n",
      "[12 'Disackarider_g' 'REAL' 0 None 0]\n",
      "[13 'Sackaros_g' 'REAL' 0 None 0]\n",
      "[14 'Fullkorn_totalt_g' 'REAL' 0 None 0]\n",
      "[15 'Sockerarter_g' 'REAL' 0 None 0]\n",
      "[16 'Summa_mattade_fettsyror_g' 'REAL' 0 None 0]\n",
      "[17 'Fettsyra_4_0_10_0_g' 'REAL' 0 None 0]\n",
      "[18 'Fettsyra_12_0_g' 'REAL' 0 None 0]\n",
      "[19 'Fettsyra_14_0_g' 'REAL' 0 None 0]\n",
      "[20 'Fettsyra_16_0_g' 'REAL' 0 None 0]\n",
      "[21 'Fettsyra_18_0_g' 'REAL' 0 None 0]\n",
      "[22 'Fettsyra_20_0_g' 'REAL' 0 None 0]\n",
      "[23 'Summa_enkelomattade_fettsyror_g' 'REAL' 0 None 0]\n",
      "[24 'Fettsyra_16_1_g' 'REAL' 0 None 0]\n",
      "[25 'Fettsyra_18_1_g' 'REAL' 0 None 0]\n",
      "[26 'Summa_fleromattade_fettsyror_g' 'REAL' 0 None 0]\n",
      "[27 'Fettsyra_18_2_g' 'REAL' 0 None 0]\n",
      "[28 'Fettsyra_18_3_g' 'REAL' 0 None 0]\n",
      "[29 'Fettsyra_20_4_g' 'REAL' 0 None 0]\n",
      "[30 'EPA_Fettsyra_20_5_g' 'REAL' 0 None 0]\n",
      "[31 'DPA_Fettsyra_22_5_g' 'REAL' 0 None 0]\n",
      "[32 'DHA_Fettsyra_22_6_g' 'REAL' 0 None 0]\n",
      "[33 'Kolesterol_mg' 'REAL' 0 None 0]\n",
      "[34 'Retinol_mikrog' 'REAL' 0 None 0]\n",
      "[35 'Vitamin_A_mikrog' 'REAL' 0 None 0]\n",
      "[36 'beta_Karoten_mikrog' 'REAL' 0 None 0]\n",
      "[37 'Vitamin_D_mikrog' 'REAL' 0 None 0]\n",
      "[38 'Vitamin_E_mg' 'REAL' 0 None 0]\n",
      "[39 'Vitamin_K_mikrog' 'REAL' 0 None 0]\n",
      "[40 'Tiamin_mg' 'REAL' 0 None 0]\n",
      "[41 'Riboflavin_mg' 'REAL' 0 None 0]\n",
      "[42 'Vitamin_C_mg' 'REAL' 0 None 0]\n",
      "[43 'Niacin_mg' 'REAL' 0 None 0]\n",
      "[44 'Niacinekvivalenter_mg' 'REAL' 0 None 0]\n",
      "[45 'Vitamin_B6_mg' 'REAL' 0 None 0]\n",
      "[46 'Vitamin_B12_mikrog' 'REAL' 0 None 0]\n",
      "[47 'Folat_mikrog' 'REAL' 0 None 0]\n",
      "[48 'Fosfor_mg' 'REAL' 0 None 0]\n",
      "[49 'Jod_mikrog' 'REAL' 0 None 0]\n",
      "[50 'Jarn_mg' 'REAL' 0 None 0]\n",
      "[51 'Kalcium_mg' 'REAL' 0 None 0]\n",
      "[52 'Kalium_mg' 'REAL' 0 None 0]\n",
      "[53 'Magnesium_mg' 'REAL' 0 None 0]\n",
      "[54 'Natrium_mg' 'REAL' 0 None 0]\n",
      "[55 'Salt_g' 'REAL' 0 None 0]\n",
      "[56 'Selen_mikrog' 'REAL' 0 None 0]\n",
      "[57 'Zink_mg' '' 0 None 0]\n",
      "[58 'Avfall_skal_etc' 'REAL' 0 None 0]\n",
      "[59 'Kluster' 'REAL' 0 None 0]\n",
      "[60 'Huvudgrupp' 'TEXT' 0 None 0]\n",
      "[61 'Huvudgrupp_n' 'INTEGER' 0 None 0]\n",
      "[62 'Aktivitetstyp' 'TEXT' 0 None 0]\n",
      "False Aktivitetstyp\n"
     ]
    }
   ],
   "source": [
    "conn = sqlite3.connect('../livs.db')  # Create db and establish connection\n",
    "conn.row_factory = sqlite3.Row\n",
    "curs = conn.cursor()\n",
    "\n",
    "columnObject = []\n",
    "\n",
    "#Kolla om Huvudgrupp-kolumnen redan finns, annars lägg till den        \n",
    "for row in conn.execute('PRAGMA table_info (livs);'):\n",
    "    columnObject.append(row)\n",
    "columns = np.array(columnObject)\n",
    "newColumn = 'Aktivitetstyp'\n",
    "addColumn = True\n",
    "for row in columns:\n",
    "    print (row)\n",
    "    if newColumn == row[1]:\n",
    "        addColumn = False\n",
    "        print (addColumn, newColumn)\n",
    "if addColumn:\n",
    "    #Man får se upp extra noga med kolumntypen, för den går inte att ändra i efterhand i sqlite...\n",
    "    conn.execute('ALTER TABLE livs ADD COLUMN Aktivitetstyp TEXT;')\n",
    "    conn.commit()\n",
    "\n",
    "conn.close()"
   ]
  },
  {
   "cell_type": "code",
   "execution_count": 15,
   "metadata": {},
   "outputs": [
    {
     "name": "stdout",
     "output_type": "stream",
     "text": [
      "[['Fattiga riddare' '732' '270.0' ..., 'Efterrätter' '19' 'train']\n",
      " ['Apelsinris' '836' '94.3' ..., 'Efterrätter' '19' 'train']\n",
      " ['Ris à la Malta' '838' '131.4' ..., 'Efterrätter' '19' 'train']\n",
      " ..., \n",
      " ['Friterad banan m glass restaurang' '1792' '252.9' ..., 'Efterrätter'\n",
      "  '19' 'train']\n",
      " ['Ris a la malta m lättmjölk mellangrädde fett 4%' '2147' '114.6' ...,\n",
      "  'Efterrätter' '19' 'train']\n",
      " ['Ostkaka fett 7%' '2184' '171.6' ..., 'Efterrätter' '19' 'train']]\n"
     ]
    }
   ],
   "source": [
    "conn = sqlite3.connect('../livs.db')  # Create db and establish connection\n",
    "conn.row_factory = sqlite3.Row\n",
    "curs = conn.cursor()\n",
    "result = []\n",
    "rows = curs.execute('select * from livs where Huvudgrupp_n = '+huvudgrupp+' limit 4000')\n",
    "for row in rows:\n",
    "        result.append(row)\n",
    "\n",
    "rows = np.array(result)\n",
    "print (rows)\n",
    "\n",
    "conn.close()"
   ]
  },
  {
   "cell_type": "markdown",
   "metadata": {},
   "source": [
    "Lägg in train med 80 % sannolikhet i kolumnen för Aktivitetstyp, och val i övriga.\n",
    "\n",
    "y är bara för att beräkna hur många samples mellan 0 och 1 som ska räknas fram.\n",
    "\n",
    "z blir en array av längden y där alla celler har värden mellan 0 och 1\n",
    "\n",
    "c blir en array med index för de som ska ändras till train"
   ]
  },
  {
   "cell_type": "code",
   "execution_count": 16,
   "metadata": {
    "collapsed": true
   },
   "outputs": [],
   "source": [
    "y = len(rows.T[62])\n",
    "\n",
    "z = np.random.random_sample((y,))\n",
    "\n",
    "c = np.where(z<0.8)\n",
    "\n",
    "rows.T[62] = 'test'\n",
    "rows.T[62][c] = 'train'"
   ]
  },
  {
   "cell_type": "code",
   "execution_count": 11,
   "metadata": {},
   "outputs": [
    {
     "data": {
      "text/plain": [
       "array(['train', 'test', 'test', 'train', 'train', 'train', 'train',\n",
       "       'train', 'train', 'test', 'train', 'test', 'train', 'test', 'test',\n",
       "       'test', 'train', 'train', 'train', 'train', 'train', 'train',\n",
       "       'train', 'train', 'train', 'test', 'test', 'train', 'train', 'test',\n",
       "       'train', 'train', 'train', 'train', 'train', 'train', 'train',\n",
       "       'train', 'train', 'train', 'test', 'train', 'train', 'train',\n",
       "       'test', 'train', 'train', 'train', 'train', 'train', 'train',\n",
       "       'train', 'test', 'train', 'train', 'train', 'train', 'train',\n",
       "       'test', 'train', 'train', 'train', 'train', 'train', 'train',\n",
       "       'test', 'train', 'train', 'train', 'train', 'train', 'train',\n",
       "       'train', 'train', 'train', 'train', 'train', 'test', 'train',\n",
       "       'train', 'train', 'train', 'train', 'test', 'train', 'train',\n",
       "       'train', 'train', 'train', 'train', 'test', 'train', 'train',\n",
       "       'test', 'train', 'train', 'train', 'train', 'train', 'test',\n",
       "       'train', 'train', 'train', 'train', 'train', 'train', 'train',\n",
       "       'test', 'train', 'test', 'train', 'train', 'train', 'train', 'test',\n",
       "       'train', 'test', 'train', 'train', 'test', 'train', 'train',\n",
       "       'train', 'train', 'train', 'test', 'test', 'train', 'test', 'train',\n",
       "       'train', 'train', 'test', 'train', 'train', 'train', 'train',\n",
       "       'train', 'train', 'train', 'train', 'test', 'train', 'train',\n",
       "       'train', 'train', 'train', 'train', 'train', 'test', 'train',\n",
       "       'train', 'train', 'train', 'train', 'train', 'train', 'train',\n",
       "       'train', 'test', 'train', 'train', 'train', 'test', 'train',\n",
       "       'train', 'train', 'train', 'train', 'train', 'train', 'test',\n",
       "       'train', 'train', 'train', 'test', 'train', 'train', 'train',\n",
       "       'train', 'train', 'train', 'train', 'train', 'test', 'train',\n",
       "       'train', 'train', 'train', 'train', 'train', 'train', 'train',\n",
       "       'train', 'train', 'train', 'test', 'train', 'train', 'train',\n",
       "       'train', 'test', 'train', 'train', 'train', 'train', 'train',\n",
       "       'train', 'test', 'test', 'train', 'train', 'test', 'train', 'train',\n",
       "       'train', 'train', 'train', 'test', 'train', 'train', 'test',\n",
       "       'train', 'train', 'train', 'train', 'train', 'train', 'train',\n",
       "       'train', 'train', 'test', 'train', 'train', 'test', 'train', 'test',\n",
       "       'train', 'train', 'train', 'train', 'test'],\n",
       "      dtype='<U65')"
      ]
     },
     "execution_count": 11,
     "metadata": {},
     "output_type": "execute_result"
    }
   ],
   "source": [
    "ids = np.array(rows.T[62])\n",
    "ids"
   ]
  },
  {
   "cell_type": "markdown",
   "metadata": {},
   "source": [
    "Dags att lägga in allt i databasen"
   ]
  },
  {
   "cell_type": "code",
   "execution_count": 17,
   "metadata": {},
   "outputs": [
    {
     "name": "stdout",
     "output_type": "stream",
     "text": [
      "UPDATE livs SET Aktivitetstyp = \"train\" WHERE Livsmedelsnummer = \"732\";\n",
      "UPDATE livs SET Aktivitetstyp = \"test\" WHERE Livsmedelsnummer = \"836\";\n",
      "UPDATE livs SET Aktivitetstyp = \"test\" WHERE Livsmedelsnummer = \"838\";\n",
      "UPDATE livs SET Aktivitetstyp = \"test\" WHERE Livsmedelsnummer = \"839\";\n",
      "UPDATE livs SET Aktivitetstyp = \"train\" WHERE Livsmedelsnummer = \"1232\";\n",
      "UPDATE livs SET Aktivitetstyp = \"train\" WHERE Livsmedelsnummer = \"1759\";\n",
      "UPDATE livs SET Aktivitetstyp = \"train\" WHERE Livsmedelsnummer = \"1760\";\n",
      "UPDATE livs SET Aktivitetstyp = \"train\" WHERE Livsmedelsnummer = \"1761\";\n",
      "UPDATE livs SET Aktivitetstyp = \"train\" WHERE Livsmedelsnummer = \"1762\";\n",
      "UPDATE livs SET Aktivitetstyp = \"train\" WHERE Livsmedelsnummer = \"1764\";\n",
      "UPDATE livs SET Aktivitetstyp = \"train\" WHERE Livsmedelsnummer = \"1765\";\n",
      "UPDATE livs SET Aktivitetstyp = \"train\" WHERE Livsmedelsnummer = \"1766\";\n",
      "UPDATE livs SET Aktivitetstyp = \"train\" WHERE Livsmedelsnummer = \"1767\";\n",
      "UPDATE livs SET Aktivitetstyp = \"test\" WHERE Livsmedelsnummer = \"1770\";\n",
      "UPDATE livs SET Aktivitetstyp = \"test\" WHERE Livsmedelsnummer = \"1772\";\n",
      "UPDATE livs SET Aktivitetstyp = \"train\" WHERE Livsmedelsnummer = \"1773\";\n",
      "UPDATE livs SET Aktivitetstyp = \"train\" WHERE Livsmedelsnummer = \"1775\";\n",
      "UPDATE livs SET Aktivitetstyp = \"train\" WHERE Livsmedelsnummer = \"1780\";\n",
      "UPDATE livs SET Aktivitetstyp = \"train\" WHERE Livsmedelsnummer = \"1781\";\n",
      "UPDATE livs SET Aktivitetstyp = \"train\" WHERE Livsmedelsnummer = \"1782\";\n",
      "UPDATE livs SET Aktivitetstyp = \"test\" WHERE Livsmedelsnummer = \"1783\";\n",
      "UPDATE livs SET Aktivitetstyp = \"train\" WHERE Livsmedelsnummer = \"1784\";\n",
      "UPDATE livs SET Aktivitetstyp = \"train\" WHERE Livsmedelsnummer = \"1785\";\n",
      "UPDATE livs SET Aktivitetstyp = \"train\" WHERE Livsmedelsnummer = \"1786\";\n",
      "UPDATE livs SET Aktivitetstyp = \"train\" WHERE Livsmedelsnummer = \"1788\";\n",
      "UPDATE livs SET Aktivitetstyp = \"train\" WHERE Livsmedelsnummer = \"1789\";\n",
      "UPDATE livs SET Aktivitetstyp = \"train\" WHERE Livsmedelsnummer = \"1790\";\n",
      "UPDATE livs SET Aktivitetstyp = \"train\" WHERE Livsmedelsnummer = \"1791\";\n",
      "UPDATE livs SET Aktivitetstyp = \"train\" WHERE Livsmedelsnummer = \"1792\";\n",
      "UPDATE livs SET Aktivitetstyp = \"train\" WHERE Livsmedelsnummer = \"2147\";\n",
      "UPDATE livs SET Aktivitetstyp = \"train\" WHERE Livsmedelsnummer = \"2184\";\n"
     ]
    }
   ],
   "source": [
    "conn = sqlite3.connect('../livs.db')  # Create db and establish connection\n",
    "conn.row_factory = sqlite3.Row\n",
    "curs = conn.cursor()\n",
    "\n",
    "for row in rows:\n",
    "    sql = 'UPDATE livs SET Aktivitetstyp = \"'+row[62]+'\" WHERE Livsmedelsnummer = \"'+row[1]+'\";'\n",
    "    print(sql)\n",
    "    #curs.execute(sql) #Kommentera bort denna vid debug\n",
    "\n",
    "conn.commit()\n",
    "conn.close()"
   ]
  },
  {
   "cell_type": "markdown",
   "metadata": {},
   "source": [
    "När alla huvudgrupper mellan 0 och 19 har gåtts igenom är databasen förberedd för att man ska kunna köra maskininlärningen."
   ]
  },
  {
   "cell_type": "code",
   "execution_count": null,
   "metadata": {
    "collapsed": true
   },
   "outputs": [],
   "source": []
  }
 ],
 "metadata": {
  "kernelspec": {
   "display_name": "Python 3",
   "language": "python",
   "name": "python3"
  },
  "language_info": {
   "codemirror_mode": {
    "name": "ipython",
    "version": 3
   },
   "file_extension": ".py",
   "mimetype": "text/x-python",
   "name": "python",
   "nbconvert_exporter": "python",
   "pygments_lexer": "ipython3",
   "version": "3.5.4"
  }
 },
 "nbformat": 4,
 "nbformat_minor": 2
}
