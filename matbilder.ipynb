{
 "cells": [
  {
   "cell_type": "code",
   "execution_count": 135,
   "metadata": {
    "collapsed": true
   },
   "outputs": [],
   "source": [
    "#!/usr/bin/env python\n",
    "# -*- coding: utf-8 -*-\n",
    "import sqlite3\n",
    "import numpy as np\n",
    "import random\n",
    "import urllib.request\n",
    "import time\n",
    "import os"
   ]
  },
  {
   "cell_type": "code",
   "execution_count": 149,
   "metadata": {},
   "outputs": [
    {
     "name": "stdout",
     "output_type": "stream",
     "text": [
      "[209, 939, 1774] [['Sjömansbiff fryst' '256']\n",
      " ['Köttfärssås älgfärs' '1132']\n",
      " ['Sjömansbiff' '2092']]\n"
     ]
    }
   ],
   "source": [
    "conn = sqlite3.connect('livs.db')  # Create db and establish connection\n",
    "conn.row_factory = sqlite3.Row\n",
    "curs = conn.cursor()\n",
    "result = []\n",
    "rows = curs.execute('select Livsmedelsnamn, Livsmedelsnummer from livs limit 2000')\n",
    "for row in rows:\n",
    "        result.append(row)\n",
    "\n",
    "#rows = np.array(result)\n",
    "#rows = rows[970:]\n",
    "samples = random.sample(range(0, 1999), 3)\n",
    "sampledFoodItems = []\n",
    "#print (type(sampledFoodItems))\n",
    "\n",
    "for index in samples:\n",
    "    sampledFoodItems.append(result[index])\n",
    "\n",
    "sampledFoodItems = np.array(sampledFoodItems)\n",
    "print (samples, sampledFoodItems)\n",
    "\n",
    "conn.close()"
   ]
  },
  {
   "cell_type": "code",
   "execution_count": 150,
   "metadata": {
    "collapsed": true
   },
   "outputs": [],
   "source": [
    "def download_page(url): #urllib library for Extracting web pages\n",
    "    try:\n",
    "        headers = {}\n",
    "        headers['User-Agent'] = \"Mozilla/5.0 (Windows NT 6.1) AppleWebKit/537.36 (KHTML, like Gecko) Chrome/41.0.2228.0 Safari/537.36\"\n",
    "        req = urllib.request.Request(url, headers = headers)\n",
    "        resp = urllib.request.urlopen(req)\n",
    "        respData = str(resp.read())\n",
    "        return respData\n",
    "    except Exception as e:\n",
    "        print(str(e))"
   ]
  },
  {
   "cell_type": "code",
   "execution_count": 155,
   "metadata": {
    "collapsed": true
   },
   "outputs": [],
   "source": [
    "#Finding 'Next Image' from the given raw page\n",
    "def _images_get_next_item(s):\n",
    "    print (type(s))\n",
    "    start_line = s.find('rg_di')\n",
    "    if start_line == -1:    #If no links are found then give an error!\n",
    "        end_quote = 0\n",
    "        link = \"no_links\"\n",
    "        return link, end_quote\n",
    "    else:\n",
    "        start_line = s.find('\"class=\"rg_meta\"')\n",
    "        start_content = s.find('\"ou\"',start_line+1)\n",
    "        end_content = s.find(',\"ow\"',start_content+1)\n",
    "        content_raw = str(s[start_content+6:end_content-1])\n",
    "        return content_raw, end_content"
   ]
  },
  {
   "cell_type": "code",
   "execution_count": 156,
   "metadata": {
    "collapsed": true
   },
   "outputs": [],
   "source": [
    "def _images_get_all_items(page):\n",
    "    items = []\n",
    "    while True:\n",
    "        item, end_content = _images_get_next_item(page)\n",
    "        if item == \"no_links\":\n",
    "            break\n",
    "        else:\n",
    "            items.append(item)      #Append all the links in the list named 'Links'\n",
    "            time.sleep(0.1)        #Timer could be used to slow down the request for image downloads\n",
    "            page = page[end_content:]\n",
    "    return items\n"
   ]
  },
  {
   "cell_type": "code",
   "execution_count": 157,
   "metadata": {},
   "outputs": [
    {
     "name": "stdout",
     "output_type": "stream",
     "text": [
      "[['Sjömansbiff%20fryst' '256']\n",
      " ['Köttfärssås%20älgfä' '1132']\n",
      " ['Sjömansbiff' '2092']]\n"
     ]
    }
   ],
   "source": [
    "t0 = time.time()   #start the timer\n",
    "keywords = sampledFoodItems\n",
    "#Prepare keywords\n",
    "for i, item in enumerate(keywords):\n",
    "    keywords[i][0]=keywords[i][0].replace(' ','%20')\n",
    "print (keywords)"
   ]
  },
  {
   "cell_type": "code",
   "execution_count": 163,
   "metadata": {},
   "outputs": [
    {
     "name": "stdout",
     "output_type": "stream",
     "text": [
      "Item no.: 0 --> Item name = Sjömansbiff%20fryst\n",
      "Evaluating...\n",
      "['Sjömansbiff%20fryst' '256']\n",
      "https://www.google.se/search?q=Sjömansbiff%20fryst&espv=2&biw=1366&bih=667&site=webhp&source=lnms&tbm=isch&sa=X&ei=XosDVaCXD8TasATItgE&ved=0CAcQ_AUoAg\n",
      "Image Links = ['https://static.mathem.se/shared/images/products/medium/tistel-olja-eko-500ml-urtekram-1.jpg', 'https://www.jordklok.se/images/2.8421/crearome-tistelolja-kallpressad-eko-100-ml.jpeg', 'https://grongava.se/images/db/item/778.jpg', 'https://static.mathem.se/shared/images/products/large/tistel-olja-eko-500ml-urtekram-1.jpg', 'http://www.svensktkosttillskott.se/images/tistelolja_eko_11247.jpg', 'http://ravaja.com/images/zoom/tistelolja-kallpressad-eko-crearome.jpg', 'https://static.mathem.se/shared/images/products/large/07330137040000_c1n1.jpg', 'http://www.shopping4net.se/Common/PCCs/Products/Grpx/H4Net/Img-HTKE0-98-500_1-large.jpg', 'https://shopcdn.textalk.se/shop/24672/art72/h6921/14236921-origpic-942d8c.jpg?max-width\\\\\\\\u003d240\\\\\\\\u0026max-height\\\\\\\\u003d192\\\\\\\\u0026quality\\\\\\\\u003d92', 'https://www.jordklok.se/images/2.44511/crearome-tistelolja-omega-9-kallpressad-eko-100-ml.jpeg', 'https://www.svenskhalsokost.se/bilder/tistelolja_eko_6331_x4.jpg', 'http://media.lugnochfin.se/2013/02/IMG_3006-300x2941.png', 'https://shopcdn.textalk.se/shop/11800/art0/h0189/16440189-origpic-945383.jpg?max-width\\\\\\\\u003d480\\\\\\\\u0026max-height\\\\\\\\u003d480\\\\\\\\u0026quality\\\\\\\\u003d92', 'http://www.kvalitetsvaruhus.se/uimages/dscf1408.jpg', 'http://www.svensktkosttillskott.se/images/biofood_tistelolja_eko_13711.jpg', 'https://www.vitavera.se/PICTURE/1416-80-529.jpg', 'https://www.svenskhalsokost.se/bilder/biofood_tistelolja_eko_8205_x2.jpg', 'http://jadersbruk.se/wp-content/uploads/2012/10/Tistelolja.jpg', 'https://naturkosmos.se/PICTURE/1565-81-3026-1_default.jpg', 'http://ravaja.com/images/normal/tistelolja-100ml-crearome.jpg', 'http://www.shopping4net.se/Common/PCCs/Products/Grpx/H4Net/Img-HTKE0-98-500_1.jpg', 'https://shopcdn.textalk.se/shop/31062/art62/h5571/35765571-origpic-a6f527.jpg?max-width\\\\\\\\u003d480\\\\\\\\u0026max-height\\\\\\\\u003d384\\\\\\\\u0026quality\\\\\\\\u003d92', 'https://thumbs.dreamstime.com/b/mj%C3%B6lka-tistelolja-57040483.jpg', 'https://cdn.pandacommerce.net/static/customer/464/media/b4da0e4344ae73b2d23a8ab1ade0e540_0_500.jpg', 'https://naturkosmos.se/PICTURE/1003-69-3019-1_default.jpg', 'https://ekologisera.files.wordpress.com/2012/05/tistelolja.jpg?w\\\\\\\\u003d500', 'http://organicoilonline.com/32-thickbox_default/tistelolja.jpg', 'http://www.ekotekethalmstad.se/31-thickbox_default/duschtval-med-tistelolja-tylosand.jpg', 'https://i0.wp.com/www.ekoolja.se/wp-content/uploads/2016/12/tistel-300x200.jpg?resize\\\\\\\\u003d300%2C200', 'https://www.vitavera.se/PICTURE/401-68-1328.jpg', 'http://www.dietguiden.org/bilder/tistel.jpg', 'http://www.podor.hu/files/pic_cache/bruschetta-med-tistelolja_1722.jpg', 'http://riktighalsokost.se/151-thickbox_default/tistelolja.jpg', 'http://az61094.vo.msecnd.net/img/02/c7564f34-983b-4b61-b608-cf5b56445984/800/600', 'https://i0.wp.com/www.ekoolja.se/wp-content/uploads/2016/06/jojobaolja_eko_1829.jpg?w\\\\\\\\u003d750', 'https://opella.se/PICTURE/630-78-tistelolja4.jpg', 'https://www.vitavera.se/PICTURE/3874-68-flaska-250-brun.jpg', 'http://cdn2.cdnme.se/cdn/6-2/1484477/images/2010/tistelolja-1_85538247.jpg', 'https://thumbs.dreamstime.com/t/krus-med-tistelolja-76374062.jpg', 'https://www.podor.se/files/1313/9750/5290/bruschetta-2.jpg', 'https://www.med24.se/images/e-vitamin-olie_100ml.jpg', 'https://blandadebubblor.files.wordpress.com/2013/07/neemkreem2.jpg', 'https://naturkosmos.se/PICTURE/1615-69-3050-1_default.jpg', 'http://jadersbruk.se/wp-content/uploads/2012/11/Kanel-200x200.jpg', 'http://wmfits.com/files/38/1221793/1081936.jpg', 'http://www.floraton.com/wp-content/uploads/tistelsolja.jpg', 'http://healingandbodywork.com/wp-content/uploads/2016/3/image-healing1952.jpg', 'http://scontent.cdninstagram.com/t51.2885-15/s480x480/e35/16585269_1674690406165043_6150925279960236032_n.jpg?ig_cache_key\\\\\\\\u003dMTQ0NjUxMTk0MTYyNjQzMzU1OQ%3D%3D.2', 'http://2.bp.blogspot.com/_JdH3dFzuNCM/SlxM6sltzCI/AAAAAAAABPo/72g_ThC2sKU/s400/img_4354-2.jpg', 'https://www.vitavera.se/PICTURE/367-80-1292.jpg', 'https://grongava.se/images/cache/item/1861_jpg_8905804e37e4abebd38bbfc895f76682.jpg', 'https://www.svensktkosttillskott.se/images/tranbar_1177_med.jpg', 'https://www.vitavera.se/PICTURE/514-68-144.jpg', 'https://es.all.biz/img/es/catalog/34345.jpg', 'https://sagogrynet.files.wordpress.com/2011/12/oljorna.jpg', 'http://www.shopping4net.se/Common/PCCs/Products/Grpx/H4Net/Img-HM00K-98-100_1-large.jpg', 'http://185.99.36.77/~perwah/wp-content/uploads/2011/03/01BSH_BABY_SHAMPOO_144.jpg', 'http://ortlabbet.se/image/k-kropp/nr-120.jpg', 'http://www.ekoolja.se/wp-content/uploads/2016/05/ekoolja.jpg', 'https://acikgunluk.net/wp-content/uploads/2017/05/maslorastoropshiprimenenievkapsulax_7A99EC96.jpg', 'https://www.jordklok.se/images/2.53608/urtekram-hampfroolja-500-ml.jpeg', 'http://dst15js82dk7j.cloudfront.net/27501/62310634-vue16.jpg', 'https://www.jordklok.se/images/2.19576/crearome-hampfroolja-kallpressad-eko-100-ml.jpeg', 'https://www.vitavera.se/PICTURE/544-68-1473.jpg', 'http://beautywmn.com/files/55/312023/321099.jpg', 'https://naturkosmos.se/PICTURE/12966-81-3026-1_2.jpg', 'https://grongava.se/images/db/item/839.jpg', 'http://scontent.cdninstagram.com/t51.2885-15/s480x480/e15/11024431_877565012303929_274886097_n.jpg?ig_cache_key\\\\\\\\u003dOTM3NjY4MDg1MzI2NzY3OTY0.2', 'https://scontent-ams3-1.cdninstagram.com/t51.2885-15/e35/12224532_751839114945365_1498654205_n.jpg', 'https://naturkosmos.se/PICTURE/13849-69-3076-1_default.jpg', 'http://jadersbruk.se/wp-content/uploads/2012/11/Pepparmix-200x200.jpg', 'http://ebody.se/image/cache/data/Crearome/crearome-jojobaolja-eko-100ml-347-450x450.jpg', 'https://images.ttcdn.co/media/products/236922-001311f95dca4559a47bc850d5e9533a/annelundsbigard/bivaxsalva-tistelolja-30ml-0.jpeg', 'https://www.vitavera.se/PICTURE/3918-68-ringblomsolja.jpg', 'https://www.jordklok.se/images/2.64056/crearome-nattljusolja-9-gla-kallpressad-eko-30-ml.jpeg', 'http://www.halsingehonung.se/images/ansiktsolja.jpg', 'https://scontent.cdninstagram.com/t51.2885-15/s320x320/e35/c236.0.608.608/17881092_1300080140099686_2094833636783161344_n.jpg', 'http://baraban.se/product_thumb.php?img\\\\\\\\u003dimages/OL4911050.jpg\\\\\\\\u0026w\\\\\\\\u003d200\\\\\\\\u0026h\\\\\\\\u003d200', 'https://images.ttcdn.co/media/products/236922-df2433d4d71e4deca2c0e1454e6ea073/annelundsbigard/bivaxsalva-avocadoolja-30ml-0.jpeg', 'http://www.neaofsweden.se/images/4228/900x600/tistel.jpg', 'https://naturkosmos.se/PICTURE/13073-69-3033-1_default.jpg', 'https://hudspecialisten.se/wp-content/uploads/2017/01/AntiAge_DAR_TheRevitalizingOil_hallonfroolja-870x594.jpg', 'http://www.100gram.se/livsmedelsverkets-livsmedelsdatabas/tistelolja/13863/kalorier-naringsvarden-ingredienser', 'http://3.bp.blogspot.com/-q-4nDZ3uNJY/TV-8s-6vzlI/AAAAAAAAALo/65aV5fr4Aak/s1600/IMG_8602.jpg', 'https://opella.se/PICTURE/2022-66-jojobaolja.jpg', 'https://thumbs.dreamstime.com/z/mj%C3%B6lka-tistelolja-58674002.jpg', 'https://thumbs.dreamstime.com/z/mj%C3%B6lka-tistelolja-58674017.jpg', 'https://www.vitavera.se/PICTURE/3343-68-krom-holistic.jpg', 'https://scontent-ams3-1.cdninstagram.com/t51.2885-15/s640x640/e35/13525505_1029885307048909_1728280303_n.jpg', 'http://www.ecoboost.se/img/p/3/3/33-large_default.jpg', 'https://static1.squarespace.com/static/5734529660b5e9846a0d2046/t/590997fe1b10e3feb2c08b96/1493800969439/', 'https://www.vitavera.se/PICTURE/368-68-1293.jpg', 'https://naturkosmos.se/PICTURE/15925-69-14032-53-3000-1_default.png', 'http://media.apotea.se/product-images/XL/bio-t-90-kapslar-0.jpg', 'https://thumbs.dreamstime.com/z/mj%C3%B6lka-tistelolja-58673998.jpg', 'http://www.noberu.se/pub_images/large/Latt_Noberu_Heavy_Beard_Oil1-(1).jpg', 'https://www.podor.se/files/8313/9733/4194/bruschetta-s.jpg', 'https://www.svenskhalsokost.se/bilder/shakti_spikmatta_original_3879_x1.jpg', 'http://www.noberu.se/pub_images/large/N%C3%B5beru_Heavy_Beard_oil_AmberLime_Back.jpg', 'http://jadersbruk.se/wp-content/uploads/2015/04/22392898-origpic-82bbc4.jpg_0_0_100_100_300_390_85-200x200.jpg']\n",
      "Total Image Links = 100\n",
      "\n",
      "\n",
      "Item no.: 1 --> Item name = Köttfärssås%20älgfä\n",
      "Evaluating...\n",
      "['Köttfärssås%20älgfä' '1132']\n",
      "https://www.google.se/search?q=Köttfärssås%20älgfä&espv=2&biw=1366&bih=667&site=webhp&source=lnms&tbm=isch&sa=X&ei=XosDVaCXD8TasATItgE&ved=0CAcQ_AUoAg\n",
      "Image Links = ['https://static.mathem.se/shared/images/products/medium/tistel-olja-eko-500ml-urtekram-1.jpg', 'https://www.jordklok.se/images/2.8421/crearome-tistelolja-kallpressad-eko-100-ml.jpeg', 'https://grongava.se/images/db/item/778.jpg', 'https://static.mathem.se/shared/images/products/large/tistel-olja-eko-500ml-urtekram-1.jpg', 'http://www.svensktkosttillskott.se/images/tistelolja_eko_11247.jpg', 'http://ravaja.com/images/zoom/tistelolja-kallpressad-eko-crearome.jpg', 'https://static.mathem.se/shared/images/products/large/07330137040000_c1n1.jpg', 'http://www.shopping4net.se/Common/PCCs/Products/Grpx/H4Net/Img-HTKE0-98-500_1-large.jpg', 'https://shopcdn.textalk.se/shop/24672/art72/h6921/14236921-origpic-942d8c.jpg?max-width\\\\\\\\u003d240\\\\\\\\u0026max-height\\\\\\\\u003d192\\\\\\\\u0026quality\\\\\\\\u003d92', 'https://www.jordklok.se/images/2.44511/crearome-tistelolja-omega-9-kallpressad-eko-100-ml.jpeg', 'https://www.svenskhalsokost.se/bilder/tistelolja_eko_6331_x4.jpg', 'http://media.lugnochfin.se/2013/02/IMG_3006-300x2941.png', 'https://shopcdn.textalk.se/shop/11800/art0/h0189/16440189-origpic-945383.jpg?max-width\\\\\\\\u003d480\\\\\\\\u0026max-height\\\\\\\\u003d480\\\\\\\\u0026quality\\\\\\\\u003d92', 'http://www.kvalitetsvaruhus.se/uimages/dscf1408.jpg', 'http://www.svensktkosttillskott.se/images/biofood_tistelolja_eko_13711.jpg', 'https://www.vitavera.se/PICTURE/1416-80-529.jpg', 'https://www.svenskhalsokost.se/bilder/biofood_tistelolja_eko_8205_x2.jpg', 'http://jadersbruk.se/wp-content/uploads/2012/10/Tistelolja.jpg', 'https://naturkosmos.se/PICTURE/1565-81-3026-1_default.jpg', 'http://ravaja.com/images/normal/tistelolja-100ml-crearome.jpg', 'http://www.shopping4net.se/Common/PCCs/Products/Grpx/H4Net/Img-HTKE0-98-500_1.jpg', 'https://shopcdn.textalk.se/shop/31062/art62/h5571/35765571-origpic-a6f527.jpg?max-width\\\\\\\\u003d480\\\\\\\\u0026max-height\\\\\\\\u003d384\\\\\\\\u0026quality\\\\\\\\u003d92', 'https://thumbs.dreamstime.com/b/mj%C3%B6lka-tistelolja-57040483.jpg', 'https://cdn.pandacommerce.net/static/customer/464/media/b4da0e4344ae73b2d23a8ab1ade0e540_0_500.jpg', 'https://naturkosmos.se/PICTURE/1003-69-3019-1_default.jpg', 'https://ekologisera.files.wordpress.com/2012/05/tistelolja.jpg?w\\\\\\\\u003d500', 'http://organicoilonline.com/32-thickbox_default/tistelolja.jpg', 'http://www.ekotekethalmstad.se/31-thickbox_default/duschtval-med-tistelolja-tylosand.jpg', 'https://i0.wp.com/www.ekoolja.se/wp-content/uploads/2016/12/tistel-300x200.jpg?resize\\\\\\\\u003d300%2C200', 'https://www.vitavera.se/PICTURE/401-68-1328.jpg', 'http://www.dietguiden.org/bilder/tistel.jpg', 'http://www.podor.hu/files/pic_cache/bruschetta-med-tistelolja_1722.jpg', 'http://riktighalsokost.se/151-thickbox_default/tistelolja.jpg', 'http://az61094.vo.msecnd.net/img/02/c7564f34-983b-4b61-b608-cf5b56445984/800/600', 'https://i0.wp.com/www.ekoolja.se/wp-content/uploads/2016/06/jojobaolja_eko_1829.jpg?w\\\\\\\\u003d750', 'https://opella.se/PICTURE/630-78-tistelolja4.jpg', 'https://www.vitavera.se/PICTURE/3874-68-flaska-250-brun.jpg', 'http://cdn2.cdnme.se/cdn/6-2/1484477/images/2010/tistelolja-1_85538247.jpg', 'https://thumbs.dreamstime.com/t/krus-med-tistelolja-76374062.jpg', 'https://www.podor.se/files/1313/9750/5290/bruschetta-2.jpg', 'https://www.med24.se/images/e-vitamin-olie_100ml.jpg', 'https://blandadebubblor.files.wordpress.com/2013/07/neemkreem2.jpg', 'https://naturkosmos.se/PICTURE/1615-69-3050-1_default.jpg', 'http://jadersbruk.se/wp-content/uploads/2012/11/Kanel-200x200.jpg', 'http://wmfits.com/files/38/1221793/1081936.jpg', 'http://www.floraton.com/wp-content/uploads/tistelsolja.jpg', 'http://healingandbodywork.com/wp-content/uploads/2016/3/image-healing1952.jpg', 'http://scontent.cdninstagram.com/t51.2885-15/s480x480/e35/16585269_1674690406165043_6150925279960236032_n.jpg?ig_cache_key\\\\\\\\u003dMTQ0NjUxMTk0MTYyNjQzMzU1OQ%3D%3D.2', 'http://2.bp.blogspot.com/_JdH3dFzuNCM/SlxM6sltzCI/AAAAAAAABPo/72g_ThC2sKU/s400/img_4354-2.jpg', 'https://www.vitavera.se/PICTURE/367-80-1292.jpg', 'https://grongava.se/images/cache/item/1861_jpg_8905804e37e4abebd38bbfc895f76682.jpg', 'https://www.svensktkosttillskott.se/images/tranbar_1177_med.jpg', 'https://www.vitavera.se/PICTURE/514-68-144.jpg', 'https://es.all.biz/img/es/catalog/34345.jpg', 'https://sagogrynet.files.wordpress.com/2011/12/oljorna.jpg', 'http://www.shopping4net.se/Common/PCCs/Products/Grpx/H4Net/Img-HM00K-98-100_1-large.jpg', 'http://185.99.36.77/~perwah/wp-content/uploads/2011/03/01BSH_BABY_SHAMPOO_144.jpg', 'http://ortlabbet.se/image/k-kropp/nr-120.jpg', 'http://www.ekoolja.se/wp-content/uploads/2016/05/ekoolja.jpg', 'https://acikgunluk.net/wp-content/uploads/2017/05/maslorastoropshiprimenenievkapsulax_7A99EC96.jpg', 'https://www.jordklok.se/images/2.53608/urtekram-hampfroolja-500-ml.jpeg', 'http://dst15js82dk7j.cloudfront.net/27501/62310634-vue16.jpg', 'https://www.jordklok.se/images/2.19576/crearome-hampfroolja-kallpressad-eko-100-ml.jpeg', 'https://www.vitavera.se/PICTURE/544-68-1473.jpg', 'http://beautywmn.com/files/55/312023/321099.jpg', 'https://naturkosmos.se/PICTURE/12966-81-3026-1_2.jpg', 'https://grongava.se/images/db/item/839.jpg', 'http://scontent.cdninstagram.com/t51.2885-15/s480x480/e15/11024431_877565012303929_274886097_n.jpg?ig_cache_key\\\\\\\\u003dOTM3NjY4MDg1MzI2NzY3OTY0.2', 'https://scontent-ams3-1.cdninstagram.com/t51.2885-15/e35/12224532_751839114945365_1498654205_n.jpg', 'https://naturkosmos.se/PICTURE/13849-69-3076-1_default.jpg', 'http://jadersbruk.se/wp-content/uploads/2012/11/Pepparmix-200x200.jpg', 'http://ebody.se/image/cache/data/Crearome/crearome-jojobaolja-eko-100ml-347-450x450.jpg', 'https://images.ttcdn.co/media/products/236922-001311f95dca4559a47bc850d5e9533a/annelundsbigard/bivaxsalva-tistelolja-30ml-0.jpeg', 'https://www.vitavera.se/PICTURE/3918-68-ringblomsolja.jpg', 'https://www.jordklok.se/images/2.64056/crearome-nattljusolja-9-gla-kallpressad-eko-30-ml.jpeg', 'http://www.halsingehonung.se/images/ansiktsolja.jpg', 'https://scontent.cdninstagram.com/t51.2885-15/s320x320/e35/c236.0.608.608/17881092_1300080140099686_2094833636783161344_n.jpg', 'http://baraban.se/product_thumb.php?img\\\\\\\\u003dimages/OL4911050.jpg\\\\\\\\u0026w\\\\\\\\u003d200\\\\\\\\u0026h\\\\\\\\u003d200', 'https://images.ttcdn.co/media/products/236922-df2433d4d71e4deca2c0e1454e6ea073/annelundsbigard/bivaxsalva-avocadoolja-30ml-0.jpeg', 'http://www.neaofsweden.se/images/4228/900x600/tistel.jpg', 'https://naturkosmos.se/PICTURE/13073-69-3033-1_default.jpg', 'https://hudspecialisten.se/wp-content/uploads/2017/01/AntiAge_DAR_TheRevitalizingOil_hallonfroolja-870x594.jpg', 'http://www.100gram.se/livsmedelsverkets-livsmedelsdatabas/tistelolja/13863/kalorier-naringsvarden-ingredienser', 'http://3.bp.blogspot.com/-q-4nDZ3uNJY/TV-8s-6vzlI/AAAAAAAAALo/65aV5fr4Aak/s1600/IMG_8602.jpg', 'https://opella.se/PICTURE/2022-66-jojobaolja.jpg', 'https://thumbs.dreamstime.com/z/mj%C3%B6lka-tistelolja-58674002.jpg', 'https://thumbs.dreamstime.com/z/mj%C3%B6lka-tistelolja-58674017.jpg', 'https://www.vitavera.se/PICTURE/3343-68-krom-holistic.jpg', 'https://scontent-ams3-1.cdninstagram.com/t51.2885-15/s640x640/e35/13525505_1029885307048909_1728280303_n.jpg', 'http://www.ecoboost.se/img/p/3/3/33-large_default.jpg', 'https://static1.squarespace.com/static/5734529660b5e9846a0d2046/t/590997fe1b10e3feb2c08b96/1493800969439/', 'https://www.vitavera.se/PICTURE/368-68-1293.jpg', 'https://naturkosmos.se/PICTURE/15925-69-14032-53-3000-1_default.png', 'http://media.apotea.se/product-images/XL/bio-t-90-kapslar-0.jpg', 'https://thumbs.dreamstime.com/z/mj%C3%B6lka-tistelolja-58673998.jpg', 'http://www.noberu.se/pub_images/large/Latt_Noberu_Heavy_Beard_Oil1-(1).jpg', 'https://www.podor.se/files/8313/9733/4194/bruschetta-s.jpg', 'https://www.svenskhalsokost.se/bilder/shakti_spikmatta_original_3879_x1.jpg', 'http://www.noberu.se/pub_images/large/N%C3%B5beru_Heavy_Beard_oil_AmberLime_Back.jpg', 'http://jadersbruk.se/wp-content/uploads/2015/04/22392898-origpic-82bbc4.jpg_0_0_100_100_300_390_85-200x200.jpg']\n",
      "Total Image Links = 100\n",
      "\n",
      "\n",
      "Item no.: 2 --> Item name = Sjömansbiff\n",
      "Evaluating...\n",
      "['Sjömansbiff' '2092']\n",
      "https://www.google.se/search?q=Sjömansbiff&espv=2&biw=1366&bih=667&site=webhp&source=lnms&tbm=isch&sa=X&ei=XosDVaCXD8TasATItgE&ved=0CAcQ_AUoAg\n",
      "Image Links = ['https://static.mathem.se/shared/images/products/medium/tistel-olja-eko-500ml-urtekram-1.jpg', 'https://www.jordklok.se/images/2.8421/crearome-tistelolja-kallpressad-eko-100-ml.jpeg', 'https://grongava.se/images/db/item/778.jpg', 'https://static.mathem.se/shared/images/products/large/tistel-olja-eko-500ml-urtekram-1.jpg', 'http://www.svensktkosttillskott.se/images/tistelolja_eko_11247.jpg', 'http://ravaja.com/images/zoom/tistelolja-kallpressad-eko-crearome.jpg', 'https://static.mathem.se/shared/images/products/large/07330137040000_c1n1.jpg', 'http://www.shopping4net.se/Common/PCCs/Products/Grpx/H4Net/Img-HTKE0-98-500_1-large.jpg', 'https://shopcdn.textalk.se/shop/24672/art72/h6921/14236921-origpic-942d8c.jpg?max-width\\\\\\\\u003d240\\\\\\\\u0026max-height\\\\\\\\u003d192\\\\\\\\u0026quality\\\\\\\\u003d92', 'https://www.jordklok.se/images/2.44511/crearome-tistelolja-omega-9-kallpressad-eko-100-ml.jpeg', 'https://www.svenskhalsokost.se/bilder/tistelolja_eko_6331_x4.jpg', 'http://media.lugnochfin.se/2013/02/IMG_3006-300x2941.png', 'https://shopcdn.textalk.se/shop/11800/art0/h0189/16440189-origpic-945383.jpg?max-width\\\\\\\\u003d480\\\\\\\\u0026max-height\\\\\\\\u003d480\\\\\\\\u0026quality\\\\\\\\u003d92', 'http://www.kvalitetsvaruhus.se/uimages/dscf1408.jpg', 'http://www.svensktkosttillskott.se/images/biofood_tistelolja_eko_13711.jpg', 'https://www.vitavera.se/PICTURE/1416-80-529.jpg', 'https://www.svenskhalsokost.se/bilder/biofood_tistelolja_eko_8205_x2.jpg', 'http://jadersbruk.se/wp-content/uploads/2012/10/Tistelolja.jpg', 'https://naturkosmos.se/PICTURE/1565-81-3026-1_default.jpg', 'http://ravaja.com/images/normal/tistelolja-100ml-crearome.jpg', 'http://www.shopping4net.se/Common/PCCs/Products/Grpx/H4Net/Img-HTKE0-98-500_1.jpg', 'https://shopcdn.textalk.se/shop/31062/art62/h5571/35765571-origpic-a6f527.jpg?max-width\\\\\\\\u003d480\\\\\\\\u0026max-height\\\\\\\\u003d384\\\\\\\\u0026quality\\\\\\\\u003d92', 'https://thumbs.dreamstime.com/b/mj%C3%B6lka-tistelolja-57040483.jpg', 'https://cdn.pandacommerce.net/static/customer/464/media/b4da0e4344ae73b2d23a8ab1ade0e540_0_500.jpg', 'https://naturkosmos.se/PICTURE/1003-69-3019-1_default.jpg', 'https://ekologisera.files.wordpress.com/2012/05/tistelolja.jpg?w\\\\\\\\u003d500', 'http://organicoilonline.com/32-thickbox_default/tistelolja.jpg', 'http://www.ekotekethalmstad.se/31-thickbox_default/duschtval-med-tistelolja-tylosand.jpg', 'https://i0.wp.com/www.ekoolja.se/wp-content/uploads/2016/12/tistel-300x200.jpg?resize\\\\\\\\u003d300%2C200', 'https://www.vitavera.se/PICTURE/401-68-1328.jpg', 'http://www.dietguiden.org/bilder/tistel.jpg', 'http://www.podor.hu/files/pic_cache/bruschetta-med-tistelolja_1722.jpg', 'http://riktighalsokost.se/151-thickbox_default/tistelolja.jpg', 'http://az61094.vo.msecnd.net/img/02/c7564f34-983b-4b61-b608-cf5b56445984/800/600', 'https://i0.wp.com/www.ekoolja.se/wp-content/uploads/2016/06/jojobaolja_eko_1829.jpg?w\\\\\\\\u003d750', 'https://opella.se/PICTURE/630-78-tistelolja4.jpg', 'https://www.vitavera.se/PICTURE/3874-68-flaska-250-brun.jpg', 'http://cdn2.cdnme.se/cdn/6-2/1484477/images/2010/tistelolja-1_85538247.jpg', 'https://thumbs.dreamstime.com/t/krus-med-tistelolja-76374062.jpg', 'https://www.podor.se/files/1313/9750/5290/bruschetta-2.jpg', 'https://www.med24.se/images/e-vitamin-olie_100ml.jpg', 'https://blandadebubblor.files.wordpress.com/2013/07/neemkreem2.jpg', 'https://naturkosmos.se/PICTURE/1615-69-3050-1_default.jpg', 'http://jadersbruk.se/wp-content/uploads/2012/11/Kanel-200x200.jpg', 'http://wmfits.com/files/38/1221793/1081936.jpg', 'http://www.floraton.com/wp-content/uploads/tistelsolja.jpg', 'http://healingandbodywork.com/wp-content/uploads/2016/3/image-healing1952.jpg', 'http://scontent.cdninstagram.com/t51.2885-15/s480x480/e35/16585269_1674690406165043_6150925279960236032_n.jpg?ig_cache_key\\\\\\\\u003dMTQ0NjUxMTk0MTYyNjQzMzU1OQ%3D%3D.2', 'http://2.bp.blogspot.com/_JdH3dFzuNCM/SlxM6sltzCI/AAAAAAAABPo/72g_ThC2sKU/s400/img_4354-2.jpg', 'https://www.vitavera.se/PICTURE/367-80-1292.jpg', 'https://grongava.se/images/cache/item/1861_jpg_8905804e37e4abebd38bbfc895f76682.jpg', 'https://www.svensktkosttillskott.se/images/tranbar_1177_med.jpg', 'https://www.vitavera.se/PICTURE/514-68-144.jpg', 'https://es.all.biz/img/es/catalog/34345.jpg', 'https://sagogrynet.files.wordpress.com/2011/12/oljorna.jpg', 'http://www.shopping4net.se/Common/PCCs/Products/Grpx/H4Net/Img-HM00K-98-100_1-large.jpg', 'http://185.99.36.77/~perwah/wp-content/uploads/2011/03/01BSH_BABY_SHAMPOO_144.jpg', 'http://ortlabbet.se/image/k-kropp/nr-120.jpg', 'http://www.ekoolja.se/wp-content/uploads/2016/05/ekoolja.jpg', 'https://acikgunluk.net/wp-content/uploads/2017/05/maslorastoropshiprimenenievkapsulax_7A99EC96.jpg', 'https://www.jordklok.se/images/2.53608/urtekram-hampfroolja-500-ml.jpeg', 'http://dst15js82dk7j.cloudfront.net/27501/62310634-vue16.jpg', 'https://www.jordklok.se/images/2.19576/crearome-hampfroolja-kallpressad-eko-100-ml.jpeg', 'https://www.vitavera.se/PICTURE/544-68-1473.jpg', 'http://beautywmn.com/files/55/312023/321099.jpg', 'https://naturkosmos.se/PICTURE/12966-81-3026-1_2.jpg', 'https://grongava.se/images/db/item/839.jpg', 'http://scontent.cdninstagram.com/t51.2885-15/s480x480/e15/11024431_877565012303929_274886097_n.jpg?ig_cache_key\\\\\\\\u003dOTM3NjY4MDg1MzI2NzY3OTY0.2', 'https://scontent-ams3-1.cdninstagram.com/t51.2885-15/e35/12224532_751839114945365_1498654205_n.jpg', 'https://naturkosmos.se/PICTURE/13849-69-3076-1_default.jpg', 'http://jadersbruk.se/wp-content/uploads/2012/11/Pepparmix-200x200.jpg', 'http://ebody.se/image/cache/data/Crearome/crearome-jojobaolja-eko-100ml-347-450x450.jpg', 'https://images.ttcdn.co/media/products/236922-001311f95dca4559a47bc850d5e9533a/annelundsbigard/bivaxsalva-tistelolja-30ml-0.jpeg', 'https://www.vitavera.se/PICTURE/3918-68-ringblomsolja.jpg', 'https://www.jordklok.se/images/2.64056/crearome-nattljusolja-9-gla-kallpressad-eko-30-ml.jpeg', 'http://www.halsingehonung.se/images/ansiktsolja.jpg', 'https://scontent.cdninstagram.com/t51.2885-15/s320x320/e35/c236.0.608.608/17881092_1300080140099686_2094833636783161344_n.jpg', 'http://baraban.se/product_thumb.php?img\\\\\\\\u003dimages/OL4911050.jpg\\\\\\\\u0026w\\\\\\\\u003d200\\\\\\\\u0026h\\\\\\\\u003d200', 'https://images.ttcdn.co/media/products/236922-df2433d4d71e4deca2c0e1454e6ea073/annelundsbigard/bivaxsalva-avocadoolja-30ml-0.jpeg', 'http://www.neaofsweden.se/images/4228/900x600/tistel.jpg', 'https://naturkosmos.se/PICTURE/13073-69-3033-1_default.jpg', 'https://hudspecialisten.se/wp-content/uploads/2017/01/AntiAge_DAR_TheRevitalizingOil_hallonfroolja-870x594.jpg', 'http://www.100gram.se/livsmedelsverkets-livsmedelsdatabas/tistelolja/13863/kalorier-naringsvarden-ingredienser', 'http://3.bp.blogspot.com/-q-4nDZ3uNJY/TV-8s-6vzlI/AAAAAAAAALo/65aV5fr4Aak/s1600/IMG_8602.jpg', 'https://opella.se/PICTURE/2022-66-jojobaolja.jpg', 'https://thumbs.dreamstime.com/z/mj%C3%B6lka-tistelolja-58674002.jpg', 'https://thumbs.dreamstime.com/z/mj%C3%B6lka-tistelolja-58674017.jpg', 'https://www.vitavera.se/PICTURE/3343-68-krom-holistic.jpg', 'https://scontent-ams3-1.cdninstagram.com/t51.2885-15/s640x640/e35/13525505_1029885307048909_1728280303_n.jpg', 'http://www.ecoboost.se/img/p/3/3/33-large_default.jpg', 'https://static1.squarespace.com/static/5734529660b5e9846a0d2046/t/590997fe1b10e3feb2c08b96/1493800969439/', 'https://www.vitavera.se/PICTURE/368-68-1293.jpg', 'https://naturkosmos.se/PICTURE/15925-69-14032-53-3000-1_default.png', 'http://media.apotea.se/product-images/XL/bio-t-90-kapslar-0.jpg', 'https://thumbs.dreamstime.com/z/mj%C3%B6lka-tistelolja-58673998.jpg', 'http://www.noberu.se/pub_images/large/Latt_Noberu_Heavy_Beard_Oil1-(1).jpg', 'https://www.podor.se/files/8313/9733/4194/bruschetta-s.jpg', 'https://www.svenskhalsokost.se/bilder/shakti_spikmatta_original_3879_x1.jpg', 'http://www.noberu.se/pub_images/large/N%C3%B5beru_Heavy_Beard_oil_AmberLime_Back.jpg', 'http://jadersbruk.se/wp-content/uploads/2015/04/22392898-origpic-82bbc4.jpg_0_0_100_100_300_390_85-200x200.jpg']\n",
      "Total Image Links = 100\n",
      "\n",
      "\n"
     ]
    }
   ],
   "source": [
    "    #Download Image Links\n",
    "    for index, item in enumerate(keywords):\n",
    "        iteration = \"Item no.: \" + str(index) + \" -->\" + \" Item name = \" + str(item[0])\n",
    "        print (iteration)\n",
    "        print (\"Evaluating...\")\n",
    "        print(item)\n",
    "\n",
    "         #make a search keyword  directory\n",
    "        try:\n",
    "            os.makedirs(item[1])\n",
    "        except OSError as e:\n",
    "            if e.errno != 17:\n",
    "                raise\n",
    "            # time.sleep might help here\n",
    "            pass\n",
    "\n",
    "\n",
    "        url = 'https://www.google.se/search?q=' + item[0] +'&espv=2&biw=1366&bih=667&site=webhp&source=lnms&tbm=isch&sa=X&ei=XosDVaCXD8TasATItgE&ved=0CAcQ_AUoAg'\n",
    "        print(url)\n",
    "        #raw_html =  download_page(url)\n",
    "        #print(raw_html)\n",
    "        \n",
    "        #time.sleep(0.1)\n",
    "        #imageLinks = (_images_get_all_items(raw_html)) # + items\n",
    "\n",
    "        print (\"Image Links = \"+str(imageLinks))\n",
    "        print (\"Total Image Links = \"+str(len(imageLinks)))\n",
    "        print (\"\\n\")\n"
   ]
  },
  {
   "cell_type": "code",
   "execution_count": 164,
   "metadata": {
    "collapsed": true
   },
   "outputs": [],
   "source": [
    "def downloadImages(keyword,number):\n",
    "    k=0\n",
    "    numberOfImages = 5 # Max is len(items)\n",
    "    errorCount=0\n",
    "    while(k<numberOfImages):\n",
    "        import urllib.request\n",
    "        import urllib.error\n",
    "\n",
    "        try:\n",
    "            req = urllib.request.Request(items[k], headers={\"User-Agent\": \"Mozilla/5.0 (X11; Linux i686) AppleWebKit/537.17 (KHTML, like Gecko) Chrome/24.0.1312.27 Safari/537.17\"})\n",
    "            response = urllib.request.urlopen(req,None,15)\n",
    "            output_file = open(number+\"/\"+str(k+1)+\".jpg\",'wb')\n",
    "\n",
    "            data = response.read()\n",
    "            output_file.write(data)\n",
    "            response.close();\n",
    "\n",
    "            print(\"completed ====> \"+str(k+1))\n",
    "\n",
    "            k=k+1;\n",
    "\n",
    "        except urllib.error.HTTPError as e:  #If there is any HTTPError\n",
    "\n",
    "            errorCount+=1\n",
    "            print(\"HTTPError\"+str(k))\n",
    "            k=k+1;\n",
    "        except urllib.error.URLError as e:\n",
    "\n",
    "            errorCount+=1\n",
    "            print(\"URLError \"+str(k))\n",
    "            k=k+1;\n"
   ]
  },
  {
   "cell_type": "code",
   "execution_count": 165,
   "metadata": {},
   "outputs": [
    {
     "name": "stdout",
     "output_type": "stream",
     "text": [
      "Total time taken: 328.803640127182 Seconds\n",
      "Starting Download...\n",
      "completed ====> 1\n",
      "completed ====> 2\n",
      "completed ====> 3\n",
      "completed ====> 4\n",
      "completed ====> 5\n",
      "\n",
      "\n",
      "Everything downloaded!\n",
      "\n",
      "0 ----> total Errors\n"
     ]
    }
   ],
   "source": [
    "#This allows you to write all the links into a test file. This text file will be created in the same directory as your code. You can comment out the below 3 lines to stop writing the output to the text file.\n",
    "#info = open('output.txt', 'a')        #Open the text file called database.txt\n",
    "#info.write(str(i) + ': ' + str(search_keyword[i-1]) + \": \" + str(items) + \"\\n\\n\\n\")         #Write the title of the page\n",
    "#info.close()                            #Close the file\n",
    "\n",
    "t1 = time.time()    #stop the timer\n",
    "total_time = t1-t0   #Calculating the total time required to crawl, find and download all the links of 60,000 images\n",
    "print(\"Total time taken: \"+str(total_time)+\" Seconds\")\n",
    "print (\"Starting Download...\")\n",
    "\n",
    "## To save imges to the same directory\n",
    "# IN this saving process we are just skipping the URL if there is any error\n",
    "downloadImages(keyword)\n",
    "i = i+1\n",
    "\n",
    "print(\"\\n\")\n",
    "print(\"Everything downloaded!\")\n",
    "print(\"\\n\"+str(errorCount)+\" ----> total Errors\")\n"
   ]
  },
  {
   "cell_type": "code",
   "execution_count": null,
   "metadata": {
    "collapsed": true
   },
   "outputs": [],
   "source": []
  }
 ],
 "metadata": {
  "kernelspec": {
   "display_name": "Python 3",
   "language": "python",
   "name": "python3"
  },
  "language_info": {
   "codemirror_mode": {
    "name": "ipython",
    "version": 3
   },
   "file_extension": ".py",
   "mimetype": "text/x-python",
   "name": "python",
   "nbconvert_exporter": "python",
   "pygments_lexer": "ipython3",
   "version": "3.5.4"
  }
 },
 "nbformat": 4,
 "nbformat_minor": 2
}
