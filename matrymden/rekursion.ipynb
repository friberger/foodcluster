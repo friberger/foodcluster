{
 "cells": [
  {
   "cell_type": "markdown",
   "metadata": {},
   "source": [
    "Testar rekursion"
   ]
  },
  {
   "cell_type": "code",
   "execution_count": 96,
   "metadata": {
    "collapsed": true
   },
   "outputs": [],
   "source": [
    "import random\n",
    "import numpy as np"
   ]
  },
  {
   "cell_type": "code",
   "execution_count": 144,
   "metadata": {},
   "outputs": [],
   "source": [
    "superlist = np.array([[]])\n",
    "\n",
    "def reduce (dimensions):\n",
    "    superfluous = remove_dimensions (dimensions)\n",
    "    print ('superfluous',superfluous)\n",
    "    #if len(superfluous) == 0:\n",
    "    if superfluous == []:\n",
    "        return []\n",
    "    else:\n",
    "        rList =[]\n",
    "        for index, superfluou in enumerate(superfluous):\n",
    "            dimensions = np.delete(dimensions, superfluou, 0)\n",
    "            print ('dimension', dimensions)\n",
    "            superlist = reduce (dimensions)\n",
    "            if superlist != []:\n",
    "                rList[index] = dimensions[superlist]\n",
    "        return rList\n",
    "    print ('rList', rList)"
   ]
  },
  {
   "cell_type": "code",
   "execution_count": 145,
   "metadata": {
    "collapsed": true
   },
   "outputs": [],
   "source": [
    "dimensions = np.array([1,3,4,5,8,10,12])"
   ]
  },
  {
   "cell_type": "code",
   "execution_count": 146,
   "metadata": {
    "collapsed": true
   },
   "outputs": [],
   "source": [
    "def remove_dimensions (dimensions):\n",
    "    if len(dimensions)==0: return []\n",
    "    superfluous = random.randrange(int(len(dimensions)*1.2))\n",
    "    if superfluous > len(dimensions)-1:\n",
    "        return []\n",
    "    else:\n",
    "        return [superfluous]\n"
   ]
  },
  {
   "cell_type": "code",
   "execution_count": 147,
   "metadata": {},
   "outputs": [
    {
     "data": {
      "text/plain": [
       "[0]"
      ]
     },
     "execution_count": 147,
     "metadata": {},
     "output_type": "execute_result"
    }
   ],
   "source": [
    "superfluous = remove_dimensions (dimensions)\n",
    "superfluous"
   ]
  },
  {
   "cell_type": "code",
   "execution_count": 148,
   "metadata": {},
   "outputs": [
    {
     "name": "stdout",
     "output_type": "stream",
     "text": [
      "superfluous [6]\n",
      "dimension [ 1  3  4  5  8 10]\n",
      "superfluous [3]\n",
      "dimension [ 1  3  4  8 10]\n",
      "superfluous [0]\n",
      "dimension [ 3  4  8 10]\n",
      "superfluous [0]\n",
      "dimension [ 4  8 10]\n",
      "superfluous [1]\n",
      "dimension [ 4 10]\n",
      "superfluous [1]\n",
      "dimension [4]\n",
      "superfluous [0]\n",
      "dimension []\n",
      "superfluous []\n"
     ]
    },
    {
     "data": {
      "text/plain": [
       "[]"
      ]
     },
     "execution_count": 148,
     "metadata": {},
     "output_type": "execute_result"
    }
   ],
   "source": [
    "x = reduce (dimensions)\n",
    "x"
   ]
  },
  {
   "cell_type": "code",
   "execution_count": null,
   "metadata": {
    "collapsed": true
   },
   "outputs": [],
   "source": []
  }
 ],
 "metadata": {
  "kernelspec": {
   "display_name": "Python 3",
   "language": "python",
   "name": "python3"
  },
  "language_info": {
   "codemirror_mode": {
    "name": "ipython",
    "version": 3
   },
   "file_extension": ".py",
   "mimetype": "text/x-python",
   "name": "python",
   "nbconvert_exporter": "python",
   "pygments_lexer": "ipython3",
   "version": "3.5.4"
  }
 },
 "nbformat": 4,
 "nbformat_minor": 2
}
