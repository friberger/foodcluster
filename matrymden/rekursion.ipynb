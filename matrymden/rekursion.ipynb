{
 "cells": [
  {
   "cell_type": "markdown",
   "metadata": {},
   "source": [
    "Testar rekursion"
   ]
  },
  {
   "cell_type": "code",
   "execution_count": 157,
   "metadata": {
    "collapsed": true
   },
   "outputs": [],
   "source": [
    "import random\n",
    "import numpy as np"
   ]
  },
  {
   "cell_type": "code",
   "execution_count": 138,
   "metadata": {
    "collapsed": true
   },
   "outputs": [],
   "source": [
    "# Gammal kod\n",
    "def remove_dimensions (dims):\n",
    "    if len(dims)==0: return []\n",
    "    superfluous = random.randrange(int(len(dims)*1.2))\n",
    "    if superfluous > len(dims)-1:\n",
    "        return []\n",
    "    else:\n",
    "        return [superfluous]\n"
   ]
  },
  {
   "cell_type": "code",
   "execution_count": 192,
   "metadata": {
    "collapsed": true
   },
   "outputs": [],
   "source": [
    "def remove_dimensions (dims):\n",
    "    if len(dims)==0: return []\n",
    "    superfluous = np.random.choice(int(len(dims)*1.2),2) #\n",
    "    if np.max(superfluous) > len(dims)-1:\n",
    "        return []\n",
    "    else:\n",
    "        return superfluous # Returnera flera index\n"
   ]
  },
  {
   "cell_type": "code",
   "execution_count": 193,
   "metadata": {
    "collapsed": true
   },
   "outputs": [],
   "source": [
    "dimensions = np.array([1,3,4,5,8,10,12])"
   ]
  },
  {
   "cell_type": "code",
   "execution_count": 194,
   "metadata": {},
   "outputs": [
    {
     "data": {
      "text/plain": [
       "array([4, 6])"
      ]
     },
     "execution_count": 194,
     "metadata": {},
     "output_type": "execute_result"
    }
   ],
   "source": [
    "y = remove_dimensions(dimensions)\n",
    "y"
   ]
  },
  {
   "cell_type": "code",
   "execution_count": 140,
   "metadata": {
    "collapsed": true
   },
   "outputs": [],
   "source": [
    "#Gammal kod\n",
    "superlist = np.array([[]])\n",
    "\n",
    "def reduce (dimensions):\n",
    "    superfluous = remove_dimensions (dimensions)\n",
    "    print ('superfluous',superfluous)\n",
    "    if superfluous == []:\n",
    "        print ('bottnar')\n",
    "        return []\n",
    "    else:\n",
    "        rList =[] #recursion list, en lista av \n",
    "        for index, superfluou in enumerate(superfluous):\n",
    "            dimensions = np.delete(dimensions, superfluou, 0)\n",
    "            print ('dimension', dimensions)\n",
    "            #print ('superlist', superlist)\n",
    "            superlist = reduce (dimensions)\n",
    "            print ('superlist2', superlist)\n",
    "            if superlist != []:\n",
    "                rList[index] = dimensions[superlist]\n",
    "                print('rlist',rList)\n",
    "        print('vidare')\n",
    "        return rList\n",
    "    print ('rList', rList)"
   ]
  },
  {
   "cell_type": "code",
   "execution_count": null,
   "metadata": {
    "collapsed": true
   },
   "outputs": [],
   "source": []
  },
  {
   "cell_type": "code",
   "execution_count": 195,
   "metadata": {
    "collapsed": true
   },
   "outputs": [],
   "source": [
    "\n",
    "def reduce (dim_orig, dim_superfluous ):\n",
    "    superfluous = remove_dimensions (dim_orig)\n",
    "    print ('superfluous',superfluous)\n",
    "    if superfluous == []:\n",
    "        print ('bottnar')\n",
    "        superlist.append(dim_superfluous)\n",
    "        print ('superlist', superlist)\n",
    "        if len(dim_superfluous)>0:\n",
    "            del dim_superfluous[-1]\n",
    "        return \n",
    "    else:\n",
    "        for index, superfluou in enumerate(superfluous):\n",
    "            dim_superfluous.append(dim_orig[superfluou])\n",
    "            print ('dim_superfluous', dim_superfluous)            \n",
    "            dim_orig = np.delete(dim_orig, superfluou, 0)\n",
    "            print ('dim_orig', dim_orig)\n",
    "            reduce (dim_orig, dim_superfluous)\n",
    "        return \n",
    "    "
   ]
  },
  {
   "cell_type": "code",
   "execution_count": 199,
   "metadata": {},
   "outputs": [
    {
     "name": "stdout",
     "output_type": "stream",
     "text": [
      "[ 1  3  4  5  8 10 12]\n",
      "superfluous [3 2]\n",
      "dim_superfluous [5]\n",
      "dim_orig [ 1  3  4  8 10 12]\n",
      "superfluous []\n",
      "bottnar\n",
      "superlist [[5]]\n",
      "dim_superfluous [4]\n",
      "dim_orig [ 1  3  8 10 12]\n",
      "superfluous []\n",
      "bottnar\n",
      "superlist [[4], [4]]\n"
     ]
    },
    {
     "name": "stderr",
     "output_type": "stream",
     "text": [
      "/Users/organization/anaconda/envs/traffic_signs/lib/python3.5/site-packages/ipykernel_launcher.py:5: DeprecationWarning: elementwise == comparison failed; this will raise an error in the future.\n",
      "  \"\"\"\n"
     ]
    }
   ],
   "source": [
    "print(dimensions)\n",
    "superlist = []\n",
    "x = reduce (dimensions, [])\n"
   ]
  },
  {
   "cell_type": "code",
   "execution_count": null,
   "metadata": {
    "collapsed": true
   },
   "outputs": [],
   "source": []
  },
  {
   "cell_type": "code",
   "execution_count": null,
   "metadata": {
    "collapsed": true
   },
   "outputs": [],
   "source": []
  }
 ],
 "metadata": {
  "kernelspec": {
   "display_name": "Python 3",
   "language": "python",
   "name": "python3"
  },
  "language_info": {
   "codemirror_mode": {
    "name": "ipython",
    "version": 3
   },
   "file_extension": ".py",
   "mimetype": "text/x-python",
   "name": "python",
   "nbconvert_exporter": "python",
   "pygments_lexer": "ipython3",
   "version": "3.5.4"
  }
 },
 "nbformat": 4,
 "nbformat_minor": 2
}
