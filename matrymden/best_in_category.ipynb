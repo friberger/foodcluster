{
 "cells": [
  {
   "cell_type": "code",
   "execution_count": 387,
   "metadata": {
    "collapsed": true
   },
   "outputs": [],
   "source": [
    "import numpy as np\n",
    "import sqlite3\n",
    "from scipy.spatial import distance #https://docs.scipy.org/doc/scipy/reference/generated/scipy.spatial.distance.cdist.html\n"
   ]
  },
  {
   "cell_type": "code",
   "execution_count": 388,
   "metadata": {},
   "outputs": [],
   "source": [
    "conn = sqlite3.connect('../livs.db')  # Create db and establish connection\n",
    "conn.row_factory = sqlite3.Row\n",
    "curs = conn.cursor()\n",
    "result = []\n",
    "rows = curs.execute('select * from livs where \"Huvudgrupp\" = \"Grönsaker\"')\n",
    "for row in rows:\n",
    "        result.append(row)\n",
    "\n",
    "db_contents = np.array(result)\n",
    "\n",
    "conn.close()"
   ]
  },
  {
   "cell_type": "markdown",
   "metadata": {},
   "source": [
    "## Prototypiska i sin kategori\n",
    "Syftet är att ta en huvudgrupp och se vad mittpunkten i den kategorin är och sen räkna ut vilka livsmedel som ligger närmast mittpunkten.\n",
    "\n",
    "Varje näringsvärde blir en dimension, och varje livsmedel en punkt som har ett värde i alla de dimensionerna.\n",
    "\n",
    "Medelvärdet av alla livsmedel blir en punkt som man kan utgå från när man räknar avstånd till alla livsmedlen, och när man har tillgång till avstånden så kan man ordna alla livsmedlen efter avståndet till mittpunkten.\n",
    "\n",
    "Det är första steget. \n",
    "\n",
    "Andra steget är att se om man verkligen behöver alla näringsvärden för att ändå få samma ordning mellan livsmedlen. Vilka kan man ta bort?"
   ]
  },
  {
   "cell_type": "markdown",
   "metadata": {},
   "source": [
    "### Utgångspunkter\n",
    "\n",
    "Från Livsmedelsverkets data har vi valt en huvudgrupp, som \"Grönsaker\". Alla dess data ligger i db_contents, och den variabeln har en shape som säger hur många rader (livsmedel) och kolumner (namn, nummer, näringsvärden, klassificering) den innehåller."
   ]
  },
  {
   "cell_type": "code",
   "execution_count": 389,
   "metadata": {},
   "outputs": [
    {
     "data": {
      "text/plain": [
       "(94, 63)"
      ]
     },
     "execution_count": 389,
     "metadata": {},
     "output_type": "execute_result"
    }
   ],
   "source": [
    "db_contents.shape"
   ]
  },
  {
   "cell_type": "markdown",
   "metadata": {},
   "source": [
    "Kolumn 0 är namnet, 1 är numret och sen börjar näringsvärdena. \n",
    "\n",
    "columns är variabeln som innehåller de värden som används i beräkningarna. Under står de kolumner som är möjliga att använda. \n",
    "\n",
    "Vill man ha fram betydelsena av kolumnerna kan man göra något i stil med\n",
    "\n",
    "```\n",
    "for row in conn.execute('PRAGMA table_info (livs);'):\n",
    "    columnObject.append(row)\n",
    "columns = np.array(columnObject)\n",
    "``` "
   ]
  },
  {
   "cell_type": "code",
   "execution_count": 390,
   "metadata": {
    "collapsed": true
   },
   "outputs": [],
   "source": [
    "columns = np.array([ 2,  4,  5,  6,  7,  8,  9, 10, 11, 12, 13, 14, 16, 17, 18, 19, 20, 21, 22, 23, 24, 25, 26, 27, 28, 29, 30, 31, 32, 33, 35, 37, 38, 40, 41, 42, 43, 44, 45, 46, 47, 48, 50, 51, 52, 53, 54, 55, 56, 57])\n",
    "# Possible columns: [ 2,  4,  5,  6,  7,  8,  9, 10, 11, 12, 13, 14, 16, 17, 18, 19, 20, 21, 22, 23, 24, 25, 26, 27, 28, 29, 30, 31, 32, 33, 35, 37, 38, 40, 41, 42, 43, 44, 45, 46, 47, 48, 50, 51, 52, 53, 54, 55, 56, 57]\n"
   ]
  },
  {
   "cell_type": "markdown",
   "metadata": {},
   "source": [
    "dataset blir de kolumner som används. Från databasen brukar de komma som unicode, så det är lämpligt att konvertera till float."
   ]
  },
  {
   "cell_type": "code",
   "execution_count": 391,
   "metadata": {},
   "outputs": [],
   "source": [
    "dataset = db_contents[:,columns].astype(float)"
   ]
  },
  {
   "cell_type": "markdown",
   "metadata": {},
   "source": [
    "Det är fantastiskt enkelt att räkna medelvärdet av varje kolumn med funktionen numpy.mean, som returnerar en array med lika många element som antal kolumner\n",
    "\n",
    "Obs: axis behövs, för annars får man fel medelvärde..."
   ]
  },
  {
   "cell_type": "code",
   "execution_count": 392,
   "metadata": {},
   "outputs": [],
   "source": [
    "means = np.mean(dataset, axis=0)"
   ]
  },
  {
   "cell_type": "code",
   "execution_count": 393,
   "metadata": {},
   "outputs": [
    {
     "name": "stdout",
     "output_type": "stream",
     "text": [
      "[  4.23425532e+01   5.17563830e+00   1.07510638e+00   1.88117021e+00\n",
      "   2.17787234e+00   8.85922340e+01   0.00000000e+00   1.10702128e+00\n",
      "   1.91085106e+00   9.59574468e-01   9.27659574e-01   5.31914894e+00\n",
      "   1.81063830e-01   5.85106383e-03   8.51063830e-04   3.08510638e-03\n",
      "   1.44361702e-01   1.73404255e-02   2.34042553e-03   5.06808511e-01\n",
      "   3.12765957e-02   4.68297872e-01   2.31595745e-01   1.53085106e-01\n",
      "   7.08510638e-02   1.06382979e-04   1.06382979e-04   0.00000000e+00\n",
      "   0.00000000e+00   7.65957447e-02   6.98819149e+01   4.14893617e-03\n",
      "   9.41489362e-01   5.75531915e-02   6.88297872e-02   3.33329787e+01\n",
      "   6.17127660e-01   9.29148936e-01   1.35106383e-01   3.72340426e-03\n",
      "   5.61191489e+01   4.06382979e+01   7.74893617e-01   5.13489362e+01\n",
      "   2.59646809e+02   1.94946809e+01   1.35105319e+02   3.39255319e-01\n",
      "   8.05957447e-01   3.57021277e-01] \n",
      " (50,)\n"
     ]
    }
   ],
   "source": [
    "print(means, '\\n', means.shape)"
   ]
  },
  {
   "cell_type": "markdown",
   "metadata": {},
   "source": [
    "Det är läskigt lätt även att räkna avståndet mellan alla punkterna i dataset och medelvärdena:\n",
    "\n",
    "(Det är något med medelvärdena som gör att man måste sätta en extra klammer runt, för att dimensionaliteten ska stämma...)"
   ]
  },
  {
   "cell_type": "code",
   "execution_count": 394,
   "metadata": {},
   "outputs": [],
   "source": [
    "dist = distance.cdist(dataset, [means], 'euclidean') #https://docs.scipy.org/doc/scipy/reference/generated/scipy.spatial.distance.cdist.html"
   ]
  },
  {
   "cell_type": "markdown",
   "metadata": {},
   "source": [
    "*dist* innehåller sen varje rads avstånd från medelvärdet i alla kolumner."
   ]
  },
  {
   "cell_type": "code",
   "execution_count": 395,
   "metadata": {},
   "outputs": [
    {
     "data": {
      "text/plain": [
       "array([[  410.59087183],\n",
       "       [  131.18395531],\n",
       "       [  179.80564576],\n",
       "       [  154.45897082],\n",
       "       [  204.85406506],\n",
       "       [  152.11235007],\n",
       "       [  220.83451466],\n",
       "       [  198.73915097],\n",
       "       [  161.25814709],\n",
       "       [  174.74065684],\n",
       "       [  222.23458885],\n",
       "       [  274.91215065],\n",
       "       [  198.73997875],\n",
       "       [  189.94233315],\n",
       "       [  173.89129257],\n",
       "       [  130.06019898],\n",
       "       [  170.69576887],\n",
       "       [  172.28324477],\n",
       "       [  218.91458608],\n",
       "       [  202.90275213],\n",
       "       [  226.01199529],\n",
       "       [  186.89947764],\n",
       "       [  332.10591064],\n",
       "       [  232.4206282 ],\n",
       "       [  234.97257235],\n",
       "       [  702.19745614],\n",
       "       [  166.12027779],\n",
       "       [  140.4534426 ],\n",
       "       [  150.28240145],\n",
       "       [  174.00902005],\n",
       "       [  117.7339104 ],\n",
       "       [  183.82231746],\n",
       "       [  417.39795507],\n",
       "       [  228.06150751],\n",
       "       [  191.02168039],\n",
       "       [  152.8582544 ],\n",
       "       [  393.66218809],\n",
       "       [  216.11685089],\n",
       "       [  154.330754  ],\n",
       "       [  294.22196039],\n",
       "       [  171.63409561],\n",
       "       [  162.62757268],\n",
       "       [  659.65493641],\n",
       "       [  257.21333213],\n",
       "       [  333.44505497],\n",
       "       [  262.54951797],\n",
       "       [  244.6774507 ],\n",
       "       [  210.8913457 ],\n",
       "       [  191.78540782],\n",
       "       [  160.3428417 ],\n",
       "       [  236.82723707],\n",
       "       [  240.23198033],\n",
       "       [  176.76176397],\n",
       "       [ 1250.32657023],\n",
       "       [  733.25571656],\n",
       "       [  234.88459849],\n",
       "       [  201.33979072],\n",
       "       [   91.9238245 ],\n",
       "       [  182.88487668],\n",
       "       [  163.36714677],\n",
       "       [  144.20169383],\n",
       "       [  168.994237  ],\n",
       "       [   86.47417518],\n",
       "       [  166.15830843],\n",
       "       [  148.26677226],\n",
       "       [  353.25575677],\n",
       "       [  158.11822204],\n",
       "       [  193.18790978],\n",
       "       [  110.57434447],\n",
       "       [  597.97935734],\n",
       "       [  131.21439755],\n",
       "       [  137.52948757],\n",
       "       [  550.41671313],\n",
       "       [  708.10606874],\n",
       "       [  729.03608338],\n",
       "       [ 1276.49047129],\n",
       "       [  789.76288634],\n",
       "       [  135.84825452],\n",
       "       [  198.42390924],\n",
       "       [  225.43221559],\n",
       "       [  327.56951321],\n",
       "       [  125.69651421],\n",
       "       [  145.75997153],\n",
       "       [  202.31030527],\n",
       "       [  243.13359514],\n",
       "       [  155.40505891],\n",
       "       [  173.66190842],\n",
       "       [  590.51487426],\n",
       "       [  153.42607375],\n",
       "       [  130.64584405],\n",
       "       [  167.61915889],\n",
       "       [  273.12804685],\n",
       "       [  201.04177702],\n",
       "       [  144.16272568]])"
      ]
     },
     "execution_count": 395,
     "metadata": {},
     "output_type": "execute_result"
    }
   ],
   "source": [
    "dist"
   ]
  },
  {
   "cell_type": "markdown",
   "metadata": {},
   "source": [
    "Jag har svårt att vänja mig vid det här med implicit sortering.\n",
    "\n",
    "Först sorterar vi alltså värdena och får en \"ordning\", som vi sen använder som index för den array vi egentligen vill sortera..."
   ]
  },
  {
   "cell_type": "code",
   "execution_count": 396,
   "metadata": {},
   "outputs": [],
   "source": [
    "order = np.argsort(dist.T[0])"
   ]
  },
  {
   "cell_type": "code",
   "execution_count": 397,
   "metadata": {},
   "outputs": [
    {
     "data": {
      "text/plain": [
       "array([62, 57, 68, 30, 81, 15, 89,  1, 70, 77, 71, 27, 93, 60, 82, 64, 28,\n",
       "        5, 35, 88, 38,  3, 85, 66, 49,  8, 41, 59, 26, 63, 90, 61, 16, 40,\n",
       "       17, 86, 14, 29,  9, 52,  2, 58, 31, 21, 13, 34, 48, 67, 78,  7, 12,\n",
       "       92, 56, 83, 19,  4, 47, 37, 18,  6, 10, 79, 20, 33, 23, 55, 24, 50,\n",
       "       51, 84, 46, 43, 45, 91, 11, 39, 80, 22, 44, 65, 36,  0, 32, 72, 87,\n",
       "       69, 42, 25, 73, 74, 54, 76, 53, 75])"
      ]
     },
     "execution_count": 397,
     "metadata": {},
     "output_type": "execute_result"
    }
   ],
   "source": [
    "order"
   ]
  },
  {
   "cell_type": "markdown",
   "metadata": {},
   "source": [
    "Eftersom vi har vår ursprungliga lista med oss i *db_contents* så kan vi skriva ut vilka kolumner som helst, och nu med raderna i rätt ordning utifrån medelvärdet i huvudgruppen.\n",
    "\n",
    "Här tog det ett tag för mig att förstå hur jag skulle se på resultatet. Att se de första som näringsmässigt \"lika\" var inte så svårt, men hur är det med de livsmedel som hamnar sist i listan?\n",
    "\n",
    "Jag tror att man ska se det som en (mångdimensionell) \"periferi\" där de sista i listan förstås är långt från centrum, men inte alls inbördes \"lika\". De kan ha stort avstånd till mitten i väldigt skilda dimensioner. Det enda som förenar dem är att de är udda... :-)"
   ]
  },
  {
   "cell_type": "code",
   "execution_count": 398,
   "metadata": {},
   "outputs": [
    {
     "data": {
      "text/plain": [
       "array(['Blomkål kokt', 'Tomater hela konserv m lag', 'Purjolök kokt',\n",
       "       'Savojkål', 'Fänkål kokt', 'Kronärtskocka', 'Kruksallat',\n",
       "       'Stjälkselleri', 'Vitkål kokt', 'Kronärtskocka kokt',\n",
       "       'Aubergine kokt', 'Purjolök', 'Brysselkål kokt',\n",
       "       'Tomater krossade konserv m lag', 'Romansallat',\n",
       "       'Gurka färskinlagd', 'Rödkål', 'Broccoli fryst', 'Tomat',\n",
       "       'Röd mangold småbladig färsk', 'Vitkål', 'Blomkål fryst',\n",
       "       'Småtomater röda typ körsbärstomat', 'Lök kokt',\n",
       "       'Grönsallat gurka tomat u dressing', 'Friséesallat',\n",
       "       'Sparris grön el vit', 'Tomater gröna syltade', 'Pumpa',\n",
       "       'Grönsallat gurka tomat paprika u dressing', 'Lök röd',\n",
       "       'Pumpasallad m paprika inlagd sötad u lag', 'Kålrabbi', 'Aubergine',\n",
       "       'Lök gul', 'Broccoli kokt', 'Isbergssallat', 'Huvudsallat',\n",
       "       'Endivesallat', 'Majskorn konserv u lag', 'Blomkål',\n",
       "       'Syltlök inlagd', 'Salladskål', 'Mangold', 'Gurka', 'Squash',\n",
       "       'Lök gul fryst', 'Paprika förvälld', 'Majskolv kokt',\n",
       "       'Brysselkål fryst', 'Grönkål fryst', 'Sparris grön kokt',\n",
       "       'Surkål konserv m lag', 'Rucolasallat', 'Majskolv fryst',\n",
       "       'Broccoli', 'Paprika grön röd fryst', 'Vattenkrasse', 'Majskolv',\n",
       "       'Brysselkål', 'Fänkål', 'Rödkål konserv', 'Majskorn frysta',\n",
       "       'Spenat fryst', 'Paprika grön', 'Sparris vit konserv u lag',\n",
       "       'Paprika röd', 'Paprika grön gul röd', 'Bambuskott konserv u lag',\n",
       "       'Mâchesallat', 'Paprika gul', 'Gräslök', 'Chilipeppar färsk',\n",
       "       'Guacamole', 'Grönkål', 'Vitlök',\n",
       "       'Ciabatta med mozzarella soltorkad tomat sallad',\n",
       "       'Nässlor förvällda', 'Basilika färsk', 'Lök stekt',\n",
       "       'Trädgårdskrasse', 'Avokado', 'Spenat', 'Aubergine stekt',\n",
       "       'Spenat färsk', 'Spenat fräst', 'Dill', 'Persilja blad',\n",
       "       'Gurka inlagd', 'Gurka fermenterad u lag',\n",
       "       'Oliver svarta m olja avrunna', 'Ättiksgurka u lag',\n",
       "       'Oliver gröna m paprikafyllning avrunna', 'Saltgurka u lag'],\n",
       "      dtype='<U46')"
      ]
     },
     "execution_count": 398,
     "metadata": {},
     "output_type": "execute_result"
    }
   ],
   "source": [
    "db_contents[order,0]"
   ]
  },
  {
   "cell_type": "markdown",
   "metadata": {},
   "source": [
    "## Del två. Att jämföra ordningar...\n",
    "\n",
    "Den här ordningen mellan livsmedel bygger på att man tar ett urval kolumner. Typiskt tar man så mycket information man har (= alla kolumner) för att få en mer relevant ordning.\n",
    "\n",
    "Men kanske är det så att inte alla kolumner behövs för att ge den här ordningen? Vilka kolumner skulle man kunna ta bort?"
   ]
  },
  {
   "cell_type": "markdown",
   "metadata": {},
   "source": [
    "Först lite repetition av praktiska funktioner i numpy. \n",
    "\n",
    "Om man har två arrayer med samma tal fast i olika ordning så kan man jämföra dem genom att ta den ena minus den andra och kolla om det finns några värden som inte är noll. Antalet värden som är skilda från noll blir ett mått på hur olika ordningarna är."
   ]
  },
  {
   "cell_type": "code",
   "execution_count": 400,
   "metadata": {
    "collapsed": true
   },
   "outputs": [],
   "source": [
    "a = np.array([1,2,3,4,5])\n",
    "b = np.array([1,3,2,4,5])"
   ]
  },
  {
   "cell_type": "code",
   "execution_count": 405,
   "metadata": {},
   "outputs": [
    {
     "data": {
      "text/plain": [
       "array([ 0, -1,  1,  0,  0])"
      ]
     },
     "execution_count": 405,
     "metadata": {},
     "output_type": "execute_result"
    }
   ],
   "source": [
    "a-b # Är de lika får man en array med bara nollor"
   ]
  },
  {
   "cell_type": "code",
   "execution_count": 406,
   "metadata": {},
   "outputs": [
    {
     "data": {
      "text/plain": [
       "2"
      ]
     },
     "execution_count": 406,
     "metadata": {},
     "output_type": "execute_result"
    }
   ],
   "source": [
    "np.count_nonzero(a-b) "
   ]
  },
  {
   "cell_type": "markdown",
   "metadata": {},
   "source": [
    "Dags att summera ihop mycket av del 1 i en funktion. Utgå från db_contents som typ en global variabel. Skicka in kolumner till funktionen, så returneras en ordning mellan livsmedlen i db_contents/dataset"
   ]
  },
  {
   "cell_type": "code",
   "execution_count": 407,
   "metadata": {
    "collapsed": true
   },
   "outputs": [],
   "source": [
    "def get_order(columns):\n",
    "    dataset = db_contents[:,columns].astype(float)\n",
    "    means = np.mean(dataset, axis=0)\n",
    "    dist = distance.cdist(dataset, [means], 'euclidean')\n",
    "    order = np.argsort(dist.T[0])\n",
    "    return order"
   ]
  },
  {
   "cell_type": "code",
   "execution_count": 408,
   "metadata": {
    "collapsed": true
   },
   "outputs": [],
   "source": [
    "order_0 = get_order(columns)"
   ]
  },
  {
   "cell_type": "code",
   "execution_count": 409,
   "metadata": {},
   "outputs": [
    {
     "data": {
      "text/plain": [
       "array([62, 57, 68, 30, 81, 15, 89,  1, 70, 77, 71, 27, 93, 60, 82, 64, 28,\n",
       "        5, 35, 88, 38,  3, 85, 66, 49,  8, 41, 59, 26, 63, 90, 61, 16, 40,\n",
       "       17, 86, 14, 29,  9, 52,  2, 58, 31, 21, 13, 34, 48, 67, 78,  7, 12,\n",
       "       92, 56, 83, 19,  4, 47, 37, 18,  6, 10, 79, 20, 33, 23, 55, 24, 50,\n",
       "       51, 84, 46, 43, 45, 91, 11, 39, 80, 22, 44, 65, 36,  0, 32, 72, 87,\n",
       "       69, 42, 25, 73, 74, 54, 76, 53, 75])"
      ]
     },
     "execution_count": 409,
     "metadata": {},
     "output_type": "execute_result"
    }
   ],
   "source": [
    "order_0"
   ]
  },
  {
   "cell_type": "code",
   "execution_count": 334,
   "metadata": {
    "collapsed": true
   },
   "outputs": [],
   "source": [
    "columns_1 = np.delete(columns,3)"
   ]
  },
  {
   "cell_type": "code",
   "execution_count": 335,
   "metadata": {},
   "outputs": [
    {
     "data": {
      "text/plain": [
       "array([ 2,  4,  5,  7,  8,  9, 10, 11, 12, 13, 14, 16, 17, 18, 19, 20, 21,\n",
       "       22, 23, 24, 25, 26, 27, 28, 29, 30, 31, 32, 33, 35, 37, 38, 40, 41,\n",
       "       42, 43, 44, 45, 46, 47, 48, 50, 51, 52, 53, 54, 55, 56, 57])"
      ]
     },
     "execution_count": 335,
     "metadata": {},
     "output_type": "execute_result"
    }
   ],
   "source": [
    "columns_1"
   ]
  },
  {
   "cell_type": "code",
   "execution_count": 336,
   "metadata": {},
   "outputs": [
    {
     "data": {
      "text/plain": [
       "array([ 2,  4,  5,  6,  7,  8,  9, 10, 11, 12, 13, 14, 16, 17, 18, 19, 20,\n",
       "       21, 22, 23, 24, 25, 26, 27, 28, 29, 30, 31, 32, 33, 35, 37, 38, 40,\n",
       "       41, 42, 43, 44, 45, 46, 47, 48, 50, 51, 52, 53, 54, 55, 56, 57])"
      ]
     },
     "execution_count": 336,
     "metadata": {},
     "output_type": "execute_result"
    }
   ],
   "source": [
    "columns"
   ]
  },
  {
   "cell_type": "code",
   "execution_count": 337,
   "metadata": {
    "collapsed": true
   },
   "outputs": [],
   "source": [
    "order_1 = get_order(columns_1)"
   ]
  },
  {
   "cell_type": "code",
   "execution_count": 338,
   "metadata": {
    "collapsed": true
   },
   "outputs": [],
   "source": [
    "x = np.count_nonzero(order_0-order_1)"
   ]
  },
  {
   "cell_type": "code",
   "execution_count": 339,
   "metadata": {},
   "outputs": [
    {
     "data": {
      "text/plain": [
       "0"
      ]
     },
     "execution_count": 339,
     "metadata": {},
     "output_type": "execute_result"
    }
   ],
   "source": [
    "x"
   ]
  },
  {
   "cell_type": "code",
   "execution_count": 375,
   "metadata": {},
   "outputs": [
    {
     "data": {
      "text/plain": [
       "array([ 2,  4,  8, 11, 14, 35, 38, 42, 47, 48, 51, 52])"
      ]
     },
     "execution_count": 375,
     "metadata": {},
     "output_type": "execute_result"
    }
   ],
   "source": [
    "columns"
   ]
  },
  {
   "cell_type": "code",
   "execution_count": 376,
   "metadata": {},
   "outputs": [
    {
     "name": "stdout",
     "output_type": "stream",
     "text": [
      "12\n",
      "[[8070450532247928832 8070450532247928832          4458718616\n",
      "           4458443384          4462987048          4458443864\n",
      "           4482558776          4482558456          4480528856\n",
      "           4480531576          4480476568]\n",
      " [         4480477208          4484986024          4484988024\n",
      "           4484986424          4484985464          4484986584\n",
      "           4485083928          4485086568          4462815896\n",
      "           4462817176          4461786920]\n",
      " [         4461788120          4461788680          4482633544\n",
      "           4485086488          4482631944          4461787800\n",
      "           4484998152          4484997592          4485046344\n",
      "           4485075976          4484997512]\n",
      " [         4485076616          4485048824          4480529736\n",
      "           4480464760          4462986008          4480475688\n",
      "           4485077576          4461999912          4485075256\n",
      "           4461998712          4461999272]\n",
      " [         4485046984          4462000632          4485141992\n",
      "           4462000552          4485047064          4485142712\n",
      "           4462001512          4485141352          4487952728\n",
      "           4485000472          4487952488]\n",
      " [         4487952648          4462000952          4487953208\n",
      "           4487954008          4487954168          4487953128\n",
      "           4487953928          4462001752          4487991448\n",
      "           4487992248          4487953528]\n",
      " [         4487992008          4487992728          4487993448\n",
      "           4487994728          4487993848          4488001880\n",
      "           4487993048          4487994328          4488001960\n",
      "           4487995288          4488343208]\n",
      " [         4488377272          4488377512          4488377992\n",
      "           4488378472          4488342088          4488378392\n",
      "           4488342408          4485142072          4488342248\n",
      "           4488000920          4488342728]\n",
      " [         4488341928          4487992488          4488001720\n",
      "           4488000600          4487993528          4488376552\n",
      "           4488379432          4487992328          4487953768\n",
      "           4487993768          4488379352]\n",
      " [         4488024136          4488379912          4488379752\n",
      "           4488024376          4488025016          4488025656\n",
      "           4488026376          4488026616          4488376952\n",
      "           4488025416          4488027496]\n",
      " [         4488430040          4488026856          4488431080\n",
      "           4488024696          4488378072          4488025896\n",
      "           4488431000          4488431240          4488026136\n",
      "           4488431160          4488431480]\n",
      " [         4488024536          4488026056          4488431560\n",
      "           4488432040          4488432120          4488432200\n",
      "           4488432440          4488432760          4488432840\n",
      "           4488433560          4488443528]]\n",
      "[[         4          8         11         14         35         38\n",
      "          42         47         48         51         52]\n",
      " [4480477208 4484986024 4484988024 4484986424 4484985464 4484986584\n",
      "  4485083928 4485086568 4462815896 4462817176 4461786920]\n",
      " [4461788120 4461788680 4482633544 4485086488 4482631944 4461787800\n",
      "  4484998152 4484997592 4485046344 4485075976 4484997512]\n",
      " [4485076616 4485048824 4480529736 4480464760 4462986008 4480475688\n",
      "  4485077576 4461999912 4485075256 4461998712 4461999272]\n",
      " [4485046984 4462000632 4485141992 4462000552 4485047064 4485142712\n",
      "  4462001512 4485141352 4487952728 4485000472 4487952488]\n",
      " [4487952648 4462000952 4487953208 4487954008 4487954168 4487953128\n",
      "  4487953928 4462001752 4487991448 4487992248 4487953528]\n",
      " [4487992008 4487992728 4487993448 4487994728 4487993848 4488001880\n",
      "  4487993048 4487994328 4488001960 4487995288 4488343208]\n",
      " [4488377272 4488377512 4488377992 4488378472 4488342088 4488378392\n",
      "  4488342408 4485142072 4488342248 4488000920 4488342728]\n",
      " [4488341928 4487992488 4488001720 4488000600 4487993528 4488376552\n",
      "  4488379432 4487992328 4487953768 4487993768 4488379352]\n",
      " [4488024136 4488379912 4488379752 4488024376 4488025016 4488025656\n",
      "  4488026376 4488026616 4488376952 4488025416 4488027496]\n",
      " [4488430040 4488026856 4488431080 4488024696 4488378072 4488025896\n",
      "  4488431000 4488431240 4488026136 4488431160 4488431480]\n",
      " [4488024536 4488026056 4488431560 4488432040 4488432120 4488432200\n",
      "  4488432440 4488432760 4488432840 4488433560 4488443528]]\n",
      "[[         4          8         11         14         35         38\n",
      "          42         47         48         51         52]\n",
      " [         2          8         11         14         35         38\n",
      "          42         47         48         51         52]\n",
      " [4461788120 4461788680 4482633544 4485086488 4482631944 4461787800\n",
      "  4484998152 4484997592 4485046344 4485075976 4484997512]\n",
      " [4485076616 4485048824 4480529736 4480464760 4462986008 4480475688\n",
      "  4485077576 4461999912 4485075256 4461998712 4461999272]\n",
      " [4485046984 4462000632 4485141992 4462000552 4485047064 4485142712\n",
      "  4462001512 4485141352 4487952728 4485000472 4487952488]\n",
      " [4487952648 4462000952 4487953208 4487954008 4487954168 4487953128\n",
      "  4487953928 4462001752 4487991448 4487992248 4487953528]\n",
      " [4487992008 4487992728 4487993448 4487994728 4487993848 4488001880\n",
      "  4487993048 4487994328 4488001960 4487995288 4488343208]\n",
      " [4488377272 4488377512 4488377992 4488378472 4488342088 4488378392\n",
      "  4488342408 4485142072 4488342248 4488000920 4488342728]\n",
      " [4488341928 4487992488 4488001720 4488000600 4487993528 4488376552\n",
      "  4488379432 4487992328 4487953768 4487993768 4488379352]\n",
      " [4488024136 4488379912 4488379752 4488024376 4488025016 4488025656\n",
      "  4488026376 4488026616 4488376952 4488025416 4488027496]\n",
      " [4488430040 4488026856 4488431080 4488024696 4488378072 4488025896\n",
      "  4488431000 4488431240 4488026136 4488431160 4488431480]\n",
      " [4488024536 4488026056 4488431560 4488432040 4488432120 4488432200\n",
      "  4488432440 4488432760 4488432840 4488433560 4488443528]]\n",
      "[[         4          8         11         14         35         38\n",
      "          42         47         48         51         52]\n",
      " [         2          8         11         14         35         38\n",
      "          42         47         48         51         52]\n",
      " [         2          4         11         14         35         38\n",
      "          42         47         48         51         52]\n",
      " [4485076616 4485048824 4480529736 4480464760 4462986008 4480475688\n",
      "  4485077576 4461999912 4485075256 4461998712 4461999272]\n",
      " [4485046984 4462000632 4485141992 4462000552 4485047064 4485142712\n",
      "  4462001512 4485141352 4487952728 4485000472 4487952488]\n",
      " [4487952648 4462000952 4487953208 4487954008 4487954168 4487953128\n",
      "  4487953928 4462001752 4487991448 4487992248 4487953528]\n",
      " [4487992008 4487992728 4487993448 4487994728 4487993848 4488001880\n",
      "  4487993048 4487994328 4488001960 4487995288 4488343208]\n",
      " [4488377272 4488377512 4488377992 4488378472 4488342088 4488378392\n",
      "  4488342408 4485142072 4488342248 4488000920 4488342728]\n",
      " [4488341928 4487992488 4488001720 4488000600 4487993528 4488376552\n",
      "  4488379432 4487992328 4487953768 4487993768 4488379352]\n",
      " [4488024136 4488379912 4488379752 4488024376 4488025016 4488025656\n",
      "  4488026376 4488026616 4488376952 4488025416 4488027496]\n",
      " [4488430040 4488026856 4488431080 4488024696 4488378072 4488025896\n",
      "  4488431000 4488431240 4488026136 4488431160 4488431480]\n",
      " [4488024536 4488026056 4488431560 4488432040 4488432120 4488432200\n",
      "  4488432440 4488432760 4488432840 4488433560 4488443528]]\n",
      "[[         4          8         11         14         35         38\n",
      "          42         47         48         51         52]\n",
      " [         2          8         11         14         35         38\n",
      "          42         47         48         51         52]\n",
      " [         2          4         11         14         35         38\n",
      "          42         47         48         51         52]\n",
      " [         2          4          8         14         35         38\n",
      "          42         47         48         51         52]\n",
      " [4485046984 4462000632 4485141992 4462000552 4485047064 4485142712\n",
      "  4462001512 4485141352 4487952728 4485000472 4487952488]\n",
      " [4487952648 4462000952 4487953208 4487954008 4487954168 4487953128\n",
      "  4487953928 4462001752 4487991448 4487992248 4487953528]\n",
      " [4487992008 4487992728 4487993448 4487994728 4487993848 4488001880\n",
      "  4487993048 4487994328 4488001960 4487995288 4488343208]\n",
      " [4488377272 4488377512 4488377992 4488378472 4488342088 4488378392\n",
      "  4488342408 4485142072 4488342248 4488000920 4488342728]\n",
      " [4488341928 4487992488 4488001720 4488000600 4487993528 4488376552\n",
      "  4488379432 4487992328 4487953768 4487993768 4488379352]\n",
      " [4488024136 4488379912 4488379752 4488024376 4488025016 4488025656\n",
      "  4488026376 4488026616 4488376952 4488025416 4488027496]\n",
      " [4488430040 4488026856 4488431080 4488024696 4488378072 4488025896\n",
      "  4488431000 4488431240 4488026136 4488431160 4488431480]\n",
      " [4488024536 4488026056 4488431560 4488432040 4488432120 4488432200\n",
      "  4488432440 4488432760 4488432840 4488433560 4488443528]]\n",
      "[[         4          8         11         14         35         38\n",
      "          42         47         48         51         52]\n",
      " [         2          8         11         14         35         38\n",
      "          42         47         48         51         52]\n",
      " [         2          4         11         14         35         38\n",
      "          42         47         48         51         52]\n",
      " [         2          4          8         14         35         38\n",
      "          42         47         48         51         52]\n",
      " [         2          4          8         11         35         38\n",
      "          42         47         48         51         52]\n",
      " [4487952648 4462000952 4487953208 4487954008 4487954168 4487953128\n",
      "  4487953928 4462001752 4487991448 4487992248 4487953528]\n",
      " [4487992008 4487992728 4487993448 4487994728 4487993848 4488001880\n",
      "  4487993048 4487994328 4488001960 4487995288 4488343208]\n",
      " [4488377272 4488377512 4488377992 4488378472 4488342088 4488378392\n",
      "  4488342408 4485142072 4488342248 4488000920 4488342728]\n",
      " [4488341928 4487992488 4488001720 4488000600 4487993528 4488376552\n",
      "  4488379432 4487992328 4487953768 4487993768 4488379352]\n",
      " [4488024136 4488379912 4488379752 4488024376 4488025016 4488025656\n",
      "  4488026376 4488026616 4488376952 4488025416 4488027496]\n",
      " [4488430040 4488026856 4488431080 4488024696 4488378072 4488025896\n",
      "  4488431000 4488431240 4488026136 4488431160 4488431480]\n",
      " [4488024536 4488026056 4488431560 4488432040 4488432120 4488432200\n",
      "  4488432440 4488432760 4488432840 4488433560 4488443528]]\n",
      "[[         4          8         11         14         35         38\n",
      "          42         47         48         51         52]\n",
      " [         2          8         11         14         35         38\n",
      "          42         47         48         51         52]\n",
      " [         2          4         11         14         35         38\n",
      "          42         47         48         51         52]\n",
      " [         2          4          8         14         35         38\n",
      "          42         47         48         51         52]\n",
      " [         2          4          8         11         35         38\n",
      "          42         47         48         51         52]\n",
      " [         2          4          8         11         14         38\n",
      "          42         47         48         51         52]\n",
      " [4487992008 4487992728 4487993448 4487994728 4487993848 4488001880\n",
      "  4487993048 4487994328 4488001960 4487995288 4488343208]\n",
      " [4488377272 4488377512 4488377992 4488378472 4488342088 4488378392\n",
      "  4488342408 4485142072 4488342248 4488000920 4488342728]\n",
      " [4488341928 4487992488 4488001720 4488000600 4487993528 4488376552\n",
      "  4488379432 4487992328 4487953768 4487993768 4488379352]\n",
      " [4488024136 4488379912 4488379752 4488024376 4488025016 4488025656\n",
      "  4488026376 4488026616 4488376952 4488025416 4488027496]\n",
      " [4488430040 4488026856 4488431080 4488024696 4488378072 4488025896\n",
      "  4488431000 4488431240 4488026136 4488431160 4488431480]\n",
      " [4488024536 4488026056 4488431560 4488432040 4488432120 4488432200\n",
      "  4488432440 4488432760 4488432840 4488433560 4488443528]]\n",
      "[[         4          8         11         14         35         38\n",
      "          42         47         48         51         52]\n",
      " [         2          8         11         14         35         38\n",
      "          42         47         48         51         52]\n",
      " [         2          4         11         14         35         38\n",
      "          42         47         48         51         52]\n",
      " [         2          4          8         14         35         38\n",
      "          42         47         48         51         52]\n",
      " [         2          4          8         11         35         38\n",
      "          42         47         48         51         52]\n",
      " [         2          4          8         11         14         38\n",
      "          42         47         48         51         52]\n",
      " [         2          4          8         11         14         35\n",
      "          42         47         48         51         52]\n",
      " [4488377272 4488377512 4488377992 4488378472 4488342088 4488378392\n",
      "  4488342408 4485142072 4488342248 4488000920 4488342728]\n",
      " [4488341928 4487992488 4488001720 4488000600 4487993528 4488376552\n",
      "  4488379432 4487992328 4487953768 4487993768 4488379352]\n",
      " [4488024136 4488379912 4488379752 4488024376 4488025016 4488025656\n",
      "  4488026376 4488026616 4488376952 4488025416 4488027496]\n",
      " [4488430040 4488026856 4488431080 4488024696 4488378072 4488025896\n",
      "  4488431000 4488431240 4488026136 4488431160 4488431480]\n",
      " [4488024536 4488026056 4488431560 4488432040 4488432120 4488432200\n",
      "  4488432440 4488432760 4488432840 4488433560 4488443528]]\n",
      "[[         4          8         11         14         35         38\n",
      "          42         47         48         51         52]\n",
      " [         2          8         11         14         35         38\n",
      "          42         47         48         51         52]\n",
      " [         2          4         11         14         35         38\n",
      "          42         47         48         51         52]\n",
      " [         2          4          8         14         35         38\n",
      "          42         47         48         51         52]\n",
      " [         2          4          8         11         35         38\n",
      "          42         47         48         51         52]\n",
      " [         2          4          8         11         14         38\n",
      "          42         47         48         51         52]\n",
      " [         2          4          8         11         14         35\n",
      "          42         47         48         51         52]\n",
      " [         2          4          8         11         14         35\n",
      "          38         47         48         51         52]\n",
      " [4488341928 4487992488 4488001720 4488000600 4487993528 4488376552\n",
      "  4488379432 4487992328 4487953768 4487993768 4488379352]\n",
      " [4488024136 4488379912 4488379752 4488024376 4488025016 4488025656\n",
      "  4488026376 4488026616 4488376952 4488025416 4488027496]\n",
      " [4488430040 4488026856 4488431080 4488024696 4488378072 4488025896\n",
      "  4488431000 4488431240 4488026136 4488431160 4488431480]\n",
      " [4488024536 4488026056 4488431560 4488432040 4488432120 4488432200\n",
      "  4488432440 4488432760 4488432840 4488433560 4488443528]]\n",
      "[[         4          8         11         14         35         38\n",
      "          42         47         48         51         52]\n",
      " [         2          8         11         14         35         38\n",
      "          42         47         48         51         52]\n",
      " [         2          4         11         14         35         38\n",
      "          42         47         48         51         52]\n",
      " [         2          4          8         14         35         38\n",
      "          42         47         48         51         52]\n",
      " [         2          4          8         11         35         38\n",
      "          42         47         48         51         52]\n",
      " [         2          4          8         11         14         38\n",
      "          42         47         48         51         52]\n",
      " [         2          4          8         11         14         35\n",
      "          42         47         48         51         52]\n",
      " [         2          4          8         11         14         35\n",
      "          38         47         48         51         52]\n",
      " [         2          4          8         11         14         35\n",
      "          38         42         48         51         52]\n",
      " [4488024136 4488379912 4488379752 4488024376 4488025016 4488025656\n",
      "  4488026376 4488026616 4488376952 4488025416 4488027496]\n",
      " [4488430040 4488026856 4488431080 4488024696 4488378072 4488025896\n",
      "  4488431000 4488431240 4488026136 4488431160 4488431480]\n",
      " [4488024536 4488026056 4488431560 4488432040 4488432120 4488432200\n",
      "  4488432440 4488432760 4488432840 4488433560 4488443528]]\n",
      "[[         4          8         11         14         35         38\n",
      "          42         47         48         51         52]\n",
      " [         2          8         11         14         35         38\n",
      "          42         47         48         51         52]\n",
      " [         2          4         11         14         35         38\n",
      "          42         47         48         51         52]\n",
      " [         2          4          8         14         35         38\n",
      "          42         47         48         51         52]\n",
      " [         2          4          8         11         35         38\n",
      "          42         47         48         51         52]\n",
      " [         2          4          8         11         14         38\n",
      "          42         47         48         51         52]\n",
      " [         2          4          8         11         14         35\n",
      "          42         47         48         51         52]\n",
      " [         2          4          8         11         14         35\n",
      "          38         47         48         51         52]\n",
      " [         2          4          8         11         14         35\n",
      "          38         42         48         51         52]\n",
      " [         2          4          8         11         14         35\n",
      "          38         42         47         51         52]\n",
      " [4488430040 4488026856 4488431080 4488024696 4488378072 4488025896\n",
      "  4488431000 4488431240 4488026136 4488431160 4488431480]\n",
      " [4488024536 4488026056 4488431560 4488432040 4488432120 4488432200\n",
      "  4488432440 4488432760 4488432840 4488433560 4488443528]]\n",
      "[[         4          8         11         14         35         38\n",
      "          42         47         48         51         52]\n",
      " [         2          8         11         14         35         38\n",
      "          42         47         48         51         52]\n",
      " [         2          4         11         14         35         38\n",
      "          42         47         48         51         52]\n",
      " [         2          4          8         14         35         38\n",
      "          42         47         48         51         52]\n",
      " [         2          4          8         11         35         38\n",
      "          42         47         48         51         52]\n",
      " [         2          4          8         11         14         38\n",
      "          42         47         48         51         52]\n",
      " [         2          4          8         11         14         35\n",
      "          42         47         48         51         52]\n",
      " [         2          4          8         11         14         35\n",
      "          38         47         48         51         52]\n",
      " [         2          4          8         11         14         35\n",
      "          38         42         48         51         52]\n",
      " [         2          4          8         11         14         35\n",
      "          38         42         47         51         52]\n",
      " [         2          4          8         11         14         35\n",
      "          38         42         47         48         52]\n",
      " [4488024536 4488026056 4488431560 4488432040 4488432120 4488432200\n",
      "  4488432440 4488432760 4488432840 4488433560 4488443528]]\n",
      "[[ 4  8 11 14 35 38 42 47 48 51 52]\n",
      " [ 2  8 11 14 35 38 42 47 48 51 52]\n",
      " [ 2  4 11 14 35 38 42 47 48 51 52]\n",
      " [ 2  4  8 14 35 38 42 47 48 51 52]\n",
      " [ 2  4  8 11 35 38 42 47 48 51 52]\n",
      " [ 2  4  8 11 14 38 42 47 48 51 52]\n",
      " [ 2  4  8 11 14 35 42 47 48 51 52]\n",
      " [ 2  4  8 11 14 35 38 47 48 51 52]\n",
      " [ 2  4  8 11 14 35 38 42 48 51 52]\n",
      " [ 2  4  8 11 14 35 38 42 47 51 52]\n",
      " [ 2  4  8 11 14 35 38 42 47 48 52]\n",
      " [ 2  4  8 11 14 35 38 42 47 48 51]]\n"
     ]
    }
   ],
   "source": [
    "size = columns.size\n",
    "print(size)\n",
    "a = np.empty([size,size-1],dtype=int)\n",
    "print(a)\n",
    "for index, item in enumerate(columns):\n",
    "    a[index]=np.delete(columns,index)\n",
    "    print(a)"
   ]
  },
  {
   "cell_type": "code",
   "execution_count": 410,
   "metadata": {},
   "outputs": [
    {
     "name": "stdout",
     "output_type": "stream",
     "text": [
      "(1, 1)\n"
     ]
    },
    {
     "ename": "ValueError",
     "evalue": "XA must be a 2-dimensional array.",
     "output_type": "error",
     "traceback": [
      "\u001b[0;31m---------------------------------------------------------------------------\u001b[0m",
      "\u001b[0;31mValueError\u001b[0m                                Traceback (most recent call last)",
      "\u001b[0;32m<ipython-input-410-78d951ec29ba>\u001b[0m in \u001b[0;36m<module>\u001b[0;34m()\u001b[0m\n\u001b[1;32m      2\u001b[0m \u001b[0mprint\u001b[0m\u001b[0;34m(\u001b[0m\u001b[0mnonpredictors\u001b[0m\u001b[0;34m.\u001b[0m\u001b[0mshape\u001b[0m\u001b[0;34m)\u001b[0m\u001b[0;34m\u001b[0m\u001b[0m\n\u001b[1;32m      3\u001b[0m \u001b[0;32mfor\u001b[0m \u001b[0mindex\u001b[0m\u001b[0;34m,\u001b[0m \u001b[0mrow\u001b[0m \u001b[0;32min\u001b[0m \u001b[0menumerate\u001b[0m\u001b[0;34m(\u001b[0m\u001b[0ma\u001b[0m\u001b[0;34m)\u001b[0m\u001b[0;34m:\u001b[0m\u001b[0;34m\u001b[0m\u001b[0m\n\u001b[0;32m----> 4\u001b[0;31m     \u001b[0morder\u001b[0m \u001b[0;34m=\u001b[0m \u001b[0mget_order\u001b[0m\u001b[0;34m(\u001b[0m\u001b[0mrow\u001b[0m\u001b[0;34m)\u001b[0m\u001b[0;34m\u001b[0m\u001b[0m\n\u001b[0m\u001b[1;32m      5\u001b[0m     \u001b[0mprint\u001b[0m\u001b[0;34m(\u001b[0m\u001b[0mindex\u001b[0m\u001b[0;34m)\u001b[0m\u001b[0;34m\u001b[0m\u001b[0m\n\u001b[1;32m      6\u001b[0m     \u001b[0mnonpredictors\u001b[0m\u001b[0;34m[\u001b[0m\u001b[0mindex\u001b[0m\u001b[0;34m]\u001b[0m \u001b[0;34m=\u001b[0m \u001b[0mnp\u001b[0m\u001b[0;34m.\u001b[0m\u001b[0mcount_nonzero\u001b[0m\u001b[0;34m(\u001b[0m\u001b[0morder\u001b[0m\u001b[0;34m-\u001b[0m\u001b[0morder_0\u001b[0m\u001b[0;34m)\u001b[0m\u001b[0;34m\u001b[0m\u001b[0m\n",
      "\u001b[0;32m<ipython-input-407-acab1ad7c6e2>\u001b[0m in \u001b[0;36mget_order\u001b[0;34m(columns)\u001b[0m\n\u001b[1;32m      2\u001b[0m     \u001b[0mdataset\u001b[0m \u001b[0;34m=\u001b[0m \u001b[0mdb_contents\u001b[0m\u001b[0;34m[\u001b[0m\u001b[0;34m:\u001b[0m\u001b[0;34m,\u001b[0m\u001b[0mcolumns\u001b[0m\u001b[0;34m]\u001b[0m\u001b[0;34m.\u001b[0m\u001b[0mastype\u001b[0m\u001b[0;34m(\u001b[0m\u001b[0mfloat\u001b[0m\u001b[0;34m)\u001b[0m\u001b[0;34m\u001b[0m\u001b[0m\n\u001b[1;32m      3\u001b[0m     \u001b[0mmeans\u001b[0m \u001b[0;34m=\u001b[0m \u001b[0mnp\u001b[0m\u001b[0;34m.\u001b[0m\u001b[0mmean\u001b[0m\u001b[0;34m(\u001b[0m\u001b[0mdataset\u001b[0m\u001b[0;34m,\u001b[0m \u001b[0maxis\u001b[0m\u001b[0;34m=\u001b[0m\u001b[0;36m0\u001b[0m\u001b[0;34m)\u001b[0m\u001b[0;34m\u001b[0m\u001b[0m\n\u001b[0;32m----> 4\u001b[0;31m     \u001b[0mdist\u001b[0m \u001b[0;34m=\u001b[0m \u001b[0mdistance\u001b[0m\u001b[0;34m.\u001b[0m\u001b[0mcdist\u001b[0m\u001b[0;34m(\u001b[0m\u001b[0mdataset\u001b[0m\u001b[0;34m,\u001b[0m \u001b[0;34m[\u001b[0m\u001b[0mmeans\u001b[0m\u001b[0;34m]\u001b[0m\u001b[0;34m,\u001b[0m \u001b[0;34m'euclidean'\u001b[0m\u001b[0;34m)\u001b[0m\u001b[0;34m\u001b[0m\u001b[0m\n\u001b[0m\u001b[1;32m      5\u001b[0m     \u001b[0morder\u001b[0m \u001b[0;34m=\u001b[0m \u001b[0mnp\u001b[0m\u001b[0;34m.\u001b[0m\u001b[0margsort\u001b[0m\u001b[0;34m(\u001b[0m\u001b[0mdist\u001b[0m\u001b[0;34m.\u001b[0m\u001b[0mT\u001b[0m\u001b[0;34m[\u001b[0m\u001b[0;36m0\u001b[0m\u001b[0;34m]\u001b[0m\u001b[0;34m)\u001b[0m\u001b[0;34m\u001b[0m\u001b[0m\n\u001b[1;32m      6\u001b[0m     \u001b[0;32mreturn\u001b[0m \u001b[0morder\u001b[0m\u001b[0;34m\u001b[0m\u001b[0m\n",
      "\u001b[0;32m~/anaconda/envs/traffic_signs/lib/python3.5/site-packages/scipy/spatial/distance.py\u001b[0m in \u001b[0;36mcdist\u001b[0;34m(XA, XB, metric, p, V, VI, w)\u001b[0m\n\u001b[1;32m   2130\u001b[0m \u001b[0;34m\u001b[0m\u001b[0m\n\u001b[1;32m   2131\u001b[0m     \u001b[0;32mif\u001b[0m \u001b[0mlen\u001b[0m\u001b[0;34m(\u001b[0m\u001b[0ms\u001b[0m\u001b[0;34m)\u001b[0m \u001b[0;34m!=\u001b[0m \u001b[0;36m2\u001b[0m\u001b[0;34m:\u001b[0m\u001b[0;34m\u001b[0m\u001b[0m\n\u001b[0;32m-> 2132\u001b[0;31m         \u001b[0;32mraise\u001b[0m \u001b[0mValueError\u001b[0m\u001b[0;34m(\u001b[0m\u001b[0;34m'XA must be a 2-dimensional array.'\u001b[0m\u001b[0;34m)\u001b[0m\u001b[0;34m\u001b[0m\u001b[0m\n\u001b[0m\u001b[1;32m   2133\u001b[0m     \u001b[0;32mif\u001b[0m \u001b[0mlen\u001b[0m\u001b[0;34m(\u001b[0m\u001b[0msB\u001b[0m\u001b[0;34m)\u001b[0m \u001b[0;34m!=\u001b[0m \u001b[0;36m2\u001b[0m\u001b[0;34m:\u001b[0m\u001b[0;34m\u001b[0m\u001b[0m\n\u001b[1;32m   2134\u001b[0m         \u001b[0;32mraise\u001b[0m \u001b[0mValueError\u001b[0m\u001b[0;34m(\u001b[0m\u001b[0;34m'XB must be a 2-dimensional array.'\u001b[0m\u001b[0;34m)\u001b[0m\u001b[0;34m\u001b[0m\u001b[0m\n",
      "\u001b[0;31mValueError\u001b[0m: XA must be a 2-dimensional array."
     ]
    }
   ],
   "source": [
    "nonpredictors = np.empty([a[0].size,1],int)\n",
    "print(nonpredictors.shape)\n",
    "for index, row in enumerate(a):\n",
    "    order = get_order(row)\n",
    "    print(index)\n",
    "    nonpredictors[index] = np.count_nonzero(order-order_0)"
   ]
  },
  {
   "cell_type": "code",
   "execution_count": null,
   "metadata": {},
   "outputs": [],
   "source": []
  },
  {
   "cell_type": "code",
   "execution_count": 378,
   "metadata": {},
   "outputs": [
    {
     "data": {
      "text/plain": [
       "(array([ 0,  1,  2,  3,  4,  5,  6,  7,  8,  9, 10]),\n",
       " array([0, 0, 0, 0, 0, 0, 0, 0, 0, 0, 0]))"
      ]
     },
     "execution_count": 378,
     "metadata": {},
     "output_type": "execute_result"
    }
   ],
   "source": [
    "np.where(nonpredictors!=0)"
   ]
  },
  {
   "cell_type": "code",
   "execution_count": 379,
   "metadata": {},
   "outputs": [],
   "source": [
    "columns = columns [np.where(nonpredictors!=0)[0]]"
   ]
  },
  {
   "cell_type": "code",
   "execution_count": 380,
   "metadata": {},
   "outputs": [
    {
     "data": {
      "text/plain": [
       "array([ 2,  4,  8, 11, 14, 35, 38, 42, 47, 48, 51])"
      ]
     },
     "execution_count": 380,
     "metadata": {},
     "output_type": "execute_result"
    }
   ],
   "source": [
    "columns"
   ]
  },
  {
   "cell_type": "code",
   "execution_count": null,
   "metadata": {
    "collapsed": true
   },
   "outputs": [],
   "source": []
  },
  {
   "cell_type": "code",
   "execution_count": null,
   "metadata": {
    "collapsed": true
   },
   "outputs": [],
   "source": []
  },
  {
   "cell_type": "code",
   "execution_count": null,
   "metadata": {
    "collapsed": true
   },
   "outputs": [],
   "source": []
  }
 ],
 "metadata": {
  "kernelspec": {
   "display_name": "Python 3",
   "language": "python",
   "name": "python3"
  },
  "language_info": {
   "codemirror_mode": {
    "name": "ipython",
    "version": 3
   },
   "file_extension": ".py",
   "mimetype": "text/x-python",
   "name": "python",
   "nbconvert_exporter": "python",
   "pygments_lexer": "ipython3",
   "version": "3.5.4"
  }
 },
 "nbformat": 4,
 "nbformat_minor": 2
}
