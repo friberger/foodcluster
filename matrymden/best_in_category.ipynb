{
 "cells": [
  {
   "cell_type": "code",
   "execution_count": 1,
   "metadata": {
    "collapsed": true
   },
   "outputs": [],
   "source": [
    "import numpy as np\n",
    "import sqlite3\n",
    "from scipy.spatial import distance #https://docs.scipy.org/doc/scipy/reference/generated/scipy.spatial.distance.cdist.html\n"
   ]
  },
  {
   "cell_type": "code",
   "execution_count": 2,
   "metadata": {
    "collapsed": true
   },
   "outputs": [],
   "source": [
    "conn = sqlite3.connect('../livs.db')  # Create db and establish connection\n",
    "conn.row_factory = sqlite3.Row\n",
    "curs = conn.cursor()\n",
    "result = []\n",
    "rows = curs.execute('select * from livs where \"Huvudgrupp\" = \"Grönsaker\"')\n",
    "for row in rows:\n",
    "        result.append(row)\n",
    "\n",
    "db_contents = np.array(result)\n",
    "\n",
    "conn.close()"
   ]
  },
  {
   "cell_type": "markdown",
   "metadata": {},
   "source": [
    "## Prototypiska i sin kategori\n",
    "Syftet är att ta en huvudgrupp och se vad mittpunkten i den kategorin är och sen räkna ut vilka livsmedel som ligger närmast mittpunkten.\n",
    "\n",
    "Varje näringsvärde blir en dimension, och varje livsmedel en punkt som har ett värde i alla de dimensionerna.\n",
    "\n",
    "Medelvärdet av alla livsmedel blir en punkt som man kan utgå från när man räknar avstånd till alla livsmedlen, och när man har tillgång till avstånden så kan man ordna alla livsmedlen efter avståndet till mittpunkten.\n",
    "\n",
    "Det är första steget. \n",
    "\n",
    "Andra steget är att se om man verkligen behöver alla näringsvärden för att ändå få samma ordning mellan livsmedlen. Vilka kan man ta bort?"
   ]
  },
  {
   "cell_type": "markdown",
   "metadata": {},
   "source": [
    "### Utgångspunkter\n",
    "\n",
    "Från Livsmedelsverkets data har vi valt en huvudgrupp, som \"Grönsaker\". Alla dess data ligger i db_contents, och den variabeln har en shape som säger hur många rader (livsmedel) och kolumner (namn, nummer, näringsvärden, klassificering) den innehåller."
   ]
  },
  {
   "cell_type": "code",
   "execution_count": 3,
   "metadata": {},
   "outputs": [
    {
     "data": {
      "text/plain": [
       "(94, 63)"
      ]
     },
     "execution_count": 3,
     "metadata": {},
     "output_type": "execute_result"
    }
   ],
   "source": [
    "db_contents.shape"
   ]
  },
  {
   "cell_type": "markdown",
   "metadata": {},
   "source": [
    "Kolumn 0 är namnet, 1 är numret och sen börjar näringsvärdena. \n",
    "\n",
    "columns är variabeln som innehåller de värden som används i beräkningarna. Under står de kolumner som är möjliga att använda. \n",
    "\n",
    "Vill man ha fram betydelsena av kolumnerna kan man göra något i stil med\n",
    "\n",
    "```\n",
    "for row in conn.execute('PRAGMA table_info (livs);'):\n",
    "    columnObject.append(row)\n",
    "columns = np.array(columnObject)\n",
    "``` "
   ]
  },
  {
   "cell_type": "code",
   "execution_count": 53,
   "metadata": {
    "collapsed": true
   },
   "outputs": [],
   "source": [
    "columns = np.array([ 2,  4,  5,  6,  7,  8,  9, 10, 11, 12, 13, 14, 16, 17, 18])\n",
    "# Possible columns: [ 2,  4,  5,  6,  7,  8,  9, 10, 11, 12, 13, 14, 16, 17, 18, 19, 20, 21, 22, 23, 24, 25, 26, 27, 28, 29, 30, 31, 32, 33, 35, 37, 38, 40, 41, 42, 43, 44, 45, 46, 47, 48, 50, 51, 52, 53, 54, 55, 56, 57]\n"
   ]
  },
  {
   "cell_type": "markdown",
   "metadata": {},
   "source": [
    "dataset blir de kolumner som används. Från databasen brukar de komma som unicode, så det är lämpligt att konvertera till float."
   ]
  },
  {
   "cell_type": "code",
   "execution_count": 54,
   "metadata": {
    "collapsed": true
   },
   "outputs": [],
   "source": [
    "dataset = db_contents[:,columns].astype(float)"
   ]
  },
  {
   "cell_type": "markdown",
   "metadata": {},
   "source": [
    "Det är fantastiskt enkelt att räkna medelvärdet av varje kolumn med funktionen numpy.mean, som returnerar en array med lika många element som antal kolumner\n",
    "\n",
    "Obs: axis behövs, för annars får man fel medelvärde..."
   ]
  },
  {
   "cell_type": "code",
   "execution_count": 55,
   "metadata": {
    "collapsed": true
   },
   "outputs": [],
   "source": [
    "means = np.mean(dataset, axis=0)"
   ]
  },
  {
   "cell_type": "code",
   "execution_count": 56,
   "metadata": {},
   "outputs": [
    {
     "name": "stdout",
     "output_type": "stream",
     "text": [
      "[  4.23425532e+01   5.17563830e+00   1.07510638e+00   1.88117021e+00\n",
      "   2.17787234e+00   8.85922340e+01   0.00000000e+00   1.10702128e+00\n",
      "   1.91085106e+00   9.59574468e-01   9.27659574e-01   5.31914894e+00\n",
      "   1.81063830e-01   5.85106383e-03   8.51063830e-04] \n",
      " (15,)\n"
     ]
    }
   ],
   "source": [
    "print(means, '\\n', means.shape)"
   ]
  },
  {
   "cell_type": "markdown",
   "metadata": {},
   "source": [
    "Det är läskigt lätt även att räkna avståndet mellan alla punkterna i dataset och medelvärdena:\n",
    "\n",
    "(Det är något med medelvärdena som gör att man måste sätta en extra klammer runt, för att dimensionaliteten ska stämma...)"
   ]
  },
  {
   "cell_type": "code",
   "execution_count": 57,
   "metadata": {
    "collapsed": true
   },
   "outputs": [],
   "source": [
    "dist = distance.cdist(dataset, [means], 'euclidean') #https://docs.scipy.org/doc/scipy/reference/generated/scipy.spatial.distance.cdist.html"
   ]
  },
  {
   "cell_type": "markdown",
   "metadata": {},
   "source": [
    "*dist* innehåller sen varje rads avstånd från medelvärdet i alla kolumner."
   ]
  },
  {
   "cell_type": "code",
   "execution_count": 58,
   "metadata": {},
   "outputs": [
    {
     "data": {
      "text/plain": [
       "array([[ 157.26399283],\n",
       "       [  30.50805558],\n",
       "       [  19.26456795],\n",
       "       [  20.05802698],\n",
       "       [   9.44167616],\n",
       "       [  19.88776668],\n",
       "       [   6.64565365],\n",
       "       [   6.69804034],\n",
       "       [  28.85219649],\n",
       "       [  30.28456786],\n",
       "       [  15.40097323],\n",
       "       [   6.64443518],\n",
       "       [  14.33488082],\n",
       "       [  31.04100558],\n",
       "       [  29.62093419],\n",
       "       [  12.58746631],\n",
       "       [  14.53411466],\n",
       "       [   6.92737706],\n",
       "       [ 128.52198606],\n",
       "       [ 119.4367159 ],\n",
       "       [ 111.87940644],\n",
       "       [  22.55329088],\n",
       "       [  14.29881678],\n",
       "       [  25.25485084],\n",
       "       [  21.54938899],\n",
       "       [   9.41342453],\n",
       "       [  17.50778823],\n",
       "       [  14.28737107],\n",
       "       [  12.62080921],\n",
       "       [  29.71246439],\n",
       "       [  15.32965592],\n",
       "       [  23.17018801],\n",
       "       [  26.46566543],\n",
       "       [  23.99838695],\n",
       "       [  29.30980919],\n",
       "       [  26.36861303],\n",
       "       [   7.80125656],\n",
       "       [  18.12678322],\n",
       "       [  14.57101574],\n",
       "       [ 123.98144987],\n",
       "       [  24.8203815 ],\n",
       "       [  16.96357141],\n",
       "       [  17.38627545],\n",
       "       [  16.5025905 ],\n",
       "       [  19.11550935],\n",
       "       [   9.10141021],\n",
       "       [  20.45957435],\n",
       "       [  18.24514508],\n",
       "       [  15.22933059],\n",
       "       [  28.2661614 ],\n",
       "       [  21.78476556],\n",
       "       [  20.10238394],\n",
       "       [ 102.72771883],\n",
       "       [  87.21276289],\n",
       "       [ 101.38237895],\n",
       "       [  28.64977627],\n",
       "       [  26.80438571],\n",
       "       [  26.13137121],\n",
       "       [  45.13664447],\n",
       "       [  51.91418151],\n",
       "       [  21.41551102],\n",
       "       [  26.40111816],\n",
       "       [  19.29067589],\n",
       "       [  27.02322759],\n",
       "       [  11.41453523],\n",
       "       [  12.83371995],\n",
       "       [   6.97306381],\n",
       "       [  16.0714082 ],\n",
       "       [  14.31626481],\n",
       "       [  16.60923621],\n",
       "       [  14.59677441],\n",
       "       [  19.5691282 ],\n",
       "       [  31.14399118],\n",
       "       [  19.58906484],\n",
       "       [  35.11139264],\n",
       "       [  28.94565263],\n",
       "       [   6.53844113],\n",
       "       [  12.45815411],\n",
       "       [ 112.27534916],\n",
       "       [  36.11659234],\n",
       "       [ 153.47581115],\n",
       "       [  15.48284307],\n",
       "       [  27.52305513],\n",
       "       [  16.41871576],\n",
       "       [  24.85816788],\n",
       "       [  18.63734588],\n",
       "       [  18.31340678],\n",
       "       [  19.88202149],\n",
       "       [  28.17341348],\n",
       "       [  31.5648444 ],\n",
       "       [   7.91678245],\n",
       "       [  99.19559053],\n",
       "       [  22.07409538],\n",
       "       [   6.74901314]])"
      ]
     },
     "execution_count": 58,
     "metadata": {},
     "output_type": "execute_result"
    }
   ],
   "source": [
    "dist"
   ]
  },
  {
   "cell_type": "markdown",
   "metadata": {},
   "source": [
    "Jag har svårt att vänja mig vid det här med implicit sortering.\n",
    "\n",
    "Först sorterar vi alltså värdena och får en \"ordning\", som vi sen använder som index för den array vi egentligen vill sortera..."
   ]
  },
  {
   "cell_type": "code",
   "execution_count": 59,
   "metadata": {
    "collapsed": true
   },
   "outputs": [],
   "source": [
    "order = np.argsort(dist.T[0])"
   ]
  },
  {
   "cell_type": "code",
   "execution_count": 60,
   "metadata": {},
   "outputs": [
    {
     "data": {
      "text/plain": [
       "array([76, 11,  6,  7, 93, 17, 66, 36, 90, 45, 25,  4, 64, 77, 15, 28, 65,\n",
       "       27, 22, 68, 12, 16, 38, 70, 48, 30, 10, 81, 67, 83, 43, 69, 41, 42,\n",
       "       26, 37, 47, 86, 85, 44,  2, 62, 71, 73, 87,  5,  3, 51, 46, 60, 24,\n",
       "       50, 92, 21, 31, 33, 40, 84, 23, 57, 35, 61, 32, 56, 63, 82, 88, 49,\n",
       "       55,  8, 75, 34, 14, 29,  9,  1, 13, 72, 89, 74, 79, 58, 59, 53, 91,\n",
       "       54, 52, 20, 78, 19, 39, 18, 80,  0])"
      ]
     },
     "execution_count": 60,
     "metadata": {},
     "output_type": "execute_result"
    }
   ],
   "source": [
    "order"
   ]
  },
  {
   "cell_type": "markdown",
   "metadata": {},
   "source": [
    "Eftersom vi har vår ursprungliga lista med oss i *db_contents* så kan vi skriva ut vilka kolumner som helst, och nu med raderna i rätt ordning utifrån medelvärdet i huvudgruppen.\n",
    "\n",
    "Här tog det ett tag för mig att förstå hur jag skulle se på resultatet. Att se de första som näringsmässigt \"lika\" var inte så svårt, men hur är det med de livsmedel som hamnar sist i listan?\n",
    "\n",
    "Jag tror att man ska se det som en (mångdimensionell) \"periferi\" där de sista i listan förstås är långt från centrum, men inte alls inbördes \"lika\". De kan ha stort avstånd till mitten i väldigt skilda dimensioner. Det enda som förenar dem är att de är udda... :-)"
   ]
  },
  {
   "cell_type": "code",
   "execution_count": 61,
   "metadata": {},
   "outputs": [
    {
     "data": {
      "text/plain": [
       "array(['Ättiksgurka u lag', 'Grönkål', 'Brysselkål', 'Brysselkål fryst',\n",
       "       'Brysselkål kokt', 'Lök gul', 'Lök kokt', 'Trädgårdskrasse',\n",
       "       'Lök röd', 'Chilipeppar färsk', 'Persilja blad', 'Broccoli',\n",
       "       'Gurka färskinlagd', 'Kronärtskocka kokt', 'Kronärtskocka',\n",
       "       'Rödkål', 'Lök stekt', 'Purjolök', 'Nässlor förvällda',\n",
       "       'Purjolök kokt', 'Grönkål fryst', 'Kålrabbi', 'Vitkål',\n",
       "       'Vitkål kokt', 'Lök gul fryst', 'Savojkål', 'Fänkål', 'Fänkål kokt',\n",
       "       'Paprika förvälld', 'Rucolasallat', 'Gräslök', 'Spenat fräst',\n",
       "       'Sparris grön el vit', 'Dill', 'Pumpa', 'Vattenkrasse',\n",
       "       'Paprika grön röd fryst', 'Broccoli kokt',\n",
       "       'Småtomater röda typ körsbärstomat', 'Basilika färsk', 'Blomkål',\n",
       "       'Blomkål kokt', 'Aubergine kokt', 'Gurka inlagd', 'Spenat färsk',\n",
       "       'Broccoli fryst', 'Blomkål fryst', 'Bambuskott konserv u lag',\n",
       "       'Paprika gul', 'Tomater krossade konserv m lag', 'Paprika röd',\n",
       "       'Paprika grön gul röd', 'Sparris grön kokt', 'Mangold',\n",
       "       'Salladskål', 'Spenat fryst', 'Aubergine', 'Mâchesallat',\n",
       "       'Paprika grön', 'Tomater hela konserv m lag', 'Tomat',\n",
       "       'Pumpasallad m paprika inlagd sötad u lag', 'Spenat',\n",
       "       'Surkål konserv m lag', 'Grönsallat gurka tomat paprika u dressing',\n",
       "       'Romansallat', 'Röd mangold småbladig färsk',\n",
       "       'Grönsallat gurka tomat u dressing', 'Sparris vit konserv u lag',\n",
       "       'Friséesallat', 'Saltgurka u lag', 'Squash', 'Isbergssallat',\n",
       "       'Huvudsallat', 'Endivesallat', 'Stjälkselleri', 'Gurka',\n",
       "       'Aubergine stekt', 'Kruksallat', 'Gurka fermenterad u lag',\n",
       "       'Rödkål konserv', 'Syltlök inlagd', 'Tomater gröna syltade',\n",
       "       'Oliver gröna m paprikafyllning avrunna', 'Guacamole',\n",
       "       'Oliver svarta m olja avrunna', 'Majskorn konserv u lag',\n",
       "       'Majskorn frysta', 'Majskolv kokt', 'Majskolv fryst', 'Vitlök',\n",
       "       'Majskolv', 'Ciabatta med mozzarella soltorkad tomat sallad',\n",
       "       'Avokado'],\n",
       "      dtype='<U46')"
      ]
     },
     "execution_count": 61,
     "metadata": {},
     "output_type": "execute_result"
    }
   ],
   "source": [
    "db_contents[order,0]"
   ]
  },
  {
   "cell_type": "markdown",
   "metadata": {},
   "source": [
    "## Del två. Att jämföra ordningar...\n",
    "\n",
    "Den här ordningen mellan livsmedel bygger på att man tar ett urval kolumner. Typiskt tar man så mycket information man har (= alla kolumner) för att få en mer relevant ordning.\n",
    "\n",
    "Men kanske är det så att inte alla kolumner behövs för att ge den här ordningen? Vilka kolumner skulle man kunna ta bort?"
   ]
  },
  {
   "cell_type": "markdown",
   "metadata": {},
   "source": [
    "Det enklaste är att kolla om ordningarna är identiska, så i nedanstående är det bara det som görs. "
   ]
  },
  {
   "cell_type": "markdown",
   "metadata": {},
   "source": [
    "Dags att summera ihop mycket av del 1 i en funktion. Utgå från db_contents som typ en global variabel. Skicka in kolumner till funktionen, så returneras en ordning mellan livsmedlen i db_contents/dataset"
   ]
  },
  {
   "cell_type": "code",
   "execution_count": 62,
   "metadata": {
    "collapsed": true
   },
   "outputs": [],
   "source": [
    "def get_order(columns):\n",
    "    dataset = db_contents[:,columns].astype(float)\n",
    "    means = np.mean(dataset, axis=0)\n",
    "    dist = distance.cdist(dataset, [means], 'euclidean')\n",
    "    order = np.argsort(dist.T[0])\n",
    "    return order"
   ]
  },
  {
   "cell_type": "markdown",
   "metadata": {},
   "source": [
    "Vi ska jämföra ursprungsordningen (order_0) med alla ordningar som uppkommer när man tar bort en kolumn. Vi kallar underordningarna för order_1 och löper igenom dem en i taget."
   ]
  },
  {
   "cell_type": "code",
   "execution_count": 63,
   "metadata": {
    "collapsed": true
   },
   "outputs": [],
   "source": [
    "columns_0 = columns\n",
    "order_0 = get_order(columns)"
   ]
  },
  {
   "cell_type": "code",
   "execution_count": 64,
   "metadata": {},
   "outputs": [
    {
     "data": {
      "text/plain": [
       "array([76, 11,  6,  7, 93, 17, 66, 36, 90, 45, 25,  4, 64, 77, 15, 28, 65,\n",
       "       27, 22, 68, 12, 16, 38, 70, 48, 30, 10, 81, 67, 83, 43, 69, 41, 42,\n",
       "       26, 37, 47, 86, 85, 44,  2, 62, 71, 73, 87,  5,  3, 51, 46, 60, 24,\n",
       "       50, 92, 21, 31, 33, 40, 84, 23, 57, 35, 61, 32, 56, 63, 82, 88, 49,\n",
       "       55,  8, 75, 34, 14, 29,  9,  1, 13, 72, 89, 74, 79, 58, 59, 53, 91,\n",
       "       54, 52, 20, 78, 19, 39, 18, 80,  0])"
      ]
     },
     "execution_count": 64,
     "metadata": {},
     "output_type": "execute_result"
    }
   ],
   "source": [
    "order_0"
   ]
  },
  {
   "cell_type": "markdown",
   "metadata": {},
   "source": [
    "Här är ett exempel på vad som händer när man tar bort en kolumn:"
   ]
  },
  {
   "cell_type": "code",
   "execution_count": 66,
   "metadata": {},
   "outputs": [],
   "source": [
    "columns_1 = np.delete(columns,4)"
   ]
  },
  {
   "cell_type": "code",
   "execution_count": 67,
   "metadata": {},
   "outputs": [
    {
     "data": {
      "text/plain": [
       "array([ 2,  4,  5,  6,  8,  9, 10, 11, 12, 13, 14, 16, 17, 18])"
      ]
     },
     "execution_count": 67,
     "metadata": {},
     "output_type": "execute_result"
    }
   ],
   "source": [
    "columns_1"
   ]
  },
  {
   "cell_type": "code",
   "execution_count": 68,
   "metadata": {},
   "outputs": [],
   "source": [
    "order_1 = get_order(columns_1)"
   ]
  },
  {
   "cell_type": "code",
   "execution_count": 69,
   "metadata": {
    "collapsed": true
   },
   "outputs": [],
   "source": [
    "x = np.array_equal(order_0, order_1)"
   ]
  },
  {
   "cell_type": "code",
   "execution_count": 70,
   "metadata": {},
   "outputs": [
    {
     "data": {
      "text/plain": [
       "False"
      ]
     },
     "execution_count": 70,
     "metadata": {},
     "output_type": "execute_result"
    }
   ],
   "source": [
    "x"
   ]
  },
  {
   "cell_type": "code",
   "execution_count": 71,
   "metadata": {},
   "outputs": [
    {
     "data": {
      "text/plain": [
       "array([ 2,  4,  5,  6,  8,  9, 10, 11, 12, 13, 14, 16, 17, 18])"
      ]
     },
     "execution_count": 71,
     "metadata": {},
     "output_type": "execute_result"
    }
   ],
   "source": [
    "columns_1"
   ]
  },
  {
   "cell_type": "markdown",
   "metadata": {},
   "source": [
    "Om vi tar en uppsättning kolumner behöver vi loopa igenom alla uppsättningar som saknar en kolumn. Något i den här stilen:"
   ]
  },
  {
   "cell_type": "code",
   "execution_count": 72,
   "metadata": {},
   "outputs": [
    {
     "name": "stdout",
     "output_type": "stream",
     "text": [
      "15\n",
      "[ 4  5  6  7  8  9 10 11 12 13 14 16 17 18]\n",
      "[ 2  5  6  7  8  9 10 11 12 13 14 16 17 18]\n",
      "[ 2  4  6  7  8  9 10 11 12 13 14 16 17 18]\n",
      "[ 2  4  5  7  8  9 10 11 12 13 14 16 17 18]\n",
      "[ 2  4  5  6  8  9 10 11 12 13 14 16 17 18]\n",
      "[ 2  4  5  6  7  9 10 11 12 13 14 16 17 18]\n",
      "[ 2  4  5  6  7  8 10 11 12 13 14 16 17 18]\n",
      "[ 2  4  5  6  7  8  9 11 12 13 14 16 17 18]\n",
      "[ 2  4  5  6  7  8  9 10 12 13 14 16 17 18]\n",
      "[ 2  4  5  6  7  8  9 10 11 13 14 16 17 18]\n",
      "[ 2  4  5  6  7  8  9 10 11 12 14 16 17 18]\n",
      "[ 2  4  5  6  7  8  9 10 11 12 13 16 17 18]\n",
      "[ 2  4  5  6  7  8  9 10 11 12 13 14 17 18]\n",
      "[ 2  4  5  6  7  8  9 10 11 12 13 14 16 18]\n",
      "[ 2  4  5  6  7  8  9 10 11 12 13 14 16 17]\n"
     ]
    }
   ],
   "source": [
    "size = columns.size\n",
    "print(size)\n",
    "a = np.empty([size,size-1],dtype=int)\n",
    "#print(a)\n",
    "for index, item in enumerate(columns):\n",
    "    a[index]=np.delete(columns,index)\n",
    "    print(a[index])"
   ]
  },
  {
   "cell_type": "markdown",
   "metadata": {},
   "source": [
    "Om vi ska göra en funktion av det hela och få ut en array av de överflödiga kolumnerna:"
   ]
  },
  {
   "cell_type": "code",
   "execution_count": 91,
   "metadata": {
    "collapsed": true
   },
   "outputs": [],
   "source": [
    "def remove_dimensions (columns):\n",
    "    columns_1 = np.empty([columns.size,columns.size-1],dtype=int)\n",
    "    superfluous = []\n",
    "    #print(a)\n",
    "    for index, item in enumerate(columns):\n",
    "        columns_1[index]=np.delete(columns,index)\n",
    "        if np.array_equal(get_order(columns), get_order(columns_1[index])):\n",
    "            superfluous.append(item)\n",
    "    return superfluous"
   ]
  },
  {
   "cell_type": "code",
   "execution_count": 93,
   "metadata": {},
   "outputs": [
    {
     "name": "stdout",
     "output_type": "stream",
     "text": [
      "[ 2  4  5  6  7  8  9 10 11 12 13 14 16 17 18]\n"
     ]
    },
    {
     "data": {
      "text/plain": [
       "[9, 16, 17, 18]"
      ]
     },
     "execution_count": 93,
     "metadata": {},
     "output_type": "execute_result"
    }
   ],
   "source": [
    "print (columns_0)\n",
    "superfluous = remove_dimensions (columns_0)\n",
    "superfluous"
   ]
  },
  {
   "cell_type": "code",
   "execution_count": null,
   "metadata": {
    "collapsed": true
   },
   "outputs": [],
   "source": []
  },
  {
   "cell_type": "code",
   "execution_count": null,
   "metadata": {
    "collapsed": true
   },
   "outputs": [],
   "source": []
  },
  {
   "cell_type": "code",
   "execution_count": null,
   "metadata": {
    "collapsed": true
   },
   "outputs": [],
   "source": []
  }
 ],
 "metadata": {
  "kernelspec": {
   "display_name": "Python 3",
   "language": "python",
   "name": "python3"
  },
  "language_info": {
   "codemirror_mode": {
    "name": "ipython",
    "version": 3
   },
   "file_extension": ".py",
   "mimetype": "text/x-python",
   "name": "python",
   "nbconvert_exporter": "python",
   "pygments_lexer": "ipython3",
   "version": "3.5.4"
  }
 },
 "nbformat": 4,
 "nbformat_minor": 2
}
