{
 "cells": [
  {
   "cell_type": "code",
   "execution_count": 1,
   "metadata": {
    "collapsed": true
   },
   "outputs": [],
   "source": [
    "import numpy as np\n",
    "import sqlite3\n",
    "from scipy.spatial import distance #https://docs.scipy.org/doc/scipy/reference/generated/scipy.spatial.distance.cdist.html\n"
   ]
  },
  {
   "cell_type": "code",
   "execution_count": 2,
   "metadata": {
    "collapsed": true
   },
   "outputs": [],
   "source": [
    "conn = sqlite3.connect('../livs.db')  # Create db and establish connection\n",
    "conn.row_factory = sqlite3.Row\n",
    "curs = conn.cursor()\n",
    "result = []\n",
    "rows = curs.execute('select * from livs where \"Huvudgrupp\" = \"Gröt\"')\n",
    "for row in rows:\n",
    "        result.append(row)\n",
    "\n",
    "db_contents = np.array(result)\n",
    "\n",
    "conn.close()"
   ]
  },
  {
   "cell_type": "markdown",
   "metadata": {},
   "source": [
    "## Prototypiska i sin kategori\n",
    "Syftet är att ta en huvudgrupp och se vad mittpunkten i den kategorin är och sen räkna ut vilka livsmedel som ligger närmast mittpunkten.\n",
    "\n",
    "Varje näringsvärde blir en dimension, och varje livsmedel en punkt som har ett värde i alla de dimensionerna.\n",
    "\n",
    "Medelvärdet av alla livsmedel blir en punkt som man kan utgå från när man räknar avstånd till alla livsmedlen, och när man har tillgång till avstånden så kan man ordna alla livsmedlen efter avståndet till mittpunkten.\n",
    "\n",
    "Det är första steget. \n",
    "\n",
    "Andra steget är att se om man verkligen behöver alla näringsvärden för att ändå få samma ordning mellan livsmedlen. Vilka kan man ta bort?"
   ]
  },
  {
   "cell_type": "markdown",
   "metadata": {},
   "source": [
    "### Utgångspunkter\n",
    "\n",
    "Från Livsmedelsverkets data har vi valt en huvudgrupp, som \"Grönsaker\". Alla dess data ligger i db_contents, och den variabeln har en shape som säger hur många rader (livsmedel) och kolumner (namn, nummer, näringsvärden, klassificering) den innehåller."
   ]
  },
  {
   "cell_type": "code",
   "execution_count": 3,
   "metadata": {},
   "outputs": [
    {
     "data": {
      "text/plain": [
       "(16, 63)"
      ]
     },
     "execution_count": 3,
     "metadata": {},
     "output_type": "execute_result"
    }
   ],
   "source": [
    "db_contents.shape"
   ]
  },
  {
   "cell_type": "markdown",
   "metadata": {},
   "source": [
    "Kolumn 0 är namnet, 1 är numret och sen börjar näringsvärdena. \n",
    "\n",
    "columns är variabeln som innehåller de värden som används i beräkningarna. Under står de kolumner som är möjliga att använda. \n",
    "\n",
    "Vill man ha fram betydelsena av kolumnerna kan man göra något i stil med\n",
    "\n",
    "```\n",
    "for row in conn.execute('PRAGMA table_info (livs);'):\n",
    "    columnObject.append(row)\n",
    "columns = np.array(columnObject)\n",
    "``` "
   ]
  },
  {
   "cell_type": "code",
   "execution_count": 4,
   "metadata": {
    "collapsed": true
   },
   "outputs": [],
   "source": [
    "columns = np.array([ 2,  4,  5,  6,  7,  8,  9, 10, 11, 12, 13, 14, 16, 17, 18])\n",
    "# Possible columns: [ 2,  4,  5,  6,  7,  8,  9, 10, 11, 12, 13, 14, 16, 17, 18, 19, 20, 21, 22, 23, 24, 25, 26, 27, 28, 29, 30, 31, 32, 33, 35, 37, 38, 40, 41, 42, 43, 44, 45, 46, 47, 48, 50, 51, 52, 53, 54, 55, 56, 57]\n"
   ]
  },
  {
   "cell_type": "markdown",
   "metadata": {},
   "source": [
    "dataset blir de kolumner som används. Från databasen brukar de komma som unicode, så det är lämpligt att konvertera till float."
   ]
  },
  {
   "cell_type": "code",
   "execution_count": 5,
   "metadata": {
    "collapsed": true
   },
   "outputs": [],
   "source": [
    "dataset = db_contents[:,columns].astype(float)"
   ]
  },
  {
   "cell_type": "markdown",
   "metadata": {},
   "source": [
    "Det är fantastiskt enkelt att räkna medelvärdet av varje kolumn med funktionen numpy.mean, som returnerar en array med lika många element som antal kolumner\n",
    "\n",
    "Obs: axis behövs, för annars får man fel medelvärde..."
   ]
  },
  {
   "cell_type": "code",
   "execution_count": 6,
   "metadata": {
    "collapsed": true
   },
   "outputs": [],
   "source": [
    "means = np.mean(dataset, axis=0)"
   ]
  },
  {
   "cell_type": "code",
   "execution_count": 8,
   "metadata": {},
   "outputs": [
    {
     "name": "stdout",
     "output_type": "stream",
     "text": [
      "[  8.17187500e+01   1.32768750e+01   1.62500000e+00   2.61312500e+00\n",
      "   1.45937500e+00   8.00162500e+01   0.00000000e+00   1.01062500e+00\n",
      "   1.97375000e+00   2.48062500e+00   9.23750000e-01   8.62500000e+00\n",
      "   7.05000000e-01   6.56250000e-02   3.06250000e-02] \n",
      " (15,)\n"
     ]
    }
   ],
   "source": [
    "print(means, '\\n', means.shape)"
   ]
  },
  {
   "cell_type": "markdown",
   "metadata": {},
   "source": [
    "Det är läskigt lätt även att räkna avståndet mellan alla punkterna i dataset och medelvärdena:\n",
    "\n",
    "(Det är något med medelvärdena som gör att man måste sätta en extra klammer runt, för att dimensionaliteten ska stämma...)"
   ]
  },
  {
   "cell_type": "code",
   "execution_count": 9,
   "metadata": {
    "collapsed": true
   },
   "outputs": [],
   "source": [
    "dist = distance.cdist(dataset, [means], 'euclidean') #https://docs.scipy.org/doc/scipy/reference/generated/scipy.spatial.distance.cdist.html"
   ]
  },
  {
   "cell_type": "markdown",
   "metadata": {},
   "source": [
    "*dist* innehåller sen varje rads avstånd från medelvärdet i alla kolumner."
   ]
  },
  {
   "cell_type": "code",
   "execution_count": 10,
   "metadata": {},
   "outputs": [
    {
     "data": {
      "text/plain": [
       "array([[  9.65037999],\n",
       "       [  9.90711721],\n",
       "       [ 16.30842908],\n",
       "       [ 23.01765402],\n",
       "       [ 23.28781031],\n",
       "       [ 19.70277288],\n",
       "       [  5.20878551],\n",
       "       [ 21.54672531],\n",
       "       [ 10.26108408],\n",
       "       [ 17.54485705],\n",
       "       [ 24.08684722],\n",
       "       [ 74.91966395],\n",
       "       [ 24.89919444],\n",
       "       [ 23.42549592],\n",
       "       [  8.5120721 ],\n",
       "       [ 16.97021756]])"
      ]
     },
     "execution_count": 10,
     "metadata": {},
     "output_type": "execute_result"
    }
   ],
   "source": [
    "dist"
   ]
  },
  {
   "cell_type": "markdown",
   "metadata": {},
   "source": [
    "Jag har svårt att vänja mig vid det här med implicit sortering.\n",
    "\n",
    "Först sorterar vi alltså värdena och får en \"ordning\", som vi sen använder som index för den array vi egentligen vill sortera..."
   ]
  },
  {
   "cell_type": "code",
   "execution_count": 11,
   "metadata": {
    "collapsed": true
   },
   "outputs": [],
   "source": [
    "order = np.argsort(dist.T[0])"
   ]
  },
  {
   "cell_type": "code",
   "execution_count": 12,
   "metadata": {},
   "outputs": [
    {
     "data": {
      "text/plain": [
       "array([ 6, 14,  0,  1,  8,  2, 15,  9,  5,  7,  3,  4, 13, 10, 12, 11])"
      ]
     },
     "execution_count": 12,
     "metadata": {},
     "output_type": "execute_result"
    }
   ],
   "source": [
    "order"
   ]
  },
  {
   "cell_type": "markdown",
   "metadata": {},
   "source": [
    "Eftersom vi har vår ursprungliga lista med oss i *db_contents* så kan vi skriva ut vilka kolumner som helst, och nu med raderna i rätt ordning utifrån medelvärdet i huvudgruppen.\n",
    "\n",
    "Här tog det ett tag för mig att förstå hur jag skulle se på resultatet. Att se de första som näringsmässigt \"lika\" var inte så svårt, men hur är det med de livsmedel som hamnar sist i listan?\n",
    "\n",
    "Jag tror att man ska se det som en (mångdimensionell) \"periferi\" där de sista i listan förstås är långt från centrum, men inte alls inbördes \"lika\". De kan ha stort avstånd till mitten i väldigt skilda dimensioner. Det enda som förenar dem är att de är udda... :-)"
   ]
  },
  {
   "cell_type": "code",
   "execution_count": 13,
   "metadata": {},
   "outputs": [
    {
     "data": {
      "text/plain": [
       "array(['Molinogröt grahamsmjöl torkad frukt linfrö',\n",
       "       'Havregrynsgröt kokt m mjölk', 'Risgrynsgröt m lättmjölk',\n",
       "       'Risgrynsgröt', 'Mannagrynsgröt',\n",
       "       'Gröt för barn fullkorn ätf berik', 'Gröt fullkorn ospec.',\n",
       "       'Kruskagröt fullkorn russin havregryn vetekli',\n",
       "       'Havregrynsgröt fullkorn', 'Kornmjölsgröt', 'Bovetegröt m russin',\n",
       "       'Grahamsgröt', 'Havregrynsgröt fullkorn fiberhavregryn',\n",
       "       'Rågmjölsgröt', 'Risifrutti light fett 1,5%', 'Risifrutti 6% fett'], dtype=object)"
      ]
     },
     "execution_count": 13,
     "metadata": {},
     "output_type": "execute_result"
    }
   ],
   "source": [
    "db_contents[order,0]"
   ]
  },
  {
   "cell_type": "markdown",
   "metadata": {},
   "source": [
    "## Del två. Att jämföra ordningar...\n",
    "\n",
    "Den här ordningen mellan livsmedel bygger på att man tar ett urval kolumner. Typiskt tar man så mycket information man har (= alla kolumner) för att få en mer relevant ordning.\n",
    "\n",
    "Men kanske är det så att inte alla kolumner behövs för att ge den här ordningen? Vilka kolumner skulle man kunna ta bort?"
   ]
  },
  {
   "cell_type": "markdown",
   "metadata": {},
   "source": [
    "Det enklaste är att kolla om ordningarna är identiska, så i nedanstående är det bara det som görs. "
   ]
  },
  {
   "cell_type": "markdown",
   "metadata": {},
   "source": [
    "Dags att summera ihop mycket av del 1 i en funktion. Utgå från db_contents som typ en global variabel. Skicka in kolumner till funktionen, så returneras en ordning mellan livsmedlen i db_contents/dataset"
   ]
  },
  {
   "cell_type": "code",
   "execution_count": 14,
   "metadata": {
    "collapsed": true
   },
   "outputs": [],
   "source": [
    "def get_order(columns):\n",
    "    dataset = db_contents[:,columns].astype(float)\n",
    "    means = np.mean(dataset, axis=0)\n",
    "    dist = distance.cdist(dataset, [means], 'euclidean')\n",
    "    order = np.argsort(dist.T[0])\n",
    "    return order"
   ]
  },
  {
   "cell_type": "markdown",
   "metadata": {},
   "source": [
    "Vi ska jämföra ursprungsordningen (order_0) med alla ordningar som uppkommer när man tar bort en kolumn. Vi kallar underordningarna för order_1 och löper igenom dem en i taget."
   ]
  },
  {
   "cell_type": "code",
   "execution_count": 15,
   "metadata": {
    "collapsed": true
   },
   "outputs": [],
   "source": [
    "columns_0 = columns\n",
    "order_0 = get_order(columns)"
   ]
  },
  {
   "cell_type": "code",
   "execution_count": 16,
   "metadata": {},
   "outputs": [
    {
     "data": {
      "text/plain": [
       "array([ 6, 14,  0,  1,  8,  2, 15,  9,  5,  7,  3,  4, 13, 10, 12, 11])"
      ]
     },
     "execution_count": 16,
     "metadata": {},
     "output_type": "execute_result"
    }
   ],
   "source": [
    "order_0"
   ]
  },
  {
   "cell_type": "markdown",
   "metadata": {},
   "source": [
    "Här är ett exempel på vad som händer när man tar bort en kolumn:"
   ]
  },
  {
   "cell_type": "code",
   "execution_count": 17,
   "metadata": {
    "collapsed": true
   },
   "outputs": [],
   "source": [
    "columns_1 = np.delete(columns,4)"
   ]
  },
  {
   "cell_type": "code",
   "execution_count": 18,
   "metadata": {},
   "outputs": [
    {
     "data": {
      "text/plain": [
       "array([ 2,  4,  5,  6,  8,  9, 10, 11, 12, 13, 14, 16, 17, 18])"
      ]
     },
     "execution_count": 18,
     "metadata": {},
     "output_type": "execute_result"
    }
   ],
   "source": [
    "columns_1"
   ]
  },
  {
   "cell_type": "code",
   "execution_count": 19,
   "metadata": {
    "collapsed": true
   },
   "outputs": [],
   "source": [
    "order_1 = get_order(columns_1)"
   ]
  },
  {
   "cell_type": "code",
   "execution_count": 20,
   "metadata": {
    "collapsed": true
   },
   "outputs": [],
   "source": [
    "x = np.array_equal(order_0, order_1)"
   ]
  },
  {
   "cell_type": "code",
   "execution_count": 21,
   "metadata": {},
   "outputs": [
    {
     "data": {
      "text/plain": [
       "True"
      ]
     },
     "execution_count": 21,
     "metadata": {},
     "output_type": "execute_result"
    }
   ],
   "source": [
    "x"
   ]
  },
  {
   "cell_type": "code",
   "execution_count": 22,
   "metadata": {},
   "outputs": [
    {
     "data": {
      "text/plain": [
       "array([ 2,  4,  5,  6,  8,  9, 10, 11, 12, 13, 14, 16, 17, 18])"
      ]
     },
     "execution_count": 22,
     "metadata": {},
     "output_type": "execute_result"
    }
   ],
   "source": [
    "columns_1"
   ]
  },
  {
   "cell_type": "markdown",
   "metadata": {},
   "source": [
    "Om vi tar en uppsättning kolumner behöver vi loopa igenom alla uppsättningar som saknar en kolumn. Något i den här stilen:"
   ]
  },
  {
   "cell_type": "code",
   "execution_count": 23,
   "metadata": {},
   "outputs": [
    {
     "name": "stdout",
     "output_type": "stream",
     "text": [
      "15\n",
      "[ 4  5  6  7  8  9 10 11 12 13 14 16 17 18]\n",
      "[ 2  5  6  7  8  9 10 11 12 13 14 16 17 18]\n",
      "[ 2  4  6  7  8  9 10 11 12 13 14 16 17 18]\n",
      "[ 2  4  5  7  8  9 10 11 12 13 14 16 17 18]\n",
      "[ 2  4  5  6  8  9 10 11 12 13 14 16 17 18]\n",
      "[ 2  4  5  6  7  9 10 11 12 13 14 16 17 18]\n",
      "[ 2  4  5  6  7  8 10 11 12 13 14 16 17 18]\n",
      "[ 2  4  5  6  7  8  9 11 12 13 14 16 17 18]\n",
      "[ 2  4  5  6  7  8  9 10 12 13 14 16 17 18]\n",
      "[ 2  4  5  6  7  8  9 10 11 13 14 16 17 18]\n",
      "[ 2  4  5  6  7  8  9 10 11 12 14 16 17 18]\n",
      "[ 2  4  5  6  7  8  9 10 11 12 13 16 17 18]\n",
      "[ 2  4  5  6  7  8  9 10 11 12 13 14 17 18]\n",
      "[ 2  4  5  6  7  8  9 10 11 12 13 14 16 18]\n",
      "[ 2  4  5  6  7  8  9 10 11 12 13 14 16 17]\n"
     ]
    }
   ],
   "source": [
    "size = columns.size\n",
    "print(size)\n",
    "a = np.empty([size,size-1],dtype=int)\n",
    "#print(a)\n",
    "for index, item in enumerate(columns):\n",
    "    a[index]=np.delete(columns,index)\n",
    "    print(a[index])"
   ]
  },
  {
   "cell_type": "markdown",
   "metadata": {},
   "source": [
    "Om vi ska göra en funktion av det hela och få ut en array av de överflödiga kolumnerna:"
   ]
  },
  {
   "cell_type": "code",
   "execution_count": 24,
   "metadata": {
    "collapsed": true
   },
   "outputs": [],
   "source": [
    "def remove_dimensions (columns):\n",
    "    columns_1 = np.empty([columns.size,columns.size-1],dtype=int)\n",
    "    superfluous = []\n",
    "    #print(a)\n",
    "    for index, item in enumerate(columns):\n",
    "        columns_1[index]=np.delete(columns,index)\n",
    "        if np.array_equal(get_order(columns), get_order(columns_1[index])):\n",
    "            superfluous.append(item)\n",
    "    return superfluous"
   ]
  },
  {
   "cell_type": "code",
   "execution_count": 25,
   "metadata": {},
   "outputs": [
    {
     "name": "stdout",
     "output_type": "stream",
     "text": [
      "[ 2  4  5  6  7  8  9 10 11 12 13 14 16 17 18]\n"
     ]
    },
    {
     "data": {
      "text/plain": [
       "[5, 6, 7, 8, 9, 10, 12, 13, 16, 17, 18]"
      ]
     },
     "execution_count": 25,
     "metadata": {},
     "output_type": "execute_result"
    }
   ],
   "source": [
    "print (columns_0)\n",
    "superfluous = remove_dimensions (columns_0)\n",
    "superfluous"
   ]
  },
  {
   "cell_type": "code",
   "execution_count": null,
   "metadata": {
    "collapsed": true
   },
   "outputs": [],
   "source": []
  },
  {
   "cell_type": "code",
   "execution_count": null,
   "metadata": {
    "collapsed": true
   },
   "outputs": [],
   "source": []
  },
  {
   "cell_type": "code",
   "execution_count": null,
   "metadata": {
    "collapsed": true
   },
   "outputs": [],
   "source": []
  }
 ],
 "metadata": {
  "kernelspec": {
   "display_name": "Python 3",
   "language": "python",
   "name": "python3"
  },
  "language_info": {
   "codemirror_mode": {
    "name": "ipython",
    "version": 3
   },
   "file_extension": ".py",
   "mimetype": "text/x-python",
   "name": "python",
   "nbconvert_exporter": "python",
   "pygments_lexer": "ipython3",
   "version": "3.5.4"
  }
 },
 "nbformat": 4,
 "nbformat_minor": 2
}
