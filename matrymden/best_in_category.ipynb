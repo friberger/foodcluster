{
 "cells": [
  {
   "cell_type": "code",
   "execution_count": 1,
   "metadata": {
    "collapsed": true
   },
   "outputs": [],
   "source": [
    "import numpy as np\n",
    "import sqlite3\n",
    "from scipy.spatial import distance #https://docs.scipy.org/doc/scipy/reference/generated/scipy.spatial.distance.cdist.html\n"
   ]
  },
  {
   "cell_type": "code",
   "execution_count": 2,
   "metadata": {
    "collapsed": true
   },
   "outputs": [],
   "source": [
    "conn = sqlite3.connect('../livs.db')  # Create db and establish connection\n",
    "conn.row_factory = sqlite3.Row\n",
    "curs = conn.cursor()\n",
    "result = []\n",
    "rows = curs.execute('select * from livs where \"Huvudgrupp\" = \"Korv\"')\n",
    "for row in rows:\n",
    "        result.append(row)\n",
    "\n",
    "db_contents = np.array(result)\n",
    "\n",
    "conn.close()"
   ]
  },
  {
   "cell_type": "markdown",
   "metadata": {},
   "source": [
    "## Prototypiska i sin kategori\n",
    "Syftet är att ta en huvudgrupp och se vad mittpunkten i den kategorin är och sen räkna ut vilka livsmedel som ligger närmast mittpunkten.\n",
    "\n",
    "Varje näringsvärde blir en dimension, och varje livsmedel en punkt som har ett värde i alla de dimensionerna.\n",
    "\n",
    "Medelvärdet av alla livsmedel blir en punkt som man kan utgå från när man räknar avstånd till alla livsmedlen, och när man har tillgång till avstånden så kan man ordna alla livsmedlen efter avståndet till mittpunkten.\n",
    "\n",
    "Det är första steget. \n",
    "\n",
    "Andra steget är att se om man verkligen behöver alla näringsvärden för att ändå få samma ordning mellan livsmedlen. Vilka kan man ta bort?"
   ]
  },
  {
   "cell_type": "markdown",
   "metadata": {},
   "source": [
    "### Utgångspunkter\n",
    "\n",
    "Från Livsmedelsverkets data har vi valt en huvudgrupp, som \"Grönsaker\". Alla dess data ligger i db_contents, och den variabeln har en shape som säger hur många rader (livsmedel) och kolumner (namn, nummer, näringsvärden, klassificering) den innehåller."
   ]
  },
  {
   "cell_type": "code",
   "execution_count": 3,
   "metadata": {},
   "outputs": [
    {
     "data": {
      "text/plain": [
       "(60, 63)"
      ]
     },
     "execution_count": 3,
     "metadata": {},
     "output_type": "execute_result"
    }
   ],
   "source": [
    "db_contents.shape"
   ]
  },
  {
   "cell_type": "markdown",
   "metadata": {},
   "source": [
    "Kolumn 0 är namnet, 1 är numret och sen börjar näringsvärdena. \n",
    "\n",
    "columns är variabeln som innehåller de värden som används i beräkningarna. Under står de kolumner som är möjliga att använda. \n",
    "\n",
    "Vill man ha fram betydelsena av kolumnerna kan man göra något i stil med\n",
    "\n",
    "```\n",
    "for row in conn.execute('PRAGMA table_info (livs);'):\n",
    "    columnObject.append(row)\n",
    "columns = np.array(columnObject)\n",
    "``` "
   ]
  },
  {
   "cell_type": "code",
   "execution_count": 4,
   "metadata": {
    "collapsed": true
   },
   "outputs": [],
   "source": [
    "columns = np.array([ 2,  4,  5,  6,  7,  8, 9, 42, 50])\n",
    "# Possible columns: [ 2,  4,  5,  6,  7,  8,  9, 10, 11, 12, 13, 14, 16, 17, 18, 19, 20, 21, 22, 23, 24, 25, 26, 27, 28, 29, 30, 31, 32, 33, 35, 37, 38, 40, 41, 42, 43, 44, 45, 46, 47, 48, 50, 51, 52, 53, 54, 55, 56, 57]\n"
   ]
  },
  {
   "cell_type": "markdown",
   "metadata": {},
   "source": [
    "dataset blir de kolumner som används. Från databasen brukar de komma som unicode, så det är lämpligt att konvertera till float."
   ]
  },
  {
   "cell_type": "code",
   "execution_count": 5,
   "metadata": {
    "collapsed": true
   },
   "outputs": [],
   "source": [
    "dataset = db_contents[:,columns].astype(float)"
   ]
  },
  {
   "cell_type": "markdown",
   "metadata": {},
   "source": [
    "Det är fantastiskt enkelt att räkna medelvärdet av varje kolumn med funktionen numpy.mean, som returnerar en array med lika många element som antal kolumner\n",
    "\n",
    "Obs: axis behövs, för annars får man fel medelvärde..."
   ]
  },
  {
   "cell_type": "code",
   "execution_count": 6,
   "metadata": {
    "collapsed": true
   },
   "outputs": [],
   "source": [
    "means = np.mean(dataset, axis=0)"
   ]
  },
  {
   "cell_type": "code",
   "execution_count": 7,
   "metadata": {},
   "outputs": [
    {
     "name": "stdout",
     "output_type": "stream",
     "text": [
      "[ 248.20333333    5.95133333   19.69666667   12.14633333    0.2595\n",
      "   59.1065        0.            4.83          1.40133333] \n",
      " (9,)\n"
     ]
    }
   ],
   "source": [
    "print(means, '\\n', means.shape)"
   ]
  },
  {
   "cell_type": "markdown",
   "metadata": {},
   "source": [
    "Det är läskigt lätt även att räkna avståndet mellan alla punkterna i dataset och medelvärdena:\n",
    "\n",
    "(Det är något med medelvärdena som gör att man måste sätta en extra klammer runt, för att dimensionaliteten ska stämma...)"
   ]
  },
  {
   "cell_type": "code",
   "execution_count": 8,
   "metadata": {
    "collapsed": true
   },
   "outputs": [],
   "source": [
    "dist = distance.cdist(dataset, [means], 'euclidean') #https://docs.scipy.org/doc/scipy/reference/generated/scipy.spatial.distance.cdist.html"
   ]
  },
  {
   "cell_type": "markdown",
   "metadata": {},
   "source": [
    "*dist* innehåller sen varje rads avstånd från medelvärdet i alla kolumner."
   ]
  },
  {
   "cell_type": "code",
   "execution_count": 9,
   "metadata": {},
   "outputs": [
    {
     "data": {
      "text/plain": [
       "array([[  98.06126744],\n",
       "       [  46.59588213],\n",
       "       [   8.39603806],\n",
       "       [  12.49557208],\n",
       "       [  34.88283229],\n",
       "       [   8.39690747],\n",
       "       [  16.50740203],\n",
       "       [  11.10170055],\n",
       "       [  11.7241171 ],\n",
       "       [   8.74168872],\n",
       "       [  15.78031015],\n",
       "       [  10.05150677],\n",
       "       [ 136.85984298],\n",
       "       [ 105.88619152],\n",
       "       [  56.1002031 ],\n",
       "       [  26.56476843],\n",
       "       [  31.03010294],\n",
       "       [  45.24720384],\n",
       "       [  12.90096851],\n",
       "       [  69.5409792 ],\n",
       "       [  25.4841916 ],\n",
       "       [ 133.12165322],\n",
       "       [  23.60694718],\n",
       "       [  34.46215831],\n",
       "       [   9.23442951],\n",
       "       [  33.93019435],\n",
       "       [  60.25758532],\n",
       "       [  52.87824053],\n",
       "       [  38.23159852],\n",
       "       [ 126.29178712],\n",
       "       [   6.73472507],\n",
       "       [  21.35216746],\n",
       "       [ 240.25559318],\n",
       "       [  73.37032882],\n",
       "       [  87.77792113],\n",
       "       [  26.45192725],\n",
       "       [  19.6822887 ],\n",
       "       [  27.08210273],\n",
       "       [  24.53297621],\n",
       "       [  21.65847821],\n",
       "       [  26.40170774],\n",
       "       [  26.40170774],\n",
       "       [  24.53297621],\n",
       "       [  24.04278364],\n",
       "       [  43.80680463],\n",
       "       [  57.92834454],\n",
       "       [  40.92884348],\n",
       "       [  40.92884348],\n",
       "       [  26.87502071],\n",
       "       [  21.22664077],\n",
       "       [  26.87502071],\n",
       "       [  36.28639499],\n",
       "       [  79.44099365],\n",
       "       [ 123.43812719],\n",
       "       [  93.04626723],\n",
       "       [ 120.06295803],\n",
       "       [  76.0761608 ],\n",
       "       [ 121.53659481],\n",
       "       [   8.80647499],\n",
       "       [   9.31947039]])"
      ]
     },
     "execution_count": 9,
     "metadata": {},
     "output_type": "execute_result"
    }
   ],
   "source": [
    "dist"
   ]
  },
  {
   "cell_type": "markdown",
   "metadata": {},
   "source": [
    "Jag har svårt att vänja mig vid det här med implicit sortering.\n",
    "\n",
    "Först sorterar vi alltså värdena och får en \"ordning\", som vi sen använder som index för den array vi egentligen vill sortera..."
   ]
  },
  {
   "cell_type": "code",
   "execution_count": 10,
   "metadata": {
    "collapsed": true
   },
   "outputs": [],
   "source": [
    "order = np.argsort(dist.T[0])"
   ]
  },
  {
   "cell_type": "code",
   "execution_count": 11,
   "metadata": {},
   "outputs": [
    {
     "data": {
      "text/plain": [
       "array([30,  2,  5,  9, 58, 24, 59, 11,  7,  8,  3, 18, 10,  6, 36, 49, 31,\n",
       "       39, 22, 43, 38, 42, 20, 40, 41, 35, 15, 48, 50, 37, 16, 25, 23,  4,\n",
       "       51, 28, 47, 46, 44, 17,  1, 27, 14, 45, 26, 19, 33, 56, 52, 34, 54,\n",
       "        0, 13, 55, 57, 53, 29, 21, 12, 32])"
      ]
     },
     "execution_count": 11,
     "metadata": {},
     "output_type": "execute_result"
    }
   ],
   "source": [
    "order"
   ]
  },
  {
   "cell_type": "markdown",
   "metadata": {},
   "source": [
    "Eftersom vi har vår ursprungliga lista med oss i *db_contents* så kan vi skriva ut vilka kolumner som helst, och nu med raderna i rätt ordning utifrån medelvärdet i huvudgruppen.\n",
    "\n",
    "Här tog det ett tag för mig att förstå hur jag skulle se på resultatet. Att se de första som näringsmässigt \"lika\" var inte så svårt, men hur är det med de livsmedel som hamnar sist i listan?\n",
    "\n",
    "Jag tror att man ska se det som en (mångdimensionell) \"periferi\" där de sista i listan förstås är långt från centrum, men inte alls inbördes \"lika\". De kan ha stort avstånd till mitten i väldigt skilda dimensioner. Det enda som förenar dem är att de är udda... :-)"
   ]
  },
  {
   "cell_type": "code",
   "execution_count": 12,
   "metadata": {},
   "outputs": [
    {
     "data": {
      "text/plain": [
       "array(['Grillkorv fett 18%', 'Falukorv fett 19%',\n",
       "       'Fläskkorv  fett ca 23% rå', 'Köttkorv fett ca 23% rå',\n",
       "       'Ren korv rå', 'Isterband fett 15%', 'Lamm korv rå',\n",
       "       'Medvurst fett ca 23% kokt', 'Frukostkorv fett 23%',\n",
       "       'Rökt isterband fett ca19 %', 'Falukorv fett 23%',\n",
       "       'Wienerkorv fett 23%', 'Köttkorv fett ca 21% kokt',\n",
       "       'Fläskkorv fett ca 21%  kokt', 'Värmlandskorv fett ca 19% rå',\n",
       "       'Korv typ falukorv stekt', 'Prinskorv fett 24%',\n",
       "       'Falukorv mager stekt', 'Varmkorv fett 15%', 'Isterband stekt',\n",
       "       'Frukostkorv fett 23% kokt', 'Frukostkorv stekt',\n",
       "       'Skinkkorv fett 17%', 'Falukorv skivad kokt', 'Falukorv stekt',\n",
       "       'Varmkorv konserv kylkonserv fett ca 19%', 'Varmkorv fett ca 22%',\n",
       "       'Wienerkorv stekt', 'Wienerkorv kokt',\n",
       "       'Värmlandskorv fett ca 18% kokt', 'Varmkorv fett 23% grillad kokt',\n",
       "       'Rökt påläggskorv fett 10% ospec', 'Grillkorv fett 15%',\n",
       "       'Falukorv fett 18%', 'Prinskorv stekt', 'Chorizo korv stekt',\n",
       "       'Varmkorv stekt', 'Varmkorv kokt', 'Stångkorv stekt',\n",
       "       'Varmkorv fett ca 23% grillad',\n",
       "       'Kycklingkorv fransk halal fett 15%', 'Wienerkorv fett 15%',\n",
       "       'Stångkorv fett ca 14%', 'Korv fett 11% stekt', 'Korv fett ca 15%',\n",
       "       'Korv fett ca 11%', 'Salsiccia italiensk korv',\n",
       "       'Salami fett 9% Må gott', 'Varmkorv fett 7% Må gott',\n",
       "       'Salsiccia italiensk korv stekt utan fett',\n",
       "       'Chorizo fett 9% Må gott', 'Kycklingkorv svensk fett 9%',\n",
       "       'Salami svensk fett ca 33%', 'Lättkorv fett 7% Må gott',\n",
       "       'Kokt medwurst fett 7% Må gott', 'Prinskorv fett 8% Må gott',\n",
       "       'Kabanoss korv stekt', 'Rökt påläggskorv fett 34% ospec',\n",
       "       'Påläggskorv medvurst fett 35% rökt', 'Salami importerad fett 45%'], \n",
       "      dtype='<U40')"
      ]
     },
     "execution_count": 12,
     "metadata": {},
     "output_type": "execute_result"
    }
   ],
   "source": [
    "db_contents[order,0]"
   ]
  },
  {
   "cell_type": "markdown",
   "metadata": {},
   "source": [
    "## Del två. Att jämföra ordningar...\n",
    "\n",
    "Den här ordningen mellan livsmedel bygger på att man tar ett urval kolumner. Typiskt tar man så mycket information man har (= alla kolumner) för att få en mer relevant ordning.\n",
    "\n",
    "Men kanske är det så att inte alla kolumner behövs för att ge den här ordningen? Vilka kolumner skulle man kunna ta bort?"
   ]
  },
  {
   "cell_type": "markdown",
   "metadata": {},
   "source": [
    "Det enklaste är att kolla om ordningarna är identiska, så i nedanstående är det bara det som görs. "
   ]
  },
  {
   "cell_type": "markdown",
   "metadata": {},
   "source": [
    "Dags att summera ihop mycket av del 1 i en funktion. Utgå från db_contents som typ en global variabel. Skicka in kolumner till funktionen, så returneras en ordning mellan livsmedlen i db_contents/dataset"
   ]
  },
  {
   "cell_type": "code",
   "execution_count": 13,
   "metadata": {
    "collapsed": true
   },
   "outputs": [],
   "source": [
    "def get_order(columns):\n",
    "    dataset = db_contents[:,columns].astype(float)\n",
    "    means = np.mean(dataset, axis=0)\n",
    "    dist = distance.cdist(dataset, [means], 'euclidean')\n",
    "    order = np.argsort(dist.T[0])\n",
    "    return order"
   ]
  },
  {
   "cell_type": "markdown",
   "metadata": {},
   "source": [
    "Vi ska jämföra ursprungsordningen (order_0) med alla ordningar som uppkommer när man tar bort en kolumn. Vi kallar underordningarna för order_1 och löper igenom dem en i taget."
   ]
  },
  {
   "cell_type": "code",
   "execution_count": 14,
   "metadata": {
    "collapsed": true
   },
   "outputs": [],
   "source": [
    "columns_0 = columns\n",
    "order_0 = get_order(columns)"
   ]
  },
  {
   "cell_type": "code",
   "execution_count": 15,
   "metadata": {},
   "outputs": [
    {
     "data": {
      "text/plain": [
       "array([30,  2,  5,  9, 58, 24, 59, 11,  7,  8,  3, 18, 10,  6, 36, 49, 31,\n",
       "       39, 22, 43, 38, 42, 20, 40, 41, 35, 15, 48, 50, 37, 16, 25, 23,  4,\n",
       "       51, 28, 47, 46, 44, 17,  1, 27, 14, 45, 26, 19, 33, 56, 52, 34, 54,\n",
       "        0, 13, 55, 57, 53, 29, 21, 12, 32])"
      ]
     },
     "execution_count": 15,
     "metadata": {},
     "output_type": "execute_result"
    }
   ],
   "source": [
    "order_0"
   ]
  },
  {
   "cell_type": "markdown",
   "metadata": {},
   "source": [
    "Här är ett exempel på vad som händer när man tar bort en kolumn:"
   ]
  },
  {
   "cell_type": "code",
   "execution_count": 16,
   "metadata": {
    "collapsed": true
   },
   "outputs": [],
   "source": [
    "columns_1 = np.delete(columns,4)"
   ]
  },
  {
   "cell_type": "code",
   "execution_count": 17,
   "metadata": {},
   "outputs": [
    {
     "data": {
      "text/plain": [
       "array([ 2,  4,  5,  6,  8,  9, 42, 50])"
      ]
     },
     "execution_count": 17,
     "metadata": {},
     "output_type": "execute_result"
    }
   ],
   "source": [
    "columns_1"
   ]
  },
  {
   "cell_type": "code",
   "execution_count": 18,
   "metadata": {
    "collapsed": true
   },
   "outputs": [],
   "source": [
    "order_1 = get_order(columns_1)"
   ]
  },
  {
   "cell_type": "code",
   "execution_count": 19,
   "metadata": {
    "collapsed": true
   },
   "outputs": [],
   "source": [
    "x = np.array_equal(order_0, order_1)"
   ]
  },
  {
   "cell_type": "code",
   "execution_count": 20,
   "metadata": {},
   "outputs": [
    {
     "data": {
      "text/plain": [
       "True"
      ]
     },
     "execution_count": 20,
     "metadata": {},
     "output_type": "execute_result"
    }
   ],
   "source": [
    "x"
   ]
  },
  {
   "cell_type": "code",
   "execution_count": 21,
   "metadata": {},
   "outputs": [
    {
     "data": {
      "text/plain": [
       "array([ 2,  4,  5,  6,  8,  9, 42, 50])"
      ]
     },
     "execution_count": 21,
     "metadata": {},
     "output_type": "execute_result"
    }
   ],
   "source": [
    "columns_1"
   ]
  },
  {
   "cell_type": "markdown",
   "metadata": {},
   "source": [
    "Om vi tar en uppsättning kolumner behöver vi loopa igenom alla uppsättningar som saknar en kolumn. Något i den här stilen:"
   ]
  },
  {
   "cell_type": "code",
   "execution_count": 22,
   "metadata": {},
   "outputs": [
    {
     "name": "stdout",
     "output_type": "stream",
     "text": [
      "9\n",
      "[ 4  5  6  7  8  9 42 50]\n",
      "[ 2  5  6  7  8  9 42 50]\n",
      "[ 2  4  6  7  8  9 42 50]\n",
      "[ 2  4  5  7  8  9 42 50]\n",
      "[ 2  4  5  6  8  9 42 50]\n",
      "[ 2  4  5  6  7  9 42 50]\n",
      "[ 2  4  5  6  7  8 42 50]\n",
      "[ 2  4  5  6  7  8  9 50]\n",
      "[ 2  4  5  6  7  8  9 42]\n"
     ]
    }
   ],
   "source": [
    "size = columns.size\n",
    "print(size)\n",
    "a = np.empty([size,size-1],dtype=int)\n",
    "#print(a)\n",
    "for index, item in enumerate(columns):\n",
    "    a[index]=np.delete(columns,index)\n",
    "    print(a[index])"
   ]
  },
  {
   "cell_type": "markdown",
   "metadata": {},
   "source": [
    "Om vi ska göra en funktion av det hela och få ut en array av de överflödiga kolumnerna:"
   ]
  },
  {
   "cell_type": "code",
   "execution_count": 23,
   "metadata": {
    "collapsed": true
   },
   "outputs": [],
   "source": [
    "def remove_dimensions (columns):\n",
    "    columns_1 = np.empty([columns.size,columns.size-1],dtype=int)\n",
    "    superfluous = []\n",
    "    #print(a)\n",
    "    for index, item in enumerate(columns):\n",
    "        columns_1[index]=np.delete(columns,index)\n",
    "        if np.array_equal(get_order(columns), get_order(columns_1[index])):\n",
    "            superfluous.append(item)\n",
    "    return superfluous"
   ]
  },
  {
   "cell_type": "code",
   "execution_count": 24,
   "metadata": {},
   "outputs": [
    {
     "name": "stdout",
     "output_type": "stream",
     "text": [
      "[ 2  4  5  6  7  8  9 42 50]\n"
     ]
    },
    {
     "data": {
      "text/plain": [
       "[7, 9]"
      ]
     },
     "execution_count": 24,
     "metadata": {},
     "output_type": "execute_result"
    }
   ],
   "source": [
    "print (columns_0)\n",
    "superfluous = remove_dimensions (columns_0)\n",
    "superfluous"
   ]
  },
  {
   "cell_type": "code",
   "execution_count": 25,
   "metadata": {},
   "outputs": [
    {
     "data": {
      "text/plain": [
       "array([ 2,  4,  5,  6,  7,  8,  9, 42, 50])"
      ]
     },
     "execution_count": 25,
     "metadata": {},
     "output_type": "execute_result"
    }
   ],
   "source": [
    "columns"
   ]
  },
  {
   "cell_type": "markdown",
   "metadata": {
    "collapsed": true
   },
   "source": [
    "dim_superfluous är den listan som växer i varje \"ben\" av rekursionen. När funktionen bottnar appendas den till superlist och kapas\n",
    "\n",
    "superfluous är resultatet av remove_dimensions, dvs en eller flera överflödiga dimensioner. Att superfluous blir tom är det samma som att algoritmen bottnar\n",
    "\n",
    "dim_orig är listan som varje varv skickas till rekursionen. Den kapas med den överflödiga dimensionen för varje varv."
   ]
  },
  {
   "cell_type": "code",
   "execution_count": 26,
   "metadata": {
    "collapsed": true
   },
   "outputs": [],
   "source": [
    "dim_superfluous = []\n",
    "#Rekursiv\n",
    "def reduce (dim_orig, dim_superfluous ):\n",
    "    print ('-> reduce: första raden', 'dim_orig:', dim_orig, 'dim_superfluous', dim_superfluous)\n",
    "    superfluous = remove_dimensions (dim_orig)\n",
    "    print ('vi beräknar superfluous till',superfluous)\n",
    "    if superfluous == []:\n",
    "        print ('<- bottnar')\n",
    "        superlist.append(dim_superfluous[:])\n",
    "        # https://stackoverflow.com/questions/40425554/python-shallow-copy-and-deep-copy-in-using-append-method?rq=1\n",
    "        print ('superlist', superlist)\n",
    "        return \n",
    "    else:\n",
    "        for index, superfluou in enumerate(superfluous):\n",
    "            print ('i for-loopen –', 'index:', index, 'superfluou:', superfluou, 'superfluous:', superfluous, )\n",
    "            new_dim_superfluous = dim_superfluous[:]\n",
    "            new_dim_superfluous.append(superfluou)\n",
    "            print ('new_dim_superfluous efter lagt till superfluou', new_dim_superfluous)            \n",
    "            new_dim_orig = dim_orig[:]\n",
    "            new_dim_orig = np.delete(new_dim_orig, np.where(new_dim_orig==superfluou), 0)\n",
    "            print ('dim_orig efter tagit bort superflou:', dim_orig)\n",
    "            reduce (new_dim_orig, new_dim_superfluous)\n",
    "        return \n"
   ]
  },
  {
   "cell_type": "code",
   "execution_count": 27,
   "metadata": {},
   "outputs": [
    {
     "name": "stdout",
     "output_type": "stream",
     "text": [
      "-> reduce: första raden dim_orig: [ 2  4  5  6  7  8  9 42 50] dim_superfluous []\n",
      "vi beräknar superfluous till [7, 9]\n",
      "i for-loopen – index: 0 superfluou: 7 superfluous: [7, 9]\n",
      "new_dim_superfluous efter lagt till superfluou [7]\n",
      "dim_orig efter tagit bort superflou: [ 2  4  5  6  7  8  9 42 50]\n",
      "-> reduce: första raden dim_orig: [ 2  4  5  6  8  9 42 50] dim_superfluous [7]\n",
      "vi beräknar superfluous till [9]\n",
      "i for-loopen – index: 0 superfluou: 9 superfluous: [9]\n",
      "new_dim_superfluous efter lagt till superfluou [7, 9]\n",
      "dim_orig efter tagit bort superflou: [ 2  4  5  6  8  9 42 50]\n",
      "-> reduce: första raden dim_orig: [ 2  4  5  6  8 42 50] dim_superfluous [7, 9]\n",
      "vi beräknar superfluous till []\n",
      "<- bottnar\n",
      "superlist [[7, 9]]\n",
      "i for-loopen – index: 1 superfluou: 9 superfluous: [7, 9]\n",
      "new_dim_superfluous efter lagt till superfluou [9]\n",
      "dim_orig efter tagit bort superflou: [ 2  4  5  6  7  8  9 42 50]\n",
      "-> reduce: första raden dim_orig: [ 2  4  5  6  7  8 42 50] dim_superfluous [9]\n",
      "vi beräknar superfluous till [7]\n",
      "i for-loopen – index: 0 superfluou: 7 superfluous: [7]\n",
      "new_dim_superfluous efter lagt till superfluou [9, 7]\n",
      "dim_orig efter tagit bort superflou: [ 2  4  5  6  7  8 42 50]\n",
      "-> reduce: första raden dim_orig: [ 2  4  5  6  8 42 50] dim_superfluous [9, 7]\n",
      "vi beräknar superfluous till []\n",
      "<- bottnar\n",
      "superlist [[7, 9], [9, 7]]\n"
     ]
    }
   ],
   "source": [
    "superlist=[]\n",
    "x = reduce (columns, [])\n",
    "x"
   ]
  },
  {
   "cell_type": "code",
   "execution_count": null,
   "metadata": {
    "collapsed": true
   },
   "outputs": [],
   "source": []
  },
  {
   "cell_type": "code",
   "execution_count": null,
   "metadata": {
    "collapsed": true
   },
   "outputs": [],
   "source": []
  }
 ],
 "metadata": {
  "kernelspec": {
   "display_name": "Python 3",
   "language": "python",
   "name": "python3"
  },
  "language_info": {
   "codemirror_mode": {
    "name": "ipython",
    "version": 3
   },
   "file_extension": ".py",
   "mimetype": "text/x-python",
   "name": "python",
   "nbconvert_exporter": "python",
   "pygments_lexer": "ipython3",
   "version": "3.6.1"
  }
 },
 "nbformat": 4,
 "nbformat_minor": 2
}
