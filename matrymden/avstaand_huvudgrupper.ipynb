{
 "cells": [
  {
   "cell_type": "code",
   "execution_count": 21,
   "metadata": {
    "collapsed": true
   },
   "outputs": [],
   "source": [
    "%matplotlib inline\n",
    "\n",
    "from sklearn.metrics.pairwise import pairwise_distances, cosine_similarity\n",
    "import numpy as np\n",
    "import sqlite3\n",
    "import math\n",
    "\n",
    "\n",
    "import matplotlib\n",
    "import matplotlib.pyplot as plt"
   ]
  },
  {
   "cell_type": "markdown",
   "metadata": {},
   "source": [
    "Syftet med den här är att mäta avståndet mellan huvudgruppernas medelpunkter."
   ]
  },
  {
   "cell_type": "code",
   "execution_count": 2,
   "metadata": {},
   "outputs": [
    {
     "name": "stdout",
     "output_type": "stream",
     "text": [
      "[['Talg nöt' '1' 656.3 ..., 'Övrigt fett (ister, talg, kokosfett)' 86 None]\n",
      " ['Späck gris' '2' 763.0 ..., 'Övrigt fett (ister, talg, kokosfett)' 86\n",
      "  None]\n",
      " ['Ister gris' '3' 884.3 ..., 'Övrigt fett (ister, talg, kokosfett)' 86\n",
      "  None]\n",
      " ..., \n",
      " ['Havredryck oberikad' '5964' 40.6 ...,\n",
      "  'Vegetabiliska produkter och mjölkersättning' 46 None]\n",
      " ['Kryddblandning taco' '5973' 372.6 ..., 'Kryddor' 112 None]\n",
      " ['Tortilla wrap' '5974' 313.7 ..., 'Mjukt bröd' 12 'train']]\n"
     ]
    }
   ],
   "source": [
    "conn = sqlite3.connect('../livs.db')  # Create db and establish connection\n",
    "conn.row_factory = sqlite3.Row\n",
    "curs = conn.cursor()\n",
    "result = []\n",
    "rows = curs.execute('select * from livs limit 4000')\n",
    "for row in rows:\n",
    "        result.append(row)\n",
    "\n",
    "db_contents = np.array(result)\n",
    "print (db_contents)\n",
    "\n",
    "conn.close()"
   ]
  },
  {
   "cell_type": "code",
   "execution_count": 3,
   "metadata": {
    "collapsed": true
   },
   "outputs": [],
   "source": [
    "columns = np.array([ 2,  4,  5,  6])\n",
    "# Possible columns: [ 2,  4,  5,  6,  7,  8,  9, 10, 11, 12, 13, 14, 16, 17, 18, 19, 20, 21, 22, 23, 24, 25, 26, 27, 28, 29, 30, 31, 32, 33, 35, 37, 38, 40, 41, 42, 43, 44, 45, 46, 47, 48, 50, 51, 52, 53, 54, 55, 56, 57]\n",
    "# Kolumner som inte predicerar så mycket: [22, 24, 29, 30, 31, 41, 45]"
   ]
  },
  {
   "cell_type": "code",
   "execution_count": 22,
   "metadata": {},
   "outputs": [
    {
     "name": "stdout",
     "output_type": "stream",
     "text": [
      "[['' '-3.105036184601418e+231' '-3.105036184601418e+231'\n",
      "  '2.2513105015e-314' '-1.212929711007614e+224']\n",
      " ['Vatten mineralvatten' '0.0' '0.0' '0.0' '0.0']\n",
      " ['Fisk o skaldjursprodukter o rätter' '0.0' '0.0' '0.0' '0.0']\n",
      " ['Färskost o kvarg' '2.250369105e-314' '2.992833438689636e+130' '0.0'\n",
      "  '0.0']\n",
      " ['Lightdrycker u energi' '0.0' '0.0' '0.0' '0.0']\n",
      " ['Soja-  veteprotein o quorn' '0.0' '0.0' '0.0' '0.0']\n",
      " ['Grönsaks- rotfrukts- baljväxträtter och produkter' '0.0' '0.0' '0.0'\n",
      "  '0.0']\n",
      " ['Pasta' '0.0' '0.0' '0.0' '0.0']\n",
      " ['Starksprit' '0.0' '0.0' '0.0' '0.0']\n",
      " ['Rom, kaviar' '0.0' '0.0' '0.0' '0.0']\n",
      " ['Bullar kakor tårtor mm' '0.0' '0.0' '2.2500300256e-314'\n",
      "  '-1.0571333601561847e+140']\n",
      " ['Svamp' '0.0' '0.0' '2.251311284e-314' '-9.625987649683986e+65']\n",
      " ['Blodprodukter o rätter' '0.0' '0.0' '2.2499939865e-314'\n",
      "  '9.465321364294577e-114']\n",
      " ['Sylta' '2.2504113337e-314' '3.1860565587375972e+227' '0.0' '0.0']\n",
      " ['Kryddor' '0.0' '0.0' '0.0' '0.0']\n",
      " ['Baljväxter (bönor, linser och ärter)' '0.0' '0.0' '0.0' '0.0']\n",
      " ['Fisk stekt ej panerad' '0.0' '0.0' '0.0' '0.0']\n",
      " ['Vegetabiliska produkter och mjölkersättning' '2.250804946e-314'\n",
      "  '-3.374339757516616e+204' '0.0' '0.0']\n",
      " [ 'Övrigt animaliskt *kött*, grodlår, sniglar, säl - färskt, fryst, tillagat'\n",
      "  '0.0' '0.0' '0.0' '0.0']\n",
      " ['Pizza paj pirog färdig smörgås' '0.0' '0.0' '0.0' '0.0']\n",
      " ['Fågelprodukter o rätter' '0.0' '0.0' '0.0' '0.0']\n",
      " ['Skaldjur bläckfisk konserverad' '0.0' '0.0' '0.0' '0.0']\n",
      " ['Smältost' '0.0' '0.0' '0.0' '0.0']\n",
      " ['Smör' '2.251376319e-314' '3.263263088608443e-270' '2.2510557217e-314'\n",
      "  '1.1537501146271823e-263']\n",
      " ['Saft läsk cider u alkohol' '2.2507554405e-314' '4.410291774625089e+220'\n",
      "  '0.0' '0.0']\n",
      " ['Frukt o bär' '0.0' '0.0' '0.0' '0.0']\n",
      " ['Osträtter' '0.0' '0.0' '0.0' '0.0']\n",
      " ['Algprodukter' '0.0' '0.0' '0.0' '0.0']\n",
      " ['Hårt bröd' '0.0' '0.0' '0.0' '0.0']\n",
      " ['Äggprodukter o rätter' '2.250437464e-314' '-7.99423523567196e-10' '0.0'\n",
      "  '0.0']\n",
      " ['Grönsaker' '2.2511393414e-314' '-9.59962846948757e-91' '0.0' '0.0']\n",
      " ['Senap ketchup HP-sås soja *smaksättare*' '0.0' '0.0' '0.0' '0.0']\n",
      " ['Kost- o näringspreparat' '0.0' '0.0' '0.0' '0.0']\n",
      " ['Sockerfritt godis' '0.0' '0.0' '0.0' '0.0']\n",
      " ['Korvrätter' '0.0' '0.0' '2.251307209e-314' '-3.0774780690567135e+45']\n",
      " ['Gelatin agar agar' '2.251938961e-314' '-1.0630774517647118e-216'\n",
      "  '2.250369492e-314' '2.2130425259097752e-247']\n",
      " ['Sallad blandad mat' '0.0' '0.0' '0.0' '0.0']\n",
      " ['Sötningsmedel' '2.2510489827e-314' '-2.198842030634097e-286'\n",
      "  '2.250376326e-314' '1.3221557521907847e-34']\n",
      " ['Sojaprotein veteprotein Quorn produkter och rätter' '2.2499568407e-314'\n",
      "  '-4.970556981856697e-70' '2.2505744386e-314' '1.1611804841559843e-227']\n",
      " ['Tuggummi' '2.250959209e-314' '-7.318015440490051e+204'\n",
      "  '2.251120231e-314' '-6.799709666610899e+69']\n",
      " ['Övrigt' '0.0' '0.0' '0.0' '0.0']\n",
      " ['Grädde creme fraiche' '0.0' '0.0' '0.0' '0.0']\n",
      " ['Skaldjur bläckfisk färsk fryst kokt' '0.0' '0.0' '0.0' '0.0']\n",
      " ['Kaffe' '0.0' '0.0' '0.0' '0.0']\n",
      " ['Pastarätter' '0.0' '0.0' '0.0' '0.0']\n",
      " ['Övrigt fett (ister, talg, kokosfett)' '0.0' '0.0' '0.0' '0.0']\n",
      " ['Risrätter' '2.2499373547e-314' '7.806102720265194e+205' '0.0' '0.0']\n",
      " ['Olja' '0.0' '0.0' '0.0' '0.0']\n",
      " ['Fågel' '0.0' '0.0' '2.249992524e-314' '-3.394819033685991e-163']\n",
      " ['Sportdrycker energidrycker' '2.251301059e-314' '3.7099535546554255e-133'\n",
      "  '0.0' '0.0']\n",
      " ['Frukt o bär torkade' '0.0' '0.0' '0.0' '0.0']\n",
      " ['Fisk rökt' '0.0' '0.0' '2.2517245364e-314' '5.185537801257451e-241']\n",
      " ['Mesvaror' '2.250298161e-314' '-4.3236683393630596e-30'\n",
      "  '2.2505359172e-314' '-1.5731663653681257e-130']\n",
      " ['Ost med vegetabilskt fett' '0.0' '0.0' '0.0' '0.0']\n",
      " ['Chips popcorn o dyl' '0.0' '0.0' '0.0' '0.0']\n",
      " ['Dryck' '0.0' '0.0' '0.0' '0.0']\n",
      " ['Mjukt bröd' '0.0' '0.0' '0.0' '0.0']\n",
      " ['Matgryn' '0.0' '0.0' '0.0' '0.0']\n",
      " ['Frukt o bär konserverade' '0.0' '0.0' '0.0' '0.0']\n",
      " ['Socker sirap honung' '0.0' '0.0' '2.2502982914e-314'\n",
      "  '3.2517349934548643e-121']\n",
      " ['Frukt färsk fryst' '0.0' '0.0' '0.0' '0.0']\n",
      " ['Blodmat' '0.0' '0.0' '0.0' '0.0']\n",
      " ['Övriga sötade drycker vattenchoklad' '0.0' '0.0' '2.2510028053e-314'\n",
      "  '-1.0466976259982119e+255']\n",
      " ['Flingor - frukostflingor' '0.0' '0.0' '0.0' '0.0']\n",
      " ['Godis som innehåller choklad' '-3.105036184601418e+231'\n",
      "  '-3.105036184601418e+231' '2.2503637453e-314' '6.425641584433218e+153']\n",
      " ['Inälvor organ produkter o rätter' '0.0' '0.0' '0.0' '0.0']\n",
      " ['Grönsaksjuice rotfruktsjuice' '2.250721607e-314'\n",
      "  '9.620504588699421e+132' '2.2507518674e-314' '-4.106455868448903e+92']\n",
      " ['Kött färskt fryst tillagat' '2.2515426926e-314'\n",
      "  '-1.9408106901116294e+289' '0.0' '0.0']\n",
      " ['Rotfrukter' '0.0' '0.0' '0.0' '0.0']\n",
      " ['Glass' '2.2511975937e-314' '2.895800218514792e+131' '0.0' '0.0']\n",
      " ['Hård ost m.m.' '2.2503998753e-314' '-4.4319999218051994e-66' '0.0' '0.0']\n",
      " ['Fruktjuice mm' '2.249991445e-314' '3.7926472447572475e+136' '0.0' '0.0']\n",
      " ['Soppa mat' '2.2515143135e-314' '-2.358791706211716e-54' '0.0' '0.0']\n",
      " ['Smaksatt fil yoghurt' '0.0' '0.0' '2.25078812e-314'\n",
      "  '5.786648984603143e+21']\n",
      " ['Efterrätter' '2.2513758447e-314' '2.2600587807961134e+284'\n",
      "  '2.251222526e-314' '3.374439169327229e+79']\n",
      " ['Hamburgare med  bröd (kött, fisk, fågel, vegetarisk)' '0.0' '0.0' '0.0'\n",
      "  '0.0']\n",
      " ['Ris risnudlar' '0.0' '0.0' '0.0' '0.0']\n",
      " ['Naturell fil yoghurt' '0.0' '0.0' '2.2512637194e-314'\n",
      "  '1.0614767764723665e+152']\n",
      " ['Öl' '0.0' '0.0' '2.2511843764e-314' '3.028998375256994e+90']\n",
      " ['Nötter frön' '0.0' '0.0' '0.0' '0.0']\n",
      " ['Mjölkdryck chokladdryck milkshake smothie m yoghurt' '2.251586119e-314'\n",
      "  '-4.8020737787808284e-256' '0.0' '0.0']\n",
      " ['Sås dressing majonnäs' '2.250583632e-314' '1.4964022102668167e+179'\n",
      "  '0.0' '0.0']\n",
      " ['Sylt marmelad gelé äppelmos o dyl' '0.0' '0.0' '0.0' '0.0']\n",
      " ['Kött processat' '2.249960208e-314' '-1.4273572094075466e-170' '0.0'\n",
      "  '0.0']\n",
      " ['Buljong' '0.0' '0.0' '0.0' '0.0']\n",
      " ['Korv' '2.2507277926e-314' '-4.857898700404882e-83' '2.250023247e-314'\n",
      "  '2.6297980401499723e-177']\n",
      " ['Jäst bakpulver' '2.2507043423e-314' '-1.0105347594193754e-133' '0.0'\n",
      "  '0.0']\n",
      " ['Potatis' '0.0' '0.0' '0.0' '0.0']\n",
      " ['Ättika vinäger' '0.0' '0.0' '0.0' '0.0']\n",
      " ['Smörgåskex' '0.0' '0.0' '0.0' '0.0']\n",
      " ['Godis ej choklad' '0.0' '0.0' '2.2512218148e-314'\n",
      "  '-3.3790071647256567e+292']\n",
      " ['Dessertost' '0.0' '0.0' '0.0' '0.0']\n",
      " ['Fisk färsk fryst kokt' '0.0' '0.0' '0.0' '0.0']\n",
      " ['Choklad' '2.2506562795e-314' '4.8650245679962055e+101'\n",
      "  '2.2510795673e-314' '1.0330329532578884e-37']\n",
      " ['Te' '2.2500144053e-314' '-7.076632944577605e-169' '0.0' '0.0']\n",
      " ['Tacoskal' '2.249992761e-314' '-2.6133279007768524e-147' '0.0' '0.0']\n",
      " ['Riskakor' '0.0' '0.0' '0.0' '0.0']\n",
      " ['Salt' '0.0' '0.0' '0.0' '0.0']\n",
      " ['Bär färska frysta' '0.0' '0.0' '0.0' '0.0']\n",
      " ['Frukt o nötblandningar bars' '0.0' '0.0' '0.0' '0.0']\n",
      " ['Grönsaksblandningar med rotfrukter och eller baljväxter' '0.0' '0.0'\n",
      "  '2.2513100035e-314' '-1.1734861914043546e+260']\n",
      " ['Välling' '0.0' '0.0' '2.2519371625e-314' '2.0974776597001662e-256']\n",
      " ['Likör' '2.2502991175e-314' '1.7164464792691784e-186' '0.0' '0.0']\n",
      " ['Kakaoprodukter' '2.2507834876e-314' '1.6798049350391483e-69'\n",
      "  '2.2505220913e-314' '-2.377846632519109e-241']\n",
      " ['Potatisprodukter o rätter' '0.0' '0.0' '0.0' '0.0']\n",
      " ['Pannkakor, våfflor, crêpes' '0.0' '0.0' '0.0' '0.0']\n",
      " ['Ägg' '0.0' '0.0' '0.0' '0.0']\n",
      " ['Hård matfettsblandning' '0.0' '0.0' '2.2515427993e-314'\n",
      "  '-6.205703084393036e+116']\n",
      " ['Söta soppor kräm o efterrättssås' '0.0' '0.0' '0.0' '0.0']\n",
      " ['Mjöl stärkelse kli' '0.0' '0.0' '0.0' '0.0']\n",
      " ['Vin' '0.0' '0.0' '0.0' '0.0']\n",
      " ['Deg och gräddade skal och bottnar' '0.0' '0.0' '0.0' '0.0']\n",
      " ['Cider alkoläsk drink' '0.0' '0.0' '0.0' '0.0']\n",
      " ['Inälvor och organ' '0.0' '0.0' '0.0' '0.0']\n",
      " ['Majonnässallad röror' '0.0' '0.0' '0.0' '0.0']\n",
      " ['Gröt' '0.0' '0.0' '0.0' '0.0']\n",
      " ['Flytande matfettsblandning' '0.0' '0.0' '0.0' '0.0']\n",
      " ['Köttprodukter kötträtter' '0.0' '0.0' '0.0' '0.0']\n",
      " ['Mjölk' '0.0' '0.0' '2.250493404e-314' '9.26543527749982e+99']]\n"
     ]
    }
   ],
   "source": [
    "#Skapa dataset som alla rader och de kolumner som valts i columns\n",
    "dataset = db_contents[:,columns].astype(float)\n",
    "\n",
    "main_groups = np.array(list(set(db_contents.T[60]))).reshape(-1, 1) \n",
    "\n",
    "#Skapa hela matrisen med kolumner för alla medelvärden\n",
    "main_groups=np.hstack((main_groups,np.empty([len(main_groups),len(columns)])))\n",
    "print(main_groups)"
   ]
  },
  {
   "cell_type": "code",
   "execution_count": 82,
   "metadata": {},
   "outputs": [
    {
     "data": {
      "image/png": "[encoded data removed]",
      "text/plain": [
       "<matplotlib.figure.Figure at 0x113350320>"
      ]
     },
     "metadata": {},
     "output_type": "display_data"
    },
    {
     "data": {
      "image/png": "[encoded data removed]",
      "text/plain": [
       "<matplotlib.figure.Figure at 0x113572ac8>"
      ]
     },
     "metadata": {},
     "output_type": "display_data"
    },
    {
     "data": {
      "image/png": "[encoded data removed]",
      "text/plain": [
       "<matplotlib.figure.Figure at 0x11355dac8>"
      ]
     },
     "metadata": {},
     "output_type": "display_data"
    },
    {
     "data": {
      "image/png": "[encoded data removed]",
      "text/plain": [
       "<matplotlib.figure.Figure at 0x1134b44e0>"
      ]
     },
     "metadata": {},
     "output_type": "display_data"
    }
   ],
   "source": [
    "m_group = 'Te'\n",
    "for column in range(len(columns)):\n",
    "    group_members = np.where(db_contents[:,60]==m_group)\n",
    "    a = dataset[group_members]\n",
    "    #mean = np.mean(dataset[group_members], axis=0)\n",
    "    plt.axvline(a[:,column].mean(), color='b', linestyle='dashed', linewidth=2)\n",
    "    plt.axvline(np.median(a[:,column]), color='r', linestyle='dashed', linewidth=2)\n",
    "    plt.hist(a[:,column])\n",
    "    plt.show()"
   ]
  },
  {
   "cell_type": "code",
   "execution_count": 20,
   "metadata": {},
   "outputs": [
    {
     "name": "stdout",
     "output_type": "stream",
     "text": [
      "['' '216.54285714285717' '11.528571428571428' '9.6' '14.385714285714286']\n",
      "['Vatten mineralvatten' '56.22' '7.902' '1.6273333333333333' '2.09']\n",
      "['Fisk o skaldjursprodukter o rätter' '187.2623188405797'\n",
      " '9.551159420289855' '10.500434782608693' '13.42666666666666']\n",
      "['Färskost o kvarg' '189.48' '2.9066666666666667' '14.814' '11.402']\n",
      "['Lightdrycker u energi' '2.625' '0.6125' '0.0' '0.0125']\n",
      "['Soja-  veteprotein o quorn' '168.16666666666666' '6.8'\n",
      " '6.016666666666667' '19.586666666666666']\n",
      "['Grönsaks- rotfrukts- baljväxträtter och produkter' '107.57454545454543'\n",
      " '8.765636363636363' '5.867272727272726' '3.518363636363635']\n",
      "['Pasta' '225.41904761904763' '45.50761904761905' '1.3538095238095242'\n",
      " '5.967142857142856']\n",
      "['Starksprit' '226.28571428571428' '4.028571428571429' '0.0' '0.0']\n",
      "['Rom, kaviar' '202.29999999999998' '11.183333333333332' '10.365' '16.05']\n",
      "['Bullar kakor tårtor mm' '402.09302325581405' '52.30441860465117'\n",
      " '18.317906976744187' '5.7123255813953495']\n",
      "['Svamp' '26.855555555555554' '2.1433333333333335' '0.4766666666666667'\n",
      " '2.2588888888888885']\n",
      "['Blodprodukter o rätter' '218.1875' '22.084999999999997' '9.15625'\n",
      " '10.42125']\n",
      "['Sylta' '182.76666666666665' '0.13333333333333333' '14.266666666666667'\n",
      " '13.799999999999999']\n",
      "['Kryddor' '372.6' '72.6' '3.55' '5.63']\n",
      "['Baljväxter (bönor, linser och ärter)' '130.35098039215683'\n",
      " '15.542549019607845' '1.76' '9.466666666666669']\n",
      "['Fisk stekt ej panerad' '194.14285714285714' '0.42857142857142855'\n",
      " '11.835714285714285' '21.264285714285716']\n",
      "['Vegetabiliska produkter och mjölkersättning' '88.1846153846154'\n",
      " '8.038461538461537' '5.523076923076923' '1.3246153846153845']\n",
      "[ 'Övrigt animaliskt *kött*, grodlår, sniglar, säl - färskt, fryst, tillagat'\n",
      " '69.3' '0.0' '0.3' '16.4']\n",
      "['Pizza paj pirog färdig smörgås' '235.4804347826087' '21.385652173913048'\n",
      " '12.246304347826083' '8.961739130434784']\n",
      "['Fågelprodukter o rätter' '222.34' '8.198' '13.288' '17.332']\n",
      "['Skaldjur bläckfisk konserverad' '81.36666666666666' '1.3333333333333333'\n",
      " '1.6333333333333335' '15.133333333333333']\n",
      "['Smältost' '192.875' '2.7624999999999997' '13.356250000000001' '15.64125']\n",
      "['Smör' '727.9333333333334' '0.48666666666666664' '81.86666666666667' '0.5']\n",
      "['Saft läsk cider u alkohol' '75.8736842105263' '18.610526315789468' '0.0'\n",
      " '0.06315789473684211']\n",
      "['Frukt o bär' '67.4' '7.300000000000001' '2.57' '0.7']\n",
      "['Osträtter' '211.13333333333335' '7.993333333333333' '14.083333333333334'\n",
      " '13.073333333333332']\n",
      "['Algprodukter' '259.2' '54.8' '0.5' '7.9']\n",
      "['Hårt bröd' '363.7142857142857' '65.19285714285715' '3.8789285714285717'\n",
      " '10.292857142857143']\n",
      "['Äggprodukter o rätter' '168.96666666666667' '3.6983333333333337' '12.935'\n",
      " '9.651666666666666']\n",
      "['Grönsaker' '42.342553191489365' '5.175638297872339' '1.0751063829787237'\n",
      " '1.881170212765958']\n",
      "['Senap ketchup HP-sås soja *smaksättare*' '122.98181818181818'\n",
      " '19.94545454545454' '2.7036363636363636' '3.910909090909091']\n",
      "['Kost- o näringspreparat' '153.60000000000002' '23.5' '2.4400000000000004'\n",
      " '7.625']\n",
      "['Sockerfritt godis' '401.8' '98.9' '0.0' '0.0']\n",
      "['Korvrätter' '171.39999999999998' '10.748888888888889'\n",
      " '11.183333333333334' '6.628888888888889']\n",
      "['Gelatin agar agar' '332.1' '37.15' '0.2' '44.15']\n",
      "['Sallad blandad mat' '110.18000000000002' '3.425' '7.623'\n",
      " '6.5760000000000005']\n",
      "['Sötningsmedel' '406.3' '100.0' '0.0' '0.0']\n",
      "['Sojaprotein veteprotein Quorn produkter och rätter' '201.16666666666666'\n",
      " '6.560000000000001' '13.326666666666666' '11.896666666666667']\n",
      "['Tuggummi' '365.3' '89.4' '0.0' '0.5']\n",
      "['Övrigt' '0.0' '0.0' '0.0' '0.0']\n",
      "['Grädde creme fraiche' '204.24347826086955' '7.39391304347826'\n",
      " '18.380869565217395' '2.799565217391305']\n",
      "['Skaldjur bläckfisk färsk fryst kokt' '83.89999999999999'\n",
      " '0.4571428571428572' '1.4157142857142857' '17.154285714285713']\n",
      "['Kaffe' '63.31999999999999' '9.053999999999998' '0.376'\n",
      " '3.9840000000000004']\n",
      "['Pastarätter' '124.65833333333335' '14.828333333333333' '4.495' '5.2675']\n",
      "['Övrigt fett (ister, talg, kokosfett)' '796.9749999999999' '0.0' '89.0'\n",
      " '2.45']\n",
      "['Risrätter' '24.3' '1.96' '0.99' '1.82']\n",
      "['Olja' '876.3533333333331' '0.09000000000000001' '99.00933333333334'\n",
      " '0.10733333333333334']\n",
      "['Fågel' '181.45641025641027' '0.5435897435897435' '9.969230769230771'\n",
      " '22.420256410256407']\n",
      "['Sportdrycker energidrycker' '34.15' '8.4' '0.0' '0.0']\n",
      "['Frukt o bär torkade' '273.7357142857143' '58.771428571428565'\n",
      " '0.7357142857142858' '2.891428571428571']\n",
      "['Fisk rökt' '235.2846153846154' '0.0' '17.077692307692306'\n",
      " '20.740000000000002']\n",
      "['Mesvaror' '286.4666666666667' '40.77' '10.348333333333334' '7.21']\n",
      "['Ost med vegetabilskt fett' '238.0' '1.1666666666666667'\n",
      " '16.733333333333334' '20.599999999999998']\n",
      "['Chips popcorn o dyl' '462.790909090909' '56.145454545454534'\n",
      " '20.549999999999997' '9.07909090909091']\n",
      "['Dryck' '26.1' '3.5' '1.3' '0.0']\n",
      "['Mjukt bröd' '267.62380952380954' '47.28904761904762' '4.093809523809524'\n",
      " '7.412619047619048']\n",
      "['Matgryn' '177.92142857142852' '33.48571428571429' '1.0850000000000002'\n",
      " '6.041428571428571']\n",
      "['Frukt o bär konserverade' '77.17647058823529' '17.5764705882353'\n",
      " '0.12352941176470592' '0.42941176470588244']\n",
      "['Socker sirap honung' '365.2' '89.83333333333333' '0.0'\n",
      " '0.049999999999999996']\n",
      "['Frukt färsk fryst' '58.36904761904763' '11.59928571428571'\n",
      " '0.36595238095238103' '0.7402380952380951']\n",
      "['Blodmat' '71.4' '0.2' '0.4' '16.5']\n",
      "['Övriga sötade drycker vattenchoklad' '53.925000000000004' '4.16' '3.2825'\n",
      " '1.78']\n",
      "['Flingor - frukostflingor' '392.84285714285716' '70.57857142857145'\n",
      " '6.492142857142857' '8.335357142857143']\n",
      "['Godis som innehåller choklad' '483.8933333333333' '64.99333333333334'\n",
      " '21.740000000000002' '5.865333333333334']\n",
      "['Inälvor organ produkter o rätter' '165.69333333333333'\n",
      " '9.129333333333333' '8.654666666666667' '12.324000000000002']\n",
      "['Grönsaksjuice rotfruktsjuice' '23.250000000000004' '4.05' '0.175' '0.9']\n",
      "['Kött färskt fryst tillagat' '152.56220472440944' '0.08181102362204723'\n",
      " '7.359921259842519' '21.436929133858275']\n",
      "['Rotfrukter' '45.48571428571428' '7.793809523809524' '0.2857142857142857'\n",
      " '1.3919047619047618']\n",
      "['Glass' '208.29200000000003' '24.436' '10.8408' '3.1039999999999996']\n",
      "['Hård ost m.m.' '314.93636363636364' '1.6818181818181819'\n",
      " '21.554545454545455' '28.91909090909091']\n",
      "['Fruktjuice mm' '49.75' '11.436363636363637' '0.08181818181818185'\n",
      " '0.4777272727272727']\n",
      "['Soppa mat' '49.51914893617022' '4.687446808510638' '2.027446808510638'\n",
      " '2.379574468085107']\n",
      "['Smaksatt fil yoghurt' '91.90909090909089' '13.245454545454544'\n",
      " '2.5281818181818183' '3.805454545454545']\n",
      "['Efterrätter' '197.93548387096772' '21.031935483870967'\n",
      " '10.269032258064518' '4.881935483870967']\n",
      "['Hamburgare med  bröd (kött, fisk, fågel, vegetarisk)' '252.9' '22.144'\n",
      " '12.14' '13.290000000000001']\n",
      "['Ris risnudlar' '244.72' '53.224399999999996' '0.6603999999999999'\n",
      " '5.001200000000001']\n",
      "['Naturell fil yoghurt' '60.59090909090909' '4.86' '3.019090909090909'\n",
      " '3.48']\n",
      "['Öl' '32.825' '3.3' '0.0' '0.2625']\n",
      "['Nötter frön' '551.7047619047619' '16.388095238095236' '45.62666666666667'\n",
      " '15.94190476190476']\n",
      "['Mjölkdryck chokladdryck milkshake smothie m yoghurt' '74.94000000000001'\n",
      " '10.41' '2.112' '3.3879999999999995']\n",
      "['Sås dressing majonnäs' '224.60632911392392' '8.740632911392405'\n",
      " '19.869367088607593' '3.0449367088607597']\n",
      "['Sylt marmelad gelé äppelmos o dyl' '178.67222222222222'\n",
      " '42.62555555555556' '0.14388888888888887' '0.32055555555555565']\n",
      "['Kött processat' '194.36800000000002' '0.24239999999999998'\n",
      " '11.927599999999998' '21.6376']\n",
      "['Buljong' '152.01666666666665' '14.792777777777777' '4.7877777777777775'\n",
      " '12.156111111111112']\n",
      "['Korv' '248.20333333333338' '5.9513333333333325' '19.69666666666666'\n",
      " '12.146333333333336']\n",
      "['Jäst bakpulver' '214.5' '34.86666666666667' '0.6666666666666666'\n",
      " '16.400000000000002']\n",
      "['Potatis' '91.4' '18.006451612903227' '0.6806451612903234'\n",
      " '1.9664516129032261']\n",
      "['Ättika vinäger' '36.333333333333336' '8.666666666666666' '0.0'\n",
      " '0.26666666666666666']\n",
      "['Smörgåskex' '479.27142857142866' '61.828571428571436'\n",
      " '21.062857142857144' '8.245714285714286']\n",
      "['Godis ej choklad' '377.37272727272733' '85.44545454545455'\n",
      " '1.9363636363636365' '3.1681818181818175']\n",
      "['Dessertost' '329.0625' '1.1375' '27.34375' '20.338749999999997']\n",
      "['Fisk färsk fryst kokt' '147.37647058823535' '0.7176470588235294'\n",
      " '7.511617647058823' '18.95911764705883']\n",
      "['Choklad' '562.5142857142856' '54.214285714285715' '35.10857142857143'\n",
      " '7.7557142857142845']\n",
      "['Te' '78.3' '15.7' '0.1' '2.925']\n",
      "['Tacoskal' '428.3' '64.3' '14.7' '5.19']\n",
      "['Riskakor' '427.75' '71.6' '11.225' '7.43']\n",
      "['Salt' '32.075' '5.725' '0.125' '1.9']\n",
      "['Bär färska frysta' '59.10416666666668' '11.01625' '0.4341666666666666'\n",
      " '0.8183333333333332']\n",
      "['Frukt o nötblandningar bars' '406.15' '73.75' '7.77' '7.75']\n",
      "['Grönsaksblandningar med rotfrukter och eller baljväxter'\n",
      " '54.94444444444445' '7.802222222222222' '0.668888888888889'\n",
      " '2.7722222222222217']\n",
      "['Välling' '214.5833333333333' '28.617500000000003' '6.406666666666666'\n",
      " '9.260833333333334']\n",
      "['Likör' '272.9666666666667' '28.233333333333334' '0.0' '0.0']\n",
      "['Kakaoprodukter' '398.1' '49.15' '12.2' '14.28']\n",
      "['Potatisprodukter o rätter' '154.66363636363636' '18.38454545454545'\n",
      " '6.801212121212122' '3.852424242424242']\n",
      "['Pannkakor, våfflor, crêpes' '189.25384615384613' '16.88153846153846'\n",
      " '10.454615384615382' '6.5576923076923075']\n",
      "['Ägg' '181.60000000000002' '0.40888888888888886' '14.331111111111113'\n",
      " '13.104444444444445']\n",
      "['Hård matfettsblandning' '502.23076923076934' '1.669230769230769'\n",
      " '55.82051282051282' '0.5002564102564103']\n",
      "['Söta soppor kräm o efterrättssås' '128.8923076923077' '23.51807692307692'\n",
      " '3.0580769230769227' '0.9657692307692307']\n",
      "['Mjöl stärkelse kli' '345.0655172413793' '61.35793103448277'\n",
      " '3.6482758620689655' '11.31']\n",
      "['Vin' '92.76000000000002' '7.12' '0.0' '0.01']\n",
      "['Deg och gräddade skal och bottnar' '396.3' '44.796666666666674'\n",
      " '20.833333333333332' '6.596666666666667']\n",
      "['Cider alkoläsk drink' '59.03333333333333' '6.696666666666666'\n",
      " '0.8966666666666666' '0.04666666666666667']\n",
      "['Inälvor och organ' '169.96060606060607' '2.526060606060606'\n",
      " '10.297272727272727' '16.82757575757575']\n",
      "['Majonnässallad röror' '223.48333333333332' '6.168333333333333'\n",
      " '19.714999999999996' '5.555']\n",
      "['Gröt' '81.71875' '13.276874999999999' '1.625' '2.6131249999999997']\n",
      "['Flytande matfettsblandning' '713.3714285714285' '0.21428571428571427'\n",
      " '80.57142857142857' '0.14285714285714285']\n",
      "['Köttprodukter kötträtter' '153.03749999999997' '5.576125' '9.1675'\n",
      " '11.73325']\n",
      "['Mjölk' '121.01818181818182' '15.505454545454548' '3.3681818181818173'\n",
      " '6.924545454545453']\n"
     ]
    }
   ],
   "source": [
    "# Fyll matrisen main_groups med medelvärdena i alla kolumner\n",
    "for row in main_groups:\n",
    "    group_members = np.where(db_contents[:,60]==row[0]) # group_members blir index för alla livsmedel som tillhör den aktuella huvudgruppen\n",
    "    column_means=np.mean(dataset[group_members], axis=0) # blir medelvärdena kolumn för kolumn för den aktuella huvudgruppens livsmedel\n",
    "    row[1:]=column_means # Sätt medelvärdena på plats i den stora matrisen som är main_groups/huvudgrupper\n",
    "    print(row)"
   ]
  },
  {
   "cell_type": "code",
   "execution_count": 6,
   "metadata": {
    "collapsed": true
   },
   "outputs": [],
   "source": [
    "threshold = 0.9999"
   ]
  },
  {
   "cell_type": "code",
   "execution_count": 7,
   "metadata": {
    "collapsed": true
   },
   "outputs": [],
   "source": [
    "cos_sim = cosine_similarity(main_groups[:,1:], Y=None)"
   ]
  },
  {
   "cell_type": "code",
   "execution_count": 8,
   "metadata": {
    "collapsed": true
   },
   "outputs": [],
   "source": [
    "similars = np.where(cos_sim[4]>threshold)"
   ]
  },
  {
   "cell_type": "code",
   "execution_count": 9,
   "metadata": {},
   "outputs": [
    {
     "data": {
      "text/plain": [
       "array([['Lightdrycker u energi', '2.625', '0.6125', '0.0', '0.0125'],\n",
       "       ['Saft läsk cider u alkohol', '75.8736842105263',\n",
       "        '18.610526315789468', '0.0', '0.06315789473684211'],\n",
       "       ['Sockerfritt godis', '401.8', '98.9', '0.0', '0.0'],\n",
       "       ['Sötningsmedel', '406.3', '100.0', '0.0', '0.0'],\n",
       "       ['Tuggummi', '365.3', '89.4', '0.0', '0.5'],\n",
       "       ['Sportdrycker energidrycker', '34.15', '8.4', '0.0', '0.0'],\n",
       "       ['Frukt o bär konserverade', '77.17647058823529',\n",
       "        '17.5764705882353', '0.12352941176470592', '0.42941176470588244'],\n",
       "       ['Socker sirap honung', '365.2', '89.83333333333333', '0.0',\n",
       "        '0.049999999999999996'],\n",
       "       ['Fruktjuice mm', '49.75', '11.436363636363637',\n",
       "        '0.08181818181818185', '0.4777272727272727'],\n",
       "       ['Sylt marmelad gelé äppelmos o dyl', '178.67222222222222',\n",
       "        '42.62555555555556', '0.14388888888888887', '0.32055555555555565'],\n",
       "       ['Ättika vinäger', '36.333333333333336', '8.666666666666666', '0.0',\n",
       "        '0.26666666666666666'],\n",
       "       ['Godis ej choklad', '377.37272727272733', '85.44545454545455',\n",
       "        '1.9363636363636365', '3.1681818181818175']],\n",
       "      dtype='<U73')"
      ]
     },
     "execution_count": 9,
     "metadata": {},
     "output_type": "execute_result"
    }
   ],
   "source": [
    "main_groups[similars]"
   ]
  },
  {
   "cell_type": "code",
   "execution_count": null,
   "metadata": {
    "collapsed": true
   },
   "outputs": [],
   "source": []
  },
  {
   "cell_type": "code",
   "execution_count": null,
   "metadata": {
    "collapsed": true
   },
   "outputs": [],
   "source": []
  },
  {
   "cell_type": "code",
   "execution_count": 10,
   "metadata": {},
   "outputs": [
    {
     "ename": "NameError",
     "evalue": "name 'main_groups_avg' is not defined",
     "output_type": "error",
     "traceback": [
      "\u001b[0;31m---------------------------------------------------------------------------\u001b[0m",
      "\u001b[0;31mNameError\u001b[0m                                 Traceback (most recent call last)",
      "\u001b[0;32m<ipython-input-10-e73bc6f732a5>\u001b[0m in \u001b[0;36m<module>\u001b[0;34m()\u001b[0m\n\u001b[0;32m----> 1\u001b[0;31m \u001b[0mcos_sim_avg\u001b[0m \u001b[0;34m=\u001b[0m \u001b[0mcosine_similarity\u001b[0m\u001b[0;34m(\u001b[0m\u001b[0mmain_groups_avg\u001b[0m\u001b[0;34m,\u001b[0m \u001b[0mY\u001b[0m\u001b[0;34m=\u001b[0m\u001b[0;32mNone\u001b[0m\u001b[0;34m)\u001b[0m\u001b[0;34m\u001b[0m\u001b[0m\n\u001b[0m",
      "\u001b[0;31mNameError\u001b[0m: name 'main_groups_avg' is not defined"
     ]
    }
   ],
   "source": [
    "cos_sim_avg = cosine_similarity(main_groups_avg, Y=None)"
   ]
  },
  {
   "cell_type": "code",
   "execution_count": 11,
   "metadata": {},
   "outputs": [
    {
     "ename": "NameError",
     "evalue": "name 'cos_sim_avg' is not defined",
     "output_type": "error",
     "traceback": [
      "\u001b[0;31m---------------------------------------------------------------------------\u001b[0m",
      "\u001b[0;31mNameError\u001b[0m                                 Traceback (most recent call last)",
      "\u001b[0;32m<ipython-input-11-9fd24bb0fca3>\u001b[0m in \u001b[0;36m<module>\u001b[0;34m()\u001b[0m\n\u001b[0;32m----> 1\u001b[0;31m \u001b[0mnp\u001b[0m\u001b[0;34m.\u001b[0m\u001b[0mmean\u001b[0m\u001b[0;34m(\u001b[0m\u001b[0mcos_sim_avg\u001b[0m\u001b[0;34m[\u001b[0m\u001b[0;36m0\u001b[0m\u001b[0;34m]\u001b[0m\u001b[0;34m)\u001b[0m\u001b[0;34m\u001b[0m\u001b[0m\n\u001b[0m",
      "\u001b[0;31mNameError\u001b[0m: name 'cos_sim_avg' is not defined"
     ]
    }
   ],
   "source": [
    "np.mean(cos_sim_avg[0])"
   ]
  },
  {
   "cell_type": "code",
   "execution_count": 12,
   "metadata": {},
   "outputs": [
    {
     "data": {
      "text/plain": [
       "73"
      ]
     },
     "execution_count": 12,
     "metadata": {},
     "output_type": "execute_result"
    }
   ],
   "source": [
    "np.argsort (cos_sim[1])[-2]"
   ]
  },
  {
   "cell_type": "code",
   "execution_count": 13,
   "metadata": {},
   "outputs": [
    {
     "ename": "NameError",
     "evalue": "name 'cos_sim_avg' is not defined",
     "output_type": "error",
     "traceback": [
      "\u001b[0;31m---------------------------------------------------------------------------\u001b[0m",
      "\u001b[0;31mNameError\u001b[0m                                 Traceback (most recent call last)",
      "\u001b[0;32m<ipython-input-13-e0483bf2f793>\u001b[0m in \u001b[0;36m<module>\u001b[0;34m()\u001b[0m\n\u001b[0;32m----> 1\u001b[0;31m \u001b[0mnp\u001b[0m\u001b[0;34m.\u001b[0m\u001b[0margsort\u001b[0m \u001b[0;34m(\u001b[0m\u001b[0mcos_sim_avg\u001b[0m\u001b[0;34m[\u001b[0m\u001b[0;36m1\u001b[0m\u001b[0;34m]\u001b[0m\u001b[0;34m)\u001b[0m\u001b[0;34m\u001b[0m\u001b[0m\n\u001b[0m",
      "\u001b[0;31mNameError\u001b[0m: name 'cos_sim_avg' is not defined"
     ]
    }
   ],
   "source": [
    "np.argsort (cos_sim_avg[1])"
   ]
  },
  {
   "cell_type": "code",
   "execution_count": 14,
   "metadata": {},
   "outputs": [
    {
     "data": {
      "text/plain": [
       "<function numpy.core.multiarray.where>"
      ]
     },
     "execution_count": 14,
     "metadata": {},
     "output_type": "execute_result"
    }
   ],
   "source": [
    "np.where"
   ]
  },
  {
   "cell_type": "code",
   "execution_count": 15,
   "metadata": {
    "collapsed": true
   },
   "outputs": [],
   "source": [
    "similar = main_groups[np.argsort (cos_sim)][::-1] #[::-1] vänder på listan https://stackoverflow.com/questions/16486252/is-it-possible-to-use-argsort-in-descending-order"
   ]
  },
  {
   "cell_type": "code",
   "execution_count": 16,
   "metadata": {},
   "outputs": [
    {
     "data": {
      "text/plain": [
       "(119, 119, 5)"
      ]
     },
     "execution_count": 16,
     "metadata": {},
     "output_type": "execute_result"
    }
   ],
   "source": [
    "similar.shape"
   ]
  },
  {
   "cell_type": "code",
   "execution_count": 17,
   "metadata": {},
   "outputs": [
    {
     "ename": "NameError",
     "evalue": "name 'main_groups_avg' is not defined",
     "output_type": "error",
     "traceback": [
      "\u001b[0;31m---------------------------------------------------------------------------\u001b[0m",
      "\u001b[0;31mNameError\u001b[0m                                 Traceback (most recent call last)",
      "\u001b[0;32m<ipython-input-17-450d4aed023f>\u001b[0m in \u001b[0;36m<module>\u001b[0;34m()\u001b[0m\n\u001b[0;32m----> 1\u001b[0;31m \u001b[0mprint\u001b[0m\u001b[0;34m(\u001b[0m\u001b[0mnp\u001b[0m\u001b[0;34m.\u001b[0m\u001b[0mmean\u001b[0m\u001b[0;34m(\u001b[0m\u001b[0mmain_groups_avg\u001b[0m\u001b[0;34m,\u001b[0m \u001b[0maxis\u001b[0m\u001b[0;34m=\u001b[0m\u001b[0;36m1\u001b[0m\u001b[0;34m,\u001b[0m \u001b[0mkeepdims\u001b[0m\u001b[0;34m=\u001b[0m\u001b[0;32mTrue\u001b[0m\u001b[0;34m)\u001b[0m\u001b[0;34m)\u001b[0m\u001b[0;34m\u001b[0m\u001b[0m\n\u001b[0m",
      "\u001b[0;31mNameError\u001b[0m: name 'main_groups_avg' is not defined"
     ]
    }
   ],
   "source": [
    "print(np.mean(main_groups_avg, axis=1, keepdims=True))"
   ]
  },
  {
   "cell_type": "code",
   "execution_count": 42,
   "metadata": {},
   "outputs": [
    {
     "data": {
      "text/plain": [
       "[0, 1, 4, 9, 16, 25, 36, 49]"
      ]
     },
     "execution_count": 42,
     "metadata": {},
     "output_type": "execute_result"
    }
   ],
   "source": [
    "a = [x**2 for x in range(8)]\n",
    "a"
   ]
  },
  {
   "cell_type": "code",
   "execution_count": null,
   "metadata": {
    "collapsed": true
   },
   "outputs": [],
   "source": []
  },
  {
   "cell_type": "code",
   "execution_count": 60,
   "metadata": {
    "collapsed": true
   },
   "outputs": [],
   "source": [
    "a = np.array([99,99,99,99,99], dtype=float)"
   ]
  },
  {
   "cell_type": "code",
   "execution_count": 61,
   "metadata": {
    "collapsed": true
   },
   "outputs": [],
   "source": [
    "# Från https://github.com/oliviaguest/gini/blob/master/gini.py \n",
    "def gini(array):\n",
    "    \"\"\"Calculate the Gini coefficient of a numpy array.\"\"\"\n",
    "    # based on bottom eq:\n",
    "    # http://www.statsdirect.com/help/generatedimages/equations/equation154.svg\n",
    "    # from:\n",
    "    # http://www.statsdirect.com/help/default.htm#nonparametric_methods/gini.htm\n",
    "    # All values are treated equally, arrays must be 1d:\n",
    "    array = array.flatten()\n",
    "    if np.amin(array) < 0:\n",
    "        # Values cannot be negative:\n",
    "        array -= np.amin(array)\n",
    "    # Values cannot be 0:\n",
    "    array += 0.0000001\n",
    "    # Values must be sorted:\n",
    "    array = np.sort(array)\n",
    "    # Index per array element:\n",
    "    index = np.arange(1,array.shape[0]+1)\n",
    "    # Number of array elements:\n",
    "    n = array.shape[0]\n",
    "    # Gini coefficient:\n",
    "    return ((np.sum((2 * index - n  - 1) * array)) / (n * np.sum(array)))\n",
    "\n"
   ]
  },
  {
   "cell_type": "code",
   "execution_count": 90,
   "metadata": {
    "collapsed": true
   },
   "outputs": [],
   "source": [
    "# From https://stackoverflow.com/questions/39512260/calculating-gini-coefficient-in-python-numpy \n",
    "def gini2(x):\n",
    "    # (Warning: This is a concise implementation, but it is O(n**2)\n",
    "    # in time and memory, where n = len(x).  *Don't* pass in huge\n",
    "    # samples!)\n",
    "    x += 0.0000001\n",
    "    # Mean absolute difference\n",
    "    mad = np.abs(np.subtract.outer(x, x)).mean()\n",
    "    # Relative mean absolute difference\n",
    "    rmad = mad/np.mean(x)\n",
    "    # Gini coefficient\n",
    "    g = 0.5 * rmad\n",
    "    return g"
   ]
  },
  {
   "cell_type": "code",
   "execution_count": 91,
   "metadata": {},
   "outputs": [
    {
     "data": {
      "text/plain": [
       "0.74412798604791086"
      ]
     },
     "execution_count": 91,
     "metadata": {},
     "output_type": "execute_result"
    }
   ],
   "source": [
    "gini2(a)"
   ]
  },
  {
   "cell_type": "code",
   "execution_count": 92,
   "metadata": {
    "collapsed": true
   },
   "outputs": [],
   "source": [
    "main_groups = np.array(list(set(db_contents.T[60]))).reshape(-1, 1)"
   ]
  },
  {
   "cell_type": "code",
   "execution_count": 93,
   "metadata": {},
   "outputs": [
    {
     "data": {
      "text/plain": [
       "array([[''],\n",
       "       ['Vatten mineralvatten'],\n",
       "       ['Fisk o skaldjursprodukter o rätter'],\n",
       "       ['Färskost o kvarg'],\n",
       "       ['Lightdrycker u energi'],\n",
       "       ['Soja-  veteprotein o quorn'],\n",
       "       ['Grönsaks- rotfrukts- baljväxträtter och produkter'],\n",
       "       ['Pasta'],\n",
       "       ['Starksprit'],\n",
       "       ['Rom, kaviar'],\n",
       "       ['Bullar kakor tårtor mm'],\n",
       "       ['Svamp'],\n",
       "       ['Blodprodukter o rätter'],\n",
       "       ['Sylta'],\n",
       "       ['Kryddor'],\n",
       "       ['Baljväxter (bönor, linser och ärter)'],\n",
       "       ['Fisk stekt ej panerad'],\n",
       "       ['Vegetabiliska produkter och mjölkersättning'],\n",
       "       [ 'Övrigt animaliskt *kött*, grodlår, sniglar, säl - färskt, fryst, tillagat'],\n",
       "       ['Pizza paj pirog färdig smörgås'],\n",
       "       ['Fågelprodukter o rätter'],\n",
       "       ['Skaldjur bläckfisk konserverad'],\n",
       "       ['Smältost'],\n",
       "       ['Smör'],\n",
       "       ['Saft läsk cider u alkohol'],\n",
       "       ['Frukt o bär'],\n",
       "       ['Osträtter'],\n",
       "       ['Algprodukter'],\n",
       "       ['Hårt bröd'],\n",
       "       ['Äggprodukter o rätter'],\n",
       "       ['Grönsaker'],\n",
       "       ['Senap ketchup HP-sås soja *smaksättare*'],\n",
       "       ['Kost- o näringspreparat'],\n",
       "       ['Sockerfritt godis'],\n",
       "       ['Korvrätter'],\n",
       "       ['Gelatin agar agar'],\n",
       "       ['Sallad blandad mat'],\n",
       "       ['Sötningsmedel'],\n",
       "       ['Sojaprotein veteprotein Quorn produkter och rätter'],\n",
       "       ['Tuggummi'],\n",
       "       ['Övrigt'],\n",
       "       ['Grädde creme fraiche'],\n",
       "       ['Skaldjur bläckfisk färsk fryst kokt'],\n",
       "       ['Kaffe'],\n",
       "       ['Pastarätter'],\n",
       "       ['Övrigt fett (ister, talg, kokosfett)'],\n",
       "       ['Risrätter'],\n",
       "       ['Olja'],\n",
       "       ['Fågel'],\n",
       "       ['Sportdrycker energidrycker'],\n",
       "       ['Frukt o bär torkade'],\n",
       "       ['Fisk rökt'],\n",
       "       ['Mesvaror'],\n",
       "       ['Ost med vegetabilskt fett'],\n",
       "       ['Chips popcorn o dyl'],\n",
       "       ['Dryck'],\n",
       "       ['Mjukt bröd'],\n",
       "       ['Matgryn'],\n",
       "       ['Frukt o bär konserverade'],\n",
       "       ['Socker sirap honung'],\n",
       "       ['Frukt färsk fryst'],\n",
       "       ['Blodmat'],\n",
       "       ['Övriga sötade drycker vattenchoklad'],\n",
       "       ['Flingor - frukostflingor'],\n",
       "       ['Godis som innehåller choklad'],\n",
       "       ['Inälvor organ produkter o rätter'],\n",
       "       ['Grönsaksjuice rotfruktsjuice'],\n",
       "       ['Kött färskt fryst tillagat'],\n",
       "       ['Rotfrukter'],\n",
       "       ['Glass'],\n",
       "       ['Hård ost m.m.'],\n",
       "       ['Fruktjuice mm'],\n",
       "       ['Soppa mat'],\n",
       "       ['Smaksatt fil yoghurt'],\n",
       "       ['Efterrätter'],\n",
       "       ['Hamburgare med  bröd (kött, fisk, fågel, vegetarisk)'],\n",
       "       ['Ris risnudlar'],\n",
       "       ['Naturell fil yoghurt'],\n",
       "       ['Öl'],\n",
       "       ['Nötter frön'],\n",
       "       ['Mjölkdryck chokladdryck milkshake smothie m yoghurt'],\n",
       "       ['Sås dressing majonnäs'],\n",
       "       ['Sylt marmelad gelé äppelmos o dyl'],\n",
       "       ['Kött processat'],\n",
       "       ['Buljong'],\n",
       "       ['Korv'],\n",
       "       ['Jäst bakpulver'],\n",
       "       ['Potatis'],\n",
       "       ['Ättika vinäger'],\n",
       "       ['Smörgåskex'],\n",
       "       ['Godis ej choklad'],\n",
       "       ['Dessertost'],\n",
       "       ['Fisk färsk fryst kokt'],\n",
       "       ['Choklad'],\n",
       "       ['Te'],\n",
       "       ['Tacoskal'],\n",
       "       ['Riskakor'],\n",
       "       ['Salt'],\n",
       "       ['Bär färska frysta'],\n",
       "       ['Frukt o nötblandningar bars'],\n",
       "       ['Grönsaksblandningar med rotfrukter och eller baljväxter'],\n",
       "       ['Välling'],\n",
       "       ['Likör'],\n",
       "       ['Kakaoprodukter'],\n",
       "       ['Potatisprodukter o rätter'],\n",
       "       ['Pannkakor, våfflor, crêpes'],\n",
       "       ['Ägg'],\n",
       "       ['Hård matfettsblandning'],\n",
       "       ['Söta soppor kräm o efterrättssås'],\n",
       "       ['Mjöl stärkelse kli'],\n",
       "       ['Vin'],\n",
       "       ['Deg och gräddade skal och bottnar'],\n",
       "       ['Cider alkoläsk drink'],\n",
       "       ['Inälvor och organ'],\n",
       "       ['Majonnässallad röror'],\n",
       "       ['Gröt'],\n",
       "       ['Flytande matfettsblandning'],\n",
       "       ['Köttprodukter kötträtter'],\n",
       "       ['Mjölk']],\n",
       "      dtype='<U73')"
      ]
     },
     "execution_count": 93,
     "metadata": {},
     "output_type": "execute_result"
    }
   ],
   "source": [
    "main_groups"
   ]
  },
  {
   "cell_type": "code",
   "execution_count": 101,
   "metadata": {},
   "outputs": [
    {
     "name": "stdout",
     "output_type": "stream",
     "text": [
      "[''] 7 0.401014080074 0.401014079889\n",
      "['Vatten mineralvatten'] 15 0.420380251436 0.420380250688\n",
      "['Fisk o skaldjursprodukter o rätter'] 69 0.210993387963 0.21099338785\n",
      "['Färskost o kvarg'] 15 0.267478244411 0.26747824427\n",
      "['Lightdrycker u energi'] 4 0.673809498141 0.673809472472\n",
      "['Grönsaks- rotfrukts- baljväxträtter och produkter'] 55 0.320197410377 0.32019741008\n",
      "['Pasta'] 21 0.249454279045 0.249454278934\n",
      "['Rom, kaviar'] 6 0.259350799015 0.259350798887\n",
      "['Sylta'] 3 0.250227977248 0.250227977111\n",
      "['Baljväxter (bönor, linser och ärter)'] 51 0.415464237393 0.415464237074\n",
      "['Fisk stekt ej panerad'] 7 0.302407232053 0.302407231897\n",
      "['Vegetabiliska produkter och mjölkersättning'] 13 0.371195447537 0.371195447116\n",
      "['Saft läsk cider u alkohol'] 19 0.419913545799 0.419913545245\n",
      "['Grönsaker'] 94 0.410146180074 0.410146179106\n",
      "['Kost- o näringspreparat'] 8 0.572265624627 0.572265624255\n",
      "['Sallad blandad mat'] 10 0.271011072544 0.271011072298\n",
      "['Grädde creme fraiche'] 23 0.275032208727 0.275032208592\n",
      "['Kaffe'] 5 0.776121287467 0.776121286241\n",
      "['Fågel'] 39 0.201039003466 0.201039003355\n",
      "['Mesvaror'] 6 0.259968194774 0.259968194683\n",
      "['Ost med vegetabilskt fett'] 3 0.275723622667 0.275723622551\n",
      "['Matgryn'] 14 0.32801397067 0.328013970485\n",
      "['Rotfrukter'] 21 0.253040998088 0.253040997531\n",
      "['Fruktjuice mm'] 22 0.22192366748 0.221923667034\n",
      "['Soppa mat'] 47 0.230762479445 0.230762478979\n",
      "['Efterrätter'] 31 0.223877065959 0.223877065846\n",
      "['Ris risnudlar'] 25 0.253305001531 0.253305001428\n",
      "['Sås dressing majonnäs'] 79 0.426247964791 0.426247964601\n",
      "['Kött processat'] 25 0.272644056495 0.272644056354\n",
      "['Buljong'] 18 0.416135738579 0.416135738305\n",
      "['Jäst bakpulver'] 3 0.258896658776 0.258896658655\n",
      "['Fisk färsk fryst kokt'] 68 0.29196905253 0.291969052332\n",
      "['Te'] 4 0.7416985942 0.741698593252\n",
      "['Salt'] 4 0.749999997662 0.749999995323\n",
      "['Välling'] 12 0.413042071005 0.413042070812\n",
      "['Ägg'] 9 0.252692119293 0.252692119154\n",
      "['Söta soppor kräm o efterrättssås'] 26 0.435843876482 0.435843876144\n",
      "['Vin'] 10 0.325312634406 0.325312634055\n",
      "['Inälvor och organ'] 33 0.219276221715 0.219276221586\n",
      "['Majonnässallad röror'] 6 0.316740000355 0.316740000214\n",
      "['Köttprodukter kötträtter'] 80 0.227182675666 0.227182675518\n",
      "['Mjölk'] 11 0.4433320582 0.443332057834\n"
     ]
    }
   ],
   "source": [
    "threshold = 0.2\n",
    "for main_group in main_groups:\n",
    "    group_members = np.where(db_contents[:,60]==main_group)\n",
    "    a = dataset[group_members]\n",
    "    if gini(a[:,0]) > threshold:\n",
    "        print(main_group, len(a), gini2(a[:,0]), gini2(a[:,0]))"
   ]
  },
  {
   "cell_type": "code",
   "execution_count": 97,
   "metadata": {},
   "outputs": [
    {
     "data": {
      "text/plain": [
       "0.44333205746742832"
      ]
     },
     "execution_count": 97,
     "metadata": {},
     "output_type": "execute_result"
    }
   ],
   "source": [
    "gini(a[:,0])"
   ]
  },
  {
   "cell_type": "code",
   "execution_count": null,
   "metadata": {
    "collapsed": true
   },
   "outputs": [],
   "source": []
  }
 ],
 "metadata": {
  "kernelspec": {
   "display_name": "Python 3",
   "language": "python",
   "name": "python3"
  },
  "language_info": {
   "codemirror_mode": {
    "name": "ipython",
    "version": 3
   },
   "file_extension": ".py",
   "mimetype": "text/x-python",
   "name": "python",
   "nbconvert_exporter": "python",
   "pygments_lexer": "ipython3",
   "version": "3.5.4"
  }
 },
 "nbformat": 4,
 "nbformat_minor": 2
}
