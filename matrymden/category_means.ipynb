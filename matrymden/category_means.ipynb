{
 "cells": [
  {
   "cell_type": "code",
   "execution_count": 1,
   "metadata": {
    "collapsed": true
   },
   "outputs": [],
   "source": [
    "import sqlite3\n",
    "import numpy as np"
   ]
  },
  {
   "cell_type": "markdown",
   "metadata": {},
   "source": [
    "## Rubrik\n",
    "Syftet med den här är att hitta ett medelvärde för varje huvudgrupp. Sen kan man skicka in varje livsmedel ett i taget och se om det passar i den huvudgruppen eller i någon annan. Då kan man göra listor över vilka som passar och vilka som byter, och vart de byter."
   ]
  },
  {
   "cell_type": "code",
   "execution_count": 2,
   "metadata": {},
   "outputs": [
    {
     "name": "stdout",
     "output_type": "stream",
     "text": [
      "[['Talg nöt' '1' 656.3 ..., 'Övrigt fett (ister, talg, kokosfett)' 86 None]\n",
      " ['Späck gris' '2' 763.0 ..., 'Övrigt fett (ister, talg, kokosfett)' 86\n",
      "  None]\n",
      " ['Ister gris' '3' 884.3 ..., 'Övrigt fett (ister, talg, kokosfett)' 86\n",
      "  None]\n",
      " ..., \n",
      " ['Havredryck oberikad' '5964' 40.6 ...,\n",
      "  'Vegetabiliska produkter och mjölkersättning' 46 None]\n",
      " ['Kryddblandning taco' '5973' 372.6 ..., 'Kryddor' 112 None]\n",
      " ['Tortilla wrap' '5974' 313.7 ..., 'Mjukt bröd' 12 'train']]\n"
     ]
    }
   ],
   "source": [
    "conn = sqlite3.connect('../livs.db')  # Create db and establish connection\n",
    "conn.row_factory = sqlite3.Row\n",
    "curs = conn.cursor()\n",
    "result = []\n",
    "rows = curs.execute('select * from livs limit 4000')\n",
    "for row in rows:\n",
    "        result.append(row)\n",
    "\n",
    "db_contents = np.array(result)\n",
    "print (db_contents)\n",
    "\n",
    "conn.close()"
   ]
  },
  {
   "cell_type": "code",
   "execution_count": 16,
   "metadata": {
    "collapsed": true
   },
   "outputs": [],
   "source": [
    "columns = np.array([ 2,  4,  5,  6,  7,  8,  9, 10, 11, 12, 13, 14, 16, 17, 18])\n",
    "# Possible columns: [ 2,  4,  5,  6,  7,  8,  9, 10, 11, 12, 13, 14, 16, 17, 18, 19, 20, 21, 22, 23, 24, 25, 26, 27, 28, 29, 30, 31, 32, 33, 35, 37, 38, 40, 41, 42, 43, 44, 45, 46, 47, 48, 50, 51, 52, 53, 54, 55, 56, 57]\n"
   ]
  },
  {
   "cell_type": "code",
   "execution_count": 19,
   "metadata": {},
   "outputs": [],
   "source": [
    "dataset = db_contents[:,columns].astype(float)"
   ]
  },
  {
   "cell_type": "code",
   "execution_count": 20,
   "metadata": {
    "collapsed": true
   },
   "outputs": [],
   "source": [
    "means = np.mean(dataset, axis=0)"
   ]
  },
  {
   "cell_type": "code",
   "execution_count": 38,
   "metadata": {},
   "outputs": [],
   "source": [
    "label_types = np.array(sorted(list(set(db_contents.T[60])))).reshape(-1, 1) \n",
    "#https://stackoverflow.com/questions/36009907/numpy-reshape-1d-to-2d-array-with-1-column"
   ]
  },
  {
   "cell_type": "code",
   "execution_count": 48,
   "metadata": {},
   "outputs": [],
   "source": [
    "#Lägg till en kolumn till label_types\n",
    "label_types=np.hstack((label_types,np.empty([len(label_types),len(columns)])))"
   ]
  },
  {
   "cell_type": "code",
   "execution_count": 50,
   "metadata": {},
   "outputs": [
    {
     "data": {
      "text/plain": [
       "(119, 17)"
      ]
     },
     "execution_count": 50,
     "metadata": {},
     "output_type": "execute_result"
    }
   ],
   "source": [
    "label_types.shape"
   ]
  },
  {
   "cell_type": "code",
   "execution_count": 44,
   "metadata": {},
   "outputs": [],
   "source": [
    "a = np.where(db_contents[:,60]==label_types[0][0])"
   ]
  },
  {
   "cell_type": "code",
   "execution_count": 45,
   "metadata": {},
   "outputs": [
    {
     "data": {
      "text/plain": [
       "array([['Linser torkade', '884', 325.4, 1361.5, 48.5, 1.0, 24.0, 11.5,\n",
       "        12.0, 0.0, 3.0, 0.3, 2.1, 2.1, 0.0, '', 0.15, 0.0, 0.0, 0.0, 0.13,\n",
       "        0.01, 0.01, 0.18, 0.0, 0.17, 0.47, 0.38, 0.09, 0.0, 0.0, 0.0, 0.0,\n",
       "        0.0, 0.0, 5.0, 60.0, 0.0, 0.34, '', 0.37, 0.22, 0.0, 2.0, 6.0, 0.6,\n",
       "        0.0, 433.0, 375.0, 0.7, 6.8, 79.0, 790.0, 80.0, 30.0, 0.08, 11.0,\n",
       "        '3.1', 0.0, 184.0, '', None, None],\n",
       "       ['Linser torkade kokta u salt', '885', 104.8, 438.5, 15.6, 0.3, 7.8,\n",
       "        3.7, 71.7, 0.0, 0.9, 0.1, 0.7, 0.7, 0.0, '', 0.05, 0.0, 0.0, 0.0,\n",
       "        0.04, 0.0, 0.0, 0.05, 0.0, 0.05, 0.14, 0.11, 0.03, 0.0, 0.0, 0.0,\n",
       "        0.0, 0.0, 0.0, 1.0, 12.0, 0.0, 0.07, '', 0.07, 0.06, 0.0, 0.6, 1.9,\n",
       "        0.11, 0.0, 181.0, 119.0, '', 2.1, 25.0, 250.0, 25.0, 12.0, 0.03,\n",
       "        3.0, '1', 0.0, 154.0, '', None, None],\n",
       "       ['Lax rå', '1239', 180.9, 756.8, 0.0, 12.0, 18.4, 0.0, 68.0, 0.0,\n",
       "        1.6, 0.0, 0.0, 0.0, 0.0, '', 2.55, 0.0, 0.0, 0.35, 1.72, 0.36, 0.0,\n",
       "        4.97, 1.0, 3.63, 3.28, 0.41, 0.18, 0.11, 0.49, 0.25, 1.33, 70.0,\n",
       "        30.0, 30.0, 0.0, 12.5, 1.3, '', 0.23, 0.1, 0.0, 6.0, 9.37, 0.98,\n",
       "        6.2, 26.0, 200.0, 40.0, 0.8, 20.0, 330.0, 24.0, 57.0, 0.14, 26.0,\n",
       "        '0.4', 35.0, 54.0, '', None, None],\n",
       "       ['Tonfisk rå', '1245', 138.0, 577.4, 0.0, 4.9, 23.3, 0.0, 70.62,\n",
       "        0.0, 1.18, 0.0, 0.0, 0.0, 0.0, '', 1.26, 0.0, 0.0, 0.14, 0.81,\n",
       "        0.31, 0.0, 1.6, 0.16, 0.92, 1.43, 0.05, 0.0, 0.04, 0.28, 0.12,\n",
       "        0.89, 38.0, 655.0, 655.0, 0.0, 4.5, 1.0, '', 0.24, 0.25, 0.0, 8.65,\n",
       "        12.92, 0.46, 9.43, 1.9, 254.0, '', 1.02, 8.0, 252.0, 50.0, 39.0,\n",
       "        0.1, 36.5, '0.6', 40.0, 59.0, '', None, None],\n",
       "       ['Jordnötter rostade', '1561', 600.3, 2511.9, 10.3, 49.0, 27.0, 8.1,\n",
       "        2.0, 0.0, 3.6, 1.1, 2.0, 2.0, 0.0, '', 6.8, 0.0, 0.0, 0.23, 5.14,\n",
       "        1.12, 0.0, 24.5, 0.0, 23.7, 15.6, 15.5, 0.0, 0.0, 0.0, 0.0, 0.0,\n",
       "        0.0, 0.0, 0.0, 0.0, 0.0, 7.4, '', 0.29, 0.1, 0.0, 14.8, 19.3, 0.4,\n",
       "        0.0, 105.0, 510.0, '', 1.9, 86.0, 700.0, 188.0, 15.0, 0.04, 2.0,\n",
       "        '6.6', 0.0, 163.0, '', None, None],\n",
       "       ['Vitt vin sött vol. % 13,5', '1910', 98.9, 414.0, 5.9, 0.0, 0.2,\n",
       "        0.0, 82.9, 10.7, 0.3, 5.9, 0.0, 0.0, 0.0, '', 0.0, 0.0, 0.0, 0.0,\n",
       "        0.0, 0.0, 0.0, 0.0, 0.0, 0.0, 0.0, 0.0, 0.0, 0.0, 0.0, 0.0, 0.0,\n",
       "        0.0, 0.0, 0.0, 0.0, 0.0, 0.0, '', 0.0, 0.01, 0.0, 0.1, 0.13, 0.01,\n",
       "        0.0, 0.0, 27.0, '', 1.1, 44.0, 110.0, 3.0, 3.0, 0.01, 0.1, '0',\n",
       "        0.0, 5.0, '', None, None],\n",
       "       ['Vitt vin torrt vol. % 12', '1911', 67.5, 282.3, 0.4, 0.0, 0.0,\n",
       "        0.0, 89.8, 9.5, 0.3, 0.2, 0.2, 0.2, 0.0, '', 0.0, 0.0, 0.0, 0.0,\n",
       "        0.0, 0.0, 0.0, 0.0, 0.0, 0.0, 0.0, 0.0, 0.0, 0.0, 0.0, 0.0, 0.0,\n",
       "        0.0, 0.0, 0.0, 0.0, 0.0, 0.0, '', 0.0, 0.01, 0.0, 0.1, 0.1, 0.02,\n",
       "        0.0, 0.0, 22.0, '', 0.5, 44.0, 65.0, 3.2, 4.0, 0.01, 0.1, '0', 0.0,\n",
       "        30.0, '', None, None]], dtype=object)"
      ]
     },
     "execution_count": 45,
     "metadata": {},
     "output_type": "execute_result"
    }
   ],
   "source": [
    "db_contents[a]"
   ]
  },
  {
   "cell_type": "code",
   "execution_count": null,
   "metadata": {
    "collapsed": true
   },
   "outputs": [],
   "source": []
  }
 ],
 "metadata": {
  "kernelspec": {
   "display_name": "Python 3",
   "language": "python",
   "name": "python3"
  },
  "language_info": {
   "codemirror_mode": {
    "name": "ipython",
    "version": 3
   },
   "file_extension": ".py",
   "mimetype": "text/x-python",
   "name": "python",
   "nbconvert_exporter": "python",
   "pygments_lexer": "ipython3",
   "version": "3.5.4"
  }
 },
 "nbformat": 4,
 "nbformat_minor": 2
}
