{
 "cells": [
  {
   "cell_type": "code",
   "execution_count": 1,
   "metadata": {
    "collapsed": true
   },
   "outputs": [],
   "source": [
    "import sqlite3\n",
    "import numpy as np\n",
    "from scipy.spatial import distance #https://docs.scipy.org/doc/scipy/reference/generated/scipy.spatial.distance.cdist.html\n"
   ]
  },
  {
   "cell_type": "markdown",
   "metadata": {},
   "source": [
    "## Rubrik\n",
    "Syftet med den här är att hitta ett medelvärde för varje huvudgrupp. Sen kan man skicka in varje livsmedel ett i taget och se om det passar i den huvudgruppen eller i någon annan. Då kan man göra listor över vilka som passar och vilka som byter, och vart de byter."
   ]
  },
  {
   "cell_type": "code",
   "execution_count": 2,
   "metadata": {},
   "outputs": [
    {
     "name": "stdout",
     "output_type": "stream",
     "text": [
      "[['Talg nöt' '1' 656.3 ..., 'Övrigt fett (ister, talg, kokosfett)' 86 None]\n",
      " ['Späck gris' '2' 763.0 ..., 'Övrigt fett (ister, talg, kokosfett)' 86\n",
      "  None]\n",
      " ['Ister gris' '3' 884.3 ..., 'Övrigt fett (ister, talg, kokosfett)' 86\n",
      "  None]\n",
      " ..., \n",
      " ['Havredryck oberikad' '5964' 40.6 ...,\n",
      "  'Vegetabiliska produkter och mjölkersättning' 46 None]\n",
      " ['Kryddblandning taco' '5973' 372.6 ..., 'Kryddor' 112 None]\n",
      " ['Tortilla wrap' '5974' 313.7 ..., 'Mjukt bröd' 12 'train']]\n"
     ]
    }
   ],
   "source": [
    "conn = sqlite3.connect('../livs.db')  # Create db and establish connection\n",
    "conn.row_factory = sqlite3.Row\n",
    "curs = conn.cursor()\n",
    "result = []\n",
    "rows = curs.execute('select * from livs limit 4000')\n",
    "for row in rows:\n",
    "        result.append(row)\n",
    "\n",
    "db_contents = np.array(result)\n",
    "print (db_contents)\n",
    "\n",
    "conn.close()"
   ]
  },
  {
   "cell_type": "code",
   "execution_count": 3,
   "metadata": {
    "collapsed": true
   },
   "outputs": [],
   "source": [
    "columns = np.array([ 2,  4,  5,  6])\n",
    "# Possible columns: [ 2,  4,  5,  6,  7,  8,  9, 10, 11, 12, 13, 14, 16, 17, 18, 19, 20, 21, 22, 23, 24, 25, 26, 27, 28, 29, 30, 31, 32, 33, 35, 37, 38, 40, 41, 42, 43, 44, 45, 46, 47, 48, 50, 51, 52, 53, 54, 55, 56, 57]\n"
   ]
  },
  {
   "cell_type": "code",
   "execution_count": 4,
   "metadata": {
    "collapsed": true
   },
   "outputs": [],
   "source": [
    "dataset = db_contents[:,columns].astype(float)"
   ]
  },
  {
   "cell_type": "markdown",
   "metadata": {},
   "source": [
    "dataset är variabeln som håller sånt man kan räkna på. Alltså inte oönskade kolumner som namn eller huvudgrupp.\n",
    "\n",
    "Man kan räkna medelvärdet över alla kategorier."
   ]
  },
  {
   "cell_type": "code",
   "execution_count": 5,
   "metadata": {},
   "outputs": [
    {
     "data": {
      "text/plain": [
       "array([ 200.13850575,   17.40143199,   10.22464559,    8.39439176])"
      ]
     },
     "execution_count": 5,
     "metadata": {},
     "output_type": "execute_result"
    }
   ],
   "source": [
    "means = np.mean(dataset, axis=0)\n",
    "means"
   ]
  },
  {
   "cell_type": "markdown",
   "metadata": {},
   "source": [
    "I nästa cell tas listan över huvudgrupperna fram. "
   ]
  },
  {
   "cell_type": "code",
   "execution_count": 6,
   "metadata": {
    "collapsed": true
   },
   "outputs": [],
   "source": [
    "label_types = np.array(list(set(db_contents.T[60]))).reshape(-1, 1) \n",
    "#https://stackoverflow.com/questions/36009907/numpy-reshape-1d-to-2d-array-with-1-column\n",
    "#Man kan lägga till sorted(list(set...)) om man vill ha listan sorterad, men det blir ändå inte svensk alfabetism"
   ]
  },
  {
   "cell_type": "code",
   "execution_count": 7,
   "metadata": {
    "collapsed": true
   },
   "outputs": [],
   "source": [
    "#Lägg till en kolumn till label_types för varje kolumn, för där ska medelvärdena ligga\n",
    "label_types=np.hstack((label_types,np.empty([len(label_types),len(columns)])))"
   ]
  },
  {
   "cell_type": "code",
   "execution_count": 8,
   "metadata": {},
   "outputs": [
    {
     "data": {
      "text/plain": [
       "array(['', 'Grönsaksblandningar med rotfrukter och eller baljväxter',\n",
       "       'Ättika vinäger', 'Matgryn', 'Chips popcorn o dyl',\n",
       "       'Frukt o bär konserverade', 'Te', 'Blodprodukter o rätter',\n",
       "       'Lightdrycker u energi', 'Inälvor organ produkter o rätter',\n",
       "       'Kött färskt fryst tillagat', 'Fruktjuice mm',\n",
       "       'Senap ketchup HP-sås soja *smaksättare*', 'Sås dressing majonnäs',\n",
       "       'Likör', 'Godis ej choklad', 'Kryddor', 'Grädde creme fraiche',\n",
       "       'Starksprit', 'Jäst bakpulver',\n",
       "       'Övrigt animaliskt *kött*, grodlår, sniglar, säl - färskt, fryst, tillagat',\n",
       "       'Ris risnudlar', 'Naturell fil yoghurt',\n",
       "       'Hamburgare med  bröd (kött, fisk, fågel, vegetarisk)', 'Grönsaker',\n",
       "       'Pizza paj pirog färdig smörgås', 'Riskakor',\n",
       "       'Fisk färsk fryst kokt', 'Gröt', 'Sötningsmedel',\n",
       "       'Kost- o näringspreparat', 'Smörgåskex',\n",
       "       'Sojaprotein veteprotein Quorn produkter och rätter',\n",
       "       'Inälvor och organ', 'Majonnässallad röror', 'Gelatin agar agar',\n",
       "       'Söta soppor kräm o efterrättssås', 'Flingor - frukostflingor',\n",
       "       'Bullar kakor tårtor mm',\n",
       "       'Grönsaks- rotfrukts- baljväxträtter och produkter', 'Övrigt',\n",
       "       'Hård matfettsblandning', 'Bär färska frysta', 'Korv',\n",
       "       'Frukt färsk fryst', 'Vin', 'Smältost', 'Frukt o bär', 'Tacoskal',\n",
       "       'Hårt bröd', 'Tuggummi', 'Godis som innehåller choklad',\n",
       "       'Fågelprodukter o rätter', 'Övrigt fett (ister, talg, kokosfett)',\n",
       "       'Vegetabiliska produkter och mjölkersättning', 'Salt',\n",
       "       'Soja-  veteprotein o quorn', 'Soppa mat', 'Mjölk',\n",
       "       'Skaldjur bläckfisk färsk fryst kokt', 'Kaffe',\n",
       "       'Mjölkdryck chokladdryck milkshake smothie m yoghurt',\n",
       "       'Vatten mineralvatten', 'Saft läsk cider u alkohol', 'Glass',\n",
       "       'Rotfrukter', 'Dessertost', 'Fisk rökt',\n",
       "       'Frukt o nötblandningar bars', 'Smör', 'Blodmat', 'Potatis',\n",
       "       'Osträtter', 'Algprodukter', 'Köttprodukter kötträtter',\n",
       "       'Skaldjur bläckfisk konserverad', 'Potatisprodukter o rätter',\n",
       "       'Deg och gräddade skal och bottnar', 'Mjöl stärkelse kli',\n",
       "       'Buljong', 'Öl', 'Sportdrycker energidrycker', 'Korvrätter',\n",
       "       'Välling', 'Äggprodukter o rätter', 'Sockerfritt godis', 'Sylta',\n",
       "       'Ägg', 'Kött processat', 'Mesvaror', 'Svamp',\n",
       "       'Grönsaksjuice rotfruktsjuice',\n",
       "       'Fisk o skaldjursprodukter o rätter',\n",
       "       'Övriga sötade drycker vattenchoklad',\n",
       "       'Sylt marmelad gelé äppelmos o dyl', 'Pasta', 'Kakaoprodukter',\n",
       "       'Nötter frön', 'Risrätter', 'Efterrätter', 'Mjukt bröd',\n",
       "       'Smaksatt fil yoghurt', 'Fisk stekt ej panerad', 'Hård ost m.m.',\n",
       "       'Choklad', 'Olja', 'Rom, kaviar', 'Färskost o kvarg', 'Pastarätter',\n",
       "       'Socker sirap honung', 'Cider alkoläsk drink', 'Dryck',\n",
       "       'Flytande matfettsblandning', 'Fågel', 'Frukt o bär torkade',\n",
       "       'Ost med vegetabilskt fett', 'Pannkakor, våfflor, crêpes',\n",
       "       'Baljväxter (bönor, linser och ärter)', 'Sallad blandad mat'],\n",
       "      dtype='<U73')"
      ]
     },
     "execution_count": 8,
     "metadata": {},
     "output_type": "execute_result"
    }
   ],
   "source": [
    "label_types[:,0]"
   ]
  },
  {
   "cell_type": "code",
   "execution_count": 9,
   "metadata": {
    "collapsed": true
   },
   "outputs": [],
   "source": [
    "a = np.where(db_contents[:,60]==label_types[2][0])"
   ]
  },
  {
   "cell_type": "code",
   "execution_count": 10,
   "metadata": {},
   "outputs": [
    {
     "data": {
      "text/plain": [
       "array([['Ättiksprit ättiksyra 12 %', '1965', 48.8, 204.0, 12.0, 0.0, 0.0,\n",
       "        0.0, 88.0, 0.0, 0.0, 0.0, 0.0, 0.0, 0.0, '', 0.0, 0.0, 0.0, 0.0,\n",
       "        0.0, 0.0, 0.0, 0.0, 0.0, 0.0, 0.0, 0.0, 0.0, 0.0, 0.0, 0.0, 0.0,\n",
       "        0.0, 0.0, 0.0, 0.0, 0.0, 0.0, '', 0.0, 0.0, 0.0, 0.0, 0.0, 0.0,\n",
       "        0.0, 0.0, 0.0, '', 0.0, 0.0, 0.0, 0.0, 0.0, 0.0, 0.0, '0', 0.0,\n",
       "        31.0, 'Ättika vinäger', 100, None],\n",
       "       ['Vinäger ättiksyra 7 %', '1966', 30.1, 125.8, 7.0, 0.0, 0.4, 0.0,\n",
       "        92.6, 0.0, 0.0, 0.6, 0.0, 0.0, 0.0, '', 0.0, 0.0, 0.0, 0.0, 0.0,\n",
       "        0.0, 0.0, 0.0, 0.0, 0.0, 0.0, 0.0, 0.0, 0.0, 0.0, 0.0, 0.0, 0.0,\n",
       "        0.0, 0.0, 0.0, 0.0, 0.0, '', 0.0, 0.0, 0.0, 0.0, 0.07, 0.0, 0.0,\n",
       "        0.0, 32.0, '', 0.5, 15.0, 89.0, 22.0, 20.0, 0.05, 0.0, '0.1', 0.0,\n",
       "        5.0, 'Ättika vinäger', 100, None],\n",
       "       ['Äppelcidervinäger ättiksyra 7 %', '1967', 30.1, 125.8, 7.0, 0.0,\n",
       "        0.4, 0.0, 92.6, 0.0, 0.0, 0.6, 0.0, 0.0, 0.0, '', 0.0, 0.0, 0.0,\n",
       "        0.0, 0.0, 0.0, 0.0, 0.0, 0.0, 0.0, 0.0, 0.0, 0.0, 0.0, 0.0, 0.0,\n",
       "        0.0, 0.0, 0.0, 0.0, 0.0, 0.0, 0.0, '', 0.0, 0.0, 0.0, 0.0, 0.07,\n",
       "        0.0, 0.0, 0.0, 5.0, '', 0.2, 9.0, 17.0, 3.0, 7.0, 0.02, 0.0, '0.1',\n",
       "        0.0, 5.0, 'Ättika vinäger', 100, None]], dtype=object)"
      ]
     },
     "execution_count": 10,
     "metadata": {},
     "output_type": "execute_result"
    }
   ],
   "source": [
    "db_contents[a]"
   ]
  },
  {
   "cell_type": "code",
   "execution_count": 11,
   "metadata": {},
   "outputs": [
    {
     "data": {
      "text/plain": [
       "array(['', 'Grönsaksblandningar med rotfrukter och eller baljväxter',\n",
       "       'Ättika vinäger', 'Matgryn', 'Chips popcorn o dyl',\n",
       "       'Frukt o bär konserverade', 'Te', 'Blodprodukter o rätter',\n",
       "       'Lightdrycker u energi', 'Inälvor organ produkter o rätter',\n",
       "       'Kött färskt fryst tillagat', 'Fruktjuice mm',\n",
       "       'Senap ketchup HP-sås soja *smaksättare*', 'Sås dressing majonnäs',\n",
       "       'Likör', 'Godis ej choklad', 'Kryddor', 'Grädde creme fraiche',\n",
       "       'Starksprit', 'Jäst bakpulver',\n",
       "       'Övrigt animaliskt *kött*, grodlår, sniglar, säl - färskt, fryst, tillagat',\n",
       "       'Ris risnudlar', 'Naturell fil yoghurt',\n",
       "       'Hamburgare med  bröd (kött, fisk, fågel, vegetarisk)', 'Grönsaker',\n",
       "       'Pizza paj pirog färdig smörgås', 'Riskakor',\n",
       "       'Fisk färsk fryst kokt', 'Gröt', 'Sötningsmedel',\n",
       "       'Kost- o näringspreparat', 'Smörgåskex',\n",
       "       'Sojaprotein veteprotein Quorn produkter och rätter',\n",
       "       'Inälvor och organ', 'Majonnässallad röror', 'Gelatin agar agar',\n",
       "       'Söta soppor kräm o efterrättssås', 'Flingor - frukostflingor',\n",
       "       'Bullar kakor tårtor mm',\n",
       "       'Grönsaks- rotfrukts- baljväxträtter och produkter', 'Övrigt',\n",
       "       'Hård matfettsblandning', 'Bär färska frysta', 'Korv',\n",
       "       'Frukt färsk fryst', 'Vin', 'Smältost', 'Frukt o bär', 'Tacoskal',\n",
       "       'Hårt bröd', 'Tuggummi', 'Godis som innehåller choklad',\n",
       "       'Fågelprodukter o rätter', 'Övrigt fett (ister, talg, kokosfett)',\n",
       "       'Vegetabiliska produkter och mjölkersättning', 'Salt',\n",
       "       'Soja-  veteprotein o quorn', 'Soppa mat', 'Mjölk',\n",
       "       'Skaldjur bläckfisk färsk fryst kokt', 'Kaffe',\n",
       "       'Mjölkdryck chokladdryck milkshake smothie m yoghurt',\n",
       "       'Vatten mineralvatten', 'Saft läsk cider u alkohol', 'Glass',\n",
       "       'Rotfrukter', 'Dessertost', 'Fisk rökt',\n",
       "       'Frukt o nötblandningar bars', 'Smör', 'Blodmat', 'Potatis',\n",
       "       'Osträtter', 'Algprodukter', 'Köttprodukter kötträtter',\n",
       "       'Skaldjur bläckfisk konserverad', 'Potatisprodukter o rätter',\n",
       "       'Deg och gräddade skal och bottnar', 'Mjöl stärkelse kli',\n",
       "       'Buljong', 'Öl', 'Sportdrycker energidrycker', 'Korvrätter',\n",
       "       'Välling', 'Äggprodukter o rätter', 'Sockerfritt godis', 'Sylta',\n",
       "       'Ägg', 'Kött processat', 'Mesvaror', 'Svamp',\n",
       "       'Grönsaksjuice rotfruktsjuice',\n",
       "       'Fisk o skaldjursprodukter o rätter',\n",
       "       'Övriga sötade drycker vattenchoklad',\n",
       "       'Sylt marmelad gelé äppelmos o dyl', 'Pasta', 'Kakaoprodukter',\n",
       "       'Nötter frön', 'Risrätter', 'Efterrätter', 'Mjukt bröd',\n",
       "       'Smaksatt fil yoghurt', 'Fisk stekt ej panerad', 'Hård ost m.m.',\n",
       "       'Choklad', 'Olja', 'Rom, kaviar', 'Färskost o kvarg', 'Pastarätter',\n",
       "       'Socker sirap honung', 'Cider alkoläsk drink', 'Dryck',\n",
       "       'Flytande matfettsblandning', 'Fågel', 'Frukt o bär torkade',\n",
       "       'Ost med vegetabilskt fett', 'Pannkakor, våfflor, crêpes',\n",
       "       'Baljväxter (bönor, linser och ärter)', 'Sallad blandad mat'],\n",
       "      dtype='<U73')"
      ]
     },
     "execution_count": 11,
     "metadata": {},
     "output_type": "execute_result"
    }
   ],
   "source": [
    "label_types[:,0]"
   ]
  },
  {
   "cell_type": "code",
   "execution_count": 13,
   "metadata": {},
   "outputs": [
    {
     "name": "stdout",
     "output_type": "stream",
     "text": [
      "\n",
      "Grönsaksblandningar med rotfrukter och eller baljväxter\n",
      "Ättika vinäger\n",
      "Matgryn\n",
      "Chips popcorn o dyl\n",
      "Frukt o bär konserverade\n",
      "Te\n",
      "Blodprodukter o rätter\n",
      "Lightdrycker u energi\n",
      "Inälvor organ produkter o rätter\n",
      "Kött färskt fryst tillagat\n",
      "Fruktjuice mm\n",
      "Senap ketchup HP-sås soja *smaksättare*\n",
      "Sås dressing majonnäs\n",
      "Likör\n",
      "Godis ej choklad\n",
      "Kryddor\n",
      "Grädde creme fraiche\n",
      "Starksprit\n",
      "Jäst bakpulver\n",
      "Övrigt animaliskt *kött*, grodlår, sniglar, säl - färskt, fryst, tillagat\n",
      "Ris risnudlar\n",
      "Naturell fil yoghurt\n",
      "Hamburgare med  bröd (kött, fisk, fågel, vegetarisk)\n",
      "Grönsaker\n",
      "Pizza paj pirog färdig smörgås\n",
      "Riskakor\n",
      "Fisk färsk fryst kokt\n",
      "Gröt\n",
      "Sötningsmedel\n",
      "Kost- o näringspreparat\n",
      "Smörgåskex\n",
      "Sojaprotein veteprotein Quorn produkter och rätter\n",
      "Inälvor och organ\n",
      "Majonnässallad röror\n",
      "Gelatin agar agar\n",
      "Söta soppor kräm o efterrättssås\n",
      "Flingor - frukostflingor\n",
      "Bullar kakor tårtor mm\n",
      "Grönsaks- rotfrukts- baljväxträtter och produkter\n",
      "Övrigt\n",
      "Hård matfettsblandning\n",
      "Bär färska frysta\n",
      "Korv\n",
      "Frukt färsk fryst\n",
      "Vin\n",
      "Smältost\n",
      "Frukt o bär\n",
      "Tacoskal\n",
      "Hårt bröd\n",
      "Tuggummi\n",
      "Godis som innehåller choklad\n",
      "Fågelprodukter o rätter\n",
      "Övrigt fett (ister, talg, kokosfett)\n",
      "Vegetabiliska produkter och mjölkersättning\n",
      "Salt\n",
      "Soja-  veteprotein o quorn\n",
      "Soppa mat\n",
      "Mjölk\n",
      "Skaldjur bläckfisk färsk fryst kokt\n",
      "Kaffe\n",
      "Mjölkdryck chokladdryck milkshake smothie m yoghurt\n",
      "Vatten mineralvatten\n",
      "Saft läsk cider u alkohol\n",
      "Glass\n",
      "Rotfrukter\n",
      "Dessertost\n",
      "Fisk rökt\n",
      "Frukt o nötblandningar bars\n",
      "Smör\n",
      "Blodmat\n",
      "Potatis\n",
      "Osträtter\n",
      "Algprodukter\n",
      "Köttprodukter kötträtter\n",
      "Skaldjur bläckfisk konserverad\n",
      "Potatisprodukter o rätter\n",
      "Deg och gräddade skal och bottnar\n",
      "Mjöl stärkelse kli\n",
      "Buljong\n",
      "Öl\n",
      "Sportdrycker energidrycker\n",
      "Korvrätter\n",
      "Välling\n",
      "Äggprodukter o rätter\n",
      "Sockerfritt godis\n",
      "Sylta\n",
      "Ägg\n",
      "Kött processat\n",
      "Mesvaror\n",
      "Svamp\n",
      "Grönsaksjuice rotfruktsjuice\n",
      "Fisk o skaldjursprodukter o rätter\n",
      "Övriga sötade drycker vattenchoklad\n",
      "Sylt marmelad gelé äppelmos o dyl\n",
      "Pasta\n",
      "Kakaoprodukter\n",
      "Nötter frön\n",
      "Risrätter\n",
      "Efterrätter\n",
      "Mjukt bröd\n",
      "Smaksatt fil yoghurt\n",
      "Fisk stekt ej panerad\n",
      "Hård ost m.m.\n",
      "Choklad\n",
      "Olja\n",
      "Rom, kaviar\n",
      "Färskost o kvarg\n",
      "Pastarätter\n",
      "Socker sirap honung\n",
      "Cider alkoläsk drink\n",
      "Dryck\n",
      "Flytande matfettsblandning\n",
      "Fågel\n",
      "Frukt o bär torkade\n",
      "Ost med vegetabilskt fett\n",
      "Pannkakor, våfflor, crêpes\n",
      "Baljväxter (bönor, linser och ärter)\n",
      "Sallad blandad mat\n"
     ]
    }
   ],
   "source": [
    "for row in label_types:\n",
    "    print(row[0])\n",
    "    a = np.where(db_contents[:,60]==row[0]) # a blir index för alla livsmedel som tillhör den aktuella huvudgruppen\n",
    "    #print(a)\n",
    "    #print(dataset[a,0])\n",
    "    x=np.mean(dataset[a], axis=0) # blir medelvärdena för alla kolumner för den aktuella huvudgruppen\n",
    "    #print (x)\n",
    "    row[1:]=x # Sätt medelvärdena på plats i den stora matrisen som är label_types/huvudgrupper\n",
    "    #print('row',row)"
   ]
  },
  {
   "cell_type": "code",
   "execution_count": 13,
   "metadata": {},
   "outputs": [
    {
     "data": {
      "text/plain": [
       "array([['', 'Grönsaker', 'Baljväxter (bönor, linser och ärter)',\n",
       "        'Pastarätter', 'Te', 'Likör', 'Mjölk', 'Tacoskal', 'Smör',\n",
       "        'Cider alkoläsk drink', 'Mesvaror', 'Potatisprodukter o rätter',\n",
       "        'Sockerfritt godis', 'Färskost o kvarg', 'Kryddor',\n",
       "        'Sås dressing majonnäs', 'Potatis', 'Inälvor och organ', 'Välling',\n",
       "        'Kött processat', 'Skaldjur bläckfisk färsk fryst kokt',\n",
       "        'Pannkakor, våfflor, crêpes', 'Grönsaksjuice rotfruktsjuice',\n",
       "        'Övrigt', 'Inälvor organ produkter o rätter',\n",
       "        'Fisk stekt ej panerad', 'Rom, kaviar', 'Majonnässallad röror',\n",
       "        'Frukt o bär konserverade', 'Ättika vinäger',\n",
       "        'Bullar kakor tårtor mm', 'Olja', 'Gröt',\n",
       "        'Senap ketchup HP-sås soja *smaksättare*', 'Hård ost m.m.',\n",
       "        'Naturell fil yoghurt', 'Pizza paj pirog färdig smörgås', 'Ägg',\n",
       "        'Sportdrycker energidrycker', 'Riskakor', 'Buljong',\n",
       "        'Övrigt animaliskt *kött*, grodlår, sniglar, säl - färskt, fryst, tillagat',\n",
       "        'Hamburgare med  bröd (kött, fisk, fågel, vegetarisk)',\n",
       "        'Korvrätter', 'Soja-  veteprotein o quorn', 'Choklad',\n",
       "        'Skaldjur bläckfisk konserverad', 'Socker sirap honung',\n",
       "        'Sylt marmelad gelé äppelmos o dyl',\n",
       "        'Godis som innehåller choklad', 'Svamp', 'Ris risnudlar',\n",
       "        'Godis ej choklad', 'Övrigt fett (ister, talg, kokosfett)',\n",
       "        'Smaksatt fil yoghurt', 'Grädde creme fraiche', 'Glass', 'Blodmat',\n",
       "        'Fågelprodukter o rätter', 'Frukt o nötblandningar bars',\n",
       "        'Övriga sötade drycker vattenchoklad', 'Bär färska frysta',\n",
       "        'Grönsaksblandningar med rotfrukter och eller baljväxter',\n",
       "        'Lightdrycker u energi', 'Hårt bröd',\n",
       "        'Sojaprotein veteprotein Quorn produkter och rätter',\n",
       "        'Flytande matfettsblandning', 'Mjöl stärkelse kli',\n",
       "        'Fisk o skaldjursprodukter o rätter', 'Vatten mineralvatten',\n",
       "        'Vin', 'Risrätter', 'Kött färskt fryst tillagat', 'Tuggummi',\n",
       "        'Smörgåskex', 'Vegetabiliska produkter och mjölkersättning',\n",
       "        'Sötningsmedel', 'Hård matfettsblandning',\n",
       "        'Flingor - frukostflingor', 'Soppa mat', 'Mjukt bröd',\n",
       "        'Starksprit', 'Rotfrukter', 'Nötter frön', 'Öl',\n",
       "        'Frukt färsk fryst',\n",
       "        'Mjölkdryck chokladdryck milkshake smothie m yoghurt',\n",
       "        'Frukt o bär torkade', 'Fågel', 'Dryck', 'Kost- o näringspreparat',\n",
       "        'Fisk färsk fryst kokt', 'Ost med vegetabilskt fett',\n",
       "        'Söta soppor kräm o efterrättssås', 'Efterrätter', 'Korv',\n",
       "        'Chips popcorn o dyl', 'Kakaoprodukter', 'Blodprodukter o rätter',\n",
       "        'Dessertost', 'Osträtter',\n",
       "        'Grönsaks- rotfrukts- baljväxträtter och produkter',\n",
       "        'Äggprodukter o rätter', 'Köttprodukter kötträtter', 'Kaffe',\n",
       "        'Gelatin agar agar', 'Smältost', 'Sylta', 'Fisk rökt',\n",
       "        'Saft läsk cider u alkohol', 'Matgryn', 'Algprodukter',\n",
       "        'Deg och gräddade skal och bottnar', 'Fruktjuice mm',\n",
       "        'Sallad blandad mat', 'Frukt o bär', 'Salt', 'Jäst bakpulver',\n",
       "        'Pasta'],\n",
       "       ['216.54285714285717', '42.342553191489365', '130.35098039215683',\n",
       "        '124.65833333333335', '78.3', '272.9666666666667',\n",
       "        '121.01818181818182', '428.3', '727.9333333333334',\n",
       "        '59.03333333333333', '286.4666666666667', '154.66363636363636',\n",
       "        '401.8', '189.48', '372.6', '224.60632911392392', '91.4',\n",
       "        '169.96060606060607', '214.5833333333333', '194.36800000000002',\n",
       "        '83.89999999999999', '189.25384615384613', '23.250000000000004',\n",
       "        '0.0', '165.69333333333333', '194.14285714285714',\n",
       "        '202.29999999999998', '223.48333333333332', '77.17647058823529',\n",
       "        '36.333333333333336', '402.09302325581405', '876.3533333333331',\n",
       "        '81.71875', '122.98181818181818', '314.93636363636364',\n",
       "        '60.59090909090909', '235.4804347826087', '181.60000000000002',\n",
       "        '34.15', '427.75', '152.01666666666665', '69.3', '252.9',\n",
       "        '171.39999999999998', '168.16666666666666', '562.5142857142856',\n",
       "        '81.36666666666666', '365.2', '178.67222222222222',\n",
       "        '483.8933333333333', '26.855555555555554', '244.72',\n",
       "        '377.37272727272733', '796.9749999999999', '91.90909090909089',\n",
       "        '204.24347826086955', '208.29200000000003', '71.4', '222.34',\n",
       "        '406.15', '53.925000000000004', '59.10416666666668',\n",
       "        '54.94444444444445', '2.625', '363.7142857142857',\n",
       "        '201.16666666666666', '713.3714285714285', '345.0655172413793',\n",
       "        '187.2623188405797', '56.22', '92.76000000000002', '24.3',\n",
       "        '152.56220472440944', '365.3', '479.27142857142866',\n",
       "        '88.1846153846154', '406.3', '502.23076923076934',\n",
       "        '392.84285714285716', '49.51914893617022', '267.62380952380954',\n",
       "        '226.28571428571428', '45.48571428571428', '551.7047619047619',\n",
       "        '32.825', '58.36904761904763', '74.94000000000001',\n",
       "        '273.7357142857143', '181.45641025641027', '26.1',\n",
       "        '153.60000000000002', '147.37647058823535', '238.0',\n",
       "        '128.8923076923077', '197.93548387096772', '248.20333333333338',\n",
       "        '462.790909090909', '398.1', '218.1875', '329.0625',\n",
       "        '211.13333333333335', '107.57454545454543', '168.96666666666667',\n",
       "        '153.03749999999997', '63.31999999999999', '332.1', '192.875',\n",
       "        '182.76666666666665', '235.2846153846154', '75.8736842105263',\n",
       "        '177.92142857142852', '259.2', '396.3', '49.75',\n",
       "        '110.18000000000002', '67.4', '32.075', '214.5',\n",
       "        '225.41904761904763'],\n",
       "       ['11.528571428571428', '5.175638297872339', '15.542549019607845',\n",
       "        '14.828333333333333', '15.7', '28.233333333333334',\n",
       "        '15.505454545454548', '64.3', '0.48666666666666664',\n",
       "        '6.696666666666666', '40.77', '18.38454545454545', '98.9',\n",
       "        '2.9066666666666667', '72.6', '8.740632911392405',\n",
       "        '18.006451612903227', '2.526060606060606', '28.617500000000003',\n",
       "        '0.24239999999999998', '0.4571428571428572', '16.88153846153846',\n",
       "        '4.05', '0.0', '9.129333333333333', '0.42857142857142855',\n",
       "        '11.183333333333332', '6.168333333333333', '17.5764705882353',\n",
       "        '8.666666666666666', '52.30441860465117', '0.09000000000000001',\n",
       "        '13.276874999999999', '19.94545454545454', '1.6818181818181819',\n",
       "        '4.86', '21.385652173913048', '0.40888888888888886', '8.4', '71.6',\n",
       "        '14.792777777777777', '0.0', '22.144', '10.748888888888889', '6.8',\n",
       "        '54.214285714285715', '1.3333333333333333', '89.83333333333333',\n",
       "        '42.62555555555556', '64.99333333333334', '2.1433333333333335',\n",
       "        '53.224399999999996', '85.44545454545455', '0.0',\n",
       "        '13.245454545454544', '7.39391304347826', '24.436', '0.2', '8.198',\n",
       "        '73.75', '4.16', '11.01625', '7.802222222222222', '0.6125',\n",
       "        '65.19285714285715', '6.560000000000001', '0.21428571428571427',\n",
       "        '61.35793103448277', '9.551159420289855', '7.902', '7.12', '1.96',\n",
       "        '0.08181102362204723', '89.4', '61.828571428571436',\n",
       "        '8.038461538461537', '100.0', '1.669230769230769',\n",
       "        '70.57857142857145', '4.687446808510638', '47.28904761904762',\n",
       "        '4.028571428571429', '7.793809523809524', '16.388095238095236',\n",
       "        '3.3', '11.59928571428571', '10.41', '58.771428571428565',\n",
       "        '0.5435897435897435', '3.5', '23.5', '0.7176470588235294',\n",
       "        '1.1666666666666667', '23.51807692307692', '21.031935483870967',\n",
       "        '5.9513333333333325', '56.145454545454534', '49.15',\n",
       "        '22.084999999999997', '1.1375', '7.993333333333333',\n",
       "        '8.765636363636363', '3.6983333333333337', '5.576125',\n",
       "        '9.053999999999998', '37.15', '2.7624999999999997',\n",
       "        '0.13333333333333333', '0.0', '18.610526315789468',\n",
       "        '33.48571428571429', '54.8', '44.796666666666674',\n",
       "        '11.436363636363637', '3.425', '7.300000000000001', '5.725',\n",
       "        '34.86666666666667', '45.50761904761905'],\n",
       "       ['9.6', '1.0751063829787237', '1.76', '4.495', '0.1', '0.0',\n",
       "        '3.3681818181818173', '14.7', '81.86666666666667',\n",
       "        '0.8966666666666666', '10.348333333333334', '6.801212121212122',\n",
       "        '0.0', '14.814', '3.55', '19.869367088607593',\n",
       "        '0.6806451612903234', '10.297272727272727', '6.406666666666666',\n",
       "        '11.927599999999998', '1.4157142857142857', '10.454615384615382',\n",
       "        '0.175', '0.0', '8.654666666666667', '11.835714285714285',\n",
       "        '10.365', '19.714999999999996', '0.12352941176470592', '0.0',\n",
       "        '18.317906976744187', '99.00933333333334', '1.625',\n",
       "        '2.7036363636363636', '21.554545454545455', '3.019090909090909',\n",
       "        '12.246304347826083', '14.331111111111113', '0.0', '11.225',\n",
       "        '4.7877777777777775', '0.3', '12.14', '11.183333333333334',\n",
       "        '6.016666666666667', '35.10857142857143', '1.6333333333333335',\n",
       "        '0.0', '0.14388888888888887', '21.740000000000002',\n",
       "        '0.4766666666666667', '0.6603999999999999', '1.9363636363636365',\n",
       "        '89.0', '2.5281818181818183', '18.380869565217395', '10.8408',\n",
       "        '0.4', '13.288', '7.77', '3.2825', '0.4341666666666666',\n",
       "        '0.668888888888889', '0.0', '3.8789285714285717',\n",
       "        '13.326666666666666', '80.57142857142857', '3.6482758620689655',\n",
       "        '10.500434782608693', '1.6273333333333333', '0.0', '0.99',\n",
       "        '7.359921259842519', '0.0', '21.062857142857144',\n",
       "        '5.523076923076923', '0.0', '55.82051282051282',\n",
       "        '6.492142857142857', '2.027446808510638', '4.093809523809524',\n",
       "        '0.0', '0.2857142857142857', '45.62666666666667', '0.0',\n",
       "        '0.36595238095238103', '2.112', '0.7357142857142858',\n",
       "        '9.969230769230771', '1.3', '2.4400000000000004',\n",
       "        '7.511617647058823', '16.733333333333334', '3.0580769230769227',\n",
       "        '10.269032258064518', '19.69666666666666', '20.549999999999997',\n",
       "        '12.2', '9.15625', '27.34375', '14.083333333333334',\n",
       "        '5.867272727272726', '12.935', '9.1675', '0.376', '0.2',\n",
       "        '13.356250000000001', '14.266666666666667', '17.077692307692306',\n",
       "        '0.0', '1.0850000000000002', '0.5', '20.833333333333332',\n",
       "        '0.08181818181818185', '7.623', '2.57', '0.125',\n",
       "        '0.6666666666666666', '1.3538095238095242'],\n",
       "       ['14.385714285714286', '1.881170212765958', '9.466666666666669',\n",
       "        '5.2675', '2.925', '0.0', '6.924545454545453', '5.19', '0.5',\n",
       "        '0.04666666666666667', '7.21', '3.852424242424242', '0.0',\n",
       "        '11.402', '5.63', '3.0449367088607597', '1.9664516129032261',\n",
       "        '16.82757575757575', '9.260833333333334', '21.6376',\n",
       "        '17.154285714285713', '6.5576923076923075', '0.9', '0.0',\n",
       "        '12.324000000000002', '21.264285714285716', '16.05', '5.555',\n",
       "        '0.42941176470588244', '0.26666666666666666', '5.7123255813953495',\n",
       "        '0.10733333333333334', '2.6131249999999997', '3.910909090909091',\n",
       "        '28.91909090909091', '3.48', '8.961739130434784',\n",
       "        '13.104444444444445', '0.0', '7.43', '12.156111111111112', '16.4',\n",
       "        '13.290000000000001', '6.628888888888889', '19.586666666666666',\n",
       "        '7.7557142857142845', '15.133333333333333', '0.049999999999999996',\n",
       "        '0.32055555555555565', '5.865333333333334', '2.2588888888888885',\n",
       "        '5.001200000000001', '3.1681818181818175', '2.45',\n",
       "        '3.805454545454545', '2.799565217391305', '3.1039999999999996',\n",
       "        '16.5', '17.332', '7.75', '1.78', '0.8183333333333332',\n",
       "        '2.7722222222222217', '0.0125', '10.292857142857143',\n",
       "        '11.896666666666667', '0.14285714285714285', '11.31',\n",
       "        '13.42666666666666', '2.09', '0.01', '1.82', '21.436929133858275',\n",
       "        '0.5', '8.245714285714286', '1.3246153846153845', '0.0',\n",
       "        '0.5002564102564103', '8.335357142857143', '2.379574468085107',\n",
       "        '7.412619047619048', '0.0', '1.3919047619047618',\n",
       "        '15.94190476190476', '0.2625', '0.7402380952380951',\n",
       "        '3.3879999999999995', '2.891428571428571', '22.420256410256407',\n",
       "        '0.0', '7.625', '18.95911764705883', '20.599999999999998',\n",
       "        '0.9657692307692307', '4.881935483870967', '12.146333333333336',\n",
       "        '9.07909090909091', '14.28', '10.42125', '20.338749999999997',\n",
       "        '13.073333333333332', '3.518363636363635', '9.651666666666666',\n",
       "        '11.73325', '3.9840000000000004', '44.15', '15.64125',\n",
       "        '13.799999999999999', '20.740000000000002', '0.06315789473684211',\n",
       "        '6.041428571428571', '7.9', '6.596666666666667',\n",
       "        '0.4777272727272727', '6.5760000000000005', '0.7', '1.9',\n",
       "        '16.400000000000002', '5.967142857142856']],\n",
       "      dtype='<U73')"
      ]
     },
     "execution_count": 13,
     "metadata": {},
     "output_type": "execute_result"
    }
   ],
   "source": [
    "label_types.T"
   ]
  },
  {
   "cell_type": "markdown",
   "metadata": {},
   "source": [
    "Nu är det dags att ta varje livsmedel och se vilken huvudgrupp det hamnar i:"
   ]
  },
  {
   "cell_type": "code",
   "execution_count": 14,
   "metadata": {},
   "outputs": [
    {
     "data": {
      "text/plain": [
       "array(['Vitt bröd tortilla fibrer 4,6%', '203', 306.5, 1282.6, 50.6, 6.8,\n",
       "       7.88, 4.6, 27.6, 0.0, 2.5, 0.0, 1.72, 0.49, 0.0, '', 2.54, 0.0,\n",
       "       0.01, 0.05, 2.12, 0.32, 0.02, 2.36, 0.01, 2.33, 0.96, 0.92, 0.0,\n",
       "       0.0, 0.0, 0.0, 0.0, 0.0, 3.0, 0.2, 2.0, 0.63, 1.2, 1.2, 0.12, 0.03,\n",
       "       0.0, 0.9, 1.7, 0.08, 0.0, 17.1, 211.0, 6.0, 0.66, 48.0, 137.0, 18.0,\n",
       "       685.0, 1.71, 5.0, '0.56', 0.0, 117.0, 'Mjukt bröd', 12, 'test'], dtype=object)"
      ]
     },
     "execution_count": 14,
     "metadata": {},
     "output_type": "execute_result"
    }
   ],
   "source": [
    "ett_livsmedel = db_contents[169]\n",
    "ett_livsmedel"
   ]
  },
  {
   "cell_type": "code",
   "execution_count": 15,
   "metadata": {},
   "outputs": [
    {
     "data": {
      "text/plain": [
       "(1, 4)"
      ]
     },
     "execution_count": 15,
     "metadata": {},
     "output_type": "execute_result"
    }
   ],
   "source": [
    "np.array([ett_livsmedel[columns]]).shape"
   ]
  },
  {
   "cell_type": "code",
   "execution_count": 16,
   "metadata": {},
   "outputs": [
    {
     "data": {
      "text/plain": [
       "(119, 4)"
      ]
     },
     "execution_count": 16,
     "metadata": {},
     "output_type": "execute_result"
    }
   ],
   "source": [
    "label_types[:,1:].shape"
   ]
  },
  {
   "cell_type": "code",
   "execution_count": 17,
   "metadata": {
    "collapsed": true
   },
   "outputs": [],
   "source": [
    "dist = distance.cdist([ett_livsmedel[columns]], label_types[:,1:], 'euclidean') #https://docs.scipy.org/doc/scipy/reference/generated/scipy.spatial.distance.cdist.html"
   ]
  },
  {
   "cell_type": "code",
   "execution_count": 18,
   "metadata": {},
   "outputs": [
    {
     "data": {
      "text/plain": [
       "array([[  98.33121783,  268.16280448,  179.68144336,  185.3594941 ,\n",
       "         231.00366236,   41.63035698,  188.80630886,  122.85184614,\n",
       "         431.05320955,  251.52229373,   22.60537356,  155.26860018,\n",
       "         107.34670186,  126.66871407,   69.77703777,   93.02132088,\n",
       "         217.7217627 ,  145.07377356,   94.51965578,  123.79433404,\n",
       "         228.42957127,  122.06023083,  287.21085638,  310.82301137,\n",
       "         146.86566139,  123.87815513,  111.7621212 ,   95.06914745,\n",
       "         231.90498305,  273.59209613,   96.3238918 ,  579.52312906,\n",
       "         227.97839066,  186.14821539,   55.8972334 ,  250.19409239,\n",
       "          76.99408518,  134.91912425,  275.79647732,  123.13547671,\n",
       "         158.64927231,  242.77364025,   61.15952613,  140.92870519,\n",
       "         145.57544699,  257.60001594,  230.63288471,   71.36170783,\n",
       "         128.47171499,  178.61361997,  283.93774897,   62.20641489,\n",
       "          79.26541089,  499.91240285,  217.8978446 ,  111.72774743,\n",
       "         101.8258533 ,  240.6811883 ,   94.93297452,  102.30837111,\n",
       "         256.90540483,  250.72288006,  255.29498082,  308.13455395,\n",
       "          59.16739395,  114.42623694,  416.63553214,   40.30794544,\n",
       "         126.28179065,  254.01472041,  218.36546178,  286.48415192,\n",
       "         162.58239779,   71.15886733,  173.72279697,  222.52571832,\n",
       "         111.84245348,  207.7552057 ,   88.62581126,  261.15158874,\n",
       "          39.11345681,   93.33575945,  264.6608369 ,  250.73558591,\n",
       "         277.92006392,  251.36109169,  235.11151632,   34.66889196,\n",
       "         135.51017166,  284.49062269,  155.34443867,  167.12809457,\n",
       "          86.00217413,  179.83250957,  112.61237577,   74.67617017,\n",
       "         156.9971358 ,   91.99338291,   92.86663958,   59.43796285,\n",
       "         104.83390106,  203.32570988,  145.45088911,  159.99481497,\n",
       "         246.81780549,   46.85440641,  123.70241892,  133.9687267 ,\n",
       "          88.89882769,  233.06472702,  129.85141268,   47.90219619,\n",
       "          91.08402751,  259.91206306,  201.91434018,  243.13195039,\n",
       "         278.21423809,   93.92415001,   81.44552287]])"
      ]
     },
     "execution_count": 18,
     "metadata": {},
     "output_type": "execute_result"
    }
   ],
   "source": [
    "dist"
   ]
  },
  {
   "cell_type": "code",
   "execution_count": 19,
   "metadata": {
    "collapsed": true
   },
   "outputs": [],
   "source": [
    "order = np.argsort(dist)"
   ]
  },
  {
   "cell_type": "code",
   "execution_count": 20,
   "metadata": {},
   "outputs": [
    {
     "data": {
      "text/plain": [
       "array([[ 10,  87,  80,  67,   5, 105, 111,  34,  64,  99,  42,  51,  14,\n",
       "         73,  47,  95,  36,  52, 118,  92,  78, 108, 112,  97,  98,  15,\n",
       "         81, 117,  18,  58,  27,  30,   0,  56,  59, 100,  12,  55,  26,\n",
       "         76,  94,  65,  21,   7,  39, 106,  19,  25,  68,  13,  48, 110,\n",
       "        107,  37,  88,  43,  17, 102,  44,  24,  11,  90,  96,  40, 103,\n",
       "         72,  91,  74,  49,   2,  93,   3,  33,   6, 114, 101,  77,  16,\n",
       "         54,  70,  75,  32,  20,  46,   4,  28, 109,  86,  57,  41, 115,\n",
       "        104,  35,  61,  83,  85,   9,  69,  62,  60,  45, 113,  79,  82,\n",
       "          1,  29,  38,  84, 116,  50,  89,  71,  22,  63,  23,  66,   8,\n",
       "         53,  31]])"
      ]
     },
     "execution_count": 20,
     "metadata": {},
     "output_type": "execute_result"
    }
   ],
   "source": [
    "order"
   ]
  },
  {
   "cell_type": "code",
   "execution_count": 21,
   "metadata": {},
   "outputs": [
    {
     "data": {
      "text/plain": [
       "array([['Mesvaror', 'Frukt o bär torkade', 'Mjukt bröd',\n",
       "        'Mjöl stärkelse kli', 'Likör', 'Gelatin agar agar', 'Algprodukter',\n",
       "        'Hård ost m.m.', 'Hårt bröd', 'Dessertost',\n",
       "        'Hamburgare med  bröd (kött, fisk, fågel, vegetarisk)',\n",
       "        'Ris risnudlar', 'Kryddor', 'Tuggummi', 'Socker sirap honung',\n",
       "        'Korv', 'Pizza paj pirog färdig smörgås', 'Godis ej choklad',\n",
       "        'Pasta', 'Ost med vegetabilskt fett', 'Flingor - frukostflingor',\n",
       "        'Fisk rökt', 'Deg och gräddade skal och bottnar', 'Kakaoprodukter',\n",
       "        'Blodprodukter o rätter', 'Sås dressing majonnäs', 'Starksprit',\n",
       "        'Jäst bakpulver', 'Välling', 'Fågelprodukter o rätter',\n",
       "        'Majonnässallad röror', 'Bullar kakor tårtor mm', '', 'Glass',\n",
       "        'Frukt o nötblandningar bars', 'Osträtter', 'Sockerfritt godis',\n",
       "        'Grädde creme fraiche', 'Rom, kaviar', 'Sötningsmedel',\n",
       "        'Efterrätter',\n",
       "        'Sojaprotein veteprotein Quorn produkter och rätter',\n",
       "        'Pannkakor, våfflor, crêpes', 'Tacoskal', 'Riskakor', 'Smältost',\n",
       "        'Kött processat', 'Fisk stekt ej panerad',\n",
       "        'Fisk o skaldjursprodukter o rätter', 'Färskost o kvarg',\n",
       "        'Sylt marmelad gelé äppelmos o dyl', 'Matgryn', 'Sylta', 'Ägg',\n",
       "        'Fågel', 'Korvrätter', 'Inälvor och organ',\n",
       "        'Äggprodukter o rätter', 'Soja-  veteprotein o quorn',\n",
       "        'Inälvor organ produkter o rätter', 'Potatisprodukter o rätter',\n",
       "        'Kost- o näringspreparat', 'Chips popcorn o dyl', 'Buljong',\n",
       "        'Köttprodukter kötträtter', 'Kött färskt fryst tillagat',\n",
       "        'Fisk färsk fryst kokt', 'Smörgåskex',\n",
       "        'Godis som innehåller choklad',\n",
       "        'Baljväxter (bönor, linser och ärter)',\n",
       "        'Söta soppor kräm o efterrättssås', 'Pastarätter',\n",
       "        'Senap ketchup HP-sås soja *smaksättare*', 'Mjölk',\n",
       "        'Sallad blandad mat',\n",
       "        'Grönsaks- rotfrukts- baljväxträtter och produkter',\n",
       "        'Hård matfettsblandning', 'Potatis', 'Smaksatt fil yoghurt', 'Vin',\n",
       "        'Vegetabiliska produkter och mjölkersättning', 'Gröt',\n",
       "        'Skaldjur bläckfisk färsk fryst kokt',\n",
       "        'Skaldjur bläckfisk konserverad', 'Te', 'Frukt o bär konserverade',\n",
       "        'Saft läsk cider u alkohol',\n",
       "        'Mjölkdryck chokladdryck milkshake smothie m yoghurt', 'Blodmat',\n",
       "        'Övrigt animaliskt *kött*, grodlår, sniglar, säl - färskt, fryst, tillagat',\n",
       "        'Frukt o bär', 'Kaffe', 'Naturell fil yoghurt',\n",
       "        'Bär färska frysta', 'Nötter frön', 'Frukt färsk fryst',\n",
       "        'Cider alkoläsk drink', 'Vatten mineralvatten',\n",
       "        'Grönsaksblandningar med rotfrukter och eller baljväxter',\n",
       "        'Övriga sötade drycker vattenchoklad', 'Choklad', 'Fruktjuice mm',\n",
       "        'Soppa mat', 'Rotfrukter', 'Grönsaker', 'Ättika vinäger',\n",
       "        'Sportdrycker energidrycker', 'Öl', 'Salt', 'Svamp', 'Dryck',\n",
       "        'Risrätter', 'Grönsaksjuice rotfruktsjuice',\n",
       "        'Lightdrycker u energi', 'Övrigt', 'Flytande matfettsblandning',\n",
       "        'Smör', 'Övrigt fett (ister, talg, kokosfett)', 'Olja']],\n",
       "      dtype='<U73')"
      ]
     },
     "execution_count": 21,
     "metadata": {},
     "output_type": "execute_result"
    }
   ],
   "source": [
    "label_types[order,0]"
   ]
  },
  {
   "cell_type": "code",
   "execution_count": 22,
   "metadata": {},
   "outputs": [
    {
     "data": {
      "text/plain": [
       "3"
      ]
     },
     "execution_count": 22,
     "metadata": {},
     "output_type": "execute_result"
    }
   ],
   "source": [
    "np.where(label_types[order,0] == ett_livsmedel[60])[1][0]+1 # Vilken plats kom ursprungskategorin på?"
   ]
  },
  {
   "cell_type": "markdown",
   "metadata": {},
   "source": [
    "Dags att göra en funktion av det:"
   ]
  },
  {
   "cell_type": "code",
   "execution_count": 23,
   "metadata": {
    "collapsed": true
   },
   "outputs": [],
   "source": [
    "def predict_category (index):\n",
    "    ett_livsmedel = db_contents[index]\n",
    "    dist = distance.cdist([ett_livsmedel[columns]], label_types[:,1:], 'euclidean') #https://docs.scipy.org/doc/scipy/reference/generated/scipy.spatial.distance.cdist.html\n",
    "    order = np.argsort(dist)\n",
    "    closest = label_types[order,0]\n",
    "    orig_category_place = np.where(label_types[order,0] == ett_livsmedel[60])[1][0]+1\n",
    "    return ett_livsmedel[0], index, orig_category_place, closest[0][0], ett_livsmedel[60]"
   ]
  },
  {
   "cell_type": "code",
   "execution_count": 24,
   "metadata": {},
   "outputs": [
    {
     "data": {
      "text/plain": [
       "array(['Kastanjer', '1322', '114', 'Glass', 'Nötter frön',\n",
       "       'Kastanjer rostade', '1336', '114', 'Pasta', 'Nötter frön',\n",
       "       'Gräddtårta hembakad jordgubb banan', '1412', '102', 'Glass',\n",
       "       'Bullar kakor tårtor mm', 'Petits-choux u fyllning', '1421', '103',\n",
       "       'Efterrätter', 'Bullar kakor tårtor mm', 'Katrinplommonkaka',\n",
       "       '1488', '104', 'Matgryn', 'Bullar kakor tårtor mm',\n",
       "       'Lättmargarin fett 28% berikad typ Mini Lätta', '1858', '103',\n",
       "       'Korv', 'Hård matfettsblandning'],\n",
       "      dtype='<U44')"
      ]
     },
     "execution_count": 24,
     "metadata": {},
     "output_type": "execute_result"
    }
   ],
   "source": [
    "a = np.array([])\n",
    "for index, foodstuff in enumerate(db_contents):\n",
    "    if (predict_category (index))[2] > 100:\n",
    "        #print (predict_category (index))\n",
    "        a = np.append(a, list(predict_category (index)), axis=0)\n",
    "        #print ()\n",
    "a"
   ]
  },
  {
   "cell_type": "code",
   "execution_count": 25,
   "metadata": {
    "collapsed": true
   },
   "outputs": [],
   "source": [
    "a = a.reshape(int(len(a)/5),5)"
   ]
  },
  {
   "cell_type": "code",
   "execution_count": 26,
   "metadata": {},
   "outputs": [
    {
     "data": {
      "text/plain": [
       "(6, 5)"
      ]
     },
     "execution_count": 26,
     "metadata": {},
     "output_type": "execute_result"
    }
   ],
   "source": [
    "a.shape"
   ]
  },
  {
   "cell_type": "code",
   "execution_count": 27,
   "metadata": {},
   "outputs": [
    {
     "name": "stdout",
     "output_type": "stream",
     "text": [
      "['Kastanjer' '1322' '114' 'Glass' 'Nötter frön']\n",
      "['Kastanjer rostade' '1336' '114' 'Pasta' 'Nötter frön']\n",
      "['Gräddtårta hembakad jordgubb banan' '1412' '102' 'Glass'\n",
      " 'Bullar kakor tårtor mm']\n",
      "['Petits-choux u fyllning' '1421' '103' 'Efterrätter'\n",
      " 'Bullar kakor tårtor mm']\n",
      "['Katrinplommonkaka' '1488' '104' 'Matgryn' 'Bullar kakor tårtor mm']\n",
      "['Lättmargarin fett 28% berikad typ Mini Lätta' '1858' '103' 'Korv'\n",
      " 'Hård matfettsblandning']\n"
     ]
    }
   ],
   "source": [
    "for row in a:\n",
    "    print(row)"
   ]
  },
  {
   "cell_type": "code",
   "execution_count": null,
   "metadata": {
    "collapsed": true
   },
   "outputs": [],
   "source": []
  }
 ],
 "metadata": {
  "kernelspec": {
   "display_name": "Python 3",
   "language": "python",
   "name": "python3"
  },
  "language_info": {
   "codemirror_mode": {
    "name": "ipython",
    "version": 3
   },
   "file_extension": ".py",
   "mimetype": "text/x-python",
   "name": "python",
   "nbconvert_exporter": "python",
   "pygments_lexer": "ipython3",
   "version": "3.5.4"
  }
 },
 "nbformat": 4,
 "nbformat_minor": 2
}
