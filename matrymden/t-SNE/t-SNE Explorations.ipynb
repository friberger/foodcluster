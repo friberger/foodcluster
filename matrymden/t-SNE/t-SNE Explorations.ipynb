{
 "cells": [
  {
   "cell_type": "markdown",
   "metadata": {},
   "source": [
    "# t-SNE Explorations"
   ]
  },
  {
   "cell_type": "code",
   "execution_count": 192,
   "metadata": {
    "collapsed": true
   },
   "outputs": [],
   "source": [
    "%matplotlib notebook\n",
    "\n",
    "import matplotlib as mpl\n",
    "from mpl_toolkits.mplot3d import Axes3D\n",
    "import sqlite3\n",
    "import numpy as np\n",
    "import matplotlib.cm as cm\n",
    "import matplotlib.pyplot as plt\n",
    "import pandas as pd\n",
    "from   sklearn.decomposition import PCA\n",
    "from   sklearn.manifold import TSNE, Isomap, LocallyLinearEmbedding, MDS, SpectralEmbedding\n",
    "from   sklearn.preprocessing import StandardScaler\n",
    "\n",
    "np.set_printoptions(suppress=True)\n",
    "np.set_printoptions(precision=4)\n",
    "plt_style = 'seaborn-talk'\n",
    "\n",
    "# Experimental: HDBScan is a state-of-the-art clustering algorithm\n",
    "hdbscan_available = True\n",
    "try:\n",
    "    import hdbscan\n",
    "except ImportError:\n",
    "    hdbscan_available = False"
   ]
  },
  {
   "cell_type": "code",
   "execution_count": 193,
   "metadata": {
    "collapsed": true
   },
   "outputs": [],
   "source": [
    "conn = sqlite3.connect('../../livs.db')  # Create db and establish connection\n",
    "conn.row_factory = sqlite3.Row\n",
    "curs = conn.cursor()\n",
    "result = []\n",
    "rows = curs.execute('select * from livs where Huvudgrupp = \"Grönsaker\" OR Huvudgrupp = \"Sås dressing majonnäs\" OR Huvudgrupp = \"Gröt\"')\n",
    "for row in rows:\n",
    "        result.append(row)\n",
    "\n",
    "db_contents = np.array(result)\n",
    "\n",
    "conn.close()"
   ]
  },
  {
   "cell_type": "code",
   "execution_count": 194,
   "metadata": {},
   "outputs": [
    {
     "name": "stdout",
     "output_type": "stream",
     "text": [
      "(189, 3)\n",
      "(189, 1)\n"
     ]
    }
   ],
   "source": [
    "data = db_contents[0:2000,4:7]\n",
    "print(data.shape)\n",
    "labels = db_contents[0:2000,60].reshape(len(labels),1)\n",
    "print(labels.shape)\n",
    "data=np.hstack((data,labels))"
   ]
  },
  {
   "cell_type": "markdown",
   "metadata": {},
   "source": [
    "## Plotting function"
   ]
  },
  {
   "cell_type": "markdown",
   "metadata": {},
   "source": [
    "## Generate the data\n",
    "To create a simple test case, we generate some Gaussian point clouds in $\\mathbb{R}^3$. Then we see how they look embedded in $\\mathbb{R}^2$ and $\\mathbb{R}^3$ using various algorithms, including t-SNE.\n",
    "\n",
    "There's one point cloud centered at the origin and three on each of the three axes. They are well separated, as can be seen in the first visualization below."
   ]
  },
  {
   "cell_type": "code",
   "execution_count": 195,
   "metadata": {},
   "outputs": [
    {
     "ename": "ValueError",
     "evalue": "Shape of passed values is (4, 189), indices imply (3, 189)",
     "output_type": "error",
     "traceback": [
      "\u001b[0;31m---------------------------------------------------------------------------\u001b[0m",
      "\u001b[0;31mValueError\u001b[0m                                Traceback (most recent call last)",
      "\u001b[0;32m~/anaconda/envs/traffic_signs/lib/python3.5/site-packages/pandas/core/internals.py\u001b[0m in \u001b[0;36mcreate_block_manager_from_blocks\u001b[0;34m(blocks, axes)\u001b[0m\n\u001b[1;32m   4293\u001b[0m                 blocks = [make_block(values=blocks[0],\n\u001b[0;32m-> 4294\u001b[0;31m                                      placement=slice(0, len(axes[0])))]\n\u001b[0m\u001b[1;32m   4295\u001b[0m \u001b[0;34m\u001b[0m\u001b[0m\n",
      "\u001b[0;32m~/anaconda/envs/traffic_signs/lib/python3.5/site-packages/pandas/core/internals.py\u001b[0m in \u001b[0;36mmake_block\u001b[0;34m(values, placement, klass, ndim, dtype, fastpath)\u001b[0m\n\u001b[1;32m   2718\u001b[0m \u001b[0;34m\u001b[0m\u001b[0m\n\u001b[0;32m-> 2719\u001b[0;31m     \u001b[0;32mreturn\u001b[0m \u001b[0mklass\u001b[0m\u001b[0;34m(\u001b[0m\u001b[0mvalues\u001b[0m\u001b[0;34m,\u001b[0m \u001b[0mndim\u001b[0m\u001b[0;34m=\u001b[0m\u001b[0mndim\u001b[0m\u001b[0;34m,\u001b[0m \u001b[0mfastpath\u001b[0m\u001b[0;34m=\u001b[0m\u001b[0mfastpath\u001b[0m\u001b[0;34m,\u001b[0m \u001b[0mplacement\u001b[0m\u001b[0;34m=\u001b[0m\u001b[0mplacement\u001b[0m\u001b[0;34m)\u001b[0m\u001b[0;34m\u001b[0m\u001b[0m\n\u001b[0m\u001b[1;32m   2720\u001b[0m \u001b[0;34m\u001b[0m\u001b[0m\n",
      "\u001b[0;32m~/anaconda/envs/traffic_signs/lib/python3.5/site-packages/pandas/core/internals.py\u001b[0m in \u001b[0;36m__init__\u001b[0;34m(self, values, ndim, fastpath, placement, **kwargs)\u001b[0m\n\u001b[1;32m   1843\u001b[0m         super(ObjectBlock, self).__init__(values, ndim=ndim, fastpath=fastpath,\n\u001b[0;32m-> 1844\u001b[0;31m                                           placement=placement, **kwargs)\n\u001b[0m\u001b[1;32m   1845\u001b[0m \u001b[0;34m\u001b[0m\u001b[0m\n",
      "\u001b[0;32m~/anaconda/envs/traffic_signs/lib/python3.5/site-packages/pandas/core/internals.py\u001b[0m in \u001b[0;36m__init__\u001b[0;34m(self, values, placement, ndim, fastpath)\u001b[0m\n\u001b[1;32m    114\u001b[0m                              'implies %d' % (len(self.values),\n\u001b[0;32m--> 115\u001b[0;31m                                              len(self.mgr_locs)))\n\u001b[0m\u001b[1;32m    116\u001b[0m \u001b[0;34m\u001b[0m\u001b[0m\n",
      "\u001b[0;31mValueError\u001b[0m: Wrong number of items passed 4, placement implies 3",
      "\nDuring handling of the above exception, another exception occurred:\n",
      "\u001b[0;31mValueError\u001b[0m                                Traceback (most recent call last)",
      "\u001b[0;32m<ipython-input-195-cc2ad590ef68>\u001b[0m in \u001b[0;36m<module>\u001b[0;34m()\u001b[0m\n\u001b[0;32m----> 1\u001b[0;31m \u001b[0mdata_df\u001b[0m \u001b[0;34m=\u001b[0m \u001b[0mpd\u001b[0m\u001b[0;34m.\u001b[0m\u001b[0mDataFrame\u001b[0m\u001b[0;34m(\u001b[0m\u001b[0mdata\u001b[0m\u001b[0;34m,\u001b[0m \u001b[0mcolumns\u001b[0m\u001b[0;34m=\u001b[0m\u001b[0;34m(\u001b[0m\u001b[0;34m'x'\u001b[0m\u001b[0;34m,\u001b[0m\u001b[0;34m'y'\u001b[0m\u001b[0;34m,\u001b[0m\u001b[0;34m'z'\u001b[0m\u001b[0;34m)\u001b[0m\u001b[0;34m)\u001b[0m\u001b[0;34m\u001b[0m\u001b[0m\n\u001b[0m\u001b[1;32m      2\u001b[0m \u001b[0mdata_df\u001b[0m\u001b[0;34m[\u001b[0m\u001b[0;34m'label'\u001b[0m\u001b[0;34m]\u001b[0m \u001b[0;34m=\u001b[0m \u001b[0mlabels\u001b[0m\u001b[0;34m\u001b[0m\u001b[0m\n\u001b[1;32m      3\u001b[0m \u001b[0mdata_df\u001b[0m\u001b[0;34m.\u001b[0m\u001b[0mhead\u001b[0m\u001b[0;34m(\u001b[0m\u001b[0;34m)\u001b[0m\u001b[0;34m\u001b[0m\u001b[0m\n",
      "\u001b[0;32m~/anaconda/envs/traffic_signs/lib/python3.5/site-packages/pandas/core/frame.py\u001b[0m in \u001b[0;36m__init__\u001b[0;34m(self, data, index, columns, dtype, copy)\u001b[0m\n\u001b[1;32m    304\u001b[0m             \u001b[0;32melse\u001b[0m\u001b[0;34m:\u001b[0m\u001b[0;34m\u001b[0m\u001b[0m\n\u001b[1;32m    305\u001b[0m                 mgr = self._init_ndarray(data, index, columns, dtype=dtype,\n\u001b[0;32m--> 306\u001b[0;31m                                          copy=copy)\n\u001b[0m\u001b[1;32m    307\u001b[0m         \u001b[0;32melif\u001b[0m \u001b[0misinstance\u001b[0m\u001b[0;34m(\u001b[0m\u001b[0mdata\u001b[0m\u001b[0;34m,\u001b[0m \u001b[0;34m(\u001b[0m\u001b[0mlist\u001b[0m\u001b[0;34m,\u001b[0m \u001b[0mtypes\u001b[0m\u001b[0;34m.\u001b[0m\u001b[0mGeneratorType\u001b[0m\u001b[0;34m)\u001b[0m\u001b[0;34m)\u001b[0m\u001b[0;34m:\u001b[0m\u001b[0;34m\u001b[0m\u001b[0m\n\u001b[1;32m    308\u001b[0m             \u001b[0;32mif\u001b[0m \u001b[0misinstance\u001b[0m\u001b[0;34m(\u001b[0m\u001b[0mdata\u001b[0m\u001b[0;34m,\u001b[0m \u001b[0mtypes\u001b[0m\u001b[0;34m.\u001b[0m\u001b[0mGeneratorType\u001b[0m\u001b[0;34m)\u001b[0m\u001b[0;34m:\u001b[0m\u001b[0;34m\u001b[0m\u001b[0m\n",
      "\u001b[0;32m~/anaconda/envs/traffic_signs/lib/python3.5/site-packages/pandas/core/frame.py\u001b[0m in \u001b[0;36m_init_ndarray\u001b[0;34m(self, values, index, columns, dtype, copy)\u001b[0m\n\u001b[1;32m    481\u001b[0m             \u001b[0mvalues\u001b[0m \u001b[0;34m=\u001b[0m \u001b[0mmaybe_infer_to_datetimelike\u001b[0m\u001b[0;34m(\u001b[0m\u001b[0mvalues\u001b[0m\u001b[0;34m)\u001b[0m\u001b[0;34m\u001b[0m\u001b[0m\n\u001b[1;32m    482\u001b[0m \u001b[0;34m\u001b[0m\u001b[0m\n\u001b[0;32m--> 483\u001b[0;31m         \u001b[0;32mreturn\u001b[0m \u001b[0mcreate_block_manager_from_blocks\u001b[0m\u001b[0;34m(\u001b[0m\u001b[0;34m[\u001b[0m\u001b[0mvalues\u001b[0m\u001b[0;34m]\u001b[0m\u001b[0;34m,\u001b[0m \u001b[0;34m[\u001b[0m\u001b[0mcolumns\u001b[0m\u001b[0;34m,\u001b[0m \u001b[0mindex\u001b[0m\u001b[0;34m]\u001b[0m\u001b[0;34m)\u001b[0m\u001b[0;34m\u001b[0m\u001b[0m\n\u001b[0m\u001b[1;32m    484\u001b[0m \u001b[0;34m\u001b[0m\u001b[0m\n\u001b[1;32m    485\u001b[0m     \u001b[0;34m@\u001b[0m\u001b[0mproperty\u001b[0m\u001b[0;34m\u001b[0m\u001b[0m\n",
      "\u001b[0;32m~/anaconda/envs/traffic_signs/lib/python3.5/site-packages/pandas/core/internals.py\u001b[0m in \u001b[0;36mcreate_block_manager_from_blocks\u001b[0;34m(blocks, axes)\u001b[0m\n\u001b[1;32m   4301\u001b[0m         \u001b[0mblocks\u001b[0m \u001b[0;34m=\u001b[0m \u001b[0;34m[\u001b[0m\u001b[0mgetattr\u001b[0m\u001b[0;34m(\u001b[0m\u001b[0mb\u001b[0m\u001b[0;34m,\u001b[0m \u001b[0;34m'values'\u001b[0m\u001b[0;34m,\u001b[0m \u001b[0mb\u001b[0m\u001b[0;34m)\u001b[0m \u001b[0;32mfor\u001b[0m \u001b[0mb\u001b[0m \u001b[0;32min\u001b[0m \u001b[0mblocks\u001b[0m\u001b[0;34m]\u001b[0m\u001b[0;34m\u001b[0m\u001b[0m\n\u001b[1;32m   4302\u001b[0m         \u001b[0mtot_items\u001b[0m \u001b[0;34m=\u001b[0m \u001b[0msum\u001b[0m\u001b[0;34m(\u001b[0m\u001b[0mb\u001b[0m\u001b[0;34m.\u001b[0m\u001b[0mshape\u001b[0m\u001b[0;34m[\u001b[0m\u001b[0;36m0\u001b[0m\u001b[0;34m]\u001b[0m \u001b[0;32mfor\u001b[0m \u001b[0mb\u001b[0m \u001b[0;32min\u001b[0m \u001b[0mblocks\u001b[0m\u001b[0;34m)\u001b[0m\u001b[0;34m\u001b[0m\u001b[0m\n\u001b[0;32m-> 4303\u001b[0;31m         \u001b[0mconstruction_error\u001b[0m\u001b[0;34m(\u001b[0m\u001b[0mtot_items\u001b[0m\u001b[0;34m,\u001b[0m \u001b[0mblocks\u001b[0m\u001b[0;34m[\u001b[0m\u001b[0;36m0\u001b[0m\u001b[0;34m]\u001b[0m\u001b[0;34m.\u001b[0m\u001b[0mshape\u001b[0m\u001b[0;34m[\u001b[0m\u001b[0;36m1\u001b[0m\u001b[0;34m:\u001b[0m\u001b[0;34m]\u001b[0m\u001b[0;34m,\u001b[0m \u001b[0maxes\u001b[0m\u001b[0;34m,\u001b[0m \u001b[0me\u001b[0m\u001b[0;34m)\u001b[0m\u001b[0;34m\u001b[0m\u001b[0m\n\u001b[0m\u001b[1;32m   4304\u001b[0m \u001b[0;34m\u001b[0m\u001b[0m\n\u001b[1;32m   4305\u001b[0m \u001b[0;34m\u001b[0m\u001b[0m\n",
      "\u001b[0;32m~/anaconda/envs/traffic_signs/lib/python3.5/site-packages/pandas/core/internals.py\u001b[0m in \u001b[0;36mconstruction_error\u001b[0;34m(tot_items, block_shape, axes, e)\u001b[0m\n\u001b[1;32m   4278\u001b[0m         \u001b[0;32mraise\u001b[0m \u001b[0mValueError\u001b[0m\u001b[0;34m(\u001b[0m\u001b[0;34m\"Empty data passed with indices specified.\"\u001b[0m\u001b[0;34m)\u001b[0m\u001b[0;34m\u001b[0m\u001b[0m\n\u001b[1;32m   4279\u001b[0m     raise ValueError(\"Shape of passed values is {0}, indices imply {1}\".format(\n\u001b[0;32m-> 4280\u001b[0;31m         passed, implied))\n\u001b[0m\u001b[1;32m   4281\u001b[0m \u001b[0;34m\u001b[0m\u001b[0m\n\u001b[1;32m   4282\u001b[0m \u001b[0;34m\u001b[0m\u001b[0m\n",
      "\u001b[0;31mValueError\u001b[0m: Shape of passed values is (4, 189), indices imply (3, 189)"
     ]
    }
   ],
   "source": [
    "data_df = pd.DataFrame(data, columns=('x','y','z'))\n",
    "data_df['label'] = labels\n",
    "data_df.head()"
   ]
  },
  {
   "cell_type": "code",
   "execution_count": 196,
   "metadata": {},
   "outputs": [
    {
     "data": {
      "text/plain": [
       "(189, 4)"
      ]
     },
     "execution_count": 196,
     "metadata": {},
     "output_type": "execute_result"
    }
   ],
   "source": [
    "data.shape"
   ]
  },
  {
   "cell_type": "code",
   "execution_count": 197,
   "metadata": {},
   "outputs": [
    {
     "data": {
      "text/plain": [
       "array([['Sås dressing majonnäs'],\n",
       "       ['Sås dressing majonnäs'],\n",
       "       ['Sås dressing majonnäs'],\n",
       "       ['Sås dressing majonnäs'],\n",
       "       ['Sås dressing majonnäs'],\n",
       "       ['Sås dressing majonnäs'],\n",
       "       ['Sås dressing majonnäs'],\n",
       "       ['Sås dressing majonnäs'],\n",
       "       ['Sås dressing majonnäs'],\n",
       "       ['Sås dressing majonnäs'],\n",
       "       ['Sås dressing majonnäs'],\n",
       "       ['Sås dressing majonnäs'],\n",
       "       ['Sås dressing majonnäs'],\n",
       "       ['Sås dressing majonnäs'],\n",
       "       ['Sås dressing majonnäs'],\n",
       "       ['Sås dressing majonnäs'],\n",
       "       ['Sås dressing majonnäs'],\n",
       "       ['Sås dressing majonnäs'],\n",
       "       ['Sås dressing majonnäs'],\n",
       "       ['Sås dressing majonnäs'],\n",
       "       ['Sås dressing majonnäs'],\n",
       "       ['Sås dressing majonnäs'],\n",
       "       ['Grönsaker'],\n",
       "       ['Grönsaker'],\n",
       "       ['Grönsaker'],\n",
       "       ['Grönsaker'],\n",
       "       ['Grönsaker'],\n",
       "       ['Grönsaker'],\n",
       "       ['Grönsaker'],\n",
       "       ['Grönsaker'],\n",
       "       ['Grönsaker'],\n",
       "       ['Grönsaker'],\n",
       "       ['Grönsaker'],\n",
       "       ['Grönsaker'],\n",
       "       ['Grönsaker'],\n",
       "       ['Grönsaker'],\n",
       "       ['Grönsaker'],\n",
       "       ['Grönsaker'],\n",
       "       ['Grönsaker'],\n",
       "       ['Grönsaker'],\n",
       "       ['Grönsaker'],\n",
       "       ['Grönsaker'],\n",
       "       ['Grönsaker'],\n",
       "       ['Grönsaker'],\n",
       "       ['Grönsaker'],\n",
       "       ['Grönsaker'],\n",
       "       ['Grönsaker'],\n",
       "       ['Grönsaker'],\n",
       "       ['Grönsaker'],\n",
       "       ['Grönsaker'],\n",
       "       ['Grönsaker'],\n",
       "       ['Grönsaker'],\n",
       "       ['Grönsaker'],\n",
       "       ['Grönsaker'],\n",
       "       ['Grönsaker'],\n",
       "       ['Grönsaker'],\n",
       "       ['Grönsaker'],\n",
       "       ['Grönsaker'],\n",
       "       ['Grönsaker'],\n",
       "       ['Grönsaker'],\n",
       "       ['Grönsaker'],\n",
       "       ['Grönsaker'],\n",
       "       ['Grönsaker'],\n",
       "       ['Grönsaker'],\n",
       "       ['Grönsaker'],\n",
       "       ['Grönsaker'],\n",
       "       ['Grönsaker'],\n",
       "       ['Grönsaker'],\n",
       "       ['Grönsaker'],\n",
       "       ['Grönsaker'],\n",
       "       ['Grönsaker'],\n",
       "       ['Grönsaker'],\n",
       "       ['Grönsaker'],\n",
       "       ['Grönsaker'],\n",
       "       ['Grönsaker'],\n",
       "       ['Grönsaker'],\n",
       "       ['Grönsaker'],\n",
       "       ['Grönsaker'],\n",
       "       ['Grönsaker'],\n",
       "       ['Grönsaker'],\n",
       "       ['Grönsaker'],\n",
       "       ['Grönsaker'],\n",
       "       ['Grönsaker'],\n",
       "       ['Grönsaker'],\n",
       "       ['Grönsaker'],\n",
       "       ['Grönsaker'],\n",
       "       ['Grönsaker'],\n",
       "       ['Grönsaker'],\n",
       "       ['Sås dressing majonnäs'],\n",
       "       ['Grönsaker'],\n",
       "       ['Grönsaker'],\n",
       "       ['Grönsaker'],\n",
       "       ['Grönsaker'],\n",
       "       ['Sås dressing majonnäs'],\n",
       "       ['Sås dressing majonnäs'],\n",
       "       ['Sås dressing majonnäs'],\n",
       "       ['Grönsaker'],\n",
       "       ['Grönsaker'],\n",
       "       ['Grönsaker'],\n",
       "       ['Grönsaker'],\n",
       "       ['Grönsaker'],\n",
       "       ['Grönsaker'],\n",
       "       ['Grönsaker'],\n",
       "       ['Grönsaker'],\n",
       "       ['Grönsaker'],\n",
       "       ['Grönsaker'],\n",
       "       ['Sås dressing majonnäs'],\n",
       "       ['Gröt'],\n",
       "       ['Gröt'],\n",
       "       ['Gröt'],\n",
       "       ['Gröt'],\n",
       "       ['Gröt'],\n",
       "       ['Gröt'],\n",
       "       ['Gröt'],\n",
       "       ['Gröt'],\n",
       "       ['Gröt'],\n",
       "       ['Gröt'],\n",
       "       ['Gröt'],\n",
       "       ['Sås dressing majonnäs'],\n",
       "       ['Grönsaker'],\n",
       "       ['Gröt'],\n",
       "       ['Gröt'],\n",
       "       ['Sås dressing majonnäs'],\n",
       "       ['Sås dressing majonnäs'],\n",
       "       ['Sås dressing majonnäs'],\n",
       "       ['Sås dressing majonnäs'],\n",
       "       ['Sås dressing majonnäs'],\n",
       "       ['Sås dressing majonnäs'],\n",
       "       ['Sås dressing majonnäs'],\n",
       "       ['Sås dressing majonnäs'],\n",
       "       ['Sås dressing majonnäs'],\n",
       "       ['Sås dressing majonnäs'],\n",
       "       ['Sås dressing majonnäs'],\n",
       "       ['Sås dressing majonnäs'],\n",
       "       ['Sås dressing majonnäs'],\n",
       "       ['Sås dressing majonnäs'],\n",
       "       ['Sås dressing majonnäs'],\n",
       "       ['Sås dressing majonnäs'],\n",
       "       ['Sås dressing majonnäs'],\n",
       "       ['Sås dressing majonnäs'],\n",
       "       ['Sås dressing majonnäs'],\n",
       "       ['Sås dressing majonnäs'],\n",
       "       ['Sås dressing majonnäs'],\n",
       "       ['Sås dressing majonnäs'],\n",
       "       ['Sås dressing majonnäs'],\n",
       "       ['Sås dressing majonnäs'],\n",
       "       ['Sås dressing majonnäs'],\n",
       "       ['Sås dressing majonnäs'],\n",
       "       ['Sås dressing majonnäs'],\n",
       "       ['Sås dressing majonnäs'],\n",
       "       ['Sås dressing majonnäs'],\n",
       "       ['Sås dressing majonnäs'],\n",
       "       ['Sås dressing majonnäs'],\n",
       "       ['Sås dressing majonnäs'],\n",
       "       ['Sås dressing majonnäs'],\n",
       "       ['Sås dressing majonnäs'],\n",
       "       ['Sås dressing majonnäs'],\n",
       "       ['Sås dressing majonnäs'],\n",
       "       ['Sås dressing majonnäs'],\n",
       "       ['Sås dressing majonnäs'],\n",
       "       ['Gröt'],\n",
       "       ['Gröt'],\n",
       "       ['Gröt'],\n",
       "       ['Sås dressing majonnäs'],\n",
       "       ['Sås dressing majonnäs'],\n",
       "       ['Sås dressing majonnäs'],\n",
       "       ['Grönsaker'],\n",
       "       ['Sås dressing majonnäs'],\n",
       "       ['Sås dressing majonnäs'],\n",
       "       ['Sås dressing majonnäs'],\n",
       "       ['Sås dressing majonnäs'],\n",
       "       ['Sås dressing majonnäs'],\n",
       "       ['Sås dressing majonnäs'],\n",
       "       ['Sås dressing majonnäs'],\n",
       "       ['Sås dressing majonnäs'],\n",
       "       ['Sås dressing majonnäs'],\n",
       "       ['Grönsaker'],\n",
       "       ['Grönsaker'],\n",
       "       ['Grönsaker'],\n",
       "       ['Grönsaker'],\n",
       "       ['Grönsaker'],\n",
       "       ['Grönsaker'],\n",
       "       ['Grönsaker'],\n",
       "       ['Grönsaker'],\n",
       "       ['Grönsaker'],\n",
       "       ['Grönsaker'],\n",
       "       ['Grönsaker'],\n",
       "       ['Grönsaker'],\n",
       "       ['Sås dressing majonnäs']], dtype=object)"
      ]
     },
     "execution_count": 197,
     "metadata": {},
     "output_type": "execute_result"
    }
   ],
   "source": [
    "labels"
   ]
  },
  {
   "cell_type": "markdown",
   "metadata": {},
   "source": [
    "## Prep the data for fitting and visualizing"
   ]
  },
  {
   "cell_type": "code",
   "execution_count": 198,
   "metadata": {
    "collapsed": true
   },
   "outputs": [],
   "source": [
    "X = data_df.iloc[:,0:-1]\n",
    "X_std = StandardScaler().fit_transform(X)\n",
    "y = data_df['label'].values"
   ]
  },
  {
   "cell_type": "code",
   "execution_count": 199,
   "metadata": {},
   "outputs": [
    {
     "data": {
      "text/plain": [
       "(189, 3)"
      ]
     },
     "execution_count": 199,
     "metadata": {},
     "output_type": "execute_result"
    }
   ],
   "source": [
    "X.values.shape"
   ]
  },
  {
   "cell_type": "code",
   "execution_count": 200,
   "metadata": {},
   "outputs": [
    {
     "data": {
      "text/plain": [
       "3"
      ]
     },
     "execution_count": 200,
     "metadata": {},
     "output_type": "execute_result"
    }
   ],
   "source": [
    "X_fit = X\n",
    "labels = y\n",
    "title=None\n",
    "dimension = X_fit.shape[1]\n",
    "dimension"
   ]
  },
  {
   "cell_type": "code",
   "execution_count": 201,
   "metadata": {},
   "outputs": [
    {
     "data": {
      "text/plain": [
       "array([2, 2, 2, 2, 2, 2, 2, 2, 2, 2, 2, 2, 2, 2, 2, 2, 2, 2, 2, 2, 2, 2, 0,\n",
       "       0, 0, 0, 0, 0, 0, 0, 0, 0, 0, 0, 0, 0, 0, 0, 0, 0, 0, 0, 0, 0, 0, 0,\n",
       "       0, 0, 0, 0, 0, 0, 0, 0, 0, 0, 0, 0, 0, 0, 0, 0, 0, 0, 0, 0, 0, 0, 0,\n",
       "       0, 0, 0, 0, 0, 0, 0, 0, 0, 0, 0, 0, 0, 0, 0, 0, 0, 0, 0, 2, 0, 0, 0,\n",
       "       0, 2, 2, 2, 0, 0, 0, 0, 0, 0, 0, 0, 0, 0, 2, 1, 1, 1, 1, 1, 1, 1, 1,\n",
       "       1, 1, 1, 2, 0, 1, 1, 2, 2, 2, 2, 2, 2, 2, 2, 2, 2, 2, 2, 2, 2, 2, 2,\n",
       "       2, 2, 2, 2, 2, 2, 2, 2, 2, 2, 2, 2, 2, 2, 2, 2, 2, 2, 2, 2, 2, 2, 1,\n",
       "       1, 1, 2, 2, 2, 0, 2, 2, 2, 2, 2, 2, 2, 2, 2, 0, 0, 0, 0, 0, 0, 0, 0,\n",
       "       0, 0, 0, 0, 2], dtype=object)"
      ]
     },
     "execution_count": 201,
     "metadata": {},
     "output_type": "execute_result"
    }
   ],
   "source": [
    "labels"
   ]
  },
  {
   "cell_type": "code",
   "execution_count": 202,
   "metadata": {},
   "outputs": [
    {
     "name": "stdout",
     "output_type": "stream",
     "text": [
      "['Grönsaker' 'Gröt' 'Sås dressing majonnäs']\n"
     ]
    }
   ],
   "source": [
    "label_types = np.array(sorted(list(set(data.T[3]))))\n",
    "print(label_types)"
   ]
  },
  {
   "cell_type": "code",
   "execution_count": 203,
   "metadata": {
    "collapsed": true
   },
   "outputs": [],
   "source": [
    "dummy = np.empty(len(data)).reshape(len(data),1)\n",
    "data=np.hstack((data,dummy))\n",
    "#Gör om text-labels till löpnummer för kategorin\n",
    "for index, label in enumerate(data.T[3]):\n",
    "    ind = np.where(label==label_types)\n",
    "    data[index][4] = ind[0][0]"
   ]
  },
  {
   "cell_type": "code",
   "execution_count": null,
   "metadata": {
    "collapsed": true
   },
   "outputs": [],
   "source": []
  },
  {
   "cell_type": "code",
   "execution_count": 204,
   "metadata": {},
   "outputs": [
    {
     "data": {
      "text/plain": [
       "array([2, 2, 2, 2, 2, 2, 2, 2, 2, 2, 2, 2, 2, 2, 2, 2, 2, 2, 2, 2, 2, 2, 0,\n",
       "       0, 0, 0, 0, 0, 0, 0, 0, 0, 0, 0, 0, 0, 0, 0, 0, 0, 0, 0, 0, 0, 0, 0,\n",
       "       0, 0, 0, 0, 0, 0, 0, 0, 0, 0, 0, 0, 0, 0, 0, 0, 0, 0, 0, 0, 0, 0, 0,\n",
       "       0, 0, 0, 0, 0, 0, 0, 0, 0, 0, 0, 0, 0, 0, 0, 0, 0, 0, 0, 2, 0, 0, 0,\n",
       "       0, 2, 2, 2, 0, 0, 0, 0, 0, 0, 0, 0, 0, 0, 2, 1, 1, 1, 1, 1, 1, 1, 1,\n",
       "       1, 1, 1, 2, 0, 1, 1, 2, 2, 2, 2, 2, 2, 2, 2, 2, 2, 2, 2, 2, 2, 2, 2,\n",
       "       2, 2, 2, 2, 2, 2, 2, 2, 2, 2, 2, 2, 2, 2, 2, 2, 2, 2, 2, 2, 2, 2, 1,\n",
       "       1, 1, 2, 2, 2, 0, 2, 2, 2, 2, 2, 2, 2, 2, 2, 0, 0, 0, 0, 0, 0, 0, 0,\n",
       "       0, 0, 0, 0, 2], dtype=object)"
      ]
     },
     "execution_count": 204,
     "metadata": {},
     "output_type": "execute_result"
    }
   ],
   "source": [
    "data.T[4]"
   ]
  },
  {
   "cell_type": "code",
   "execution_count": 205,
   "metadata": {},
   "outputs": [
    {
     "data": {
      "text/plain": [
       "array([[ 0.498 ,  0.7882,  0.498 ,  1.    ],\n",
       "       [ 0.2196,  0.4235,  0.6902,  1.    ],\n",
       "       [ 0.4   ,  0.4   ,  0.4   ,  1.    ]])"
      ]
     },
     "execution_count": 205,
     "metadata": {},
     "output_type": "execute_result"
    }
   ],
   "source": [
    "label_types = np.array(sorted(list(set(data.T[4]))))\n",
    "num_labels = len(label_types)\n",
    "colors = cm.Accent(np.linspace(0, 1, num_labels))\n",
    "colors"
   ]
  },
  {
   "cell_type": "code",
   "execution_count": null,
   "metadata": {},
   "outputs": [],
   "source": [
    "with plt.style.context(plt_style):\n",
    "    fig = plt.figure()\n",
    "    ax = fig.add_subplot(111, projection='3d')\n",
    "    for lab, col in zip(label_types, colors):\n",
    "        ax.scatter(X_fit[labels==lab, 0],\n",
    "                   X_fit[labels==lab, 1],\n",
    "                   X_fit[labels==lab, 2],\n",
    "                   c=col)\n",
    "    plt.title('title')\n",
    "    plt.show()"
   ]
  },
  {
   "cell_type": "markdown",
   "metadata": {},
   "source": [
    "## 3D view"
   ]
  },
  {
   "cell_type": "code",
   "execution_count": null,
   "metadata": {
    "collapsed": true
   },
   "outputs": [],
   "source": [
    "do_plot(X.values, 'Original Data',labels)"
   ]
  },
  {
   "cell_type": "code",
   "execution_count": null,
   "metadata": {
    "collapsed": true
   },
   "outputs": [],
   "source": [
    "X.values[:,0:-1].shape"
   ]
  },
  {
   "cell_type": "markdown",
   "metadata": {},
   "source": [
    "## Dumb 2D projection\n",
    "The easiest way to embed our data into two dimensions is to project onto the plane $x=0$."
   ]
  },
  {
   "cell_type": "code",
   "execution_count": null,
   "metadata": {
    "collapsed": true
   },
   "outputs": [],
   "source": [
    "\n",
    "X.values[:,1:]"
   ]
  },
  {
   "cell_type": "code",
   "execution_count": null,
   "metadata": {
    "collapsed": true
   },
   "outputs": [],
   "source": [
    "do_plot(X.values[:,1:], 'Plane $x=0$')"
   ]
  },
  {
   "cell_type": "markdown",
   "metadata": {},
   "source": [
    "## PCA (2D)"
   ]
  },
  {
   "cell_type": "code",
   "execution_count": null,
   "metadata": {
    "collapsed": true
   },
   "outputs": [],
   "source": [
    "do_plot(PCA(n_components=2).fit_transform(X), 'PCA')"
   ]
  },
  {
   "cell_type": "markdown",
   "metadata": {},
   "source": [
    "## Isomap"
   ]
  },
  {
   "cell_type": "code",
   "execution_count": null,
   "metadata": {
    "collapsed": true
   },
   "outputs": [],
   "source": [
    "do_plot(Isomap(n_components=2).fit_transform(X), 'Isomap')"
   ]
  },
  {
   "cell_type": "markdown",
   "metadata": {},
   "source": [
    "## Locally Linear Embedding"
   ]
  },
  {
   "cell_type": "code",
   "execution_count": null,
   "metadata": {
    "collapsed": true
   },
   "outputs": [],
   "source": [
    "do_plot(LocallyLinearEmbedding(n_components=2).fit_transform(X), 'Locally Linear Embedding')"
   ]
  },
  {
   "cell_type": "markdown",
   "metadata": {},
   "source": [
    "## Spectral Embedding"
   ]
  },
  {
   "cell_type": "code",
   "execution_count": null,
   "metadata": {
    "collapsed": true
   },
   "outputs": [],
   "source": [
    "do_plot(SpectralEmbedding(n_components=2).fit_transform(X), 'Spectral Embedding')"
   ]
  },
  {
   "cell_type": "markdown",
   "metadata": {},
   "source": [
    "## Multi-dimensional scaling (MDS)"
   ]
  },
  {
   "cell_type": "code",
   "execution_count": null,
   "metadata": {
    "collapsed": true
   },
   "outputs": [],
   "source": [
    "do_plot(MDS(n_components=2).fit_transform(X), 'Multi-dimensional Scaling')"
   ]
  },
  {
   "cell_type": "markdown",
   "metadata": {},
   "source": [
    "## t-SNE (2D)"
   ]
  },
  {
   "cell_type": "code",
   "execution_count": null,
   "metadata": {
    "collapsed": true
   },
   "outputs": [],
   "source": [
    "tsne2 = TSNE(n_components=2, random_state=0)\n",
    "do_plot(tsne2.fit_transform(X), 't-SNE')"
   ]
  },
  {
   "cell_type": "markdown",
   "metadata": {},
   "source": [
    "## PCA (3D)"
   ]
  },
  {
   "cell_type": "code",
   "execution_count": null,
   "metadata": {
    "collapsed": true
   },
   "outputs": [],
   "source": [
    "do_plot(PCA(n_components=3).fit_transform(X), 'PCA')"
   ]
  },
  {
   "cell_type": "markdown",
   "metadata": {
    "collapsed": true
   },
   "source": [
    "## t-SNE (3D)"
   ]
  },
  {
   "cell_type": "code",
   "execution_count": null,
   "metadata": {
    "collapsed": true
   },
   "outputs": [],
   "source": [
    "tsne3 = TSNE(n_components=3, learning_rate=100, random_state=0)\n",
    "do_plot(tsne3.fit_transform(X), 't-SNE')"
   ]
  },
  {
   "cell_type": "markdown",
   "metadata": {
    "collapsed": true
   },
   "source": [
    "## HDBScan\n",
    "HDBScan is a fairly recent and well-regarded clustering algorithm. The reason it's here is to see how well it does on some fairly simple data and visualize its results via t-SNE."
   ]
  },
  {
   "cell_type": "code",
   "execution_count": null,
   "metadata": {
    "collapsed": true
   },
   "outputs": [],
   "source": [
    "if hdbscan_available:\n",
    "    clusterer = hdbscan.HDBSCAN(min_cluster_size=20)\n",
    "    cluster_labels = clusterer.fit_predict(X_std) + 1\n",
    "    print('Number of clusters: {}'.format(max(cluster_labels)))\n",
    "    do_plot(tsne3.fit_transform(X), 'HDBScan', labels=cluster_labels)"
   ]
  },
  {
   "cell_type": "markdown",
   "metadata": {
    "collapsed": true
   },
   "source": [
    "Slask"
   ]
  },
  {
   "cell_type": "code",
   "execution_count": null,
   "metadata": {
    "collapsed": true
   },
   "outputs": [],
   "source": [
    "num_dimensions = 3 #Gjort endast för 3D...\n",
    "num_clusters = 4\n",
    "num_points = 100\n",
    "cluster_separation = 6\n",
    "centers = np.array([(0,0,0), (1,0,0), (0,1,0), (0,0,1)], dtype=float) * cluster_separation\n",
    "data = np.zeros((num_clusters * num_points, num_dimensions), dtype=float)\n",
    "labels = np.zeros(num_clusters * num_points, dtype=int)\n",
    "for c in range(num_clusters):\n",
    "    start = c * num_points\n",
    "    end = start + num_points\n",
    "    data[start:end, :] = np.random.randn(num_points, num_dimensions) + centers[c]\n",
    "    labels[start:end] = c"
   ]
  },
  {
   "cell_type": "code",
   "execution_count": null,
   "metadata": {
    "collapsed": true
   },
   "outputs": [],
   "source": [
    "def do_plot(X_fit, labels, title=None):\n",
    "    dimension = X_fit.shape[1]\n",
    "    label_types = sorted(list(set(labels)))\n",
    "    num_labels = len(label_types)\n",
    "    colors = cm.Accent(np.linspace(0, 1, num_labels))\n",
    "    with plt.style.context(plt_style):\n",
    "        fig = plt.figure()\n",
    "        if dimension == 2:\n",
    "            ax = fig.add_subplot(111)\n",
    "            for lab, col in zip(label_types, colors):\n",
    "                ax.scatter(X_fit[labels==lab, 0],\n",
    "                           X_fit[labels==lab, 1],\n",
    "                           c=col)\n",
    "        elif dimension == 3:\n",
    "            ax = fig.add_subplot(111, projection='3d')\n",
    "            for lab, col in zip(label_types, colors):\n",
    "                ax.scatter(X_fit[labels==lab, 0],\n",
    "                           X_fit[labels==lab, 1],\n",
    "                           X_fit[labels==lab, 2],\n",
    "                           c=col)\n",
    "        else:\n",
    "            raise Exception('Unknown dimension: %d' % dimension)\n",
    "        plt.title(title)\n",
    "        plt.show()"
   ]
  },
  {
   "cell_type": "code",
   "execution_count": null,
   "metadata": {},
   "outputs": [],
   "source": [
    "X.values.T[0]"
   ]
  },
  {
   "cell_type": "code",
   "execution_count": null,
   "metadata": {},
   "outputs": [],
   "source": [
    "for label in label_types:\n",
    "    print(data[np.where(data.T[4]==label)].T[0])\n",
    "    "
   ]
  },
  {
   "cell_type": "code",
   "execution_count": null,
   "metadata": {
    "scrolled": true
   },
   "outputs": [],
   "source": [
    "\n",
    "fig = plt.figure()\n",
    "ax = fig.add_subplot(111, projection='3d')\n",
    "\n",
    "n = 189\n",
    "\n",
    "# For each set of style and range settings, plot n random points in the box\n",
    "# defined by x in [23, 32], y in [0, 100], z in [zlow, zhigh].\n",
    "for label_type in label_types:\n",
    "    print(label_type)\n",
    "    xs = data[np.where(data.T[4]==label_type)].T[0]\n",
    "    ys = data[np.where(data.T[4]==label_type)].T[1]\n",
    "    zs = data[np.where(data.T[4]==label_type)].T[2]\n",
    "    ax.scatter(xs, ys, zs, c=colors[label_type], marker=m)\n",
    "\n",
    "ax.set_xlabel('X Label')\n",
    "ax.set_ylabel('Y Label')\n",
    "ax.set_zlabel('Z Label')\n",
    "plt.title('title')\n",
    "plt.show()"
   ]
  },
  {
   "cell_type": "code",
   "execution_count": null,
   "metadata": {
    "scrolled": true
   },
   "outputs": [],
   "source": [
    "fig = plt.figure()\n",
    "ax = fig.add_subplot(111)\n",
    "\n",
    "n = 189\n",
    "\n",
    "# For each set of style and range settings, plot n random points in the box\n",
    "# defined by x in [23, 32], y in [0, 100], z in [zlow, zhigh].\n",
    "for label_type in label_types:\n",
    "    print(label_type)\n",
    "    xs = data[np.where(data.T[4]==label_type)].T[0]\n",
    "    ys = data[np.where(data.T[4]==label_type)].T[1]\n",
    "    ax.scatter(xs, ys, c=colors[label_type], marker=m)\n",
    "\n",
    "ax.set_xlabel('X Label')\n",
    "ax.set_ylabel('Y Label')\n",
    "plt.title('title')\n",
    "ax.annotate('hej', (2,30))\n",
    "plt.show()\n",
    "\n",
    "#for i, _ in enumerate(data):\n",
    "#ax.annotate('hej', (2,3,4))\n"
   ]
  },
  {
   "cell_type": "code",
   "execution_count": null,
   "metadata": {
    "collapsed": true
   },
   "outputs": [],
   "source": []
  },
  {
   "cell_type": "code",
   "execution_count": null,
   "metadata": {
    "collapsed": true
   },
   "outputs": [],
   "source": []
  }
 ],
 "metadata": {
  "kernelspec": {
   "display_name": "Python 3",
   "language": "python",
   "name": "python3"
  },
  "language_info": {
   "codemirror_mode": {
    "name": "ipython",
    "version": 3
   },
   "file_extension": ".py",
   "mimetype": "text/x-python",
   "name": "python",
   "nbconvert_exporter": "python",
   "pygments_lexer": "ipython3",
   "version": "3.5.4"
  }
 },
 "nbformat": 4,
 "nbformat_minor": 1
}
