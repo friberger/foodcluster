{
 "cells": [
  {
   "cell_type": "code",
   "execution_count": 29,
   "metadata": {
    "collapsed": true
   },
   "outputs": [],
   "source": [
    "#!/usr/bin/env python\n",
    "# -*- coding: utf-8 -*-\n",
    "import sqlite3\n",
    "import numpy as np\n",
    "import random\n",
    "import time\n",
    "import os"
   ]
  },
  {
   "cell_type": "code",
   "execution_count": null,
   "metadata": {
    "collapsed": true
   },
   "outputs": [],
   "source": []
  },
  {
   "cell_type": "code",
   "execution_count": 73,
   "metadata": {},
   "outputs": [
    {
     "name": "stdout",
     "output_type": "stream",
     "text": [
      "[1224, 188, 913, 1134, 711, 447, 1039, 1013, 1489, 1327] [['Kyckling mage rå' '1454']\n",
      " ['Bröd mörkt glutenfritt fibrer ca 6%' '227']\n",
      " ['Nöt hamburgare fryst rå' '1101']\n",
      " ['Fiskpaté m räkor' '1356']\n",
      " ['Pasta fullkorn' '848']\n",
      " ['Caesarsallad kycklingsallad m dressing' '513']\n",
      " ['Pinklax rå' '1250']\n",
      " ['Köttbuljong ätf' '1223']\n",
      " ['Kalvdans mjölkpulver ägg' '1759']\n",
      " ['Paranötter' '1568']]\n"
     ]
    }
   ],
   "source": [
    "conn = sqlite3.connect('livs.db')  # Create db and establish connection\n",
    "conn.row_factory = sqlite3.Row\n",
    "curs = conn.cursor()\n",
    "result = []\n",
    "rows = curs.execute('select Livsmedelsnamn, Livsmedelsnummer from livs limit 2000')\n",
    "for row in rows:\n",
    "        result.append(row)\n",
    "\n",
    "#rows = np.array(result)\n",
    "#rows = rows[970:]\n",
    "samples = random.sample(range(0, 1999), 10) #Sista siffran är antalet som laddas ner\n",
    "sampledFoodItems = []\n",
    "#print (type(sampledFoodItems))\n",
    "\n",
    "for index in samples:\n",
    "    sampledFoodItems.append(result[index])\n",
    "\n",
    "sampledFoodItems = np.array(sampledFoodItems)\n",
    "print (samples, sampledFoodItems)\n",
    "\n",
    "conn.close()"
   ]
  },
  {
   "cell_type": "code",
   "execution_count": null,
   "metadata": {
    "collapsed": true
   },
   "outputs": [],
   "source": []
  },
  {
   "cell_type": "code",
   "execution_count": 74,
   "metadata": {},
   "outputs": [
    {
     "name": "stdout",
     "output_type": "stream",
     "text": [
      "Found: 0 images\n",
      "Found: 0 images\n",
      "Found: 0 images\n",
      "Found: 0 images\n",
      "Found: 0 images\n",
      "Found: 0 images\n",
      "Found: 0 images\n",
      "Found: 0 images\n",
      "Found: 0 images\n",
      "Found: 0 images\n"
     ]
    }
   ],
   "source": [
    "#Ca 5 sekunder för varje nedladdning, ca 3 timmar för hela db?\n",
    "\n",
    "for keyword in sampledFoodItems:\n",
    "    #print (keyword[0], keyword[1])\n",
    "    name=\"'\" + keyword[0] + \"'\"\n",
    "    number=keyword[1]\n",
    "    %run scrape-google-image-search.py $name --label $number --count 4"
   ]
  },
  {
   "cell_type": "code",
   "execution_count": null,
   "metadata": {
    "collapsed": true
   },
   "outputs": [],
   "source": []
  },
  {
   "cell_type": "code",
   "execution_count": null,
   "metadata": {
    "collapsed": true
   },
   "outputs": [],
   "source": []
  }
 ],
 "metadata": {
  "kernelspec": {
   "display_name": "Python 3",
   "language": "python",
   "name": "python3"
  },
  "language_info": {
   "codemirror_mode": {
    "name": "ipython",
    "version": 3
   },
   "file_extension": ".py",
   "mimetype": "text/x-python",
   "name": "python",
   "nbconvert_exporter": "python",
   "pygments_lexer": "ipython3",
   "version": "3.5.4"
  }
 },
 "nbformat": 4,
 "nbformat_minor": 2
}
