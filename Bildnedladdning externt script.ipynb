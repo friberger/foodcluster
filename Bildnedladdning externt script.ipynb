{
 "cells": [
  {
   "cell_type": "code",
   "execution_count": 6,
   "metadata": {
    "collapsed": true
   },
   "outputs": [],
   "source": [
    "#!/usr/bin/env python\n",
    "# -*- coding: utf-8 -*-\n",
    "import sqlite3\n",
    "import numpy as np\n",
    "import random\n",
    "import urllib.request\n",
    "import time\n",
    "import os"
   ]
  },
  {
   "cell_type": "code",
   "execution_count": 25,
   "metadata": {},
   "outputs": [
    {
     "name": "stdout",
     "output_type": "stream",
     "text": [
      "[1647, 720, 1331, 1345, 1942, 1651, 37, 125, 1839, 238] [['Vetemjöl bagerivetemjöl' '1938']\n",
      " ['Tortellini m köttfyllning' '862']\n",
      " ['Sesamfrön torkade' '1572']\n",
      " ['Chips smaksatta fett 34%' '1587']\n",
      " ['Ägg ekologiskt rått' '3840']\n",
      " ['Mjölblandning grov vete råg vitberik' '1942']\n",
      " ['Dressing majonnäs fett ca 25%' '45']\n",
      " ['Kefir fett 3%' '142']\n",
      " ['Fruktyoghurt lättsockrad fett 0,2%' '2242']\n",
      " ['Grönsaksblandning morötter palsternacka purjolök rotselleri fryst' '286']]\n"
     ]
    }
   ],
   "source": [
    "conn = sqlite3.connect('livs.db')  # Create db and establish connection\n",
    "conn.row_factory = sqlite3.Row\n",
    "curs = conn.cursor()\n",
    "result = []\n",
    "rows = curs.execute('select Livsmedelsnamn, Livsmedelsnummer from livs limit 2000')\n",
    "for row in rows:\n",
    "        result.append(row)\n",
    "\n",
    "#rows = np.array(result)\n",
    "#rows = rows[970:]\n",
    "samples = random.sample(range(0, 1999), 10) #Sista siffran är antalet som laddas ner\n",
    "sampledFoodItems = []\n",
    "#print (type(sampledFoodItems))\n",
    "\n",
    "for index in samples:\n",
    "    sampledFoodItems.append(result[index])\n",
    "\n",
    "sampledFoodItems = np.array(sampledFoodItems)\n",
    "print (samples, sampledFoodItems)\n",
    "\n",
    "conn.close()"
   ]
  },
  {
   "cell_type": "code",
   "execution_count": 26,
   "metadata": {},
   "outputs": [
    {
     "name": "stdout",
     "output_type": "stream",
     "text": [
      "Vetemjöl bagerivetemjöl 1938\n",
      "Found: 0 images\n",
      "Tortellini m köttfyllning 862\n",
      "Found: 0 images\n",
      "Sesamfrön torkade 1572\n",
      "Found: 0 images\n",
      "Chips smaksatta fett 34% 1587\n",
      "Found: 0 images\n",
      "Ägg ekologiskt rått 3840\n",
      "Found: 0 images\n",
      "Mjölblandning grov vete råg vitberik 1942\n",
      "Found: 0 images\n",
      "Dressing majonnäs fett ca 25% 45\n",
      "Found: 0 images\n",
      "Kefir fett 3% 142\n",
      "Found: 0 images\n",
      "Fruktyoghurt lättsockrad fett 0,2% 2242\n",
      "Found: 0 images\n",
      "Grönsaksblandning morötter palsternacka purjolök rotselleri fryst 286\n",
      "Found: 0 images\n"
     ]
    }
   ],
   "source": [
    "#Ca 5 sekunder för varje nedladdning, ca 3 timmar för hela db?\n",
    "\n",
    "for keyword in sampledFoodItems:\n",
    "    print (keyword[0], keyword[1])\n",
    "    name=\"'\" + keyword[0] + \"'\"\n",
    "    number=keyword[1]\n",
    "    %run scrape-google-image-search.py $name --label $number --count 4"
   ]
  },
  {
   "cell_type": "code",
   "execution_count": null,
   "metadata": {
    "collapsed": true
   },
   "outputs": [],
   "source": []
  },
  {
   "cell_type": "code",
   "execution_count": null,
   "metadata": {
    "collapsed": true
   },
   "outputs": [],
   "source": []
  }
 ],
 "metadata": {
  "kernelspec": {
   "display_name": "Python 3",
   "language": "python",
   "name": "python3"
  },
  "language_info": {
   "codemirror_mode": {
    "name": "ipython",
    "version": 3
   },
   "file_extension": ".py",
   "mimetype": "text/x-python",
   "name": "python",
   "nbconvert_exporter": "python",
   "pygments_lexer": "ipython3",
   "version": "3.5.4"
  }
 },
 "nbformat": 4,
 "nbformat_minor": 2
}
