{
 "cells": [
  {
   "cell_type": "code",
   "execution_count": 1,
   "metadata": {
    "collapsed": true
   },
   "outputs": [],
   "source": [
    "import sqlite3\n",
    "import numpy as np"
   ]
  },
  {
   "cell_type": "code",
   "execution_count": 181,
   "metadata": {},
   "outputs": [
    {
     "name": "stdout",
     "output_type": "stream",
     "text": [
      "[['Talg nöt' '1' '656.3' ..., '0.0' '73.0'\n",
      "  'Övrigt fett (ister, talg, kokosfett)']\n",
      " ['Späck gris' '2' '763.0' ..., '0.0' '3.0'\n",
      "  'Övrigt fett (ister, talg, kokosfett)']\n",
      " ['Ister gris' '3' '884.3' ..., '0.0' '40.0'\n",
      "  'Övrigt fett (ister, talg, kokosfett)']\n",
      " ..., \n",
      " ['Havredryck oberikad' '5964' '40.6' ..., '' '155.0'\n",
      "  'Vegetabiliska produkter och mjölkersättning']\n",
      " ['Kryddblandning taco' '5973' '372.6' ..., '' '7.0' 'Kryddor']\n",
      " ['Tortilla wrap' '5974' '313.7' ..., '' '39.0' 'Mjukt bröd']]\n"
     ]
    }
   ],
   "source": [
    "conn = sqlite3.connect('../livs.db')  # Create db and establish connection\n",
    "conn.row_factory = sqlite3.Row\n",
    "curs = conn.cursor()\n",
    "result = []\n",
    "rows = curs.execute('select * from livs limit 4000')\n",
    "for row in rows:\n",
    "        result.append(row)\n",
    "\n",
    "rows = np.array(result)\n",
    "print (rows)\n",
    "\n",
    "conn.close()"
   ]
  },
  {
   "cell_type": "markdown",
   "metadata": {},
   "source": [
    "Jag har inte stött på den här kraftfulla syntaxen för np-arrayer, att man bara anger ett villkor rakt upp och ner och så returnerar den en array (en- eller multidimensionell) av celler som uppyller villkoret!"
   ]
  },
  {
   "cell_type": "code",
   "execution_count": 182,
   "metadata": {},
   "outputs": [
    {
     "name": "stderr",
     "output_type": "stream",
     "text": [
      "/Users/organization/anaconda/envs/traffic_signs/lib/python3.5/site-packages/ipykernel_launcher.py:1: FutureWarning: elementwise comparison failed; returning scalar instead, but in the future will perform elementwise comparison\n",
      "  \"\"\"Entry point for launching an IPython kernel.\n"
     ]
    },
    {
     "data": {
      "text/plain": [
       "False"
      ]
     },
     "execution_count": 182,
     "metadata": {},
     "output_type": "execute_result"
    }
   ],
   "source": [
    "rows [1] == 0.0\n"
   ]
  },
  {
   "cell_type": "markdown",
   "metadata": {},
   "source": [
    "numpy.where returnerar index för de celler som uppfyller villkoret."
   ]
  },
  {
   "cell_type": "code",
   "execution_count": 183,
   "metadata": {},
   "outputs": [],
   "source": [
    "empties = np.array(np.where(rows == ''))"
   ]
  },
  {
   "cell_type": "markdown",
   "metadata": {},
   "source": [
    "numpy.where returnerar en tuple, men genom att göra om till en numpy-array kan man sen transponera och visa lite lättare"
   ]
  },
  {
   "cell_type": "code",
   "execution_count": 184,
   "metadata": {},
   "outputs": [
    {
     "data": {
      "text/plain": [
       "array([[   0,   39],\n",
       "       [   0,   49],\n",
       "       [   1,   15],\n",
       "       ..., \n",
       "       [2085,   58],\n",
       "       [2086,   58],\n",
       "       [2087,   58]])"
      ]
     },
     "execution_count": 184,
     "metadata": {},
     "output_type": "execute_result"
    }
   ],
   "source": [
    "empties.T #.T = transpose"
   ]
  },
  {
   "cell_type": "markdown",
   "metadata": {},
   "source": [
    "I empties[1] ligger alla förekomster av tomma celler per kolumn. En siffra i empties[1] betyder att det finns en tom i en cell i den kolumnen. I nästa summerar jag ihop vilka kolumner som har tomma värden, och hur många som finns. "
   ]
  },
  {
   "cell_type": "code",
   "execution_count": 185,
   "metadata": {},
   "outputs": [
    {
     "name": "stdout",
     "output_type": "stream",
     "text": [
      "[[  15 2026]\n",
      " [  34   83]\n",
      " [  36   86]\n",
      " [  39 1521]\n",
      " [  49 1268]\n",
      " [  58  502]\n",
      " [  60    7]]\n"
     ]
    }
   ],
   "source": [
    "unique, counts = np.unique(empties[1], return_counts=True) #https://stackoverflow.com/questions/28663856/how-to-count-the-occurrence-of-certain-item-in-an-ndarray-in-python\n",
    "columnsWithEmpties = np.array(list(zip(unique, counts)))\n",
    "print(columnsWithEmpties)"
   ]
  },
  {
   "cell_type": "markdown",
   "metadata": {},
   "source": [
    "Nu är det dags att ta reda på vilka kolumner det här är."
   ]
  },
  {
   "cell_type": "code",
   "execution_count": 186,
   "metadata": {
    "collapsed": true
   },
   "outputs": [],
   "source": [
    "conn = sqlite3.connect('../livs.db')  # Create db and establish connection\n",
    "conn.row_factory = sqlite3.Row\n",
    "curs = conn.cursor()\n",
    "columnObject = []\n",
    "\n",
    "for row in conn.execute('PRAGMA table_info (livs);'):\n",
    "    columnObject.append(row)\n",
    "\n",
    "columns = np.array(columnObject)\n",
    "\n",
    "conn.close()"
   ]
  },
  {
   "cell_type": "code",
   "execution_count": 187,
   "metadata": {},
   "outputs": [
    {
     "name": "stdout",
     "output_type": "stream",
     "text": [
      "[[0 'Livsmedelsnamn' 'TEXT' 0 None 0]\n",
      " [1 'Livsmedelsnummer' 'TEXT' 0 None 0]\n",
      " [2 'Energi_kcal' 'REAL' 0 None 0]\n",
      " [3 'Energi_kJ' 'REAL' 0 None 0]\n",
      " [4 'Kolhydrater_g' 'REAL' 0 None 0]\n",
      " [5 'Fett_g' 'REAL' 0 None 0]\n",
      " [6 'Protein_g' 'REAL' 0 None 0]\n",
      " [7 'Fibrer_g' 'REAL' 0 None 0]\n",
      " [8 'Vatten_g' 'REAL' 0 None 0]\n",
      " [9 'Alkohol_g' 'REAL' 0 None 0]\n",
      " [10 'Aska_g' 'REAL' 0 None 0]\n",
      " [11 'Monosackarider_g' 'REAL' 0 None 0]\n",
      " [12 'Disackarider_g' 'REAL' 0 None 0]\n",
      " [13 'Sackaros_g' 'REAL' 0 None 0]\n",
      " [14 'Fullkorn_totalt_g' 'REAL' 0 None 0]\n",
      " [15 'Sockerarter_g' 'REAL' 0 None 0]\n",
      " [16 'Summa_mattade_fettsyror_g' 'REAL' 0 None 0]\n",
      " [17 'Fettsyra_4_0_10_0_g' 'REAL' 0 None 0]\n",
      " [18 'Fettsyra_12_0_g' 'REAL' 0 None 0]\n",
      " [19 'Fettsyra_14_0_g' 'REAL' 0 None 0]\n",
      " [20 'Fettsyra_16_0_g' 'REAL' 0 None 0]\n",
      " [21 'Fettsyra_18_0_g' 'REAL' 0 None 0]\n",
      " [22 'Fettsyra_20_0_g' 'REAL' 0 None 0]\n",
      " [23 'Summa_enkelomattade_fettsyror_g' 'REAL' 0 None 0]\n",
      " [24 'Fettsyra_16_1_g' 'REAL' 0 None 0]\n",
      " [25 'Fettsyra_18_1_g' 'REAL' 0 None 0]\n",
      " [26 'Summa_fleromattade_fettsyror_g' 'REAL' 0 None 0]\n",
      " [27 'Fettsyra_18_2_g' 'REAL' 0 None 0]\n",
      " [28 'Fettsyra_18_3_g' 'REAL' 0 None 0]\n",
      " [29 'Fettsyra_20_4_g' 'REAL' 0 None 0]\n",
      " [30 'EPA_Fettsyra_20_5_g' 'REAL' 0 None 0]\n",
      " [31 'DPA_Fettsyra_22_5_g' 'REAL' 0 None 0]\n",
      " [32 'DHA_Fettsyra_22_6_g' 'REAL' 0 None 0]\n",
      " [33 'Kolesterol_mg' 'REAL' 0 None 0]\n",
      " [34 'Retinol_mikrog' 'REAL' 0 None 0]\n",
      " [35 'Vitamin_A_mikrog' 'REAL' 0 None 0]\n",
      " [36 'beta_Karoten_mikrog' 'REAL' 0 None 0]\n",
      " [37 'Vitamin_D_mikrog' 'REAL' 0 None 0]\n",
      " [38 'Vitamin_E_mg' 'REAL' 0 None 0]\n",
      " [39 'Vitamin_K_mikrog' 'REAL' 0 None 0]\n",
      " [40 'Tiamin_mg' 'REAL' 0 None 0]\n",
      " [41 'Riboflavin_mg' 'REAL' 0 None 0]\n",
      " [42 'Vitamin_C_mg' 'REAL' 0 None 0]\n",
      " [43 'Niacin_mg' 'REAL' 0 None 0]\n",
      " [44 'Niacinekvivalenter_mg' 'REAL' 0 None 0]\n",
      " [45 'Vitamin_B6_mg' 'REAL' 0 None 0]\n",
      " [46 'Vitamin_B12_mikrog' 'REAL' 0 None 0]\n",
      " [47 'Folat_mikrog' 'REAL' 0 None 0]\n",
      " [48 'Fosfor_mg' 'REAL' 0 None 0]\n",
      " [49 'Jod_mikrog' 'REAL' 0 None 0]\n",
      " [50 'Jarn_mg' 'REAL' 0 None 0]\n",
      " [51 'Kalcium_mg' 'REAL' 0 None 0]\n",
      " [52 'Kalium_mg' 'REAL' 0 None 0]\n",
      " [53 'Magnesium_mg' 'REAL' 0 None 0]\n",
      " [54 'Natrium_mg' 'REAL' 0 None 0]\n",
      " [55 'Salt_g' 'REAL' 0 None 0]\n",
      " [56 'Selen_mikrog' 'REAL' 0 None 0]\n",
      " [57 'Zink_mg' '' 0 None 0]\n",
      " [58 'Avfall_skal_etc' 'REAL' 0 None 0]\n",
      " [59 'Kluster' 'REAL' 0 None 0]\n",
      " [60 'Huvudgrupp' 'TEXT' 0 None 0]]\n"
     ]
    }
   ],
   "source": [
    "print(columns)"
   ]
  },
  {
   "cell_type": "code",
   "execution_count": 188,
   "metadata": {},
   "outputs": [
    {
     "data": {
      "text/plain": [
       "array([[1, 'Livsmedelsnummer', 'TEXT', 0, None, 0],\n",
       "       [25, 'Fettsyra_18_1_g', 'REAL', 0, None, 0]], dtype=object)"
      ]
     },
     "execution_count": 188,
     "metadata": {},
     "output_type": "execute_result"
    }
   ],
   "source": [
    "columns[([1 , 25])]"
   ]
  },
  {
   "cell_type": "code",
   "execution_count": 189,
   "metadata": {},
   "outputs": [
    {
     "data": {
      "text/plain": [
       "array([15, 34, 36, 39, 49, 58, 60])"
      ]
     },
     "execution_count": 189,
     "metadata": {},
     "output_type": "execute_result"
    }
   ],
   "source": [
    "columnsWithEmpties.T[0]"
   ]
  },
  {
   "cell_type": "code",
   "execution_count": 190,
   "metadata": {},
   "outputs": [
    {
     "data": {
      "text/plain": [
       "array([[15, 'Sockerarter_g', 'REAL', 0, None, 0],\n",
       "       [34, 'Retinol_mikrog', 'REAL', 0, None, 0],\n",
       "       [36, 'beta_Karoten_mikrog', 'REAL', 0, None, 0],\n",
       "       [39, 'Vitamin_K_mikrog', 'REAL', 0, None, 0],\n",
       "       [49, 'Jod_mikrog', 'REAL', 0, None, 0],\n",
       "       [58, 'Avfall_skal_etc', 'REAL', 0, None, 0],\n",
       "       [60, 'Huvudgrupp', 'TEXT', 0, None, 0]], dtype=object)"
      ]
     },
     "execution_count": 190,
     "metadata": {},
     "output_type": "execute_result"
    }
   ],
   "source": [
    "columns[columnsWithEmpties.T[0]]"
   ]
  },
  {
   "cell_type": "markdown",
   "metadata": {},
   "source": [
    "## Kolumnerna med få tomma\n",
    "\n",
    "I några få fall, som Kolesterol och Vitamin A är det bara ett fåtal livsmedel som saknar värde. Vilka??"
   ]
  },
  {
   "cell_type": "code",
   "execution_count": 192,
   "metadata": {},
   "outputs": [
    {
     "name": "stdout",
     "output_type": "stream",
     "text": [
      "7 [['Linser torkade' '884' '325.4' '1361.5' '48.5' '1.0' '24.0' '11.5' '12.0'\n",
      "  '0.0' '3.0' '0.3' '2.1' '2.1' '0.0' '' '0.15' '0.0' '0.0' '0.0' '0.13'\n",
      "  '0.01' '0.01' '0.18' '0.0' '0.17' '0.47' '0.38' '0.09' '0.0' '0.0' '0.0'\n",
      "  '0.0' '0.0' '0.0' '5.0' '60.0' '0.0' '0.34' '' '0.37' '0.22' '0.0' '2.0'\n",
      "  '6.0' '0.6' '0.0' '433.0' '375.0' '0.7' '6.8' '79.0' '790.0' '80.0'\n",
      "  '30.0' '0.08' '11.0' '3.1' '0.0' '20.0' '']\n",
      " ['Linser torkade kokta u salt' '885' '104.8' '438.5' '15.6' '0.3' '7.8'\n",
      "  '3.7' '71.7' '0.0' '0.9' '0.1' '0.7' '0.7' '0.0' '' '0.05' '0.0' '0.0'\n",
      "  '0.0' '0.04' '0.0' '0.0' '0.05' '0.0' '0.05' '0.14' '0.11' '0.03' '0.0'\n",
      "  '0.0' '0.0' '0.0' '0.0' '0.0' '1.0' '12.0' '0.0' '0.07' '' '0.07' '0.06'\n",
      "  '0.0' '0.6' '1.9' '0.11' '0.0' '181.0' '119.0' '' '2.1' '25.0' '250.0'\n",
      "  '25.0' '12.0' '0.03' '3.0' '1' '0.0' '43.0' '']\n",
      " ['Lax rå' '1239' '180.9' '756.8' '0.0' '12.0' '18.4' '0.0' '68.0' '0.0'\n",
      "  '1.6' '0.0' '0.0' '0.0' '0.0' '' '2.55' '0.0' '0.0' '0.35' '1.72' '0.36'\n",
      "  '0.0' '4.97' '1.0' '3.63' '3.28' '0.41' '0.18' '0.11' '0.49' '0.25'\n",
      "  '1.33' '70.0' '30.0' '30.0' '0.0' '12.5' '1.3' '' '0.23' '0.1' '0.0'\n",
      "  '6.0' '9.37' '0.98' '6.2' '26.0' '200.0' '40.0' '0.8' '20.0' '330.0'\n",
      "  '24.0' '57.0' '0.14' '26.0' '0.4' '35.0' '72.0' '']\n",
      " ['Tonfisk rå' '1245' '138.0' '577.4' '0.0' '4.9' '23.3' '0.0' '70.62'\n",
      "  '0.0' '1.18' '0.0' '0.0' '0.0' '0.0' '' '1.26' '0.0' '0.0' '0.14' '0.81'\n",
      "  '0.31' '0.0' '1.6' '0.16' '0.92' '1.43' '0.05' '0.0' '0.04' '0.28' '0.12'\n",
      "  '0.89' '38.0' '655.0' '655.0' '0.0' '4.5' '1.0' '' '0.24' '0.25' '0.0'\n",
      "  '8.65' '12.92' '0.46' '9.43' '1.9' '254.0' '' '1.02' '8.0' '252.0' '50.0'\n",
      "  '39.0' '0.1' '36.5' '0.6' '40.0' '26.0' '']\n",
      " ['Jordnötter rostade' '1561' '600.3' '2511.9' '10.3' '49.0' '27.0' '8.1'\n",
      "  '2.0' '0.0' '3.6' '1.1' '2.0' '2.0' '0.0' '' '6.8' '0.0' '0.0' '0.23'\n",
      "  '5.14' '1.12' '0.0' '24.5' '0.0' '23.7' '15.6' '15.5' '0.0' '0.0' '0.0'\n",
      "  '0.0' '0.0' '0.0' '0.0' '0.0' '0.0' '0.0' '7.4' '' '0.29' '0.1' '0.0'\n",
      "  '14.8' '19.3' '0.4' '0.0' '105.0' '510.0' '' '1.9' '86.0' '700.0' '188.0'\n",
      "  '15.0' '0.04' '2.0' '6.6' '0.0' '70.0' '']\n",
      " ['Vitt vin sött vol. % 13,5' '1910' '98.9' '414.0' '5.9' '0.0' '0.2' '0.0'\n",
      "  '82.9' '10.7' '0.3' '5.9' '0.0' '0.0' '0.0' '' '0.0' '0.0' '0.0' '0.0'\n",
      "  '0.0' '0.0' '0.0' '0.0' '0.0' '0.0' '0.0' '0.0' '0.0' '0.0' '0.0' '0.0'\n",
      "  '0.0' '0.0' '0.0' '0.0' '0.0' '0.0' '0.0' '' '0.0' '0.01' '0.0' '0.1'\n",
      "  '0.13' '0.01' '0.0' '0.0' '27.0' '' '1.1' '44.0' '110.0' '3.0' '3.0'\n",
      "  '0.01' '0.1' '0' '0.0' '155.0' '']\n",
      " ['Vitt vin torrt vol. % 12' '1911' '67.5' '282.3' '0.4' '0.0' '0.0' '0.0'\n",
      "  '89.8' '9.5' '0.3' '0.2' '0.2' '0.2' '0.0' '' '0.0' '0.0' '0.0' '0.0'\n",
      "  '0.0' '0.0' '0.0' '0.0' '0.0' '0.0' '0.0' '0.0' '0.0' '0.0' '0.0' '0.0'\n",
      "  '0.0' '0.0' '0.0' '0.0' '0.0' '0.0' '0.0' '' '0.0' '0.01' '0.0' '0.1'\n",
      "  '0.1' '0.02' '0.0' '0.0' '22.0' '' '0.5' '44.0' '65.0' '3.2' '4.0' '0.01'\n",
      "  '0.1' '0' '0.0' '6.0' '']]\n",
      "[['Linser torkade' '884' '']\n",
      " ['Linser torkade kokta u salt' '885' '']\n",
      " ['Lax rå' '1239' '']\n",
      " ['Tonfisk rå' '1245' '']\n",
      " ['Jordnötter rostade' '1561' '']\n",
      " ['Vitt vin sött vol. % 13,5' '1910' '']\n",
      " ['Vitt vin torrt vol. % 12' '1911' '']]\n"
     ]
    }
   ],
   "source": [
    "conn = sqlite3.connect('../livs.db')  # Create db and establish connection\n",
    "conn.row_factory = sqlite3.Row\n",
    "curs = conn.cursor()\n",
    "result = []\n",
    "rows = curs.execute('select * from livs where Huvudgrupp = \"\" limit 4000')\n",
    "for row in rows:\n",
    "        result.append(row)\n",
    "\n",
    "rows = np.array(result)\n",
    "print (len(rows), rows)\n",
    "    \n",
    "cols = [0,1,60]    \n",
    "\n",
    "print (rows[:,cols])\n",
    "\n",
    "conn.close()"
   ]
  },
  {
   "cell_type": "markdown",
   "metadata": {},
   "source": [
    "Då är det väl bara att lägga in dem, rad efter rad. Hälleflundran hittar jag på nåt ställe som säger sig använda Livsmedelsverkets data. Flora sätter jag till 0.0 för det verkar alla margarinerna vara. Det betyder att även kolesterol går bra att ha med i klustringen.\n",
    "\n",
    "Vad gäller A-vitamin är det två ris-sorter som saknar värden. Alla andra har 0.0, så det får bli 0.0 på dem också."
   ]
  },
  {
   "cell_type": "code",
   "execution_count": 180,
   "metadata": {},
   "outputs": [
    {
     "name": "stdout",
     "output_type": "stream",
     "text": [
      "UPDATE livs SET Vitamin_A_mikrog = 0.0 WHERE Livsmedelsnummer = '2516';\n"
     ]
    }
   ],
   "source": [
    "conn = sqlite3.connect('../livs.db')  # Create db and establish connection\n",
    "conn.row_factory = sqlite3.Row\n",
    "curs = conn.cursor()\n",
    "\n",
    "sql = \"UPDATE livs SET Vitamin_A_mikrog = 0.0 WHERE Livsmedelsnummer = '2516';\"\n",
    "print(sql)\n",
    "curs.execute(sql) #Kommentera bort denna rad vid testning\n",
    "\n",
    "conn.commit()\n",
    "conn.close()"
   ]
  },
  {
   "cell_type": "markdown",
   "metadata": {},
   "source": [
    "## Fixa till databasen lite...\n",
    "\n",
    "Det är även några celler i databasen som har None i stället för '' för tomma värden. Det är bättre att alla har samma struktur.\n",
    "\n",
    "Det gäller Avfall_skal_etc som jag ändrade från '' till None för att jag trodde det skulle gå att klustra då, och Huvudgrupp, där det tydligen finns några livsmedel som inte tillhör någon kategori! (Intressant att kolla vilka...)\n",
    "\n",
    "För att kunna använda kod från andra delar av projektet vill jag ha en array \"new\" med Livsmedelsnummer."
   ]
  },
  {
   "cell_type": "code",
   "execution_count": null,
   "metadata": {
    "collapsed": true
   },
   "outputs": [],
   "source": []
  },
  {
   "cell_type": "code",
   "execution_count": 146,
   "metadata": {},
   "outputs": [
    {
     "name": "stdout",
     "output_type": "stream",
     "text": [
      "[ 735  736 1028 1034 1320 1621 1622] 7\n"
     ]
    }
   ],
   "source": [
    "empties = np.array(np.where(rows.T[60] == None))\n",
    "print(empties[0], len(empties[0]))"
   ]
  },
  {
   "cell_type": "code",
   "execution_count": 147,
   "metadata": {},
   "outputs": [
    {
     "data": {
      "text/plain": [
       "array(['884', '885', '1239', '1245', '1561', '1910', '1911'], dtype=object)"
      ]
     },
     "execution_count": 147,
     "metadata": {},
     "output_type": "execute_result"
    }
   ],
   "source": [
    "change = rows[empties[0]].T[1:]\n",
    "new = change[0]\n",
    "new"
   ]
  },
  {
   "cell_type": "code",
   "execution_count": 149,
   "metadata": {},
   "outputs": [
    {
     "name": "stdout",
     "output_type": "stream",
     "text": [
      "884\n",
      "UPDATE livs SET Huvudgrupp = '' WHERE Livsmedelsnummer = '884';\n",
      "885\n",
      "UPDATE livs SET Huvudgrupp = '' WHERE Livsmedelsnummer = '885';\n",
      "1239\n",
      "UPDATE livs SET Huvudgrupp = '' WHERE Livsmedelsnummer = '1239';\n",
      "1245\n",
      "UPDATE livs SET Huvudgrupp = '' WHERE Livsmedelsnummer = '1245';\n",
      "1561\n",
      "UPDATE livs SET Huvudgrupp = '' WHERE Livsmedelsnummer = '1561';\n",
      "1910\n",
      "UPDATE livs SET Huvudgrupp = '' WHERE Livsmedelsnummer = '1910';\n",
      "1911\n",
      "UPDATE livs SET Huvudgrupp = '' WHERE Livsmedelsnummer = '1911';\n"
     ]
    }
   ],
   "source": [
    "conn = sqlite3.connect('../livs.db')  # Create db and establish connection\n",
    "conn.row_factory = sqlite3.Row\n",
    "curs = conn.cursor()\n",
    "\n",
    "for row in new:\n",
    "    print(row)\n",
    "    sql = \"UPDATE livs SET Huvudgrupp = '' WHERE Livsmedelsnummer = '\"+row+\"';\"\n",
    "    print(sql)\n",
    "    #curs.execute(sql) #Kommentera bort denna rad vid testning\n",
    "\n",
    "conn.commit()\n",
    "conn.close()"
   ]
  },
  {
   "cell_type": "code",
   "execution_count": null,
   "metadata": {
    "collapsed": true
   },
   "outputs": [],
   "source": []
  }
 ],
 "metadata": {
  "kernelspec": {
   "display_name": "Python 3",
   "language": "python",
   "name": "python3"
  },
  "language_info": {
   "codemirror_mode": {
    "name": "ipython",
    "version": 3
   },
   "file_extension": ".py",
   "mimetype": "text/x-python",
   "name": "python",
   "nbconvert_exporter": "python",
   "pygments_lexer": "ipython3",
   "version": "3.5.4"
  }
 },
 "nbformat": 4,
 "nbformat_minor": 2
}
