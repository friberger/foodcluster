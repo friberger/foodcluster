{
 "cells": [
  {
   "cell_type": "markdown",
   "metadata": {},
   "source": [
    "## Att leka med kluster av mat\n",
    "\n",
    "Det finns över tvåtusen livsmedel i Livsmedelsdatabasen, och de har värden för över 50 näringsvärden.\n",
    "\n",
    "Att sortera dem i Excel funkar ett tag, men det blir svårt att få en samlad bedömning eller gruppering av stora mängder livsmedel."
   ]
  },
  {
   "cell_type": "markdown",
   "metadata": {},
   "source": [
    "Det finns också en metadataklassificering som Livsmedelsverket kallar \"huvudgrupp\". Det är en klassificering som bara har en nivå. Inget över, inget under. En flat nivå."
   ]
  },
  {
   "cell_type": "code",
   "execution_count": 1,
   "metadata": {},
   "outputs": [],
   "source": [
    "import sqlite3\n",
    "import numpy as np\n",
    "from sklearn.cluster import KMeans"
   ]
  },
  {
   "cell_type": "code",
   "execution_count": 2,
   "metadata": {},
   "outputs": [],
   "source": [
    "debug = True"
   ]
  },
  {
   "cell_type": "markdown",
   "metadata": {},
   "source": [
    "Börja med att läsa in allt från databasen. Det tar inte så mycket minne, men är svårt att få överblick över.\n",
    "\n",
    "Allt ligger i variabeln dataset som är en numpy-array. Man kan skriva ut den eller delar av den när som helst om man vill se vad som ligger på en viss rad eller en viss kolumn. Kolumn 0 är livsmedelsnamnet, 1 är livsmedelsnumret."
   ]
  },
  {
   "cell_type": "code",
   "execution_count": 3,
   "metadata": {},
   "outputs": [
    {
     "name": "stdout",
     "output_type": "stream",
     "text": [
      "[['Talg nöt' '1' 656.3 2746.0 0.0]\n",
      " ['Späck gris' '2' 763.0 3192.6 0.0]\n",
      " ['Ister gris' '3' 884.3 3700.0 0.0]\n",
      " ['Kokosfett' '4' 884.3 3700.0 0.0]\n",
      " ['Matfettsblandning havssaltat fett 80% berikad typ Bregott' '5' 711.5\n",
      "  2977.0 0.5]]\n"
     ]
    }
   ],
   "source": [
    "conn = sqlite3.connect('livs.db')\n",
    "conn.row_factory = sqlite3.Row\n",
    "curs = conn.cursor()\n",
    "\n",
    "result = []\n",
    "for row in curs.execute('select * from livs'):\n",
    "    result.append(row)\n",
    "\n",
    "conn.close()\n",
    "\n",
    "dataset = np.array(result)\n",
    "if debug:\n",
    "    print (dataset[:5,:5])"
   ]
  },
  {
   "cell_type": "markdown",
   "metadata": {},
   "source": [
    "Livsmedelsverkets gruppering har jag lagt i kolumn 60. Numpy-funktionen np.unique() returnerar både alla unika värden och (om man vill) hur många som är i varje kategori."
   ]
  },
  {
   "cell_type": "code",
   "execution_count": 4,
   "metadata": {},
   "outputs": [],
   "source": [
    "unique, counts = np.unique(dataset.T[60], return_counts=True) #https://stackoverflow.com/questions/28663856/how-to-count-the-occurrence-of-certain-item-in-an-ndarray-in-python\n",
    "huvudgrupp_storlek = np.array(list(zip(unique, counts)))"
   ]
  },
  {
   "cell_type": "markdown",
   "metadata": {},
   "source": [
    "Skriver man ut huvudgrupp_storlek blir det typ 118 kategorier i bokstavsordning. Här är de n första."
   ]
  },
  {
   "cell_type": "code",
   "execution_count": 5,
   "metadata": {},
   "outputs": [
    {
     "name": "stdout",
     "output_type": "stream",
     "text": [
      "[['' '7']\n",
      " ['Algprodukter' '1']\n",
      " ['Baljväxter (bönor, linser och ärter)' '51']\n",
      " ['Blodmat' '2']\n",
      " ['Blodprodukter o rätter' '8']\n",
      " ['Buljong' '18']\n",
      " ['Bullar kakor tårtor mm' '86']\n",
      " ['Bär färska frysta' '24']\n",
      " ['Chips popcorn o dyl' '11']\n",
      " ['Choklad' '7']\n",
      " ['Cider alkoläsk drink' '3']\n",
      " ['Deg och gräddade skal och bottnar' '3']\n",
      " ['Dessertost' '8']\n",
      " ['Dryck' '1']\n",
      " ['Efterrätter' '31']\n",
      " ['Fisk färsk fryst kokt' '68']\n",
      " ['Fisk o skaldjursprodukter o rätter' '69']\n",
      " ['Fisk rökt' '13']\n",
      " ['Fisk stekt ej panerad' '7']\n",
      " ['Flingor - frukostflingor' '28']]\n"
     ]
    }
   ],
   "source": [
    "n = 20\n",
    "print (huvudgrupp_storlek[:n])"
   ]
  },
  {
   "cell_type": "markdown",
   "metadata": {},
   "source": [
    "Jag förstår inte riktigt varför det är så svårt att sortera den arrayen. Det är ju en sak att allting är strängar, eftersom en numpy-array bara kan ha en enda datatyp, men det borde finnas ett enkelt sätt att sortera efter kolumn två som integer...\n",
    "\n",
    "Som det blir nu behöver man skapa ett index genom att använda np.argsort, ta de 20 första med [-20:] och sen vända på ordningen med [::-1], som helt enkelt är en slice till, där -1 är step-argumentet. https://docs.scipy.org/doc/numpy-1.13.0/reference/arrays.indexing.html "
   ]
  },
  {
   "cell_type": "code",
   "execution_count": 6,
   "metadata": {},
   "outputs": [
    {
     "name": "stdout",
     "output_type": "stream",
     "text": [
      "[['Kött färskt fryst tillagat' '127']\n",
      " ['Grönsaker' '94']\n",
      " ['Bullar kakor tårtor mm' '86']\n",
      " ['Köttprodukter kötträtter' '80']\n",
      " ['Sås dressing majonnäs' '79']\n",
      " ['Fisk o skaldjursprodukter o rätter' '69']\n",
      " ['Fisk färsk fryst kokt' '68']\n",
      " ['Korv' '60']\n",
      " ['Grönsaks- rotfrukts- baljväxträtter och produkter' '55']\n",
      " ['Baljväxter (bönor, linser och ärter)' '51']\n",
      " ['Soppa mat' '47']\n",
      " ['Pizza paj pirog färdig smörgås' '46']\n",
      " ['Frukt färsk fryst' '42']\n",
      " ['Mjukt bröd' '42']\n",
      " ['Hård matfettsblandning' '39']\n",
      " ['Fågel' '39']\n",
      " ['Potatisprodukter o rätter' '33']\n",
      " ['Inälvor och organ' '33']\n",
      " ['Potatis' '31']\n",
      " ['Efterrätter' '31']]\n"
     ]
    }
   ],
   "source": [
    "antal = 20\n",
    "index = np.argsort(huvudgrupp_storlek.T[1].astype(int))[-antal:][::-1] #https://stackoverflow.com/questions/6910641/how-to-get-indices-of-n-maximum-values-in-a-numpy-array\n",
    "print(huvudgrupp_storlek[index])"
   ]
  },
  {
   "cell_type": "markdown",
   "metadata": {},
   "source": [
    "Medan de största grupperna är ganska rättframma är de minsta desto knepigare. Vad ska man göra med en klassificering som innehåller en huvudgrupp \"Risrätter\" med endast ett livsmedel, och det är paella och inte exempelvis risgrynsgröt?"
   ]
  },
  {
   "cell_type": "code",
   "execution_count": 7,
   "metadata": {},
   "outputs": [
    {
     "name": "stdout",
     "output_type": "stream",
     "text": [
      "[['Sötningsmedel' '1']\n",
      " ['Algprodukter' '1']\n",
      " ['Kryddor' '1']\n",
      " ['Övrigt animaliskt *kött*, grodlår, sniglar, säl - färskt, fryst, tillagat'\n",
      "  '1']\n",
      " ['Sockerfritt godis' '1']\n",
      " ['Risrätter' '1']\n",
      " ['Dryck' '1']\n",
      " ['Tacoskal' '1']\n",
      " ['Riskakor' '2']\n",
      " ['Frukt o nötblandningar bars' '2']\n",
      " ['Frukt o bär' '2']\n",
      " ['Sportdrycker energidrycker' '2']\n",
      " ['Gelatin agar agar' '2']\n",
      " ['Övrigt' '2']\n",
      " ['Blodmat' '2']\n",
      " ['Tuggummi' '2']\n",
      " ['Kakaoprodukter' '2']\n",
      " ['Cider alkoläsk drink' '3']\n",
      " ['Osträtter' '3']\n",
      " ['Smör' '3']]\n"
     ]
    }
   ],
   "source": [
    "index = np.argsort(huvudgrupp_storlek.T[1].astype(int))[:20] #https://stackoverflow.com/questions/6910641/how-to-get-indices-of-n-maximum-values-in-a-numpy-array\n",
    "print(huvudgrupp_storlek[index])"
   ]
  },
  {
   "cell_type": "markdown",
   "metadata": {},
   "source": [
    "Det går ju även att få fram vilka livsmedel som finns i de där grupperna."
   ]
  },
  {
   "cell_type": "code",
   "execution_count": 8,
   "metadata": {},
   "outputs": [
    {
     "name": "stdout",
     "output_type": "stream",
     "text": [
      "Sötningsmedel \n",
      " [['Sorbitol m sackarin']]\n",
      "Algprodukter \n",
      " [['Kelp torkad']]\n",
      "Kryddor \n",
      " [['Kryddblandning taco']]\n",
      "Övrigt animaliskt *kött*, grodlår, sniglar, säl - färskt, fryst, tillagat \n",
      " [['Grodlår råa frysta']]\n",
      "Sockerfritt godis \n",
      " [['Karameller syrliga sockerfria']]\n",
      "Risrätter \n",
      " [['Paella']]\n",
      "Dryck \n",
      " [['Mandeldryck']]\n",
      "Tacoskal \n",
      " [['Tacoskal']]\n",
      "Riskakor \n",
      " [['Riskakor fullkorn solrosfrön majs fett 4%'\n",
      "  'Riskakor fullkorn smaksatta fett 18%']]\n",
      "Frukt o nötblandningar bars \n",
      " [['Energibar choklad nötter Start'\n",
      "  'Müslibar fullkorn berikad typ Special K Bar Red fruit']]\n",
      "Frukt o bär \n",
      " [['Havtorn' 'Aronia']]\n",
      "Sportdrycker energidrycker \n",
      " [['Sportdryck drickf' 'Energidryck typ Red Bull berikad']]\n",
      "Gelatin agar agar \n",
      " [['Agar torkad' 'Gelatinblad gelatinpulver']]\n",
      "Övrigt \n",
      " [['Samarinpulver' 'Samarin drickf']]\n",
      "Blodmat \n",
      " [['Gris blod rå' 'Nöt blod rå']]\n",
      "Tuggummi \n",
      " [['Tuggummi' 'Tuggummi sockerfritt']]\n",
      "Kakaoprodukter \n",
      " [['Kakaopulver fett 20-22%' \"Kakaopulver m socker fett 2,5% typ O'boy\"]]\n",
      "Cider alkoläsk drink \n",
      " [['Cider vol. % 1' 'Irish coffee' 'Alkoläsk kolsyrad dryck vol. % 4-5']]\n",
      "Osträtter \n",
      " [['Camembert vitmögelost friterad'\n",
      "  'Crêpefyllning spenat fetaost skinka keso' 'Ostsufflé']]\n",
      "Smör \n",
      " [['Smör fett 80 %' 'Smör extrasaltat fett 80%' 'Smör osaltat fett 80%']]\n"
     ]
    }
   ],
   "source": [
    "for row in huvudgrupp_storlek[index]:\n",
    "    q = np.where(dataset.T[60]==row[0])\n",
    "    print(row[0],\"\\n\",dataset[q,0]) #Det går ju att skriva ut vilka värden som helst för varje livsmedel, som med dataset[q,:]"
   ]
  },
  {
   "cell_type": "markdown",
   "metadata": {},
   "source": [
    "Den här klassificeringen är alltså den som Livsmedelsverket själva har gjort, och det går att ändra parametrarna här ovan och få fram mycket mer om den.\n",
    "\n",
    "Men vad händer om man baserar en gruppering bara på näringsvärden i stället?"
   ]
  },
  {
   "cell_type": "markdown",
   "metadata": {},
   "source": [
    "## Klustring av näringsvärden\n",
    "\n",
    "Det finns över 50 näringsvärden i databasen."
   ]
  },
  {
   "cell_type": "markdown",
   "metadata": {},
   "source": [
    "Av de över 50 näringsvärdena får man välja ut ett antal som man tror kan spela roll för att ge livsmedlen en viss \"profil\". \n",
    "\n",
    "I princip skulle man kunna ha alla näringsvärden med, och man kan testa sig fram. Men på något sätt tror jag att de näringsvärden där många livsmedel har noll-värden kommer att förvirra klustringen.\n",
    "\n",
    "De här tror jag ger en bra bild av rymden av livsmedel. \n",
    "```\n",
    "[2 'Energi_kcal' 'REAL' 0 None 0]\n",
    "[4 'Kolhydrater_g' 'REAL' 0 None 0]\n",
    "[5 'Fett_g' 'REAL' 0 None 0]\n",
    "[6 'Protein_g' 'REAL' 0 None 0]\n",
    "[7 'Fibrer_g' 'REAL' 0 None 0]\n",
    "[8 'Vatten_g' 'REAL' 0 None 0]\n",
    "[9 'Alkohol_g' 'REAL' 0 None 0]\n",
    "[10 'Aska_g' 'REAL' 0 None 0]\n",
    "[42 'Vitamin_C_mg' 'REAL' 0 None 0]\n",
    "[50 'Jarn_mg' 'REAL' 0 None 0]\n",
    "```"
   ]
  },
  {
   "cell_type": "code",
   "execution_count": 60,
   "metadata": {},
   "outputs": [],
   "source": [
    "#Här är det urval som används nu\n",
    "relevant_columns = [ 2,  4,  5,  6,  7,  8,  9, 10, 42, 50]\n",
    "#relevant_columns = [2,  4,  5,  6,  7,  8,  9, 10, 11, 12, 13, 14, 16, 17, 18, 19, 20, 21, 22, 23, 24, 25, 26, 27, 28, 29, 30, 31, 32, 33, 35, 37, 38, 40, 41, 42, 43, 44, 45, 46, 47, 48, 50, 51, 52, 53, 54, 55, 56, 57]\n",
    "\n",
    "#Här är alla möjliga dimensioner. En del försvinner eftersom de \n",
    "#har värden som saknas för vissa livsmedel\n",
    "#[ 2,  4,  5,  6,  7,  8,  9, 10, 11, 12, 13, 14, 16, 17, 18, 19, 20, 21, 22, 23, 24, 25, 26, 27, 28, 29, 30, 31, 32, 33, 35, 37, 38, 40, 41, 42, 43, 44, 45, 46, 47, 48, 50, 51, 52, 53, 54, 55, 56, 57]"
   ]
  },
  {
   "cell_type": "markdown",
   "metadata": {},
   "source": [
    "Variabeln columns används för att hålla de värden som ska klustras. Vid klustringen undersöker algoritmen om man kan hitta några grupper av livsmedel som är mer lika än andra. Den slumpar ut kluster-mittpunkter och ser vilka livsmedel som ligger närmast dem (i alla dimensioner). Därefter ändrar den mittpunkterna lite, räknar om och ser om det blev bättre.\n",
    "\n",
    "Lite om numpy: i numpy kan man använda en array som index, men det gäller att göra det till ett index för kolumnerna och inte för raderna... (Läs mer om array som index här: <http://infontology.typepad.com/infontokod/2017/11/bra-funktioner-i-numpy.html> Där står också om den här \"slice\"-notationen array[a:b,c:d])"
   ]
  },
  {
   "cell_type": "code",
   "execution_count": 61,
   "metadata": {},
   "outputs": [
    {
     "name": "stdout",
     "output_type": "stream",
     "text": [
      "[[656.3 0.0 71.0 ... 0.3 0.0 0.3]\n",
      " [763.0 0.0 85.0 ... 0.7 0.0 0.2]\n",
      " [884.3 0.0 100.0 ... 0.0 0.0 0.1]\n",
      " ...\n",
      " [40.6 7.6 0.5 ... 0.2 0.0 0.1]\n",
      " [372.6 72.6 3.55 ... 0.0 0.0 11.35]\n",
      " [313.7 57.5 4.8 ... 0.0 0.0 0.85]]\n"
     ]
    }
   ],
   "source": [
    "columns = dataset[:,relevant_columns] #Tar man bort ':,' blir det alltså ett urval rader\n",
    "print(columns)"
   ]
  },
  {
   "cell_type": "markdown",
   "metadata": {},
   "source": [
    "Det går förstås att välja en massa olika klustringsalgoritmer. Vi har valt k-means. Det finns också en hel del parametrar att välja. <http://scikit-learn.org/stable/modules/generated/sklearn.cluster.KMeans.html>"
   ]
  },
  {
   "cell_type": "code",
   "execution_count": 62,
   "metadata": {},
   "outputs": [],
   "source": [
    " def cluster(dataset):\n",
    "    kmeans = KMeans(n_clusters=numClusters, verbose=0, n_init=100)\n",
    "    kmeans.fit(dataset)\n",
    "\n",
    "    centroids = kmeans.cluster_centers_\n",
    "    clusters = kmeans.labels_\n",
    "    \n",
    "    #Utskriften kommer ju inte här, utan efter funktionsanropet\n",
    "    if debug:\n",
    "        print (centroids)\n",
    "        print (clusters)\n",
    "\n",
    "    return clusters, centroids"
   ]
  },
  {
   "cell_type": "code",
   "execution_count": 63,
   "metadata": {},
   "outputs": [],
   "source": [
    "#Livsmedelsdatabasen innehåller över 100 huvudgrupper. Det hade varit bra att ha något \n",
    "#färre grupper på översta nivån. Högst 50. Eller kanske bara 10, för att komma ner i något som\n",
    "#skulle kunna motsvara \"frukt, grönsaker, fisk, kött, nötter\" etc.\n",
    "numClusters = 20"
   ]
  },
  {
   "cell_type": "code",
   "execution_count": 64,
   "metadata": {
    "scrolled": false
   },
   "outputs": [
    {
     "name": "stdout",
     "output_type": "stream",
     "text": [
      "[[ 3.91076623e+02  7.27866234e+01  6.49519481e+00  7.42792208e+00\n",
      "   4.04142857e+00  7.55883117e+00  2.49800181e-16  1.68610390e+00\n",
      "   4.37532468e+00  3.32922078e+00]\n",
      " [ 1.38718327e+02  9.17729084e+00  5.75494024e+00  1.15548207e+01\n",
      "   1.05043825e+00  7.01649004e+01  2.15856574e-01  2.04705179e+00\n",
      "   3.60398406e+00  1.52223108e+00]\n",
      " [ 8.84300000e+02  3.55271368e-15  1.00000000e+02  0.00000000e+00\n",
      "   4.44089210e-16 -2.13162821e-14 -5.55111512e-17  4.44089210e-16\n",
      "   1.77635684e-15  6.25000000e-03]\n",
      " [ 2.69321608e+01  3.93356784e+00  3.77939698e-01  1.16025126e+00\n",
      "   1.15391960e+00  9.25750251e+01  9.85427136e-02  7.01809045e-01\n",
      "   6.25025126e+00  3.86432161e-01]\n",
      " [ 2.93174038e+02  1.08963462e+01  2.23552885e+01  1.18263462e+01\n",
      "   4.25000000e-01  5.15480769e+01  2.93269231e-01  2.29375000e+00\n",
      "   2.85192308e+00  1.52403846e+00]\n",
      " [ 5.84596774e+02  1.19203226e+01  5.51438710e+01  1.01980645e+01\n",
      "   3.72193548e+00  1.66654839e+01 -1.38777878e-16  2.32129032e+00\n",
      "   7.06451613e-01  3.13838710e+00]\n",
      " [ 1.81223474e+02  9.68661972e+00  9.77788732e+00  1.31275587e+01\n",
      "   8.33661972e-01  6.41100939e+01  6.02347418e-02  2.37084507e+00\n",
      "   2.07323944e+00  1.28093897e+00]\n",
      " [ 6.78367273e+01  9.30570909e+00  1.41050909e+00  3.33487273e+00\n",
      "   1.58327273e+00  8.31744364e+01  1.39381818e-01  1.06832727e+00\n",
      "   7.54000000e+00  9.04836364e-01]\n",
      " [ 3.64523438e+02  7.06000000e+00  3.18689062e+01  1.27101562e+01\n",
      "   1.14718750e+00  4.45235937e+01  2.03125000e-03  2.59656250e+00\n",
      "   1.51406250e+00  1.16203125e+00]\n",
      " [ 6.21714286e+01  1.07092857e+01  6.72857143e-01  1.59357143e+00\n",
      "   3.17785714e+00  8.30042857e+01 -2.77555756e-17  1.01785714e+00\n",
      "   1.54228571e+02  8.45000000e-01]\n",
      " [ 7.10170968e+02  1.47935484e+00  7.84309677e+01  2.24387097e+00\n",
      "   9.08387097e-01  1.55654839e+01 -1.38777878e-16  1.31774194e+00\n",
      "   4.29032258e-01  4.15483871e-01]\n",
      " [ 2.68326923e+02  4.64633333e+01  4.34397436e+00  7.41961538e+00\n",
      "   4.86666667e+00  3.13070513e+01  2.43589744e-01  5.35205128e+00\n",
      "   9.61538462e-01  2.05448718e+00]\n",
      " [ 3.45822124e+02  6.43531858e+01  3.31176991e+00  1.02976106e+01\n",
      "   6.92150442e+00  1.26106195e+01  3.88578059e-16  2.52123894e+00\n",
      "   1.30973451e+00  3.27283186e+00]\n",
      " [ 5.12583333e+02  5.26597917e+01  2.99493750e+01  6.89500000e+00\n",
      "   3.06583333e+00  5.67125000e+00  0.00000000e+00  1.74729167e+00\n",
      "   8.58333333e-01  1.88145833e+00]\n",
      " [ 1.04367260e+02  7.34028470e+00  3.17501779e+00  1.09007473e+01\n",
      "   9.02882562e-01  7.60491459e+01  4.54092527e-02  1.56996441e+00\n",
      "   3.64982206e+00  1.27882562e+00]\n",
      " [ 3.69539683e+01  5.96492063e+00  3.08888889e-01  1.47904762e+00\n",
      "   2.08063492e+00  8.93550794e+01  1.66533454e-16  8.07619048e-01\n",
      "   5.07428571e+01  6.21904762e-01]\n",
      " [ 2.92375000e+02  6.61500000e+01  5.50000000e-01  2.02500000e+00\n",
      "   5.50000000e+00  2.32250000e+01  0.00000000e+00  2.55000000e+00\n",
      "   2.04750000e+02  1.52500000e+00]\n",
      " [ 4.50073684e+02  4.76763158e+01  2.43457895e+01  8.51035088e+00\n",
      "   3.39859649e+00  1.40514035e+01  1.11022302e-16  2.00087719e+00\n",
      "   3.50701754e+00  2.08543860e+00]\n",
      " [ 2.31974545e+02  1.22809697e+01  1.38889091e+01  1.17389697e+01\n",
      "   9.40787879e-01  5.66830303e+01  1.41042424e+00  3.05642424e+00\n",
      "   1.48909091e+00  1.64727273e+00]\n",
      " [ 0.00000000e+00  0.00000000e+00  0.00000000e+00  0.00000000e+00\n",
      "   0.00000000e+00  1.22500000e+00  0.00000000e+00  9.87750000e+01\n",
      "   0.00000000e+00  1.17500000e+00]]\n",
      "[10 10  2 ...  3  0 12]\n"
     ]
    }
   ],
   "source": [
    "clusters, centroids = cluster(columns)"
   ]
  },
  {
   "cell_type": "markdown",
   "metadata": {},
   "source": [
    "Clusters är en array som är lika lång som antalet rader i dataset:"
   ]
  },
  {
   "cell_type": "code",
   "execution_count": 65,
   "metadata": {},
   "outputs": [
    {
     "name": "stdout",
     "output_type": "stream",
     "text": [
      "[10 10  2 ...  3  0 12] Antal värden: 2088\n"
     ]
    }
   ],
   "source": [
    "print(clusters, \"Antal värden:\", len(clusters))"
   ]
  },
  {
   "cell_type": "markdown",
   "metadata": {},
   "source": [
    "Beroende på hur man väljer parametrarna vid klustringen kan man få liten eller stor variation i hur många som hamnar i de olika klustren.\n",
    "\n",
    "Här är en tabell med fördelningen, och med några enkla statistiska mått."
   ]
  },
  {
   "cell_type": "code",
   "execution_count": 66,
   "metadata": {},
   "outputs": [
    {
     "name": "stdout",
     "output_type": "stream",
     "text": [
      "[[  0  77]\n",
      " [  1 252]\n",
      " [  2  16]\n",
      " [  3 199]\n",
      " [  4 104]\n",
      " [  5  31]\n",
      " [  6 213]\n",
      " [  7 275]\n",
      " [  8  64]\n",
      " [  9  14]\n",
      " [ 10  31]\n",
      " [ 11  78]\n",
      " [ 12 113]\n",
      " [ 13  48]\n",
      " [ 14 280]\n",
      " [ 15  63]\n",
      " [ 16   4]\n",
      " [ 17  57]\n",
      " [ 18 165]\n",
      " [ 19   4]]\n",
      "Medelvärde: 104.4\n",
      "Median: 70.5\n",
      "Standardavvikelse: 90.3766562780456\n"
     ]
    }
   ],
   "source": [
    "unique, counts = np.unique(clusters, return_counts=True) #https://stackoverflow.com/questions/28663856/how-to-count-the-occurrence-of-certain-item-in-an-ndarray-in-python\n",
    "cluster_distribution = np.array(list(zip(unique, counts)))\n",
    "print(cluster_distribution)\n",
    "print(\"Medelvärde:\", np.mean(cluster_distribution.T[1]))\n",
    "print(\"Median:\", np.median(cluster_distribution.T[1]))\n",
    "print(\"Standardavvikelse:\",np.std(cluster_distribution.T[1]))"
   ]
  },
  {
   "cell_type": "markdown",
   "metadata": {},
   "source": [
    "## Huvudgrupper i relation till kluster\n",
    "\n",
    "Jag vet inte hur Livsmedelsverket har gjort när de har satt ihop sin lista av huvudgrupper. Jag tror att den bygger mycket på tradition.\n",
    "\n",
    "När jag började titta på klustring begränsade jag beräkningarna till bara fett, protein och kolhydrater, och då hamnade mesosten i samma kluster som knäckebrödet, på grund av sin höga andel kolhydrater. Det var lite oväntat, men rymden av näringsvärden är ju helt ovetande om mänskliga måltidstraditioner eller inköpsmönster.\n",
    "\n",
    "En av poängerna med att titta på kluster är att få en uppfattning just om vilka livsmedel som hänger ihop näringsmässigt. Om man vill skulle det sen vara möjligt att ta ett visst livsmedel, exempelvis _bläckfisk_, och fråga vilka andra livsmedel som näringsmässigt ligger nära bläckfisken. Det kanske visar sig att tofu eller drickyoghurt ligger lika nära som torsk eller blåmusslor.\n",
    "\n",
    "Nu efter att klustringen är gjord går det att se vilka livsmedel som ingår i varje kluster, och vilka huvudgrupper de ingår i."
   ]
  },
  {
   "cell_type": "code",
   "execution_count": 72,
   "metadata": {},
   "outputs": [],
   "source": [
    "valt_kluster = 5"
   ]
  },
  {
   "cell_type": "code",
   "execution_count": 73,
   "metadata": {},
   "outputs": [
    {
     "name": "stdout",
     "output_type": "stream",
     "text": [
      "[['Matfettsblandning fett 60 % berikad typ Bregott mellan'\n",
      "  'Hård matfettsblandning']\n",
      " ['Bordsmargarin fett 70% berikad typ Milda' 'Hård matfettsblandning']\n",
      " ['Bordsmargarin extrasaltat fett 60% berikad typ Milda'\n",
      "  'Hård matfettsblandning']\n",
      " ['Bordsmargarin mjölkfri fett 60% berikad typ Milda'\n",
      "  'Hård matfettsblandning']\n",
      " ['Gravlaxsås' 'Sås dressing majonnäs']\n",
      " ['Dressing majonnäs fett ca 60%' 'Sås dressing majonnäs']\n",
      " ['Hollandaisesås' 'Sås dressing majonnäs']\n",
      " ['Dressing vinägrett fett  65%' 'Sås dressing majonnäs']\n",
      " ['Cashewnötter' 'Nötter frön']\n",
      " ['Jordnötssmör' 'Nötter frön']\n",
      " ['Jordnötter torkade' 'Nötter frön']\n",
      " ['Jordnötter rostade' '']\n",
      " ['Jordnötter rostade saltade' 'Nötter frön']\n",
      " ['Kokosflingor torkade' 'Nötter frön']\n",
      " ['Pistaschnötter' 'Nötter frön']\n",
      " ['Pumpafrön squashfrön torkade' 'Nötter frön']\n",
      " ['Sesamfrön torkade' 'Nötter frön']\n",
      " ['Sesamfrön torkade u skal' 'Nötter frön']\n",
      " ['Solrosfrön torkade' 'Nötter frön']\n",
      " ['Sötmandel torkad' 'Nötter frön']\n",
      " ['Choklad u tillsatt socker' 'Choklad']\n",
      " ['Pesto' 'Sås dressing majonnäs']\n",
      " ['Pestosås m basilika pinjenötter cashewnötter' 'Sås dressing majonnäs']\n",
      " ['Vit choklad' 'Choklad']\n",
      " ['Mörk choklad kakao >70 %' 'Choklad']\n",
      " ['Rostad lök' 'Grönsaks- rotfrukts- baljväxträtter och produkter']\n",
      " ['Bordsmargarin fett 60% berikad typ Carlshamn Runda Bords'\n",
      "  'Hård matfettsblandning']\n",
      " ['Bordsmargarin mjölkfri fett 70% berikad typ Carlshamn'\n",
      "  'Hård matfettsblandning']\n",
      " ['Bordsmargarin fett 70% berikad typ Becel Gold'\n",
      "  'Hård matfettsblandning']\n",
      " ['Bordsmargarin fett 60% berikad typ Euroshopper'\n",
      "  'Hård matfettsblandning']\n",
      " ['Hushållsmargarin fett 70% berikad typ X-tra' 'Hård matfettsblandning']]\n"
     ]
    }
   ],
   "source": [
    "livsmedel_i_kluster = dataset[np.where(clusters==valt_kluster)][:,[0,60]]\n",
    "print(livsmedel_i_kluster)"
   ]
  },
  {
   "cell_type": "markdown",
   "metadata": {},
   "source": [
    "Eftersom det är så många livsmedel i varje kluster är det lättare att visa dem som en fördelning:"
   ]
  },
  {
   "cell_type": "code",
   "execution_count": 74,
   "metadata": {},
   "outputs": [
    {
     "name": "stdout",
     "output_type": "stream",
     "text": [
      "[['' '1']\n",
      " ['Choklad' '3']\n",
      " ['Grönsaks- rotfrukts- baljväxträtter och produkter' '1']\n",
      " ['Hård matfettsblandning' '9']\n",
      " ['Nötter frön' '11']\n",
      " ['Sås dressing majonnäs' '6']]\n"
     ]
    }
   ],
   "source": [
    "a=dataset[np.where(clusters==valt_kluster)][:,[0,60]]\n",
    "unique, counts = np.unique(a.T[1], return_counts=True) #https://stackoverflow.com/questions/28663856/how-to-count-the-occurrence-of-certain-item-in-an-ndarray-in-python\n",
    "huvudgrupp_distribution = np.array(list(zip(unique, counts)))\n",
    "\n",
    "print(huvudgrupp_distribution)"
   ]
  },
  {
   "cell_type": "markdown",
   "metadata": {},
   "source": [
    "Om man sorterar blir det lättare att få en uppfattning av vad klustret egentligen innehåller. "
   ]
  },
  {
   "cell_type": "code",
   "execution_count": 75,
   "metadata": {},
   "outputs": [
    {
     "name": "stdout",
     "output_type": "stream",
     "text": [
      "[['Nötter frön' '11']\n",
      " ['Hård matfettsblandning' '9']\n",
      " ['Sås dressing majonnäs' '6']\n",
      " ['Choklad' '3']\n",
      " ['Grönsaks- rotfrukts- baljväxträtter och produkter' '1']\n",
      " ['' '1']]\n"
     ]
    }
   ],
   "source": [
    "order=np.argsort(huvudgrupp_distribution.T[1].astype(int))\n",
    "order = np.flipud(order)\n",
    "#print (order)\n",
    "huvudgrupp_distribution = huvudgrupp_distribution[order]\n",
    "print(huvudgrupp_distribution)"
   ]
  },
  {
   "cell_type": "markdown",
   "metadata": {},
   "source": [
    "När jag körde fick jag en gång dessa som största kategorier i ett kluster:\n",
    "    \n",
    "```\n",
    "['Korv' '17']\n",
    "['Kött färskt fryst tillagat' '16']\n",
    "['Pizza paj pirog färdig smörgås' '13']\n",
    "['Köttprodukter kötträtter' '12']\n",
    "['Fisk o skaldjursprodukter o rätter' '12']\n",
    "['Starksprit' '6']\n",
    "```\n",
    "\n",
    "Jag antar att det hänger ihop med det höga energiinnehållet i spriten. Det är ju ingen som skulle föreslå att byta ut korven i middagen mot en sup, men kanske kan man tänka omvänt, att om man dricker mycket alkohol så motsvarar det rätt mycket korv."
   ]
  },
  {
   "cell_type": "markdown",
   "metadata": {},
   "source": [
    "Men även om man tycker att man har fått en stor andel av en viss huvudgrupp i sitt kluster, så kanske det ändå är bara en liten andel av hela huvudgruppen. \n",
    "\n",
    "Jag gjorde några beräkningar till, för att få fram hur stor del av huvudgruppen som man har prickat rätt:"
   ]
  },
  {
   "cell_type": "code",
   "execution_count": 76,
   "metadata": {
    "scrolled": true
   },
   "outputs": [
    {
     "name": "stdout",
     "output_type": "stream",
     "text": [
      "Namn, Antal i kluster, Totalt i huvudgrupp, Andel av huvudgrupp\n",
      "[['Nötter frön' '11' '21' '0.5238095238095238']\n",
      " ['Hård matfettsblandning' '9' '39' '0.23076923076923078']\n",
      " ['Sås dressing majonnäs' '6' '79' '0.0759493670886076']\n",
      " ['Choklad' '3' '7' '0.42857142857142855']\n",
      " ['Grönsaks- rotfrukts- baljväxträtter och produkter' '1' '55'\n",
      "  '0.01818181818181818']\n",
      " ['' '1' '7' '0.14285714285714285']]\n"
     ]
    }
   ],
   "source": [
    "totals = np.array([])\n",
    "for item in huvudgrupp_distribution:\n",
    "    a=np.where(huvudgrupp_storlek.T[0] == item [0])\n",
    "    totals=np.append(totals,huvudgrupp_storlek[a[0],1])\n",
    "samlad_array = np.concatenate((huvudgrupp_distribution.T,[totals]),axis=0).T\n",
    "part = lambda x: np.divide(x[1].astype(int),x[2].astype(int))\n",
    "andel = part(samlad_array.T)\n",
    "samlad_array = np.vstack((samlad_array.T,andel.T))\n",
    "print (\"Namn,\", \"Antal i kluster,\", \"Totalt i huvudgrupp,\", \"Andel av huvudgrupp\")\n",
    "print (samlad_array.T)    "
   ]
  },
  {
   "cell_type": "markdown",
   "metadata": {},
   "source": [
    "Det här är kanske så långt vi kommer i det här resonemanget. En början till att jämföra Livsmedelsverkets klassificering med den klassificering man får om man _bara_ ser till näringsvärden i olika kombinationer.\n",
    "\n",
    "En av de saker som drev mig till detta var de småkategorier som fanns bland Huvudgrupperna. Det skulle vara så bra om man kunde stoppa in dem i större kategorier. Men kanske går det inte. I alla fall inte baserat endast på näringsinnehåll.\n",
    "\n",
    "Det här tillvägagångssättet går förstås att effektivisera extremt mycket. Den här essän är bara skriven av pedagogiska skäl (dels för att visa potentialen i Jupyter, och dels för att visa upp rymden av livsmedelsdata).\n",
    "\n",
    "Man skulle till nästa essä kunna hålla fast vid möjligheten att det finns en korrespondens mellan huvudgrupper och näringsvärden, och kunna se vilka kombinationer av näringsvärden (och antal kluster) som ger best match mot huvudgrupperna. Det kräver massor av beräkningar! För varje antal kluster, välj alla kombinationer av näringsvärden: först enskilda näringsvärden, sen grupper av två, grupper av tre och så vidare. Och så måste man förstås hitta ett bra mått. Det måste man kanske också pröva sig fram till... Undrar om det finns ett matematiskt sätt att hitta det också, eller om det bara är möjligt att köra det så här med numeriska metoder..."
   ]
  },
  {
   "cell_type": "code",
   "execution_count": null,
   "metadata": {},
   "outputs": [],
   "source": []
  }
 ],
 "metadata": {
  "kernelspec": {
   "display_name": "Python 3",
   "language": "python",
   "name": "python3"
  },
  "language_info": {
   "codemirror_mode": {
    "name": "ipython",
    "version": 3
   },
   "file_extension": ".py",
   "mimetype": "text/x-python",
   "name": "python",
   "nbconvert_exporter": "python",
   "pygments_lexer": "ipython3",
   "version": "3.7.4"
  }
 },
 "nbformat": 4,
 "nbformat_minor": 2
}
