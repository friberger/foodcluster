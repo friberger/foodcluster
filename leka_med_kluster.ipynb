{
 "cells": [
  {
   "cell_type": "markdown",
   "metadata": {},
   "source": [
    "## Att leka med kluster av mat\n",
    "\n",
    "Det finns över tvåtusen livsmedel i Livsmedelsdatabasen, och de har värden för över 50 näringsvärden.\n",
    "\n",
    "Att sortera dem i Excel funkar ett tag, men det blir svårt att få en samlad bedömning eller gruppering av stora mängder livsmedel."
   ]
  },
  {
   "cell_type": "markdown",
   "metadata": {},
   "source": [
    "Det finns också en metadataklassificering som Livsmedelsverket kallar \"huvudgrupp\". Det är en klassificering som bara har en nivå. Inget över, inget under. En flat nivå."
   ]
  },
  {
   "cell_type": "code",
   "execution_count": 1,
   "metadata": {
    "collapsed": true
   },
   "outputs": [],
   "source": [
    "import sqlite3\n",
    "import numpy as np\n",
    "from sklearn.cluster import KMeans"
   ]
  },
  {
   "cell_type": "code",
   "execution_count": 2,
   "metadata": {
    "collapsed": true
   },
   "outputs": [],
   "source": [
    "debug = True"
   ]
  },
  {
   "cell_type": "markdown",
   "metadata": {},
   "source": [
    "Börja med att läsa in allt från databasen. Det tar inte så mycket minne, men är svårt att få överblick över.\n",
    "\n",
    "Allt ligger i variabeln dataset som är en numpy-array. Man kan skriva ut den eller delar av den när som helst om man vill se vad som ligger på en viss rad eller en viss kolumn. Kolumn 0 är livsmedelsnamnet, 1 är livsmedelsnumret."
   ]
  },
  {
   "cell_type": "code",
   "execution_count": 3,
   "metadata": {},
   "outputs": [
    {
     "name": "stdout",
     "output_type": "stream",
     "text": [
      "[['Talg nöt' '1' 656.3 2746.0 0.0]\n",
      " ['Späck gris' '2' 763.0 3192.6 0.0]\n",
      " ['Ister gris' '3' 884.3 3700.0 0.0]\n",
      " ['Kokosfett' '4' 884.3 3700.0 0.0]\n",
      " ['Matfettsblandning havssaltat fett 80% berikad typ Bregott' '5' 711.5\n",
      "  2977.0 0.5]]\n"
     ]
    }
   ],
   "source": [
    "conn = sqlite3.connect('livs.db')\n",
    "conn.row_factory = sqlite3.Row\n",
    "curs = conn.cursor()\n",
    "\n",
    "result = []\n",
    "for row in curs.execute('select * from livs'):\n",
    "    result.append(row)\n",
    "\n",
    "conn.close()\n",
    "\n",
    "dataset = np.array(result)\n",
    "if debug:\n",
    "    print (dataset[:5,:5])"
   ]
  },
  {
   "cell_type": "markdown",
   "metadata": {},
   "source": [
    "Livsmedelsverkets gruppering har jag lagt i kolumn 60. Numpy-funktionen np.unique() returnerar både alla unika värden och (om man vill) hur många som är i varje kategori."
   ]
  },
  {
   "cell_type": "code",
   "execution_count": 4,
   "metadata": {
    "collapsed": true
   },
   "outputs": [],
   "source": [
    "unique, counts = np.unique(dataset.T[60], return_counts=True) #https://stackoverflow.com/questions/28663856/how-to-count-the-occurrence-of-certain-item-in-an-ndarray-in-python\n",
    "huvudgrupp_storlek = np.array(list(zip(unique, counts)))"
   ]
  },
  {
   "cell_type": "markdown",
   "metadata": {},
   "source": [
    "Skriver man ut huvudgrupp_storlek blir det typ 118 kategorier i bokstavsordning. Här är de n första."
   ]
  },
  {
   "cell_type": "code",
   "execution_count": 5,
   "metadata": {},
   "outputs": [
    {
     "name": "stdout",
     "output_type": "stream",
     "text": [
      "[['' '7']\n",
      " ['Algprodukter' '1']\n",
      " ['Baljväxter (bönor, linser och ärter)' '51']\n",
      " ['Blodmat' '2']\n",
      " ['Blodprodukter o rätter' '8']\n",
      " ['Buljong' '18']\n",
      " ['Bullar kakor tårtor mm' '86']\n",
      " ['Bär färska frysta' '24']\n",
      " ['Chips popcorn o dyl' '11']\n",
      " ['Choklad' '7']\n",
      " ['Cider alkoläsk drink' '3']\n",
      " ['Deg och gräddade skal och bottnar' '3']\n",
      " ['Dessertost' '8']\n",
      " ['Dryck' '1']\n",
      " ['Efterrätter' '31']\n",
      " ['Fisk färsk fryst kokt' '68']\n",
      " ['Fisk o skaldjursprodukter o rätter' '69']\n",
      " ['Fisk rökt' '13']\n",
      " ['Fisk stekt ej panerad' '7']\n",
      " ['Flingor - frukostflingor' '28']]\n"
     ]
    }
   ],
   "source": [
    "n = 20\n",
    "print (huvudgrupp_storlek[:n])"
   ]
  },
  {
   "cell_type": "markdown",
   "metadata": {},
   "source": [
    "Jag förstår inte riktigt varför det är så svårt att sortera den arrayen. Det är ju en sak att allting är strängar, eftersom en numpy-array bara kan ha en enda datatyp, men det borde finnas ett enkelt sätt att sortera efter kolumn två som integer...\n",
    "\n",
    "Som det blir nu behöver man skapa ett index genom att använda np.argsort, ta de 20 första med [-20:] och sen vända på ordningen med [::-1], som helt enkelt är en slice till, där -1 är step-argumentet. https://docs.scipy.org/doc/numpy-1.13.0/reference/arrays.indexing.html "
   ]
  },
  {
   "cell_type": "code",
   "execution_count": 6,
   "metadata": {},
   "outputs": [
    {
     "name": "stdout",
     "output_type": "stream",
     "text": [
      "[['Kött färskt fryst tillagat' '127']\n",
      " ['Grönsaker' '94']\n",
      " ['Bullar kakor tårtor mm' '86']\n",
      " ['Köttprodukter kötträtter' '80']\n",
      " ['Sås dressing majonnäs' '79']\n",
      " ['Fisk o skaldjursprodukter o rätter' '69']\n",
      " ['Fisk färsk fryst kokt' '68']\n",
      " ['Korv' '60']\n",
      " ['Grönsaks- rotfrukts- baljväxträtter och produkter' '55']\n",
      " ['Baljväxter (bönor, linser och ärter)' '51']\n",
      " ['Soppa mat' '47']\n",
      " ['Pizza paj pirog färdig smörgås' '46']\n",
      " ['Frukt färsk fryst' '42']\n",
      " ['Mjukt bröd' '42']\n",
      " ['Hård matfettsblandning' '39']\n",
      " ['Fågel' '39']\n",
      " ['Potatisprodukter o rätter' '33']\n",
      " ['Inälvor och organ' '33']\n",
      " ['Potatis' '31']\n",
      " ['Efterrätter' '31']]\n"
     ]
    }
   ],
   "source": [
    "antal = 20\n",
    "index = np.argsort(huvudgrupp_storlek.T[1].astype(int))[-antal:][::-1] #https://stackoverflow.com/questions/6910641/how-to-get-indices-of-n-maximum-values-in-a-numpy-array\n",
    "print(huvudgrupp_storlek[index])"
   ]
  },
  {
   "cell_type": "markdown",
   "metadata": {},
   "source": [
    "Medan de största grupperna är ganska rättframma är de minsta desto knepigare. Vad ska man göra med en klassificering som innehåller en huvudgrupp \"Risrätter\" med endast ett livsmedel, och det är paella och inte exempelvis risgrynsgröt?"
   ]
  },
  {
   "cell_type": "code",
   "execution_count": 7,
   "metadata": {},
   "outputs": [
    {
     "name": "stdout",
     "output_type": "stream",
     "text": [
      "[['Sötningsmedel' '1']\n",
      " ['Algprodukter' '1']\n",
      " ['Kryddor' '1']\n",
      " [ 'Övrigt animaliskt *kött*, grodlår, sniglar, säl - färskt, fryst, tillagat'\n",
      "  '1']\n",
      " ['Sockerfritt godis' '1']\n",
      " ['Risrätter' '1']\n",
      " ['Dryck' '1']\n",
      " ['Tacoskal' '1']\n",
      " ['Riskakor' '2']\n",
      " ['Frukt o nötblandningar bars' '2']\n",
      " ['Frukt o bär' '2']\n",
      " ['Sportdrycker energidrycker' '2']\n",
      " ['Gelatin agar agar' '2']\n",
      " ['Övrigt' '2']\n",
      " ['Blodmat' '2']\n",
      " ['Tuggummi' '2']\n",
      " ['Kakaoprodukter' '2']\n",
      " ['Cider alkoläsk drink' '3']\n",
      " ['Osträtter' '3']\n",
      " ['Smör' '3']]\n"
     ]
    }
   ],
   "source": [
    "index = np.argsort(huvudgrupp_storlek.T[1].astype(int))[:20] #https://stackoverflow.com/questions/6910641/how-to-get-indices-of-n-maximum-values-in-a-numpy-array\n",
    "print(huvudgrupp_storlek[index])"
   ]
  },
  {
   "cell_type": "markdown",
   "metadata": {},
   "source": [
    "Det går ju även att få fram vilka livsmedel som finns i de där grupperna."
   ]
  },
  {
   "cell_type": "code",
   "execution_count": 8,
   "metadata": {},
   "outputs": [
    {
     "name": "stdout",
     "output_type": "stream",
     "text": [
      "Sötningsmedel \n",
      " [['Sorbitol m sackarin']]\n",
      "Algprodukter \n",
      " [['Kelp torkad']]\n",
      "Kryddor \n",
      " [['Kryddblandning taco']]\n",
      "Övrigt animaliskt *kött*, grodlår, sniglar, säl - färskt, fryst, tillagat \n",
      " [['Grodlår råa frysta']]\n",
      "Sockerfritt godis \n",
      " [['Karameller syrliga sockerfria']]\n",
      "Risrätter \n",
      " [['Paella']]\n",
      "Dryck \n",
      " [['Mandeldryck']]\n",
      "Tacoskal \n",
      " [['Tacoskal']]\n",
      "Riskakor \n",
      " [['Riskakor fullkorn solrosfrön majs fett 4%'\n",
      "  'Riskakor fullkorn smaksatta fett 18%']]\n",
      "Frukt o nötblandningar bars \n",
      " [['Energibar choklad nötter Start'\n",
      "  'Müslibar fullkorn berikad typ Special K Bar Red fruit']]\n",
      "Frukt o bär \n",
      " [['Havtorn' 'Aronia']]\n",
      "Sportdrycker energidrycker \n",
      " [['Sportdryck drickf' 'Energidryck typ Red Bull berikad']]\n",
      "Gelatin agar agar \n",
      " [['Agar torkad' 'Gelatinblad gelatinpulver']]\n",
      "Övrigt \n",
      " [['Samarinpulver' 'Samarin drickf']]\n",
      "Blodmat \n",
      " [['Gris blod rå' 'Nöt blod rå']]\n",
      "Tuggummi \n",
      " [['Tuggummi' 'Tuggummi sockerfritt']]\n",
      "Kakaoprodukter \n",
      " [['Kakaopulver fett 20-22%' \"Kakaopulver m socker fett 2,5% typ O'boy\"]]\n",
      "Cider alkoläsk drink \n",
      " [['Cider vol. % 1' 'Irish coffee' 'Alkoläsk kolsyrad dryck vol. % 4-5']]\n",
      "Osträtter \n",
      " [['Camembert vitmögelost friterad'\n",
      "  'Crêpefyllning spenat fetaost skinka keso' 'Ostsufflé']]\n",
      "Smör \n",
      " [['Smör fett 80 %' 'Smör extrasaltat fett 80%' 'Smör osaltat fett 80%']]\n"
     ]
    }
   ],
   "source": [
    "for row in huvudgrupp_storlek[index]:\n",
    "    q = np.where(dataset.T[60]==row[0])\n",
    "    print(row[0],\"\\n\",dataset[q,0]) #Det går ju att skriva ut vilka värden som helst för varje livsmedel, som med dataset[q,:]"
   ]
  },
  {
   "cell_type": "markdown",
   "metadata": {},
   "source": [
    "Den här klassificeringen är alltså den som Livsmedelsverket själva har gjort, och det går att ändra parametrarna här ovan och få fram mycket mer om den.\n",
    "\n",
    "Men vad händer om man baserar en gruppering bara på näringsvärden i stället?"
   ]
  },
  {
   "cell_type": "markdown",
   "metadata": {},
   "source": [
    "## Klustring av näringsvärden\n",
    "\n",
    "Det finns över 50 näringsvärden i databasen."
   ]
  },
  {
   "cell_type": "markdown",
   "metadata": {},
   "source": [
    "Av de över 50 näringsvärdena får man välja ut ett antal som man tror kan spela roll för att ge livsmedlen en viss \"profil\". \n",
    "\n",
    "I princip skulle man kunna ha alla näringsvärden med, och man kan testa sig fram. Men på något sätt tror jag att de näringsvärden där många livsmedel har noll-värden kommer att förvirra klustringen.\n",
    "\n",
    "De här tror jag ger en bra bild av rymden av livsmedel. \n",
    "```\n",
    "[2 'Energi_kcal' 'REAL' 0 None 0]\n",
    "[4 'Kolhydrater_g' 'REAL' 0 None 0]\n",
    "[5 'Fett_g' 'REAL' 0 None 0]\n",
    "[6 'Protein_g' 'REAL' 0 None 0]\n",
    "[7 'Fibrer_g' 'REAL' 0 None 0]\n",
    "[8 'Vatten_g' 'REAL' 0 None 0]\n",
    "[9 'Alkohol_g' 'REAL' 0 None 0]\n",
    "[10 'Aska_g' 'REAL' 0 None 0]\n",
    "[42 'Vitamin_C_mg' 'REAL' 0 None 0]\n",
    "[50 'Jarn_mg' 'REAL' 0 None 0]\n",
    "```"
   ]
  },
  {
   "cell_type": "code",
   "execution_count": 9,
   "metadata": {
    "collapsed": true
   },
   "outputs": [],
   "source": [
    "#Här är det urval som används nu\n",
    "relevant_columns = [ 2,  4,  5,  6,  7,  8,  9, 10, 42, 50]\n",
    "\n",
    "#Här är alla möjliga dimensioner. En del försvinner eftersom de \n",
    "#har värden som saknas för vissa livsmedel\n",
    "#[ 2,  4,  5,  6,  7,  8,  9, 10, 11, 12, 13, 14, 16, 17, 18, 19, 20, 21, 22, 23, 24, 25, 26, 27, 28, 29, 30, 31, 32, 33, 35, 37, 38, 40, 41, 42, 43, 44, 45, 46, 47, 48, 50, 51, 52, 53, 54, 55, 56, 57]"
   ]
  },
  {
   "cell_type": "markdown",
   "metadata": {},
   "source": [
    "Variabeln columns används för att hålla de värden som ska klustras. Vid klustringen undersöker algoritmen om man kan hitta några grupper av livsmedel som är mer lika än andra. Den slumpar ut kluster-mittpunkter och ser vilka livsmedel som ligger närmast dem (i alla dimensioner). Därefter ändrar den mittpunkterna lite, räknar om och ser om det blev bättre.\n",
    "\n",
    "Lite om numpy: i numpy kan man använda en array som index, men det gäller att göra det till ett index för kolumnerna och inte för raderna... (Läs mer om array som index här: <http://infontology.typepad.com/infontokod/2017/11/bra-funktioner-i-numpy.html> Där står också om den här \"slice\"-notationen array[a:b,c:d])"
   ]
  },
  {
   "cell_type": "code",
   "execution_count": 10,
   "metadata": {},
   "outputs": [
    {
     "name": "stdout",
     "output_type": "stream",
     "text": [
      "[[656.3 0.0 71.0 ..., 0.3 0.0 0.3]\n",
      " [763.0 0.0 85.0 ..., 0.7 0.0 0.2]\n",
      " [884.3 0.0 100.0 ..., 0.0 0.0 0.1]\n",
      " ..., \n",
      " [40.6 7.6 0.5 ..., 0.2 0.0 0.1]\n",
      " [372.6 72.6 3.55 ..., 0.0 0.0 11.35]\n",
      " [313.7 57.5 4.8 ..., 0.0 0.0 0.85]]\n"
     ]
    }
   ],
   "source": [
    "columns = dataset[:,relevant_columns] #Tar man bort ':,' blir det alltså ett urval rader\n",
    "print(columns)"
   ]
  },
  {
   "cell_type": "markdown",
   "metadata": {},
   "source": [
    "Det går förstås att välja en massa olika klustringsalgoritmer. Vi har valt k-means. Det finns också en hel del parametrar att välja. <http://scikit-learn.org/stable/modules/generated/sklearn.cluster.KMeans.html>"
   ]
  },
  {
   "cell_type": "code",
   "execution_count": 11,
   "metadata": {
    "collapsed": true
   },
   "outputs": [],
   "source": [
    " def cluster(dataset):\n",
    "    kmeans = KMeans(n_clusters=numClusters, verbose=0, n_init=100)\n",
    "    kmeans.fit(dataset)\n",
    "\n",
    "    centroids = kmeans.cluster_centers_\n",
    "    clusters = kmeans.labels_\n",
    "    \n",
    "    #Utskriften kommer ju inte här, utan efter funktionsanropet\n",
    "    if debug:\n",
    "        print (centroids)\n",
    "        print (clusters)\n",
    "\n",
    "    return clusters, centroids"
   ]
  },
  {
   "cell_type": "code",
   "execution_count": 12,
   "metadata": {
    "collapsed": true
   },
   "outputs": [],
   "source": [
    "#Livsmedelsdatabasen innehåller över 100 huvudgrupper. Det hade varit bra att ha något \n",
    "#färre grupper på översta nivån. Högst 50. Eller kanske bara 10, för att komma ner i något som\n",
    "#skulle kunna motsvara \"frukt, grönsaker, fisk, kött, nötter\" etc.\n",
    "numClusters = 20"
   ]
  },
  {
   "cell_type": "code",
   "execution_count": 13,
   "metadata": {
    "scrolled": false
   },
   "outputs": [
    {
     "name": "stdout",
     "output_type": "stream",
     "text": [
      "[[  2.29660248e+02   1.13204348e+01   1.39391925e+01   1.20080124e+01\n",
      "    8.23913043e-01   5.73424845e+01   1.44546584e+00   3.11267081e+00\n",
      "    1.34347826e+00   1.54440994e+00]\n",
      " [  5.16830952e+02   4.97550000e+01   3.15292857e+01   7.39452381e+00\n",
      "    3.09738095e+00   6.29547619e+00  -2.77555756e-17   1.91547619e+00\n",
      "    9.66666667e-01   1.91333333e+00]\n",
      " [  6.54232210e+01   9.13584270e+00   1.29812734e+00   3.10382022e+00\n",
      "    1.57606742e+00   8.37294382e+01   1.71310861e-01   9.95093633e-01\n",
      "    7.61722846e+00   8.93558052e-01]\n",
      " [  3.45908772e+02   6.41264912e+01   3.45692982e+00   1.02463158e+01\n",
      "    6.88605263e+00   1.27913158e+01   3.88578059e-16   2.50859649e+00\n",
      "    1.29912281e+00   3.25464912e+00]\n",
      " [  8.84300000e+02   0.00000000e+00   1.00000000e+02   1.77635684e-15\n",
      "    4.44089210e-16  -2.13162821e-14   8.32667268e-17   4.44089210e-16\n",
      "    1.77635684e-15   6.25000000e-03]\n",
      " [  7.10170968e+02   1.47935484e+00   7.84309677e+01   2.24387097e+00\n",
      "    9.08387097e-01   1.55654839e+01  -2.77555756e-17   1.31774194e+00\n",
      "    4.29032258e-01   4.15483871e-01]\n",
      " [  1.37780321e+02   8.95441767e+00   5.73811245e+00   1.15812851e+01\n",
      "    1.04859438e+00   7.03708835e+01   2.17590361e-01   2.05333333e+00\n",
      "    3.46506024e+00   1.51943775e+00]\n",
      " [  2.92793333e+02   1.05735238e+01   2.23900952e+01   1.19870476e+01\n",
      "    4.20952381e-01   5.17508571e+01   2.90476190e-01   2.22838095e+00\n",
      "    2.51428571e+00   1.53114286e+00]\n",
      " [  6.21714286e+01   1.07092857e+01   6.72857143e-01   1.59357143e+00\n",
      "    3.17785714e+00   8.30042857e+01   5.55111512e-17   1.01785714e+00\n",
      "    1.54228571e+02   8.45000000e-01]\n",
      " [  3.66630769e+02   6.39738462e+00   3.23530769e+01   1.28676923e+01\n",
      "    1.08523077e+00   4.45786154e+01   2.00000000e-03   2.62600000e+00\n",
      "    1.48923077e+00   1.13800000e+00]\n",
      " [  1.02762963e+02   7.49760943e+00   3.08851852e+00   1.05179125e+01\n",
      "    9.56195286e-01   7.63150168e+01   4.29629630e-02   1.57158249e+00\n",
      "    3.82592593e+00   1.24734007e+00]\n",
      " [  3.71196721e+01   5.98836066e+00   3.15081967e-01   1.50622951e+00\n",
      "    2.03081967e+00   8.93437705e+01   1.66533454e-16   8.18688525e-01\n",
      "    5.14098361e+01   6.13934426e-01]\n",
      " [  2.55989362e+01   3.73079787e+00   3.52765957e-01   1.14430851e+00\n",
      "    1.16000000e+00   9.28344149e+01   6.48936170e-02   7.13936170e-01\n",
      "    6.43723404e+00   3.98138298e-01]\n",
      " [  0.00000000e+00   0.00000000e+00   0.00000000e+00   0.00000000e+00\n",
      "    0.00000000e+00   1.22500000e+00   0.00000000e+00   9.87750000e+01\n",
      "    0.00000000e+00   1.17500000e+00]\n",
      " [  4.54001639e+02   5.16886885e+01   2.32434426e+01   7.83737705e+00\n",
      "    3.45557377e+00   1.19250820e+01   1.66533454e-16   1.83409836e+00\n",
      "    3.28688525e+00   2.09868852e+00]\n",
      " [  2.66797701e+02   4.45502299e+01   5.08183908e+00   7.50804598e+00\n",
      "    4.63931034e+00   3.29733333e+01   2.18390805e-01   5.03436782e+00\n",
      "    1.58965517e+00   2.15034483e+00]\n",
      " [  1.79819626e+02   1.00918692e+01   9.54140187e+00   1.28872897e+01\n",
      "    8.49299065e-01   6.41864486e+01   5.99532710e-02   2.35331776e+00\n",
      "    2.36214953e+00   1.27827103e+00]\n",
      " [  2.92375000e+02   6.61500000e+01   5.50000000e-01   2.02500000e+00\n",
      "    5.50000000e+00   2.32250000e+01   0.00000000e+00   2.55000000e+00\n",
      "    2.04750000e+02   1.52500000e+00]\n",
      " [  5.84596774e+02   1.19203226e+01   5.51438710e+01   1.01980645e+01\n",
      "    3.72193548e+00   1.66654839e+01  -2.77555756e-17   2.32129032e+00\n",
      "    7.06451613e-01   3.13838710e+00]\n",
      " [  3.91076623e+02   7.27866234e+01   6.49519481e+00   7.42792208e+00\n",
      "    4.04142857e+00   7.55883117e+00   2.77555756e-16   1.68610390e+00\n",
      "    4.37532468e+00   3.32922078e+00]]\n",
      "[ 5  5  4 ..., 12 19  3]\n"
     ]
    }
   ],
   "source": [
    "clusters, centroids = cluster(columns)"
   ]
  },
  {
   "cell_type": "markdown",
   "metadata": {},
   "source": [
    "Clusters är en array som är lika lång som antalet rader i dataset:"
   ]
  },
  {
   "cell_type": "code",
   "execution_count": 14,
   "metadata": {},
   "outputs": [
    {
     "name": "stdout",
     "output_type": "stream",
     "text": [
      "[ 5  5  4 ..., 12 19  3] Antal värden: 2088\n"
     ]
    }
   ],
   "source": [
    "print(clusters, \"Antal värden:\", len(clusters))"
   ]
  },
  {
   "cell_type": "markdown",
   "metadata": {},
   "source": [
    "Beroende på hur man väljer parametrarna vid klustringen kan man få liten eller stor variation i hur många som hamnar i de olika klustren.\n",
    "\n",
    "Här är en tabell med fördelningen, och med några enkla statistiska mått."
   ]
  },
  {
   "cell_type": "code",
   "execution_count": 15,
   "metadata": {},
   "outputs": [
    {
     "name": "stdout",
     "output_type": "stream",
     "text": [
      "[[  0 161]\n",
      " [  1  42]\n",
      " [  2 267]\n",
      " [  3 114]\n",
      " [  4  16]\n",
      " [  5  31]\n",
      " [  6 250]\n",
      " [  7 105]\n",
      " [  8  14]\n",
      " [  9  65]\n",
      " [ 10 297]\n",
      " [ 11  61]\n",
      " [ 12 188]\n",
      " [ 13   4]\n",
      " [ 14  61]\n",
      " [ 15  87]\n",
      " [ 16 213]\n",
      " [ 17   4]\n",
      " [ 18  31]\n",
      " [ 19  77]]\n",
      "Medelvärde: 104.4\n",
      "Median: 71.0\n",
      "Standardavvikelse: 90.5540722442\n"
     ]
    }
   ],
   "source": [
    "unique, counts = np.unique(clusters, return_counts=True) #https://stackoverflow.com/questions/28663856/how-to-count-the-occurrence-of-certain-item-in-an-ndarray-in-python\n",
    "cluster_distribution = np.array(list(zip(unique, counts)))\n",
    "print(cluster_distribution)\n",
    "print(\"Medelvärde:\", np.mean(cluster_distribution.T[1]))\n",
    "print(\"Median:\", np.median(cluster_distribution.T[1]))\n",
    "print(\"Standardavvikelse:\",np.std(cluster_distribution.T[1]))"
   ]
  },
  {
   "cell_type": "markdown",
   "metadata": {},
   "source": [
    "## Huvudgrupper i relation till kluster\n",
    "\n",
    "Jag vet inte hur Livsmedelsverket har gjort när de har satt ihop sin lista av huvudgrupper. Jag tror att den bygger mycket på tradition.\n",
    "\n",
    "När jag började titta på klustring begränsade jag beräkningarna till bara fett, protein och kolhydrater, och då hamnade mesosten i samma kluster som knäckebrödet, på grund av sin höga andel kolhydrater. Det var lite oväntat, men rymden av näringsvärden är ju helt ovetande om mänskliga måltidstraditioner eller inköpsmönster.\n",
    "\n",
    "En av poängerna med att titta på kluster är att få en uppfattning just om vilka livsmedel som hänger ihop näringsmässigt. Om man vill skulle det sen vara möjligt att ta ett visst livsmedel, exempelvis _bläckfisk_, och fråga vilka andra livsmedel som näringsmässigt ligger nära bläckfisken. Det kanske visar sig att tofu eller drickyoghurt ligger lika nära som torsk eller blåmusslor.\n",
    "\n",
    "Nu efter att klustringen är gjord går det att se vilka livsmedel som ingår i varje kluster, och vilka huvudgrupper de ingår i."
   ]
  },
  {
   "cell_type": "code",
   "execution_count": 16,
   "metadata": {
    "collapsed": true
   },
   "outputs": [],
   "source": [
    "valt_kluster = 3"
   ]
  },
  {
   "cell_type": "code",
   "execution_count": 17,
   "metadata": {},
   "outputs": [
    {
     "name": "stdout",
     "output_type": "stream",
     "text": [
      "[['Mesost lätt fett 9% berik' 'Mesvaror']\n",
      " ['Kondenserad mjölk konserv konc sockrad fett ca 9%' 'Mjölk']\n",
      " ['Mjölkpulver fett 1%' 'Mjölk']\n",
      " ['Hårt bröd fullkorn råg fibrer 15,5% Wasa husman' 'Hårt bröd']\n",
      " ['Hårt bröd fullkorn råg fibrer ca 18% Ryvita mörkt' 'Hårt bröd']\n",
      " ['Hårt bröd fullkorn råg fibrer 14,5% Vika knäckebröd' 'Hårt bröd']\n",
      " ['Hårt bröd fullkorn råg fibrer 16% Crisp o Finn crisp' 'Hårt bröd']\n",
      " ['Hårt bröd fullkorn råg fibrer ca 15% Kavli flatbröd' 'Hårt bröd']\n",
      " ['Hårt bröd glutenfritt fibrer ca 7%' 'Hårt bröd']\n",
      " ['Hårt bröd råg fullkorn fibrer ca 13% ICA handlarnas knäckebröd'\n",
      "  'Hårt bröd']\n",
      " ['Hårt bröd fullkorn råg kli fibrer ca 15% Siljans kraftknäcke'\n",
      "  'Hårt bröd']\n",
      " ['Hårt bröd fullkorn råg fibrer ca 14% Falu råg-rut' 'Hårt bröd']\n",
      " ['Hårt bröd fullkorn råg fibrer 15,5% Wasa brungräddat' 'Hårt bröd']\n",
      " ['Hårt bröd fullkorn råg fibrer ca 16% Wasa sport' 'Hårt bröd']\n",
      " ['Hårt bröd fullkorn råg sesamfrö vetekli vetegroddar fibrer 24% Wasa plus'\n",
      "  'Hårt bröd']\n",
      " ['Hårt bröd fullkorn råg fibrer 15,5% Wasa delikatess' 'Hårt bröd']\n",
      " ['Hårt bröd fullkorn råg fibrer ca 14% Leksands Knäcke normalgräddat'\n",
      "  'Hårt bröd']\n",
      " ['Hårt bröd fullkorn råg vete majs surdeg fibrer 15% Pyramidbageriet'\n",
      "  'Hårt bröd']\n",
      " ['Hårt bröd fullkorn råg fibrer ca 14% Leksands Knäcke brungräddat'\n",
      "  'Hårt bröd']\n",
      " ['Hårt tunnbröd fullkorn vete råg korn havre mjölk fibrer 7%' 'Hårt bröd']\n",
      " ['Potatismos pulver berik' 'Potatis']\n",
      " ['Agar torkad' 'Gelatin agar agar']\n",
      " ['Blåbär torkade' 'Frukt o bär torkade']\n",
      " ['Rågkross fullkorn rågflingor ångprep' 'Mjöl stärkelse kli']\n",
      " ['Havregryn fullkorn ångprep el havremjöl fullkorn' 'Mjöl stärkelse kli']\n",
      " ['Fiberhavregryn fullkorn ångprep' 'Mjöl stärkelse kli']\n",
      " ['Havrekli' 'Mjöl stärkelse kli']\n",
      " ['Korngryn kornflingor fullkorn ångprep' 'Mjöl stärkelse kli']\n",
      " ['Vetekross veteflingor fullkorn ångprep' 'Mjöl stärkelse kli']\n",
      " ['Vetegroddar' 'Mjöl stärkelse kli']\n",
      " ['Frukostflingor fullkornsvete Weetabix' 'Flingor - frukostflingor']\n",
      " ['Frukostflingor flingblandning fullkorn Basmüsli'\n",
      "  'Flingor - frukostflingor']\n",
      " ['Frukostflingor vetekli malt rostat Allbran Plus'\n",
      "  'Flingor - frukostflingor']\n",
      " ['Frukostflingor fullkorn vetekli berik All-Bran Regular'\n",
      "  'Flingor - frukostflingor']\n",
      " ['Rismjöl vitt' 'Mjöl stärkelse kli']\n",
      " ['Vildris fullkorn okokt' 'Ris risnudlar']\n",
      " ['Glasnudlar' 'Ris risnudlar']\n",
      " ['Bovete hela el krossade korn' 'Mjöl stärkelse kli']\n",
      " ['Durra o andra sorghumarter fullkorn' 'Mjöl stärkelse kli']\n",
      " ['Hirs fullkorn hela el krossade korn' 'Matgryn']\n",
      " ['Mannagryn' 'Mjöl stärkelse kli']\n",
      " ['Bulgur' 'Matgryn']\n",
      " ['Couscous' 'Matgryn']\n",
      " ['Pasta' 'Pasta']\n",
      " ['Pasta fullkorn' 'Pasta']\n",
      " ['Pasta berik' 'Pasta']\n",
      " ['Bondbönor torkade' 'Baljväxter (bönor, linser och ärter)']\n",
      " ['Bruna bönor torkade' 'Baljväxter (bönor, linser och ärter)']\n",
      " ['Röda bönor torkade' 'Baljväxter (bönor, linser och ärter)']\n",
      " ['Vita bönor torkade' 'Baljväxter (bönor, linser och ärter)']\n",
      " ['Kikärter torkade' 'Baljväxter (bönor, linser och ärter)']\n",
      " ['Linser torkade' '']\n",
      " ['Mungbönor torkade' 'Baljväxter (bönor, linser och ärter)']\n",
      " ['Vignabönor svartögda bönor torkade'\n",
      "  'Baljväxter (bönor, linser och ärter)']\n",
      " ['Gröna el gula ärter torkade' 'Baljväxter (bönor, linser och ärter)']\n",
      " ['Hönsbuljong konc låg salt storhushåll' 'Buljong']\n",
      " ['Blodbröd fullkorn hårt' 'Hårt bröd']\n",
      " ['Sött vetebröd' 'Bullar kakor tårtor mm']\n",
      " ['Sött vetebröd slätt' 'Bullar kakor tårtor mm']\n",
      " ['Fyllt vetebröd bullar längd ospec.' 'Bullar kakor tårtor mm']\n",
      " ['Sött vetebröd bakpulver' 'Bullar kakor tårtor mm']\n",
      " ['Drömtårta chokladrulltårta' 'Bullar kakor tårtor mm']\n",
      " ['Semla vetebulle fylld m mandelmassa vispad grädde'\n",
      "  'Bullar kakor tårtor mm']\n",
      " ['Chokladkaka' 'Bullar kakor tårtor mm']\n",
      " ['Mjuk chokladkaka' 'Bullar kakor tårtor mm']\n",
      " ['Mjuk pepparkaka' 'Bullar kakor tårtor mm']\n",
      " ['Sockerkaka saftig' 'Bullar kakor tårtor mm']\n",
      " ['Marängsviss hovdessert' 'Efterrätter']\n",
      " ['Glassås choklad typ Ohoj' 'Söta soppor kräm o efterrättssås']\n",
      " ['Glassås frukt typ Ohoj' 'Söta soppor kräm o efterrättssås']\n",
      " ['Gelékonfekt' 'Godis ej choklad']\n",
      " ['Marmeladkonfekt' 'Godis ej choklad']\n",
      " ['Skumgodis' 'Godis ej choklad']\n",
      " ['Supersalt lakrits Djungelvrål' 'Godis ej choklad']\n",
      " ['Tuggummi sockerfritt' 'Tuggummi']\n",
      " ['Ljus sirap' 'Socker sirap honung']\n",
      " ['Honung' 'Socker sirap honung']\n",
      " ['Bovetemjöl ljust' 'Mjöl stärkelse kli']\n",
      " ['Havremust pulver berik' 'Välling']\n",
      " ['Kornmjöl fullkorn' 'Mjöl stärkelse kli']\n",
      " ['Majsmjöl gult u groddar el polenta' 'Mjöl stärkelse kli']\n",
      " ['Rågmjöl fullkorn' 'Mjöl stärkelse kli']\n",
      " ['Grahamsmjöl fullkorn vete' 'Mjöl stärkelse kli']\n",
      " ['Vetemjöl bagerivetemjöl berik' 'Mjöl stärkelse kli']\n",
      " ['Vetemjöl bagerivetemjöl' 'Mjöl stärkelse kli']\n",
      " ['Vetemjöl berik' 'Mjöl stärkelse kli']\n",
      " ['Grovt vetemjöl berik' 'Mjöl stärkelse kli']\n",
      " ['Vetemjöl' 'Mjöl stärkelse kli']\n",
      " ['Mjölblandning grov vete råg vitberik' 'Mjöl stärkelse kli']\n",
      " ['Mjölblandning rågsikt m vetemjöl vitberik' 'Mjöl stärkelse kli']\n",
      " ['Mjölblandning vete råg korn havre vitberik' 'Mjöl stärkelse kli']\n",
      " ['Majsstärkelse' 'Mjöl stärkelse kli']\n",
      " ['Potatismjöl el potatisgryn' 'Mjöl stärkelse kli']\n",
      " ['Tepulver' 'Te']\n",
      " ['Torrjäst' 'Jäst bakpulver']\n",
      " ['Dippmix pulver olika smaker' 'Sås dressing majonnäs']\n",
      " ['Frukostflingor fullkorn müsli Bär' 'Flingor - frukostflingor']\n",
      " ['Avorio ris okokt' 'Ris risnudlar']\n",
      " ['Pasta glutenfri okokt' 'Pasta']\n",
      " ['Fusilli / lasagneplattor glutenfri okokt' 'Pasta']\n",
      " ['Pasta 100 % majs glutenfri okokt' 'Pasta']\n",
      " ['Basmatiris okokt' 'Ris risnudlar']\n",
      " ['Jasminris okokt' 'Ris risnudlar']\n",
      " ['Råris fullkorn långkornigt okokt' 'Ris risnudlar']\n",
      " ['Grötris 5-25 min koktid okokt' 'Ris risnudlar']\n",
      " ['Ris långkornigt okokt' 'Ris risnudlar']\n",
      " ['Ris långkornigt parboiled okokt' 'Ris risnudlar']\n",
      " ['Snabbris salt 1% okokt' 'Ris risnudlar']\n",
      " ['Snabbris okokt' 'Ris risnudlar']\n",
      " ['Grötris rundkornigt 1 timmes koktid okokt' 'Ris risnudlar']\n",
      " ['Dinkel' 'Matgryn']\n",
      " ['Hårt bröd fullkorn råg fibrer ca 14% typ Rågi Wasa' 'Hårt bröd']\n",
      " ['Risnudlar' 'Ris risnudlar']\n",
      " ['Tortilla wrap' 'Mjukt bröd']]\n"
     ]
    }
   ],
   "source": [
    "livsmedel_i_kluster = dataset[np.where(clusters==valt_kluster)][:,[0,60]]\n",
    "print(livsmedel_i_kluster)"
   ]
  },
  {
   "cell_type": "markdown",
   "metadata": {},
   "source": [
    "Eftersom det är så många livsmedel i varje kluster är det lättare att visa dem som en fördelning:"
   ]
  },
  {
   "cell_type": "code",
   "execution_count": 18,
   "metadata": {},
   "outputs": [
    {
     "name": "stdout",
     "output_type": "stream",
     "text": [
      "[['' '1']\n",
      " ['Baljväxter (bönor, linser och ärter)' '8']\n",
      " ['Buljong' '1']\n",
      " ['Bullar kakor tårtor mm' '10']\n",
      " ['Efterrätter' '1']\n",
      " ['Flingor - frukostflingor' '5']\n",
      " ['Frukt o bär torkade' '1']\n",
      " ['Gelatin agar agar' '1']\n",
      " ['Godis ej choklad' '4']\n",
      " ['Hårt bröd' '19']\n",
      " ['Jäst bakpulver' '1']\n",
      " ['Matgryn' '4']\n",
      " ['Mesvaror' '1']\n",
      " ['Mjukt bröd' '1']\n",
      " ['Mjöl stärkelse kli' '26']\n",
      " ['Mjölk' '2']\n",
      " ['Pasta' '6']\n",
      " ['Potatis' '1']\n",
      " ['Ris risnudlar' '13']\n",
      " ['Socker sirap honung' '2']\n",
      " ['Sås dressing majonnäs' '1']\n",
      " ['Söta soppor kräm o efterrättssås' '2']\n",
      " ['Te' '1']\n",
      " ['Tuggummi' '1']\n",
      " ['Välling' '1']]\n"
     ]
    }
   ],
   "source": [
    "a=dataset[np.where(clusters==valt_kluster)][:,[0,60]]\n",
    "unique, counts = np.unique(a.T[1], return_counts=True) #https://stackoverflow.com/questions/28663856/how-to-count-the-occurrence-of-certain-item-in-an-ndarray-in-python\n",
    "huvudgrupp_distribution = np.array(list(zip(unique, counts)))\n",
    "\n",
    "print(huvudgrupp_distribution)"
   ]
  },
  {
   "cell_type": "markdown",
   "metadata": {},
   "source": [
    "Om man sorterar blir det lättare att få en uppfattning av vad klustret egentligen innehåller. "
   ]
  },
  {
   "cell_type": "code",
   "execution_count": 19,
   "metadata": {},
   "outputs": [
    {
     "name": "stdout",
     "output_type": "stream",
     "text": [
      "[['Mjöl stärkelse kli' '26']\n",
      " ['Hårt bröd' '19']\n",
      " ['Ris risnudlar' '13']\n",
      " ['Bullar kakor tårtor mm' '10']\n",
      " ['Baljväxter (bönor, linser och ärter)' '8']\n",
      " ['Pasta' '6']\n",
      " ['Flingor - frukostflingor' '5']\n",
      " ['Matgryn' '4']\n",
      " ['Godis ej choklad' '4']\n",
      " ['Mjölk' '2']\n",
      " ['Socker sirap honung' '2']\n",
      " ['Söta soppor kräm o efterrättssås' '2']\n",
      " ['Gelatin agar agar' '1']\n",
      " ['Efterrätter' '1']\n",
      " ['Buljong' '1']\n",
      " ['Frukt o bär torkade' '1']\n",
      " ['Välling' '1']\n",
      " ['Mesvaror' '1']\n",
      " ['Jäst bakpulver' '1']\n",
      " ['Tuggummi' '1']\n",
      " ['Mjukt bröd' '1']\n",
      " ['Potatis' '1']\n",
      " ['Sås dressing majonnäs' '1']\n",
      " ['Te' '1']\n",
      " ['' '1']]\n"
     ]
    }
   ],
   "source": [
    "order=np.argsort(huvudgrupp_distribution.T[1].astype(int))\n",
    "order = np.flipud(order)\n",
    "#print (order)\n",
    "huvudgrupp_distribution = huvudgrupp_distribution[order]\n",
    "print(huvudgrupp_distribution)"
   ]
  },
  {
   "cell_type": "markdown",
   "metadata": {},
   "source": [
    "När jag körde fick jag en gång dessa som största kategorier i ett kluster:\n",
    "    \n",
    "```\n",
    "['Korv' '17']\n",
    "['Kött färskt fryst tillagat' '16']\n",
    "['Pizza paj pirog färdig smörgås' '13']\n",
    "['Köttprodukter kötträtter' '12']\n",
    "['Fisk o skaldjursprodukter o rätter' '12']\n",
    "['Starksprit' '6']\n",
    "```\n",
    "\n",
    "Jag antar att det hänger ihop med det höga energiinnehållet i spriten. Det är ju ingen som skulle föreslå att byta ut korven i middagen mot en sup, men kanske kan man tänka omvänt, att om man dricker mycket alkohol så motsvarar det rätt mycket korv."
   ]
  },
  {
   "cell_type": "markdown",
   "metadata": {},
   "source": [
    "Men även om man tycker att man har fått en stor andel av en viss huvudgrupp i sitt kluster, så kanske det ändå är bara en liten andel av hela huvudgruppen. \n",
    "\n",
    "Jag gjorde några beräkningar till, för att få fram hur stor del av huvudgruppen som man har prickat rätt:"
   ]
  },
  {
   "cell_type": "code",
   "execution_count": 20,
   "metadata": {
    "scrolled": true
   },
   "outputs": [
    {
     "name": "stdout",
     "output_type": "stream",
     "text": [
      "Namn, Antal i kluster, Totalt i huvudgrupp, Andel av huvudgrupp\n",
      "[['Mjöl stärkelse kli' '26' '29' '0.896551724137931']\n",
      " ['Hårt bröd' '19' '28' '0.6785714285714286']\n",
      " ['Ris risnudlar' '13' '25' '0.52']\n",
      " ['Bullar kakor tårtor mm' '10' '86' '0.11627906976744186']\n",
      " ['Baljväxter (bönor, linser och ärter)' '8' '51' '0.1568627450980392']\n",
      " ['Pasta' '6' '21' '0.2857142857142857']\n",
      " ['Flingor - frukostflingor' '5' '28' '0.17857142857142858']\n",
      " ['Matgryn' '4' '14' '0.2857142857142857']\n",
      " ['Godis ej choklad' '4' '11' '0.36363636363636365']\n",
      " ['Mjölk' '2' '11' '0.18181818181818182']\n",
      " ['Socker sirap honung' '2' '6' '0.3333333333333333']\n",
      " ['Söta soppor kräm o efterrättssås' '2' '26' '0.07692307692307693']\n",
      " ['Gelatin agar agar' '1' '2' '0.5']\n",
      " ['Efterrätter' '1' '31' '0.03225806451612903']\n",
      " ['Buljong' '1' '18' '0.05555555555555555']\n",
      " ['Frukt o bär torkade' '1' '14' '0.07142857142857142']\n",
      " ['Välling' '1' '12' '0.08333333333333333']\n",
      " ['Mesvaror' '1' '6' '0.16666666666666666']\n",
      " ['Jäst bakpulver' '1' '3' '0.3333333333333333']\n",
      " ['Tuggummi' '1' '2' '0.5']\n",
      " ['Mjukt bröd' '1' '42' '0.023809523809523808']\n",
      " ['Potatis' '1' '31' '0.03225806451612903']\n",
      " ['Sås dressing majonnäs' '1' '79' '0.012658227848101266']\n",
      " ['Te' '1' '4' '0.25']\n",
      " ['' '1' '7' '0.14285714285714285']]\n"
     ]
    }
   ],
   "source": [
    "totals = np.array([])\n",
    "for item in huvudgrupp_distribution:\n",
    "    a=np.where(huvudgrupp_storlek.T[0] == item [0])\n",
    "    totals=np.append(totals,huvudgrupp_storlek[a[0],1])\n",
    "samlad_array = np.concatenate((huvudgrupp_distribution.T,[totals]),axis=0).T\n",
    "part = lambda x: np.divide(x[1].astype(int),x[2].astype(int))\n",
    "andel = part(samlad_array.T)\n",
    "samlad_array = np.vstack((samlad_array.T,andel.T))\n",
    "print (\"Namn,\", \"Antal i kluster,\", \"Totalt i huvudgrupp,\", \"Andel av huvudgrupp\")\n",
    "print (samlad_array.T)    "
   ]
  },
  {
   "cell_type": "markdown",
   "metadata": {},
   "source": [
    "Det här är kanske så långt vi kommer i det här resonemanget. En början till att jämföra Livsmedelsverkets klassificering med den klassificering man får om man _bara_ ser till näringsvärden i olika kombinationer.\n",
    "\n",
    "En av de saker som drev mig till detta var de småkategorier som fanns bland Huvudgrupperna. Det skulle vara så bra om man kunde stoppa in dem i större kategorier. Men kanske går det inte. I alla fall inte baserat endast på näringsinnehåll.\n",
    "\n",
    "Det här tillvägagångssättet går förstås att effektivisera extremt mycket. Den här essän är bara skriven av pedagogiska skäl (dels för att visa potentialen i Jupyter, och dels för att visa upp rymden av livsmedelsdata).\n",
    "\n",
    "Man skulle till nästa essä kunna hålla fast vid möjligheten att det finns en korrespondens mellan huvudgrupper och näringsvärden, och kunna se vilka kombinationer av näringsvärden (och antal kluster) som ger best match mot huvudgrupperna. Det kräver massor av beräkningar! För varje antal kluster, välj alla kombinationer av näringsvärden: först enskilda näringsvärden, sen grupper av två, grupper av tre och så vidare. Och så måste man förstås hitta ett bra mått. Det måste man kanske också pröva sig fram till... Undrar om det finns ett matematiskt sätt att hitta det också, eller om det bara är möjligt att köra det så här med numeriska metoder..."
   ]
  }
 ],
 "metadata": {
  "kernelspec": {
   "display_name": "Python 3",
   "language": "python",
   "name": "python3"
  },
  "language_info": {
   "codemirror_mode": {
    "name": "ipython",
    "version": 3
   },
   "file_extension": ".py",
   "mimetype": "text/x-python",
   "name": "python",
   "nbconvert_exporter": "python",
   "pygments_lexer": "ipython3",
   "version": "3.5.4"
  }
 },
 "nbformat": 4,
 "nbformat_minor": 2
}
