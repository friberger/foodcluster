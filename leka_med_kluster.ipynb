{
 "cells": [
  {
   "cell_type": "code",
   "execution_count": 28,
   "metadata": {
    "collapsed": true
   },
   "outputs": [],
   "source": [
    "import sqlite3\n",
    "import numpy as np\n",
    "from sklearn.cluster import KMeans\n",
    "import plotly\n",
    "import plotly.graph_objs as go\n",
    "import plotly.plotly as py"
   ]
  },
  {
   "cell_type": "code",
   "execution_count": 29,
   "metadata": {
    "collapsed": true
   },
   "outputs": [],
   "source": [
    "debug = True"
   ]
  },
  {
   "cell_type": "code",
   "execution_count": 30,
   "metadata": {},
   "outputs": [
    {
     "name": "stdout",
     "output_type": "stream",
     "text": [
      "[['Lamm bog rå' '920' '133.6' ..., 'Kött färskt fryst tillagat' '0' 'train']\n",
      " ['Lamm kotlett rå' '921' '232.2' ..., 'Kött färskt fryst tillagat' '0'\n",
      "  'train']\n",
      " ['Lamm lägg rå' '922' '136.7' ..., 'Kött färskt fryst tillagat' '0'\n",
      "  'train']\n",
      " ..., \n",
      " ['Kalv innanlår rå' '938' '107.4' ..., 'Kött färskt fryst tillagat' '0'\n",
      "  'train']\n",
      " ['Kalv kotlett rå' '939' '122.2' ..., 'Kött färskt fryst tillagat' '0'\n",
      "  'train']\n",
      " ['Kalv lägg rå' '940' '98.1' ..., 'Kött färskt fryst tillagat' '0' 'train']]\n"
     ]
    }
   ],
   "source": [
    "conn = sqlite3.connect('livs.db')\n",
    "conn.row_factory = sqlite3.Row\n",
    "curs = conn.cursor()\n",
    "\n",
    "\n",
    "\n",
    "result = []\n",
    "for row in curs.execute('select * from livs where Huvudgrupp_n = 0 limit 20'):\n",
    "    result.append(row)\n",
    "\n",
    "conn.close()\n",
    "\n",
    "dataset = np.array(result)\n",
    "if debug:\n",
    "    print (dataset)"
   ]
  },
  {
   "cell_type": "code",
   "execution_count": 31,
   "metadata": {
    "collapsed": true
   },
   "outputs": [],
   "source": [
    "relevant_columns = [ 2,  4,  5,  6,  7,  8,  9, 10, 11, 12, 13, 14, 16, 17, 18, 19,\n",
    "       20, 21, 22, 23, 24, 25, 26, 27, 28, 29, 30, 31, 32, 33, 35, 37, 38,\n",
    "       40, 41, 42, 43, 44, 45, 46, 47, 48, 50, 51, 52, 53, 54, 55, 56, 57]"
   ]
  },
  {
   "cell_type": "code",
   "execution_count": 32,
   "metadata": {},
   "outputs": [
    {
     "data": {
      "text/plain": [
       "array([['133.6', '0.0', '5.9', '20.13', '0.0', '73.1', '0.0', '1.0', '0.0',\n",
       "        '0.0', '0.0', '0.0', '2.44', '0.0', '0.02', '0.21', '1.2', '0.77',\n",
       "        '0.01', '2.38', '0.12', '2.18', '0.45', '0.28', '0.07', '0.04',\n",
       "        '0.02', '0.02', '0.01', '63.2', '6.6', '0.0', '0.35', '0.16',\n",
       "        '0.24', '0.0', '5.34', '9.0', '0.21', '2.36', '1.0', '190.0',\n",
       "        '1.38', '4.9', '310.0', '23.0', '78.0', '0.2', '7.47', '3.67'],\n",
       "       ['232.2', '0.0', '17.3', '19.0', '0.0', '62.4', '0.0', '0.8', '0.0',\n",
       "        '0.0', '0.0', '0.0', '7.89', '0.03', '0.05', '0.73', '3.68',\n",
       "        '2.64', '0.03', '6.7', '0.35', '6.12', '0.89', '0.64', '0.17',\n",
       "        '0.02', '0.02', '0.03', '0.0', '69.9', '20.2', '0.0', '0.41',\n",
       "        '0.17', '0.21', '0.0', '5.93', '9.4', '0.29', '0.88', '1.0',\n",
       "        '170.0', '1.45', '12.0', '260.0', '21.0', '72.0', '0.18', '4.62',\n",
       "        '2.12'],\n",
       "       ['136.7', '0.0', '4.2', '24.5', '0.0', '70.3', '0.0', '1.0', '0.0',\n",
       "        '0.0', '0.0', '0.0', '2.02', '0.02', '0.03', '0.25', '0.9', '0.67',\n",
       "        '0.06', '1.51', '0.12', '1.34', '0.32', '0.17', '0.04', '0.01',\n",
       "        '0.0', '0.0', '0.0', '78.0', '53.6', '0.4', '0.7', '0.18', '0.3',\n",
       "        '0.0', '4.3', '8.79', '0.2', '1.2', '2.0', '190.0', '1.5', '20.0',\n",
       "        '220.0', '17.0', '66.0', '0.17', '1.4', '3.4'],\n",
       "       ['176.7', '0.0', '11.9', '17.6', '0.0', '69.5', '0.0', '1.0', '0.0',\n",
       "        '0.0', '0.0', '0.0', '5.95', '0.05', '0.09', '0.75', '2.64',\n",
       "        '1.96', '0.17', '4.46', '0.36', '3.96', '0.93', '0.51', '0.11',\n",
       "        '0.03', '0.0', '0.0', '0.0', '78.0', '53.6', '0.4', '0.7', '0.18',\n",
       "        '0.3', '0.0', '4.3', '7.53', '0.2', '1.2', '5.0', '173.0', '1.5',\n",
       "        '18.0', '220.0', '17.0', '66.0', '0.17', '1.4', '3.4'],\n",
       "       ['111.5', '0.0', '2.6', '20.88', '0.0', '74.5', '0.0', '1.1', '0.0',\n",
       "        '0.0', '0.0', '0.0', '1.01', '0.0', '0.01', '0.08', '0.51', '0.32',\n",
       "        '0.0', '1.03', '0.05', '0.94', '0.26', '0.15', '0.04', '0.03',\n",
       "        '0.01', '0.01', '0.0', '61.9', '3.9', '0.0', '0.27', '0.21',\n",
       "        '0.28', '0.0', '7.31', '11.1', '0.34', '1.57', '1.0', '220.0',\n",
       "        '2.08', '4.3', '350.0', '27.0', '68.0', '0.17', '9.58', '3.51'],\n",
       "       ['246.9', '0.0', '19.7', '17.38', '0.0', '61.6', '0.0', '0.8',\n",
       "        '0.0', '0.0', '0.0', '0.0', '9.24', '0.02', '0.04', '0.58', '3.88',\n",
       "        '3.82', '0.04', '7.37', '0.35', '6.8', '1.14', '0.79', '0.22',\n",
       "        '0.03', '0.03', '0.03', '0.0', '69.7', '24.8', '0.0', '0.58',\n",
       "        '0.12', '0.18', '0.0', '4.66', '7.8', '0.18', '1.56', '1.1',\n",
       "        '150.0', '1.67', '12.0', '250.0', '18.0', '82.0', '0.21', '8.58',\n",
       "        '3.75'],\n",
       "       ['183.7', '0.0', '12.6', '17.8', '0.0', '68.6', '0.0', '1.0', '0.0',\n",
       "        '0.0', '0.0', '0.0', '6.3', '0.05', '0.1', '0.79', '2.8', '2.08',\n",
       "        '0.18', '4.72', '0.38', '4.19', '0.98', '0.54', '0.12', '0.04',\n",
       "        '0.0', '0.0', '0.0', '78.0', '53.6', '0.4', '0.7', '0.18', '0.3',\n",
       "        '0.0', '4.3', '7.56', '0.2', '1.2', '5.0', '166.0', '1.6', '15.0',\n",
       "        '220.0', '17.0', '66.0', '0.17', '1.4', '3.4'],\n",
       "       ['103.4', '0.0', '2.5', '20.0', '0.0', '76.5', '0.0', '1.0', '0.0',\n",
       "        '0.0', '0.0', '0.0', '1.2', '0.01', '0.02', '0.15', '0.53', '0.4',\n",
       "        '0.03', '0.9', '0.07', '0.8', '0.19', '0.1', '0.02', '0.01', '0.0',\n",
       "        '0.0', '0.0', '78.0', '53.6', '0.4', '0.7', '0.16', '0.24', '0.0',\n",
       "        '6.4', '10.07', '0.2', '1.2', '2.0', '180.0', '1.6', '15.0',\n",
       "        '220.0', '17.0', '66.0', '0.17', '1.4', '3.4'],\n",
       "       ['114.8', '0.0', '3.1', '21.5', '0.0', '74.8', '0.0', '0.6', '0.0',\n",
       "        '0.0', '0.0', '0.0', '1.27', '0.0', '0.0', '0.08', '0.88', '0.27',\n",
       "        '0.0', '0.61', '0.06', '0.55', '1.0', '0.61', '0.29', '0.05',\n",
       "        '0.0', '0.04', '0.0', '60.0', '5.0', '0.37', '0.1', '0.28', '0.5',\n",
       "        '0.0', '4.4', '8.34', '0.3', '1.0', '5.0', '220.0', '4.2', '20.0',\n",
       "        '320.0', '26.0', '77.0', '0.19', '10.0', '1'],\n",
       "       ['105.2', '0.0', '1.6', '22.5', '0.0', '75.0', '0.0', '1.0', '0.0',\n",
       "        '0.0', '0.0', '0.0', '0.75', '0.0', '0.0', '0.05', '0.32', '0.21',\n",
       "        '0.0', '0.34', '0.05', '0.26', '0.26', '0.13', '0.03', '0.05',\n",
       "        '0.01', '0.03', '0.0', '64.9', '3.2', '0.0', '0.81', '0.2', '0.41',\n",
       "        '0.0', '5.75', '9.9', '0.45', '2.77', '1.7', '210.0', '2.6', '4.7',\n",
       "        '340.0', '25.0', '74.0', '0.19', '5.16', '3.81'],\n",
       "       ['100.7', '0.0', '1.0', '22.0', '0.0', '75.4', '0.0', '1.0', '0.0',\n",
       "        '0.0', '0.0', '0.0', '0.41', '0.0', '0.0', '0.03', '0.17', '0.11',\n",
       "        '0.0', '0.2', '0.03', '0.15', '0.24', '0.12', '0.03', '0.05',\n",
       "        '0.01', '0.03', '0.0', '62.1', '2.3', '0.0', '0.64', '0.23',\n",
       "        '0.34', '0.0', '6.19', '10.2', '0.51', '2.26', '1.7', '220.0',\n",
       "        '2.51', '4.1', '340.0', '27.0', '71.0', '0.18', '3.07', '2.3'],\n",
       "       ['102.4', '0.0', '1.2', '22.6', '0.0', '75.1', '0.0', '1.1', '0.0',\n",
       "        '0.0', '0.0', '0.0', '0.48', '0.0', '0.0', '0.02', '0.22', '0.22',\n",
       "        '0.0', '0.3', '0.02', '0.18', '0.29', '0.11', '0.05', '0.0',\n",
       "        '0.02', '0.04', '0.0', '59.0', '8.0', '0.4', '0.76', '0.21',\n",
       "        '0.58', '0.0', '6.8', '10.94', '0.5', '2.3', '2.0', '214.0', '3.3',\n",
       "        '9.4', '326.0', '28.0', '69.0', '0.17', '9.0', '2.8'],\n",
       "       ['165.6', '0.0', '10.0', '19.0', '0.0', '70.0', '0.0', '1.0', '0.0',\n",
       "        '0.0', '0.0', '0.0', '3.65', '0.02', '0.05', '0.33', '2.58',\n",
       "        '0.62', '0.0', '3.32', '0.55', '2.68', '2.56', '1.12', '0.99',\n",
       "        '0.17', '0.0', '0.1', '0.03', '75.0', '33.3', '0.4', '0.58',\n",
       "        '0.14', '0.27', '0.0', '4.5', '7.98', '0.5', '3.1', '6.0', '185.0',\n",
       "        '3.5', '10.0', '290.0', '20.0', '62.0', '0.16', '3.0', '2.7'],\n",
       "       ['105.6', '0.0', '2.8', '19.9', '0.0', '76.2', '0.0', '1.1', '0.0',\n",
       "        '0.0', '0.0', '0.0', '1.05', '0.0', '0.01', '0.09', '0.58', '0.32',\n",
       "        '0.0', '1.23', '0.13', '1.05', '0.26', '0.15', '0.02', '0.04',\n",
       "        '0.01', '0.01', '0.01', '71.0', '29.3', '0.3', '0.3', '0.08',\n",
       "        '0.15', '0.0', '6.0', '9.65', '0.4', '1.3', '5.0', '198.0', '1.9',\n",
       "        '13.0', '370.0', '20.0', '55.0', '0.14', '6.0', '3.4'],\n",
       "       ['185.8', '0.0', '12.7', '18.1', '0.0', '68.3', '0.0', '0.9', '0.0',\n",
       "        '0.0', '0.0', '0.0', '5.47', '0.0', '0.0', '0.33', '2.7', '2.08',\n",
       "        '0.0', '5.8', '0.35', '5.24', '0.77', '0.48', '0.04', '0.12',\n",
       "        '0.0', '0.0', '0.0', '71.0', '29.3', '0.3', '0.33', '0.07', '0.17',\n",
       "        '0.0', '6.0', '9.32', '0.4', '1.3', '5.0', '162.0', '1.5', '14.0',\n",
       "        '320.0', '20.0', '70.0', '0.18', '6.0', '4.2'],\n",
       "       ['105.1', '0.0', '2.7', '20.0', '0.0', '76.1', '0.0', '1.2', '0.0',\n",
       "        '0.0', '0.0', '0.0', '1.01', '0.0', '0.0', '0.09', '0.56', '0.31',\n",
       "        '0.0', '1.19', '0.12', '1.01', '0.25', '0.14', '0.01', '0.04',\n",
       "        '0.01', '0.01', '0.0', '71.0', '29.3', '0.3', '0.3', '0.08',\n",
       "        '0.15', '0.0', '6.0', '9.67', '0.4', '1.3', '5.0', '205.0', '1.7',\n",
       "        '5.0', '370.0', '20.0', '55.0', '0.14', '6.0', '3.4'],\n",
       "       ['108.3', '0.0', '3.1', '19.9', '0.0', '75.9', '0.0', '1.1', '0.0',\n",
       "        '0.0', '0.0', '0.0', '1.16', '0.0', '0.01', '0.11', '0.64', '0.35',\n",
       "        '0.0', '1.36', '0.14', '1.16', '0.29', '0.16', '0.02', '0.05',\n",
       "        '0.01', '0.01', '0.01', '71.0', '29.3', '0.3', '0.3', '0.08',\n",
       "        '0.15', '0.0', '6.0', '9.65', '0.4', '1.3', '5.0', '199.0', '1.7',\n",
       "        '10.0', '370.0', '20.0', '55.0', '0.14', '6.0', '3.4'],\n",
       "       ['107.4', '0.0', '2.5', '21.0', '0.0', '75.3', '0.0', '1.2', '0.0',\n",
       "        '0.0', '0.0', '0.0', '0.93', '0.0', '0.0', '0.08', '0.52', '0.29',\n",
       "        '0.0', '1.1', '0.11', '0.94', '0.24', '0.13', '0.01', '0.04',\n",
       "        '0.01', '0.01', '0.0', '71.0', '29.3', '0.3', '0.3', '0.08',\n",
       "        '0.15', '0.0', '6.0', '9.85', '0.4', '1.3', '5.0', '215.0', '1.8',\n",
       "        '13.0', '370.0', '20.0', '55.0', '0.14', '6.0', '3.4'],\n",
       "       ['122.2', '0.0', '4.4', '20.5', '0.0', '73.9', '0.0', '1.2', '0.0',\n",
       "        '0.0', '0.0', '0.0', '1.64', '0.0', '0.01', '0.15', '0.91', '0.5',\n",
       "        '0.0', '1.93', '0.2', '1.65', '0.42', '0.23', '0.02', '0.06',\n",
       "        '0.01', '0.02', '0.01', '71.0', '29.3', '0.3', '0.3', '0.06',\n",
       "        '0.13', '0.0', '6.0', '9.76', '0.4', '1.3', '5.0', '198.0', '1.7',\n",
       "        '12.0', '320.0', '20.0', '68.0', '0.17', '6.0', '4.3'],\n",
       "       ['98.1', '0.0', '1.9', '20.0', '0.0', '77.0', '0.0', '1.1', '0.0',\n",
       "        '0.0', '0.0', '0.0', '0.71', '0.0', '0.0', '0.06', '0.4', '0.22',\n",
       "        '0.0', '0.84', '0.09', '0.71', '0.18', '0.1', '0.01', '0.03',\n",
       "        '0.01', '0.01', '0.0', '71.0', '29.3', '0.3', '0.3', '0.08',\n",
       "        '0.15', '0.0', '6.0', '9.67', '0.4', '1.3', '5.0', '183.0', '1.9',\n",
       "        '11.0', '370.0', '20.0', '55.0', '0.14', '6.0', '3.4']],\n",
       "      dtype='<U31')"
      ]
     },
     "execution_count": 32,
     "metadata": {},
     "output_type": "execute_result"
    }
   ],
   "source": [
    "columns = dataset.T[relevant_columns].T\n",
    "columns"
   ]
  },
  {
   "cell_type": "code",
   "execution_count": null,
   "metadata": {
    "collapsed": true
   },
   "outputs": [],
   "source": []
  },
  {
   "cell_type": "code",
   "execution_count": 33,
   "metadata": {
    "collapsed": true
   },
   "outputs": [],
   "source": [
    " def cluster(dataset):\n",
    "    kmeans = KMeans(n_clusters=numClusters)\n",
    "    kmeans.fit(dataset)\n",
    "\n",
    "    centroids = kmeans.cluster_centers_\n",
    "    clusters = kmeans.labels_\n",
    "\n",
    "    if debug:\n",
    "        print (centroids)\n",
    "        print (clusters)\n",
    "\n",
    "    return clusters, centroids"
   ]
  },
  {
   "cell_type": "code",
   "execution_count": 34,
   "metadata": {
    "collapsed": true
   },
   "outputs": [],
   "source": [
    "numClusters = 3"
   ]
  },
  {
   "cell_type": "code",
   "execution_count": 35,
   "metadata": {},
   "outputs": [
    {
     "name": "stdout",
     "output_type": "stream",
     "text": [
      "[[  2.07625000e+02   0.00000000e+00   1.49250000e+01   1.83700000e+01\n",
      "    0.00000000e+00   6.55750000e+01   0.00000000e+00   8.75000000e-01\n",
      "    0.00000000e+00   0.00000000e+00   0.00000000e+00   0.00000000e+00\n",
      "    6.56250000e+00   1.75000000e-02   3.50000000e-02   4.92500000e-01\n",
      "    3.21000000e+00   2.29000000e+00   1.75000000e-02   5.79750000e+00\n",
      "    4.00000000e-01   5.21000000e+00   1.34000000e+00   7.57500000e-01\n",
      "    3.55000000e-01   8.50000000e-02   1.25000000e-02   4.00000000e-02\n",
      "    7.50000000e-03   7.14000000e+01   2.69000000e+01   1.75000000e-01\n",
      "    4.75000000e-01   1.25000000e-01   2.07500000e-01   0.00000000e+00\n",
      "    5.27250000e+00   8.62500000e+00   3.42500000e-01   1.71000000e+00\n",
      "    3.27500000e+00   1.66750000e+02   2.03000000e+00   1.20000000e+01\n",
      "    2.80000000e+02   1.97500000e+01   7.15000000e+01   1.82500000e-01\n",
      "    5.55000000e+00   3.19250000e+00]\n",
      " [  1.09575000e+02   0.00000000e+00   2.73333333e+00   2.09091667e+01\n",
      "    0.00000000e+00   7.51916667e+01   0.00000000e+00   1.05833333e+00\n",
      "    0.00000000e+00   0.00000000e+00   0.00000000e+00   0.00000000e+00\n",
      "    1.07166667e+00   1.73472348e-18   5.00000000e-03   8.75000000e-02\n",
      "    5.75833333e-01   3.24166667e-01   8.33333333e-04   1.04250000e+00\n",
      "    9.33333333e-02   8.98333333e-01   3.45000000e-01   1.92500000e-01\n",
      "    5.00000000e-02   4.00000000e-02   1.08333333e-02   2.00000000e-02\n",
      "    3.33333333e-03   6.64250000e+01   1.70666667e+01   2.14166667e-01\n",
      "    3.94166667e-01   1.45833333e-01   2.69166667e-01   0.00000000e+00\n",
      "    5.98250000e+00   9.81083333e+00   3.92500000e-01   1.67166667e+00\n",
      "    3.53333333e+00   2.06000000e+02   2.23083333e+00   9.28333333e+00\n",
      "    3.46333333e+02   2.30000000e+01   6.50000000e+01   1.64166667e-01\n",
      "    6.69000000e+00   3.19916667e+00]\n",
      " [  1.50125000e+02   0.00000000e+00   7.80000000e+00   1.99750000e+01\n",
      "    0.00000000e+00   7.12250000e+01   0.00000000e+00   1.00000000e+00\n",
      "    0.00000000e+00   0.00000000e+00   0.00000000e+00   0.00000000e+00\n",
      "    3.86750000e+00   3.25000000e-02   6.00000000e-02   4.85000000e-01\n",
      "    1.71750000e+00   1.27750000e+00   1.10000000e-01   2.89750000e+00\n",
      "    2.32500000e-01   2.57250000e+00   6.05000000e-01   3.30000000e-01\n",
      "    7.25000000e-02   2.25000000e-02   0.00000000e+00   0.00000000e+00\n",
      "    0.00000000e+00   7.80000000e+01   5.36000000e+01   4.00000000e-01\n",
      "    7.00000000e-01   1.75000000e-01   2.85000000e-01   0.00000000e+00\n",
      "    4.82500000e+00   8.48750000e+00   2.00000000e-01   1.20000000e+00\n",
      "    3.50000000e+00   1.77250000e+02   1.55000000e+00   1.70000000e+01\n",
      "    2.20000000e+02   1.70000000e+01   6.60000000e+01   1.70000000e-01\n",
      "    1.40000000e+00   3.40000000e+00]]\n",
      "[1 0 2 2 1 0 2 2 1 1 1 1 0 1 0 1 1 1 1 1]\n"
     ]
    },
    {
     "ename": "NameError",
     "evalue": "name 'label' is not defined",
     "output_type": "error",
     "traceback": [
      "\u001b[0;31m---------------------------------------------------------------------------\u001b[0m",
      "\u001b[0;31mNameError\u001b[0m                                 Traceback (most recent call last)",
      "\u001b[0;32m<ipython-input-35-bb2af57b1284>\u001b[0m in \u001b[0;36m<module>\u001b[0;34m()\u001b[0m\n\u001b[1;32m      9\u001b[0m \u001b[0;32mfor\u001b[0m \u001b[0mnum\u001b[0m\u001b[0;34m,\u001b[0m \u001b[0mcluster\u001b[0m \u001b[0;32min\u001b[0m \u001b[0menumerate\u001b[0m\u001b[0;34m(\u001b[0m\u001b[0mclusters\u001b[0m\u001b[0;34m)\u001b[0m\u001b[0;34m:\u001b[0m\u001b[0;34m\u001b[0m\u001b[0m\n\u001b[1;32m     10\u001b[0m     \u001b[0;32mif\u001b[0m \u001b[0mdebug\u001b[0m\u001b[0;34m:\u001b[0m\u001b[0;34m\u001b[0m\u001b[0m\n\u001b[0;32m---> 11\u001b[0;31m         \u001b[0mprint\u001b[0m \u001b[0;34m(\u001b[0m\u001b[0mstr\u001b[0m\u001b[0;34m(\u001b[0m\u001b[0mnum\u001b[0m\u001b[0;34m)\u001b[0m\u001b[0;34m,\u001b[0m \u001b[0mstr\u001b[0m\u001b[0;34m(\u001b[0m\u001b[0mlabel\u001b[0m\u001b[0;34m)\u001b[0m\u001b[0;34m)\u001b[0m\u001b[0;34m\u001b[0m\u001b[0m\n\u001b[0m\u001b[1;32m     12\u001b[0m     \u001b[0msegmentedData\u001b[0m\u001b[0;34m[\u001b[0m\u001b[0mcluster\u001b[0m\u001b[0;34m]\u001b[0m\u001b[0;34m[\u001b[0m\u001b[0;36m0\u001b[0m\u001b[0;34m]\u001b[0m\u001b[0;34m.\u001b[0m\u001b[0mappend\u001b[0m\u001b[0;34m(\u001b[0m\u001b[0mdataToChart\u001b[0m\u001b[0;34m[\u001b[0m\u001b[0;36m0\u001b[0m\u001b[0;34m]\u001b[0m\u001b[0;34m[\u001b[0m\u001b[0mnum\u001b[0m\u001b[0;34m]\u001b[0m\u001b[0;34m)\u001b[0m\u001b[0;34m\u001b[0m\u001b[0m\n\u001b[1;32m     13\u001b[0m     \u001b[0msegmentedData\u001b[0m\u001b[0;34m[\u001b[0m\u001b[0mcluster\u001b[0m\u001b[0;34m]\u001b[0m\u001b[0;34m[\u001b[0m\u001b[0;36m1\u001b[0m\u001b[0;34m]\u001b[0m\u001b[0;34m.\u001b[0m\u001b[0mappend\u001b[0m\u001b[0;34m(\u001b[0m\u001b[0mdataToChart\u001b[0m\u001b[0;34m[\u001b[0m\u001b[0;36m1\u001b[0m\u001b[0;34m]\u001b[0m\u001b[0;34m[\u001b[0m\u001b[0mnum\u001b[0m\u001b[0;34m]\u001b[0m\u001b[0;34m)\u001b[0m\u001b[0;34m\u001b[0m\u001b[0m\n",
      "\u001b[0;31mNameError\u001b[0m: name 'label' is not defined"
     ]
    }
   ],
   "source": [
    "clusters, centroids = cluster(columns)\n",
    "\n",
    "# transpose to work with Plotly-format (don't remember if it is sklearn.cluster or plotly that is counterintuitive)\n",
    "dataToChart = dataset.T\n",
    "\n",
    "# create multi dimensional array of data by label\n",
    "segmentedData = [[[] for _ in range(3)] for _ in range(numClusters)]\n",
    "\n",
    "for num, cluster in enumerate(clusters):\n",
    "    if debug:\n",
    "        print (str(num), str(label))\n",
    "    segmentedData[cluster][0].append(dataToChart[0][num])\n",
    "    segmentedData[cluster][1].append(dataToChart[1][num])\n",
    "    segmentedData[cluster][2].append(dataToChart[2][num])\n",
    "\n",
    "#if debug:\n",
    "    #print(segmentedData)"
   ]
  },
  {
   "cell_type": "markdown",
   "metadata": {},
   "source": [
    "## Läsa ner klustren i databasen"
   ]
  },
  {
   "cell_type": "code",
   "execution_count": 36,
   "metadata": {
    "collapsed": true
   },
   "outputs": [],
   "source": [
    "conn = sqlite3.connect('livs.db')  # Create db and establish connection\n",
    "conn.row_factory = sqlite3.Row\n",
    "curs = conn.cursor()\n",
    "\n",
    "# Backslash bara för radbrytningen, obs...\n",
    "sql = 'CREATE TABLE IF NOT EXISTS kluster (Livsmedelsnummer TEXT PRIMARY KEY,\\\n",
    "kluster_3 INT DEFAULT 0, kluster_5 INT DEFAULT 0);'\n",
    "\n",
    "\n",
    "curs.execute(sql)\n",
    "conn.commit()\n",
    "conn.close()"
   ]
  },
  {
   "cell_type": "code",
   "execution_count": 37,
   "metadata": {},
   "outputs": [
    {
     "data": {
      "text/plain": [
       "array(['920', '921', '922', '923', '924', '925', '926', '927', '928',\n",
       "       '930', '931', '932', '933', '934', '935', '936', '937', '938',\n",
       "       '939', '940'],\n",
       "      dtype='<U31')"
      ]
     },
     "execution_count": 37,
     "metadata": {},
     "output_type": "execute_result"
    }
   ],
   "source": [
    "dataset.T[1]"
   ]
  },
  {
   "cell_type": "code",
   "execution_count": 38,
   "metadata": {},
   "outputs": [
    {
     "data": {
      "text/plain": [
       "array([1, 0, 2, 2, 1, 0, 2, 2, 1, 1, 1, 1, 0, 1, 0, 1, 1, 1, 1, 1], dtype=int32)"
      ]
     },
     "execution_count": 38,
     "metadata": {},
     "output_type": "execute_result"
    }
   ],
   "source": [
    "clusters"
   ]
  },
  {
   "cell_type": "code",
   "execution_count": 39,
   "metadata": {},
   "outputs": [
    {
     "name": "stdout",
     "output_type": "stream",
     "text": [
      "UPDATE kluster SET kluster_3 = 1 WHERE Livsmedelsnummer = \"920\";\n",
      "UPDATE kluster SET kluster_3 = 0 WHERE Livsmedelsnummer = \"921\";\n",
      "UPDATE kluster SET kluster_3 = 2 WHERE Livsmedelsnummer = \"922\";\n",
      "UPDATE kluster SET kluster_3 = 2 WHERE Livsmedelsnummer = \"923\";\n",
      "UPDATE kluster SET kluster_3 = 1 WHERE Livsmedelsnummer = \"924\";\n",
      "UPDATE kluster SET kluster_3 = 0 WHERE Livsmedelsnummer = \"925\";\n",
      "UPDATE kluster SET kluster_3 = 2 WHERE Livsmedelsnummer = \"926\";\n",
      "UPDATE kluster SET kluster_3 = 2 WHERE Livsmedelsnummer = \"927\";\n",
      "UPDATE kluster SET kluster_3 = 1 WHERE Livsmedelsnummer = \"928\";\n",
      "UPDATE kluster SET kluster_3 = 1 WHERE Livsmedelsnummer = \"930\";\n",
      "UPDATE kluster SET kluster_3 = 1 WHERE Livsmedelsnummer = \"931\";\n",
      "UPDATE kluster SET kluster_3 = 1 WHERE Livsmedelsnummer = \"932\";\n",
      "UPDATE kluster SET kluster_3 = 0 WHERE Livsmedelsnummer = \"933\";\n",
      "UPDATE kluster SET kluster_3 = 1 WHERE Livsmedelsnummer = \"934\";\n",
      "UPDATE kluster SET kluster_3 = 0 WHERE Livsmedelsnummer = \"935\";\n",
      "UPDATE kluster SET kluster_3 = 1 WHERE Livsmedelsnummer = \"936\";\n",
      "UPDATE kluster SET kluster_3 = 1 WHERE Livsmedelsnummer = \"937\";\n",
      "UPDATE kluster SET kluster_3 = 1 WHERE Livsmedelsnummer = \"938\";\n",
      "UPDATE kluster SET kluster_3 = 1 WHERE Livsmedelsnummer = \"939\";\n",
      "UPDATE kluster SET kluster_3 = 1 WHERE Livsmedelsnummer = \"940\";\n"
     ]
    }
   ],
   "source": [
    "conn = sqlite3.connect('livs.db')  # Create db and establish connection\n",
    "conn.row_factory = sqlite3.Row\n",
    "curs = conn.cursor()\n",
    "\n",
    "for index, Livsmedelsnummer in enumerate(dataset.T[1]):\n",
    "    sql = 'UPDATE kluster SET kluster_3 = '+str(clusters[index])+' WHERE Livsmedelsnummer = \"'+Livsmedelsnummer+'\";'\n",
    "    print(sql)\n",
    "    curs.execute(sql)\n",
    "#curs.execute('UPDATE livs SET Kluster = 1 WHERE Livsmedelsnummer = \"2\";')\n",
    "conn.commit()\n",
    "conn.close()"
   ]
  },
  {
   "cell_type": "code",
   "execution_count": 41,
   "metadata": {},
   "outputs": [],
   "source": [
    "conn = sqlite3.connect('livs.db')  # Create db and establish connection\n",
    "conn.row_factory = sqlite3.Row\n",
    "curs = conn.cursor()\n",
    "   \n",
    "KlusterObject = []\n",
    "for row in curs.execute('SELECT * from kluster;'):\n",
    "    print(row, \"hej\")\n",
    "    KlusterObject.append(row)\n",
    "\n",
    "        \n",
    "Kluster = np.array(KlusterObject)\n",
    "\n",
    "conn.close()"
   ]
  },
  {
   "cell_type": "markdown",
   "metadata": {},
   "source": [
    "## Visualisera med Plotly"
   ]
  },
  {
   "cell_type": "code",
   "execution_count": 69,
   "metadata": {},
   "outputs": [
    {
     "data": {
      "text/html": [
       "<iframe id=\"igraph\" scrolling=\"no\" style=\"border:none;\" seamless=\"seamless\" src=\"https://plot.ly/~infontology/52.embed\" height=\"800px\" width=\"800px\"></iframe>"
      ],
      "text/plain": [
       "<plotly.tools.PlotlyDisplay object>"
      ]
     },
     "execution_count": 69,
     "metadata": {},
     "output_type": "execute_result"
    }
   ],
   "source": [
    "#plotly.offline.init_notebook_mode(connected=True)\n",
    "    \n",
    "traces = []\n",
    "baseColor = 100\n",
    "i = 0\n",
    "while i < numClusters:\n",
    "    trace = go.Scatter3d(\n",
    "        x=segmentedData[i][0],\n",
    "        y=segmentedData[i][1],\n",
    "        z=segmentedData[i][2],\n",
    "        mode='markers',\n",
    "        marker=dict(\n",
    "            size=12,\n",
    "            line=dict(\n",
    "                color='rgba(baseColor+(i*2), baseColor+(i*2), baseColor+(i*2), 0.14)',\n",
    "                width=0.5\n",
    "            ),\n",
    "            opacity=0.8\n",
    "        ),\n",
    "        # @todo: fix names list for plotly\n",
    "        #text=names\n",
    "    )\n",
    "    traces.append(trace)\n",
    "    i+=1\n",
    "\n",
    "layout = go.Layout(\n",
    "    scene=go.Scene(\n",
    "        xaxis=go.XAxis(title='Carbs', tickprefix='Carbs ', showtickprefix='first'),\n",
    "        yaxis=go.YAxis(title='Fat', tickprefix='Fat ', showtickprefix='first'),\n",
    "        zaxis=go.ZAxis(title='Protein', tickprefix='Protein ', showtickprefix='first')\n",
    "    ),\n",
    "    height = 800,\n",
    "    width = 800,\n",
    ")\n",
    "\n",
    "fig = go.Figure(data=traces, layout=layout)\n",
    "py.iplot(fig, filename='table1')"
   ]
  },
  {
   "cell_type": "code",
   "execution_count": null,
   "metadata": {
    "collapsed": true
   },
   "outputs": [],
   "source": []
  }
 ],
 "metadata": {
  "kernelspec": {
   "display_name": "Python 3",
   "language": "python",
   "name": "python3"
  },
  "language_info": {
   "codemirror_mode": {
    "name": "ipython",
    "version": 3
   },
   "file_extension": ".py",
   "mimetype": "text/x-python",
   "name": "python",
   "nbconvert_exporter": "python",
   "pygments_lexer": "ipython3",
   "version": "3.5.4"
  }
 },
 "nbformat": 4,
 "nbformat_minor": 2
}
